{
 "cells": [
  {
   "cell_type": "markdown",
   "metadata": {},
   "source": [
    "# 연습문제 2.1 "
   ]
  },
  {
   "cell_type": "code",
   "execution_count": 1,
   "metadata": {
    "ExecuteTime": {
     "end_time": "2020-09-26T07:12:15.026486Z",
     "start_time": "2020-09-26T07:12:14.658Z"
    }
   },
   "outputs": [
    {
     "data": {
      "text/html": [
       "<table>\n",
       "<caption>A data.frame: 6 × 9</caption>\n",
       "<thead>\n",
       "\t<tr><th></th><th scope=col>Algebra</th><th scope=col>Analysis</th><th scope=col>Proba</th><th scope=col>Informatic</th><th scope=col>Economy</th><th scope=col>Option1</th><th scope=col>Option2</th><th scope=col>English</th><th scope=col>Sport</th></tr>\n",
       "\t<tr><th></th><th scope=col>&lt;dbl&gt;</th><th scope=col>&lt;dbl&gt;</th><th scope=col>&lt;dbl&gt;</th><th scope=col>&lt;dbl&gt;</th><th scope=col>&lt;dbl&gt;</th><th scope=col>&lt;dbl&gt;</th><th scope=col>&lt;dbl&gt;</th><th scope=col>&lt;dbl&gt;</th><th scope=col>&lt;dbl&gt;</th></tr>\n",
       "</thead>\n",
       "<tbody>\n",
       "\t<tr><th scope=row>1</th><td>40</td><td>26.0</td><td>26</td><td>26.0</td><td>51.9</td><td>17</td><td>24</td><td>19.0</td><td>11.5</td></tr>\n",
       "\t<tr><th scope=row>2</th><td>37</td><td>34.5</td><td>37</td><td>32.0</td><td>72.0</td><td>24</td><td>22</td><td>26.0</td><td>11.5</td></tr>\n",
       "\t<tr><th scope=row>3</th><td>37</td><td>41.0</td><td>29</td><td>34.5</td><td>72.0</td><td>24</td><td>27</td><td>19.6</td><td>11.5</td></tr>\n",
       "\t<tr><th scope=row>4</th><td>63</td><td>37.5</td><td>57</td><td>35.5</td><td>77.4</td><td>23</td><td>23</td><td>21.0</td><td>14.0</td></tr>\n",
       "\t<tr><th scope=row>5</th><td>55</td><td>31.5</td><td>34</td><td>36.0</td><td>57.9</td><td>19</td><td>24</td><td>24.0</td><td>11.5</td></tr>\n",
       "\t<tr><th scope=row>6</th><td>50</td><td>38.0</td><td>32</td><td>20.0</td><td>66.9</td><td>20</td><td>15</td><td>22.2</td><td> 0.0</td></tr>\n",
       "</tbody>\n",
       "</table>\n"
      ],
      "text/latex": [
       "A data.frame: 6 × 9\n",
       "\\begin{tabular}{r|lllllllll}\n",
       "  & Algebra & Analysis & Proba & Informatic & Economy & Option1 & Option2 & English & Sport\\\\\n",
       "  & <dbl> & <dbl> & <dbl> & <dbl> & <dbl> & <dbl> & <dbl> & <dbl> & <dbl>\\\\\n",
       "\\hline\n",
       "\t1 & 40 & 26.0 & 26 & 26.0 & 51.9 & 17 & 24 & 19.0 & 11.5\\\\\n",
       "\t2 & 37 & 34.5 & 37 & 32.0 & 72.0 & 24 & 22 & 26.0 & 11.5\\\\\n",
       "\t3 & 37 & 41.0 & 29 & 34.5 & 72.0 & 24 & 27 & 19.6 & 11.5\\\\\n",
       "\t4 & 63 & 37.5 & 57 & 35.5 & 77.4 & 23 & 23 & 21.0 & 14.0\\\\\n",
       "\t5 & 55 & 31.5 & 34 & 36.0 & 57.9 & 19 & 24 & 24.0 & 11.5\\\\\n",
       "\t6 & 50 & 38.0 & 32 & 20.0 & 66.9 & 20 & 15 & 22.2 &  0.0\\\\\n",
       "\\end{tabular}\n"
      ],
      "text/markdown": [
       "\n",
       "A data.frame: 6 × 9\n",
       "\n",
       "| <!--/--> | Algebra &lt;dbl&gt; | Analysis &lt;dbl&gt; | Proba &lt;dbl&gt; | Informatic &lt;dbl&gt; | Economy &lt;dbl&gt; | Option1 &lt;dbl&gt; | Option2 &lt;dbl&gt; | English &lt;dbl&gt; | Sport &lt;dbl&gt; |\n",
       "|---|---|---|---|---|---|---|---|---|---|\n",
       "| 1 | 40 | 26.0 | 26 | 26.0 | 51.9 | 17 | 24 | 19.0 | 11.5 |\n",
       "| 2 | 37 | 34.5 | 37 | 32.0 | 72.0 | 24 | 22 | 26.0 | 11.5 |\n",
       "| 3 | 37 | 41.0 | 29 | 34.5 | 72.0 | 24 | 27 | 19.6 | 11.5 |\n",
       "| 4 | 63 | 37.5 | 57 | 35.5 | 77.4 | 23 | 23 | 21.0 | 14.0 |\n",
       "| 5 | 55 | 31.5 | 34 | 36.0 | 57.9 | 19 | 24 | 24.0 | 11.5 |\n",
       "| 6 | 50 | 38.0 | 32 | 20.0 | 66.9 | 20 | 15 | 22.2 |  0.0 |\n",
       "\n"
      ],
      "text/plain": [
       "  Algebra Analysis Proba Informatic Economy Option1 Option2 English Sport\n",
       "1 40      26.0     26    26.0       51.9    17      24      19.0    11.5 \n",
       "2 37      34.5     37    32.0       72.0    24      22      26.0    11.5 \n",
       "3 37      41.0     29    34.5       72.0    24      27      19.6    11.5 \n",
       "4 63      37.5     57    35.5       77.4    23      23      21.0    14.0 \n",
       "5 55      31.5     34    36.0       57.9    19      24      24.0    11.5 \n",
       "6 50      38.0     32    20.0       66.9    20      15      22.2     0.0 "
      ]
     },
     "metadata": {},
     "output_type": "display_data"
    }
   ],
   "source": [
    "library(ade4)\n",
    "data(deug)\n",
    "data <- deug$tab\n",
    "head(data)"
   ]
  },
  {
   "cell_type": "markdown",
   "metadata": {},
   "source": [
    "This data set gives the exam results of 104 students in the second year of a French University onto\n",
    "9 subjects. <br>\n",
    "tab is a data frame with 104 students and 9 subjects : Algebra, Analysis, Proba, Informatic, Economy, Option1, Option2, English, Sport"
   ]
  },
  {
   "cell_type": "markdown",
   "metadata": {
    "ExecuteTime": {
     "end_time": "2020-09-25T09:42:37.628176Z",
     "start_time": "2020-09-25T09:42:37.600Z"
    }
   },
   "source": [
    "## (1)"
   ]
  },
  {
   "cell_type": "code",
   "execution_count": 2,
   "metadata": {
    "ExecuteTime": {
     "end_time": "2020-09-26T07:12:15.058066Z",
     "start_time": "2020-09-26T07:12:14.667Z"
    }
   },
   "outputs": [
    {
     "data": {
      "text/plain": [
       "    Algebra         Analysis         Proba         Informatic   \n",
       " Min.   : 9.00   Min.   :16.00   Min.   : 2.00   Min.   :10.50  \n",
       " 1st Qu.:39.00   1st Qu.:29.00   1st Qu.:22.00   1st Qu.:21.00  \n",
       " Median :46.00   Median :33.00   Median :29.50   Median :25.75  \n",
       " Mean   :45.57   Mean   :33.99   Mean   :31.24   Mean   :26.99  \n",
       " 3rd Qu.:52.00   3rd Qu.:40.00   3rd Qu.:41.25   3rd Qu.:30.75  \n",
       " Max.   :72.00   Max.   :58.00   Max.   :65.00   Max.   :54.00  \n",
       "    Economy         Option1         Option2         English     \n",
       " Min.   :34.50   Min.   : 8.00   Min.   : 5.00   Min.   : 8.50  \n",
       " 1st Qu.:64.50   1st Qu.:19.75   1st Qu.:20.75   1st Qu.:18.80  \n",
       " Median :70.20   Median :23.00   Median :23.50   Median :21.20  \n",
       " Mean   :69.55   Mean   :22.75   Mean   :22.67   Mean   :21.13  \n",
       " 3rd Qu.:76.50   3rd Qu.:26.00   3rd Qu.:26.25   3rd Qu.:23.85  \n",
       " Max.   :90.90   Max.   :34.00   Max.   :30.00   Max.   :31.00  \n",
       "     Sport       \n",
       " Min.   : 0.000  \n",
       " 1st Qu.: 8.500  \n",
       " Median :11.500  \n",
       " Mean   : 9.231  \n",
       " 3rd Qu.:12.000  \n",
       " Max.   :15.000  "
      ]
     },
     "metadata": {},
     "output_type": "display_data"
    }
   ],
   "source": [
    "summary(data)"
   ]
  },
  {
   "cell_type": "markdown",
   "metadata": {},
   "source": [
    "각 변수에 대한 기술통계량(최소값, 1사분위수, 중앙값, 평균, 3사분위수, 최대값)을 출력해준다."
   ]
  },
  {
   "cell_type": "markdown",
   "metadata": {},
   "source": [
    "##  (2)"
   ]
  },
  {
   "cell_type": "code",
   "execution_count": 3,
   "metadata": {
    "ExecuteTime": {
     "end_time": "2020-09-26T07:12:15.113841Z",
     "start_time": "2020-09-26T07:12:14.677Z"
    }
   },
   "outputs": [
    {
     "data": {
      "text/html": [
       "<table>\n",
       "<caption>A matrix: 9 × 9 of type dbl</caption>\n",
       "<thead>\n",
       "\t<tr><th></th><th scope=col>Algebra</th><th scope=col>Analysis</th><th scope=col>Proba</th><th scope=col>Informatic</th><th scope=col>Economy</th><th scope=col>Option1</th><th scope=col>Option2</th><th scope=col>English</th><th scope=col>Sport</th></tr>\n",
       "</thead>\n",
       "<tbody>\n",
       "\t<tr><th scope=row>Algebra</th><td>1.00</td><td> 0.44</td><td>0.50</td><td>0.39</td><td>0.37</td><td>0.54</td><td>0.20</td><td> 0.11</td><td>0.23</td></tr>\n",
       "\t<tr><th scope=row>Analysis</th><td>0.44</td><td> 1.00</td><td>0.52</td><td>0.32</td><td>0.21</td><td>0.40</td><td>0.06</td><td>-0.12</td><td>0.16</td></tr>\n",
       "\t<tr><th scope=row>Proba</th><td>0.50</td><td> 0.52</td><td>1.00</td><td>0.37</td><td>0.17</td><td>0.44</td><td>0.11</td><td> 0.19</td><td>0.27</td></tr>\n",
       "\t<tr><th scope=row>Informatic</th><td>0.39</td><td> 0.32</td><td>0.37</td><td>1.00</td><td>0.08</td><td>0.25</td><td>0.09</td><td> 0.13</td><td>0.06</td></tr>\n",
       "\t<tr><th scope=row>Economy</th><td>0.37</td><td> 0.21</td><td>0.17</td><td>0.08</td><td>1.00</td><td>0.37</td><td>0.34</td><td> 0.41</td><td>0.18</td></tr>\n",
       "\t<tr><th scope=row>Option1</th><td>0.54</td><td> 0.40</td><td>0.44</td><td>0.25</td><td>0.37</td><td>1.00</td><td>0.20</td><td> 0.09</td><td>0.26</td></tr>\n",
       "\t<tr><th scope=row>Option2</th><td>0.20</td><td> 0.06</td><td>0.11</td><td>0.09</td><td>0.34</td><td>0.20</td><td>1.00</td><td> 0.02</td><td>0.08</td></tr>\n",
       "\t<tr><th scope=row>English</th><td>0.11</td><td>-0.12</td><td>0.19</td><td>0.13</td><td>0.41</td><td>0.09</td><td>0.02</td><td> 1.00</td><td>0.14</td></tr>\n",
       "\t<tr><th scope=row>Sport</th><td>0.23</td><td> 0.16</td><td>0.27</td><td>0.06</td><td>0.18</td><td>0.26</td><td>0.08</td><td> 0.14</td><td>1.00</td></tr>\n",
       "</tbody>\n",
       "</table>\n"
      ],
      "text/latex": [
       "A matrix: 9 × 9 of type dbl\n",
       "\\begin{tabular}{r|lllllllll}\n",
       "  & Algebra & Analysis & Proba & Informatic & Economy & Option1 & Option2 & English & Sport\\\\\n",
       "\\hline\n",
       "\tAlgebra & 1.00 &  0.44 & 0.50 & 0.39 & 0.37 & 0.54 & 0.20 &  0.11 & 0.23\\\\\n",
       "\tAnalysis & 0.44 &  1.00 & 0.52 & 0.32 & 0.21 & 0.40 & 0.06 & -0.12 & 0.16\\\\\n",
       "\tProba & 0.50 &  0.52 & 1.00 & 0.37 & 0.17 & 0.44 & 0.11 &  0.19 & 0.27\\\\\n",
       "\tInformatic & 0.39 &  0.32 & 0.37 & 1.00 & 0.08 & 0.25 & 0.09 &  0.13 & 0.06\\\\\n",
       "\tEconomy & 0.37 &  0.21 & 0.17 & 0.08 & 1.00 & 0.37 & 0.34 &  0.41 & 0.18\\\\\n",
       "\tOption1 & 0.54 &  0.40 & 0.44 & 0.25 & 0.37 & 1.00 & 0.20 &  0.09 & 0.26\\\\\n",
       "\tOption2 & 0.20 &  0.06 & 0.11 & 0.09 & 0.34 & 0.20 & 1.00 &  0.02 & 0.08\\\\\n",
       "\tEnglish & 0.11 & -0.12 & 0.19 & 0.13 & 0.41 & 0.09 & 0.02 &  1.00 & 0.14\\\\\n",
       "\tSport & 0.23 &  0.16 & 0.27 & 0.06 & 0.18 & 0.26 & 0.08 &  0.14 & 1.00\\\\\n",
       "\\end{tabular}\n"
      ],
      "text/markdown": [
       "\n",
       "A matrix: 9 × 9 of type dbl\n",
       "\n",
       "| <!--/--> | Algebra | Analysis | Proba | Informatic | Economy | Option1 | Option2 | English | Sport |\n",
       "|---|---|---|---|---|---|---|---|---|---|\n",
       "| Algebra | 1.00 |  0.44 | 0.50 | 0.39 | 0.37 | 0.54 | 0.20 |  0.11 | 0.23 |\n",
       "| Analysis | 0.44 |  1.00 | 0.52 | 0.32 | 0.21 | 0.40 | 0.06 | -0.12 | 0.16 |\n",
       "| Proba | 0.50 |  0.52 | 1.00 | 0.37 | 0.17 | 0.44 | 0.11 |  0.19 | 0.27 |\n",
       "| Informatic | 0.39 |  0.32 | 0.37 | 1.00 | 0.08 | 0.25 | 0.09 |  0.13 | 0.06 |\n",
       "| Economy | 0.37 |  0.21 | 0.17 | 0.08 | 1.00 | 0.37 | 0.34 |  0.41 | 0.18 |\n",
       "| Option1 | 0.54 |  0.40 | 0.44 | 0.25 | 0.37 | 1.00 | 0.20 |  0.09 | 0.26 |\n",
       "| Option2 | 0.20 |  0.06 | 0.11 | 0.09 | 0.34 | 0.20 | 1.00 |  0.02 | 0.08 |\n",
       "| English | 0.11 | -0.12 | 0.19 | 0.13 | 0.41 | 0.09 | 0.02 |  1.00 | 0.14 |\n",
       "| Sport | 0.23 |  0.16 | 0.27 | 0.06 | 0.18 | 0.26 | 0.08 |  0.14 | 1.00 |\n",
       "\n"
      ],
      "text/plain": [
       "           Algebra Analysis Proba Informatic Economy Option1 Option2 English\n",
       "Algebra    1.00     0.44    0.50  0.39       0.37    0.54    0.20     0.11  \n",
       "Analysis   0.44     1.00    0.52  0.32       0.21    0.40    0.06    -0.12  \n",
       "Proba      0.50     0.52    1.00  0.37       0.17    0.44    0.11     0.19  \n",
       "Informatic 0.39     0.32    0.37  1.00       0.08    0.25    0.09     0.13  \n",
       "Economy    0.37     0.21    0.17  0.08       1.00    0.37    0.34     0.41  \n",
       "Option1    0.54     0.40    0.44  0.25       0.37    1.00    0.20     0.09  \n",
       "Option2    0.20     0.06    0.11  0.09       0.34    0.20    1.00     0.02  \n",
       "English    0.11    -0.12    0.19  0.13       0.41    0.09    0.02     1.00  \n",
       "Sport      0.23     0.16    0.27  0.06       0.18    0.26    0.08     0.14  \n",
       "           Sport\n",
       "Algebra    0.23 \n",
       "Analysis   0.16 \n",
       "Proba      0.27 \n",
       "Informatic 0.06 \n",
       "Economy    0.18 \n",
       "Option1    0.26 \n",
       "Option2    0.08 \n",
       "English    0.14 \n",
       "Sport      1.00 "
      ]
     },
     "metadata": {},
     "output_type": "display_data"
    }
   ],
   "source": [
    "round(cor(data), 2)"
   ]
  },
  {
   "cell_type": "markdown",
   "metadata": {},
   "source": [
    "대수학, 해석학, 확률론 이렇게 수리 능력이 필요한 세 과목끼리 서로 비교적 상관 계수가 높다. <br>\n",
    "또한 선택과목1도 이와 관련이 있는지 그 세과목과의 상관계수가 크며 정보도 마찬가지로 큰 편이다. <br>\n",
    "선택과목2, 영어, 스포츠는 다른 과목들과의 상관계수가 낮은 편이다."
   ]
  },
  {
   "cell_type": "markdown",
   "metadata": {},
   "source": [
    "## (3)"
   ]
  },
  {
   "cell_type": "code",
   "execution_count": 4,
   "metadata": {
    "ExecuteTime": {
     "end_time": "2020-09-26T07:12:15.144639Z",
     "start_time": "2020-09-26T07:12:14.685Z"
    }
   },
   "outputs": [],
   "source": [
    "deug.pca = princomp(data, cor = T, scores = T)"
   ]
  },
  {
   "cell_type": "code",
   "execution_count": 5,
   "metadata": {
    "ExecuteTime": {
     "end_time": "2020-09-26T07:12:15.182387Z",
     "start_time": "2020-09-26T07:12:14.690Z"
    }
   },
   "outputs": [
    {
     "data": {
      "text/html": [
       "<dl class=dl-horizontal>\n",
       "\t<dt>Comp.1</dt>\n",
       "\t\t<dd>3.10135782363271</dd>\n",
       "\t<dt>Comp.2</dt>\n",
       "\t\t<dd>1.36298344149162</dd>\n",
       "\t<dt>Comp.3</dt>\n",
       "\t\t<dd>1.03232690498875</dd>\n",
       "\t<dt>Comp.4</dt>\n",
       "\t\t<dd>0.9340533009677</dd>\n",
       "\t<dt>Comp.5</dt>\n",
       "\t\t<dd>0.739752929792135</dd>\n",
       "\t<dt>Comp.6</dt>\n",
       "\t\t<dd>0.574669255583859</dd>\n",
       "\t<dt>Comp.7</dt>\n",
       "\t\t<dd>0.532541429175009</dd>\n",
       "\t<dt>Comp.8</dt>\n",
       "\t\t<dd>0.437539525231858</dd>\n",
       "\t<dt>Comp.9</dt>\n",
       "\t\t<dd>0.284775389136363</dd>\n",
       "</dl>\n"
      ],
      "text/latex": [
       "\\begin{description*}\n",
       "\\item[Comp.1] 3.10135782363271\n",
       "\\item[Comp.2] 1.36298344149162\n",
       "\\item[Comp.3] 1.03232690498875\n",
       "\\item[Comp.4] 0.9340533009677\n",
       "\\item[Comp.5] 0.739752929792135\n",
       "\\item[Comp.6] 0.574669255583859\n",
       "\\item[Comp.7] 0.532541429175009\n",
       "\\item[Comp.8] 0.437539525231858\n",
       "\\item[Comp.9] 0.284775389136363\n",
       "\\end{description*}\n"
      ],
      "text/markdown": [
       "Comp.1\n",
       ":   3.10135782363271Comp.2\n",
       ":   1.36298344149162Comp.3\n",
       ":   1.03232690498875Comp.4\n",
       ":   0.9340533009677Comp.5\n",
       ":   0.739752929792135Comp.6\n",
       ":   0.574669255583859Comp.7\n",
       ":   0.532541429175009Comp.8\n",
       ":   0.437539525231858Comp.9\n",
       ":   0.284775389136363\n",
       "\n"
      ],
      "text/plain": [
       "   Comp.1    Comp.2    Comp.3    Comp.4    Comp.5    Comp.6    Comp.7    Comp.8 \n",
       "3.1013578 1.3629834 1.0323269 0.9340533 0.7397529 0.5746693 0.5325414 0.4375395 \n",
       "   Comp.9 \n",
       "0.2847754 "
      ]
     },
     "metadata": {},
     "output_type": "display_data"
    }
   ],
   "source": [
    "eigen.val = deug.pca$sdev^2\n",
    "eigen.val"
   ]
  },
  {
   "cell_type": "markdown",
   "metadata": {},
   "source": [
    "고유값 = 주성분의 분산은 위와 같다"
   ]
  },
  {
   "cell_type": "code",
   "execution_count": 6,
   "metadata": {
    "ExecuteTime": {
     "end_time": "2020-09-26T07:12:15.223259Z",
     "start_time": "2020-09-26T07:12:14.695Z"
    }
   },
   "outputs": [
    {
     "data": {
      "text/plain": [
       "Importance of components:\n",
       "                          Comp.1    Comp.2    Comp.3    Comp.4     Comp.5\n",
       "Standard deviation     1.7610672 1.1674688 1.0160349 0.9664643 0.86008891\n",
       "Proportion of Variance 0.3445953 0.1514426 0.1147030 0.1037837 0.08219477\n",
       "Cumulative Proportion  0.3445953 0.4960379 0.6107409 0.7145246 0.79671938\n",
       "                           Comp.6     Comp.7    Comp.8     Comp.9\n",
       "Standard deviation     0.75806943 0.72975436 0.6614677 0.53364350\n",
       "Proportion of Variance 0.06385214 0.05917127 0.0486155 0.03164171\n",
       "Cumulative Proportion  0.86057152 0.91974279 0.9683583 1.00000000"
      ]
     },
     "metadata": {},
     "output_type": "display_data"
    }
   ],
   "source": [
    "summary(deug.pca)"
   ]
  },
  {
   "cell_type": "markdown",
   "metadata": {},
   "source": [
    "정보의 양(proportion of variance)와 누적정보량(cumulative proportion)은 위와 같다."
   ]
  },
  {
   "cell_type": "markdown",
   "metadata": {},
   "source": [
    "## (4)"
   ]
  },
  {
   "cell_type": "code",
   "execution_count": 7,
   "metadata": {
    "ExecuteTime": {
     "end_time": "2020-09-26T07:12:15.256896Z",
     "start_time": "2020-09-26T07:12:14.703Z"
    }
   },
   "outputs": [
    {
     "data": {
      "text/html": [
       "3"
      ],
      "text/latex": [
       "3"
      ],
      "text/markdown": [
       "3"
      ],
      "text/plain": [
       "[1] 3"
      ]
     },
     "metadata": {},
     "output_type": "display_data"
    }
   ],
   "source": [
    "length(eigen.val[eigen.val > 1])"
   ]
  },
  {
   "cell_type": "markdown",
   "metadata": {},
   "source": [
    "고유값의 크기가 1보다 큰 주성분은 1, 2, 3이다."
   ]
  },
  {
   "cell_type": "code",
   "execution_count": 8,
   "metadata": {
    "ExecuteTime": {
     "end_time": "2020-09-26T07:12:15.287587Z",
     "start_time": "2020-09-26T07:12:14.709Z"
    }
   },
   "outputs": [
    {
     "data": {
      "text/html": [
       "0.61"
      ],
      "text/latex": [
       "0.61"
      ],
      "text/markdown": [
       "0.61"
      ],
      "text/plain": [
       "[1] 0.61"
      ]
     },
     "metadata": {},
     "output_type": "display_data"
    }
   ],
   "source": [
    "round(sum(eigen.val[eigen.val > 1] / sum(eigen.val)), 2)"
   ]
  },
  {
   "cell_type": "markdown",
   "metadata": {},
   "source": [
    "고유값의 크기가 1보다 큰 주성분의 누적 정보량은 위와 같다. <br>\n",
    "이 기준으로 주성분을 선택하면 주성분 선택 기준 중 하나인 누적 정보량을 80% 이상으로 맞추는 것을 위배하게 된다."
   ]
  },
  {
   "cell_type": "markdown",
   "metadata": {},
   "source": [
    "## (5)"
   ]
  },
  {
   "cell_type": "code",
   "execution_count": 9,
   "metadata": {
    "ExecuteTime": {
     "end_time": "2020-09-26T07:12:15.414864Z",
     "start_time": "2020-09-26T07:12:14.717Z"
    }
   },
   "outputs": [
    {
     "data": {
      "image/png": "[encoded data removed]",
      "text/plain": [
       "Plot with title “Scree Plot”"
      ]
     },
     "metadata": {
      "image/png": {
       "height": 420,
       "width": 420
      }
     },
     "output_type": "display_data"
    }
   ],
   "source": [
    "screeplot(deug.pca, type = \"lines\", pch = 19, main = \"Scree Plot\")"
   ]
  },
  {
   "cell_type": "markdown",
   "metadata": {},
   "source": [
    "2까지 급격히 하강하고 완만해진다. <br>\n",
    "2번째 주성분까지 선택할 수 있다."
   ]
  },
  {
   "cell_type": "markdown",
   "metadata": {},
   "source": [
    "## (6)"
   ]
  },
  {
   "cell_type": "markdown",
   "metadata": {},
   "source": [
    "누적 정보량을 기준으로 하면 주성분 5까지가 적당하고 고유값의 크기를 기준으로는 3, 스크리플롯은 2까지를 가리킨다. <br>\n",
    "그러나 3까지 하면 정보량이 60%로 매우 적으므로 5까지 선택하겠다."
   ]
  },
  {
   "cell_type": "code",
   "execution_count": 10,
   "metadata": {
    "ExecuteTime": {
     "end_time": "2020-09-26T07:12:15.454423Z",
     "start_time": "2020-09-26T07:12:14.726Z"
    }
   },
   "outputs": [
    {
     "data": {
      "text/html": [
       "<table>\n",
       "<caption>A matrix: 9 × 5 of type dbl</caption>\n",
       "<thead>\n",
       "\t<tr><th></th><th scope=col>Comp.1</th><th scope=col>Comp.2</th><th scope=col>Comp.3</th><th scope=col>Comp.4</th><th scope=col>Comp.5</th></tr>\n",
       "</thead>\n",
       "<tbody>\n",
       "\t<tr><th scope=row>Algebra</th><td>0.45</td><td> 0.08</td><td> 0.05</td><td> 0.06</td><td> 0.09</td></tr>\n",
       "\t<tr><th scope=row>Analysis</th><td>0.37</td><td> 0.40</td><td> 0.11</td><td>-0.04</td><td> 0.29</td></tr>\n",
       "\t<tr><th scope=row>Proba</th><td>0.42</td><td> 0.21</td><td>-0.21</td><td>-0.02</td><td>-0.07</td></tr>\n",
       "\t<tr><th scope=row>Informatic</th><td>0.30</td><td> 0.24</td><td>-0.24</td><td> 0.53</td><td>-0.50</td></tr>\n",
       "\t<tr><th scope=row>Economy</th><td>0.31</td><td>-0.54</td><td> 0.14</td><td> 0.06</td><td> 0.36</td></tr>\n",
       "\t<tr><th scope=row>Option1</th><td>0.42</td><td> 0.01</td><td> 0.14</td><td>-0.14</td><td> 0.27</td></tr>\n",
       "\t<tr><th scope=row>Option2</th><td>0.19</td><td>-0.32</td><td> 0.69</td><td> 0.15</td><td>-0.49</td></tr>\n",
       "\t<tr><th scope=row>English</th><td>0.16</td><td>-0.57</td><td>-0.57</td><td> 0.22</td><td> 0.02</td></tr>\n",
       "\t<tr><th scope=row>Sport</th><td>0.24</td><td>-0.12</td><td>-0.20</td><td>-0.79</td><td>-0.45</td></tr>\n",
       "</tbody>\n",
       "</table>\n"
      ],
      "text/latex": [
       "A matrix: 9 × 5 of type dbl\n",
       "\\begin{tabular}{r|lllll}\n",
       "  & Comp.1 & Comp.2 & Comp.3 & Comp.4 & Comp.5\\\\\n",
       "\\hline\n",
       "\tAlgebra & 0.45 &  0.08 &  0.05 &  0.06 &  0.09\\\\\n",
       "\tAnalysis & 0.37 &  0.40 &  0.11 & -0.04 &  0.29\\\\\n",
       "\tProba & 0.42 &  0.21 & -0.21 & -0.02 & -0.07\\\\\n",
       "\tInformatic & 0.30 &  0.24 & -0.24 &  0.53 & -0.50\\\\\n",
       "\tEconomy & 0.31 & -0.54 &  0.14 &  0.06 &  0.36\\\\\n",
       "\tOption1 & 0.42 &  0.01 &  0.14 & -0.14 &  0.27\\\\\n",
       "\tOption2 & 0.19 & -0.32 &  0.69 &  0.15 & -0.49\\\\\n",
       "\tEnglish & 0.16 & -0.57 & -0.57 &  0.22 &  0.02\\\\\n",
       "\tSport & 0.24 & -0.12 & -0.20 & -0.79 & -0.45\\\\\n",
       "\\end{tabular}\n"
      ],
      "text/markdown": [
       "\n",
       "A matrix: 9 × 5 of type dbl\n",
       "\n",
       "| <!--/--> | Comp.1 | Comp.2 | Comp.3 | Comp.4 | Comp.5 |\n",
       "|---|---|---|---|---|---|\n",
       "| Algebra | 0.45 |  0.08 |  0.05 |  0.06 |  0.09 |\n",
       "| Analysis | 0.37 |  0.40 |  0.11 | -0.04 |  0.29 |\n",
       "| Proba | 0.42 |  0.21 | -0.21 | -0.02 | -0.07 |\n",
       "| Informatic | 0.30 |  0.24 | -0.24 |  0.53 | -0.50 |\n",
       "| Economy | 0.31 | -0.54 |  0.14 |  0.06 |  0.36 |\n",
       "| Option1 | 0.42 |  0.01 |  0.14 | -0.14 |  0.27 |\n",
       "| Option2 | 0.19 | -0.32 |  0.69 |  0.15 | -0.49 |\n",
       "| English | 0.16 | -0.57 | -0.57 |  0.22 |  0.02 |\n",
       "| Sport | 0.24 | -0.12 | -0.20 | -0.79 | -0.45 |\n",
       "\n"
      ],
      "text/plain": [
       "           Comp.1 Comp.2 Comp.3 Comp.4 Comp.5\n",
       "Algebra    0.45    0.08   0.05   0.06   0.09 \n",
       "Analysis   0.37    0.40   0.11  -0.04   0.29 \n",
       "Proba      0.42    0.21  -0.21  -0.02  -0.07 \n",
       "Informatic 0.30    0.24  -0.24   0.53  -0.50 \n",
       "Economy    0.31   -0.54   0.14   0.06   0.36 \n",
       "Option1    0.42    0.01   0.14  -0.14   0.27 \n",
       "Option2    0.19   -0.32   0.69   0.15  -0.49 \n",
       "English    0.16   -0.57  -0.57   0.22   0.02 \n",
       "Sport      0.24   -0.12  -0.20  -0.79  -0.45 "
      ]
     },
     "metadata": {},
     "output_type": "display_data"
    }
   ],
   "source": [
    "round(deug.pca$loadings[,1:5], 2)"
   ]
  },
  {
   "cell_type": "markdown",
   "metadata": {},
   "source": [
    "고유벡터 즉, 주성분의 계수는 위와 같다. <br>\n",
    "pc1 = 0.45X1 + 0.37X2 + 0.42X3 + 0.3X4 + 0.31X5 + 0.42X6 + 0.19X7 + 0.16X8 + 0.24X9 <br>\n",
    "pc2 = 0.08X1 + 0.4X2 + 0.21X3 + 0.24X4 - 0.54X5 + 0.01X6 - 0.32X7 - 0.57X8 - 0.12X9 <br>\n",
    "pc3 = 0.05X1 + 0.11X2 - 0.21X3 - 0.24X4 + 0.14X5 + 0.14X6 + 0.69X7 - 0.57X8 - 0.2X9 <br>\n",
    "pc4 = 0.06X1 - 0.04X2 - 0.02X3 + 0.53X4 + 0.06X5 - 0.14X6 + 0.15X7 + 0.22X8 - 0.79X9 <br>\n",
    "pc5 = 0.09X1 + 0.29X2 - 0.07X3 - 0.5X4 + 0.36X5 + 0.27X6 - 0.49X7 + 0.02X8 - 0.45X9 <br>"
   ]
  },
  {
   "cell_type": "code",
   "execution_count": 11,
   "metadata": {
    "ExecuteTime": {
     "end_time": "2020-09-26T07:12:15.492240Z",
     "start_time": "2020-09-26T07:12:14.734Z"
    }
   },
   "outputs": [
    {
     "data": {
      "text/html": [
       "<table>\n",
       "<caption>A matrix: 6 × 5 of type dbl</caption>\n",
       "<thead>\n",
       "\t<tr><th></th><th scope=col>Comp.1</th><th scope=col>Comp.2</th><th scope=col>Comp.3</th><th scope=col>Comp.4</th><th scope=col>Comp.5</th></tr>\n",
       "</thead>\n",
       "<tbody>\n",
       "\t<tr><th scope=row>1</th><td>-1.74</td><td> 0.60</td><td>-0.05</td><td>-0.45</td><td>-1.55</td></tr>\n",
       "\t<tr><th scope=row>2</th><td> 0.46</td><td>-0.61</td><td>-1.05</td><td> 0.11</td><td>-0.36</td></tr>\n",
       "\t<tr><th scope=row>3</th><td> 0.54</td><td> 0.16</td><td> 0.68</td><td> 0.08</td><td>-0.80</td></tr>\n",
       "\t<tr><th scope=row>4</th><td> 2.54</td><td> 0.38</td><td>-0.53</td><td>-0.12</td><td>-0.55</td></tr>\n",
       "\t<tr><th scope=row>5</th><td> 0.30</td><td> 0.38</td><td>-0.86</td><td> 0.49</td><td>-1.53</td></tr>\n",
       "\t<tr><th scope=row>6</th><td>-0.89</td><td> 0.76</td><td>-0.74</td><td> 0.91</td><td> 2.00</td></tr>\n",
       "</tbody>\n",
       "</table>\n"
      ],
      "text/latex": [
       "A matrix: 6 × 5 of type dbl\n",
       "\\begin{tabular}{r|lllll}\n",
       "  & Comp.1 & Comp.2 & Comp.3 & Comp.4 & Comp.5\\\\\n",
       "\\hline\n",
       "\t1 & -1.74 &  0.60 & -0.05 & -0.45 & -1.55\\\\\n",
       "\t2 &  0.46 & -0.61 & -1.05 &  0.11 & -0.36\\\\\n",
       "\t3 &  0.54 &  0.16 &  0.68 &  0.08 & -0.80\\\\\n",
       "\t4 &  2.54 &  0.38 & -0.53 & -0.12 & -0.55\\\\\n",
       "\t5 &  0.30 &  0.38 & -0.86 &  0.49 & -1.53\\\\\n",
       "\t6 & -0.89 &  0.76 & -0.74 &  0.91 &  2.00\\\\\n",
       "\\end{tabular}\n"
      ],
      "text/markdown": [
       "\n",
       "A matrix: 6 × 5 of type dbl\n",
       "\n",
       "| <!--/--> | Comp.1 | Comp.2 | Comp.3 | Comp.4 | Comp.5 |\n",
       "|---|---|---|---|---|---|\n",
       "| 1 | -1.74 |  0.60 | -0.05 | -0.45 | -1.55 |\n",
       "| 2 |  0.46 | -0.61 | -1.05 |  0.11 | -0.36 |\n",
       "| 3 |  0.54 |  0.16 |  0.68 |  0.08 | -0.80 |\n",
       "| 4 |  2.54 |  0.38 | -0.53 | -0.12 | -0.55 |\n",
       "| 5 |  0.30 |  0.38 | -0.86 |  0.49 | -1.53 |\n",
       "| 6 | -0.89 |  0.76 | -0.74 |  0.91 |  2.00 |\n",
       "\n"
      ],
      "text/plain": [
       "  Comp.1 Comp.2 Comp.3 Comp.4 Comp.5\n",
       "1 -1.74   0.60  -0.05  -0.45  -1.55 \n",
       "2  0.46  -0.61  -1.05   0.11  -0.36 \n",
       "3  0.54   0.16   0.68   0.08  -0.80 \n",
       "4  2.54   0.38  -0.53  -0.12  -0.55 \n",
       "5  0.30   0.38  -0.86   0.49  -1.53 \n",
       "6 -0.89   0.76  -0.74   0.91   2.00 "
      ]
     },
     "metadata": {},
     "output_type": "display_data"
    }
   ],
   "source": [
    "head(round(deug.pca$scores[,1:5], 2))"
   ]
  },
  {
   "cell_type": "markdown",
   "metadata": {},
   "source": [
    "그에 따라 계산된 주성분 값은 위와 같다."
   ]
  },
  {
   "cell_type": "markdown",
   "metadata": {},
   "source": [
    "## (7)"
   ]
  },
  {
   "cell_type": "code",
   "execution_count": 12,
   "metadata": {
    "ExecuteTime": {
     "end_time": "2020-09-26T07:12:15.681219Z",
     "start_time": "2020-09-26T07:12:14.743Z"
    }
   },
   "outputs": [
    {
     "data": {
      "image/png": "[encoded data removed]",
      "text/plain": [
       "Plot with title “Biplot”"
      ]
     },
     "metadata": {
      "image/png": {
       "height": 420,
       "width": 420
      }
     },
     "output_type": "display_data"
    }
   ],
   "source": [
    "biplot(deug.pca, col = c(\"red\", \"blue\"), main = \"Biplot\")"
   ]
  },
  {
   "cell_type": "markdown",
   "metadata": {
    "ExecuteTime": {
     "end_time": "2020-09-25T10:31:45.311984Z",
     "start_time": "2020-09-25T10:31:45.286Z"
    }
   },
   "source": [
    "해석학, 정보, 확률론, 대수학, 선택과목 1은 서로 방향과 길이가 가깝다. <br>\n",
    "즉 이 변수들의 상관성이 높다. 또한 이들은 주성분 1, 2에 영향이 크다. <br>\n",
    "반면에 스포, 선택 과목2, 경제, 영어는 이들과 다른 방향을 가리킨다. <br>"
   ]
  },
  {
   "cell_type": "markdown",
   "metadata": {},
   "source": [
    "# 연습문제 2.2"
   ]
  },
  {
   "cell_type": "code",
   "execution_count": 13,
   "metadata": {
    "ExecuteTime": {
     "end_time": "2020-09-26T07:12:15.730603Z",
     "start_time": "2020-09-26T07:12:14.752Z"
    }
   },
   "outputs": [
    {
     "data": {
      "text/html": [
       "<table>\n",
       "<caption>A data.frame: 21 × 6</caption>\n",
       "<thead>\n",
       "\t<tr><th></th><th scope=col>X1</th><th scope=col>X2</th><th scope=col>X3</th><th scope=col>X4</th><th scope=col>X5</th><th scope=col>X6</th></tr>\n",
       "\t<tr><th></th><th scope=col>&lt;dbl&gt;</th><th scope=col>&lt;dbl&gt;</th><th scope=col>&lt;dbl&gt;</th><th scope=col>&lt;dbl&gt;</th><th scope=col>&lt;dbl&gt;</th><th scope=col>&lt;dbl&gt;</th></tr>\n",
       "</thead>\n",
       "<tbody>\n",
       "\t<tr><th scope=row>1</th><td> 0.056</td><td>0.398</td><td>0.038</td><td>0.109</td><td>0.928</td><td>1.050</td></tr>\n",
       "\t<tr><th scope=row>2</th><td> 0.000</td><td>0.600</td><td>0.999</td><td>0.171</td><td>1.120</td><td>0.982</td></tr>\n",
       "\t<tr><th scope=row>3</th><td> 0.064</td><td>0.757</td><td>1.005</td><td>0.085</td><td>0.960</td><td>1.924</td></tr>\n",
       "\t<tr><th scope=row>4</th><td> 0.089</td><td>0.803</td><td>1.097</td><td>0.037</td><td>1.045</td><td>4.544</td></tr>\n",
       "\t<tr><th scope=row>5</th><td> 0.074</td><td>1.014</td><td>1.020</td><td>0.141</td><td>1.173</td><td>1.475</td></tr>\n",
       "\t<tr><th scope=row>6</th><td> 0.128</td><td>0.701</td><td>0.999</td><td>0.139</td><td>0.983</td><td>2.963</td></tr>\n",
       "\t<tr><th scope=row>7</th><td> 0.131</td><td>0.642</td><td>1.127</td><td>0.075</td><td>1.028</td><td>2.750</td></tr>\n",
       "\t<tr><th scope=row>8</th><td> 0.033</td><td>0.851</td><td>1.002</td><td>0.118</td><td>1.030</td><td>1.398</td></tr>\n",
       "\t<tr><th scope=row>9</th><td>-0.047</td><td>0.778</td><td>1.036</td><td>0.158</td><td>0.875</td><td>2.468</td></tr>\n",
       "\t<tr><th scope=row>10</th><td> 0.096</td><td>0.519</td><td>1.072</td><td>0.161</td><td>0.938</td><td>0.965</td></tr>\n",
       "\t<tr><th scope=row>11</th><td> 0.025</td><td>0.895</td><td>0.999</td><td>0.057</td><td>0.895</td><td>5.136</td></tr>\n",
       "\t<tr><th scope=row>12</th><td> 0.050</td><td>0.928</td><td>1.206</td><td>0.191</td><td>1.004</td><td>3.348</td></tr>\n",
       "\t<tr><th scope=row>13</th><td> 0.016</td><td>0.558</td><td>1.002</td><td>0.378</td><td>0.816</td><td>0.896</td></tr>\n",
       "\t<tr><th scope=row>14</th><td> 0.063</td><td>0.802</td><td>1.054</td><td>0.376</td><td>0.730</td><td>1.768</td></tr>\n",
       "\t<tr><th scope=row>15</th><td> 0.093</td><td>0.921</td><td>1.086</td><td>0.140</td><td>1.035</td><td>2.720</td></tr>\n",
       "\t<tr><th scope=row>16</th><td> 0.060</td><td>1.281</td><td>1.008</td><td>0.146</td><td>0.989</td><td>1.776</td></tr>\n",
       "\t<tr><th scope=row>17</th><td> 0.063</td><td>0.770</td><td>1.039</td><td>0.168</td><td>0.973</td><td>2.285</td></tr>\n",
       "\t<tr><th scope=row>18</th><td> 0.050</td><td>1.022</td><td>1.011</td><td>0.014</td><td>1.104</td><td>2.118</td></tr>\n",
       "\t<tr><th scope=row>19</th><td> 0.015</td><td>0.382</td><td>1.002</td><td>0.141</td><td>0.950</td><td>0.240</td></tr>\n",
       "\t<tr><th scope=row>20</th><td> 0.067</td><td>0.530</td><td>1.027</td><td>0.134</td><td>0.956</td><td>2.684</td></tr>\n",
       "\t<tr><th scope=row>21</th><td> 0.079</td><td>0.979</td><td>1.996</td><td>0.192</td><td>0.964</td><td>4.161</td></tr>\n",
       "</tbody>\n",
       "</table>\n"
      ],
      "text/latex": [
       "A data.frame: 21 × 6\n",
       "\\begin{tabular}{r|llllll}\n",
       "  & X1 & X2 & X3 & X4 & X5 & X6\\\\\n",
       "  & <dbl> & <dbl> & <dbl> & <dbl> & <dbl> & <dbl>\\\\\n",
       "\\hline\n",
       "\t1 &  0.056 & 0.398 & 0.038 & 0.109 & 0.928 & 1.050\\\\\n",
       "\t2 &  0.000 & 0.600 & 0.999 & 0.171 & 1.120 & 0.982\\\\\n",
       "\t3 &  0.064 & 0.757 & 1.005 & 0.085 & 0.960 & 1.924\\\\\n",
       "\t4 &  0.089 & 0.803 & 1.097 & 0.037 & 1.045 & 4.544\\\\\n",
       "\t5 &  0.074 & 1.014 & 1.020 & 0.141 & 1.173 & 1.475\\\\\n",
       "\t6 &  0.128 & 0.701 & 0.999 & 0.139 & 0.983 & 2.963\\\\\n",
       "\t7 &  0.131 & 0.642 & 1.127 & 0.075 & 1.028 & 2.750\\\\\n",
       "\t8 &  0.033 & 0.851 & 1.002 & 0.118 & 1.030 & 1.398\\\\\n",
       "\t9 & -0.047 & 0.778 & 1.036 & 0.158 & 0.875 & 2.468\\\\\n",
       "\t10 &  0.096 & 0.519 & 1.072 & 0.161 & 0.938 & 0.965\\\\\n",
       "\t11 &  0.025 & 0.895 & 0.999 & 0.057 & 0.895 & 5.136\\\\\n",
       "\t12 &  0.050 & 0.928 & 1.206 & 0.191 & 1.004 & 3.348\\\\\n",
       "\t13 &  0.016 & 0.558 & 1.002 & 0.378 & 0.816 & 0.896\\\\\n",
       "\t14 &  0.063 & 0.802 & 1.054 & 0.376 & 0.730 & 1.768\\\\\n",
       "\t15 &  0.093 & 0.921 & 1.086 & 0.140 & 1.035 & 2.720\\\\\n",
       "\t16 &  0.060 & 1.281 & 1.008 & 0.146 & 0.989 & 1.776\\\\\n",
       "\t17 &  0.063 & 0.770 & 1.039 & 0.168 & 0.973 & 2.285\\\\\n",
       "\t18 &  0.050 & 1.022 & 1.011 & 0.014 & 1.104 & 2.118\\\\\n",
       "\t19 &  0.015 & 0.382 & 1.002 & 0.141 & 0.950 & 0.240\\\\\n",
       "\t20 &  0.067 & 0.530 & 1.027 & 0.134 & 0.956 & 2.684\\\\\n",
       "\t21 &  0.079 & 0.979 & 1.996 & 0.192 & 0.964 & 4.161\\\\\n",
       "\\end{tabular}\n"
      ],
      "text/markdown": [
       "\n",
       "A data.frame: 21 × 6\n",
       "\n",
       "| <!--/--> | X1 &lt;dbl&gt; | X2 &lt;dbl&gt; | X3 &lt;dbl&gt; | X4 &lt;dbl&gt; | X5 &lt;dbl&gt; | X6 &lt;dbl&gt; |\n",
       "|---|---|---|---|---|---|---|\n",
       "| 1 |  0.056 | 0.398 | 0.038 | 0.109 | 0.928 | 1.050 |\n",
       "| 2 |  0.000 | 0.600 | 0.999 | 0.171 | 1.120 | 0.982 |\n",
       "| 3 |  0.064 | 0.757 | 1.005 | 0.085 | 0.960 | 1.924 |\n",
       "| 4 |  0.089 | 0.803 | 1.097 | 0.037 | 1.045 | 4.544 |\n",
       "| 5 |  0.074 | 1.014 | 1.020 | 0.141 | 1.173 | 1.475 |\n",
       "| 6 |  0.128 | 0.701 | 0.999 | 0.139 | 0.983 | 2.963 |\n",
       "| 7 |  0.131 | 0.642 | 1.127 | 0.075 | 1.028 | 2.750 |\n",
       "| 8 |  0.033 | 0.851 | 1.002 | 0.118 | 1.030 | 1.398 |\n",
       "| 9 | -0.047 | 0.778 | 1.036 | 0.158 | 0.875 | 2.468 |\n",
       "| 10 |  0.096 | 0.519 | 1.072 | 0.161 | 0.938 | 0.965 |\n",
       "| 11 |  0.025 | 0.895 | 0.999 | 0.057 | 0.895 | 5.136 |\n",
       "| 12 |  0.050 | 0.928 | 1.206 | 0.191 | 1.004 | 3.348 |\n",
       "| 13 |  0.016 | 0.558 | 1.002 | 0.378 | 0.816 | 0.896 |\n",
       "| 14 |  0.063 | 0.802 | 1.054 | 0.376 | 0.730 | 1.768 |\n",
       "| 15 |  0.093 | 0.921 | 1.086 | 0.140 | 1.035 | 2.720 |\n",
       "| 16 |  0.060 | 1.281 | 1.008 | 0.146 | 0.989 | 1.776 |\n",
       "| 17 |  0.063 | 0.770 | 1.039 | 0.168 | 0.973 | 2.285 |\n",
       "| 18 |  0.050 | 1.022 | 1.011 | 0.014 | 1.104 | 2.118 |\n",
       "| 19 |  0.015 | 0.382 | 1.002 | 0.141 | 0.950 | 0.240 |\n",
       "| 20 |  0.067 | 0.530 | 1.027 | 0.134 | 0.956 | 2.684 |\n",
       "| 21 |  0.079 | 0.979 | 1.996 | 0.192 | 0.964 | 4.161 |\n",
       "\n"
      ],
      "text/plain": [
       "   X1     X2    X3    X4    X5    X6   \n",
       "1   0.056 0.398 0.038 0.109 0.928 1.050\n",
       "2   0.000 0.600 0.999 0.171 1.120 0.982\n",
       "3   0.064 0.757 1.005 0.085 0.960 1.924\n",
       "4   0.089 0.803 1.097 0.037 1.045 4.544\n",
       "5   0.074 1.014 1.020 0.141 1.173 1.475\n",
       "6   0.128 0.701 0.999 0.139 0.983 2.963\n",
       "7   0.131 0.642 1.127 0.075 1.028 2.750\n",
       "8   0.033 0.851 1.002 0.118 1.030 1.398\n",
       "9  -0.047 0.778 1.036 0.158 0.875 2.468\n",
       "10  0.096 0.519 1.072 0.161 0.938 0.965\n",
       "11  0.025 0.895 0.999 0.057 0.895 5.136\n",
       "12  0.050 0.928 1.206 0.191 1.004 3.348\n",
       "13  0.016 0.558 1.002 0.378 0.816 0.896\n",
       "14  0.063 0.802 1.054 0.376 0.730 1.768\n",
       "15  0.093 0.921 1.086 0.140 1.035 2.720\n",
       "16  0.060 1.281 1.008 0.146 0.989 1.776\n",
       "17  0.063 0.770 1.039 0.168 0.973 2.285\n",
       "18  0.050 1.022 1.011 0.014 1.104 2.118\n",
       "19  0.015 0.382 1.002 0.141 0.950 0.240\n",
       "20  0.067 0.530 1.027 0.134 0.956 2.684\n",
       "21  0.079 0.979 1.996 0.192 0.964 4.161"
      ]
     },
     "metadata": {},
     "output_type": "display_data"
    }
   ],
   "source": [
    "company.data = read.table(\"exdata/ex2-2.txt\", header = F, row.names = 1)\n",
    "colnames(company.data) = paste(rep(\"X\", 6), 1:6, sep = \"\")\n",
    "company.data"
   ]
  },
  {
   "cell_type": "markdown",
   "metadata": {},
   "source": [
    "## (1) "
   ]
  },
  {
   "cell_type": "code",
   "execution_count": 14,
   "metadata": {
    "ExecuteTime": {
     "end_time": "2020-09-26T07:12:15.771200Z",
     "start_time": "2020-09-26T07:12:14.760Z"
    }
   },
   "outputs": [
    {
     "data": {
      "text/html": [
       "<table>\n",
       "<caption>A matrix: 6 × 6 of type dbl</caption>\n",
       "<thead>\n",
       "\t<tr><th></th><th scope=col>X1</th><th scope=col>X2</th><th scope=col>X3</th><th scope=col>X4</th><th scope=col>X5</th><th scope=col>X6</th></tr>\n",
       "</thead>\n",
       "<tbody>\n",
       "\t<tr><th scope=row>X1</th><td> 0.0017</td><td> 0.0008</td><td>0.0018</td><td>-0.0007</td><td> 0.0009</td><td> 0.0133</td></tr>\n",
       "\t<tr><th scope=row>X2</th><td> 0.0008</td><td> 0.0502</td><td>0.0294</td><td>-0.0028</td><td> 0.0065</td><td> 0.1186</td></tr>\n",
       "\t<tr><th scope=row>X3</th><td> 0.0018</td><td> 0.0294</td><td>0.0986</td><td> 0.0041</td><td> 0.0022</td><td> 0.1732</td></tr>\n",
       "\t<tr><th scope=row>X4</th><td>-0.0007</td><td>-0.0028</td><td>0.0041</td><td> 0.0080</td><td>-0.0056</td><td>-0.0386</td></tr>\n",
       "\t<tr><th scope=row>X5</th><td> 0.0009</td><td> 0.0065</td><td>0.0022</td><td>-0.0056</td><td> 0.0099</td><td> 0.0028</td></tr>\n",
       "\t<tr><th scope=row>X6</th><td> 0.0133</td><td> 0.1186</td><td>0.1732</td><td>-0.0386</td><td> 0.0028</td><td> 1.6069</td></tr>\n",
       "</tbody>\n",
       "</table>\n"
      ],
      "text/latex": [
       "A matrix: 6 × 6 of type dbl\n",
       "\\begin{tabular}{r|llllll}\n",
       "  & X1 & X2 & X3 & X4 & X5 & X6\\\\\n",
       "\\hline\n",
       "\tX1 &  0.0017 &  0.0008 & 0.0018 & -0.0007 &  0.0009 &  0.0133\\\\\n",
       "\tX2 &  0.0008 &  0.0502 & 0.0294 & -0.0028 &  0.0065 &  0.1186\\\\\n",
       "\tX3 &  0.0018 &  0.0294 & 0.0986 &  0.0041 &  0.0022 &  0.1732\\\\\n",
       "\tX4 & -0.0007 & -0.0028 & 0.0041 &  0.0080 & -0.0056 & -0.0386\\\\\n",
       "\tX5 &  0.0009 &  0.0065 & 0.0022 & -0.0056 &  0.0099 &  0.0028\\\\\n",
       "\tX6 &  0.0133 &  0.1186 & 0.1732 & -0.0386 &  0.0028 &  1.6069\\\\\n",
       "\\end{tabular}\n"
      ],
      "text/markdown": [
       "\n",
       "A matrix: 6 × 6 of type dbl\n",
       "\n",
       "| <!--/--> | X1 | X2 | X3 | X4 | X5 | X6 |\n",
       "|---|---|---|---|---|---|---|\n",
       "| X1 |  0.0017 |  0.0008 | 0.0018 | -0.0007 |  0.0009 |  0.0133 |\n",
       "| X2 |  0.0008 |  0.0502 | 0.0294 | -0.0028 |  0.0065 |  0.1186 |\n",
       "| X3 |  0.0018 |  0.0294 | 0.0986 |  0.0041 |  0.0022 |  0.1732 |\n",
       "| X4 | -0.0007 | -0.0028 | 0.0041 |  0.0080 | -0.0056 | -0.0386 |\n",
       "| X5 |  0.0009 |  0.0065 | 0.0022 | -0.0056 |  0.0099 |  0.0028 |\n",
       "| X6 |  0.0133 |  0.1186 | 0.1732 | -0.0386 |  0.0028 |  1.6069 |\n",
       "\n"
      ],
      "text/plain": [
       "   X1      X2      X3     X4      X5      X6     \n",
       "X1  0.0017  0.0008 0.0018 -0.0007  0.0009  0.0133\n",
       "X2  0.0008  0.0502 0.0294 -0.0028  0.0065  0.1186\n",
       "X3  0.0018  0.0294 0.0986  0.0041  0.0022  0.1732\n",
       "X4 -0.0007 -0.0028 0.0041  0.0080 -0.0056 -0.0386\n",
       "X5  0.0009  0.0065 0.0022 -0.0056  0.0099  0.0028\n",
       "X6  0.0133  0.1186 0.1732 -0.0386  0.0028  1.6069"
      ]
     },
     "metadata": {},
     "output_type": "display_data"
    }
   ],
   "source": [
    "round(cov(company.data), 4)"
   ]
  },
  {
   "cell_type": "markdown",
   "metadata": {},
   "source": [
    "측정단위가 작기 때문에 분산공분산행렬에 나타나는 변동도 매우 작다. 표준화시킨 상관행렬을 보는 것이 좋을 것 같다."
   ]
  },
  {
   "cell_type": "markdown",
   "metadata": {},
   "source": [
    "## (2)"
   ]
  },
  {
   "cell_type": "code",
   "execution_count": 15,
   "metadata": {
    "ExecuteTime": {
     "end_time": "2020-09-26T07:12:15.807252Z",
     "start_time": "2020-09-26T07:12:14.768Z"
    }
   },
   "outputs": [
    {
     "data": {
      "text/html": [
       "<table>\n",
       "<caption>A matrix: 6 × 6 of type dbl</caption>\n",
       "<thead>\n",
       "\t<tr><th></th><th scope=col>X1</th><th scope=col>X2</th><th scope=col>X3</th><th scope=col>X4</th><th scope=col>X5</th><th scope=col>X6</th></tr>\n",
       "</thead>\n",
       "<tbody>\n",
       "\t<tr><th scope=row>X1</th><td> 1.00</td><td> 0.08</td><td>0.14</td><td>-0.20</td><td> 0.23</td><td> 0.25</td></tr>\n",
       "\t<tr><th scope=row>X2</th><td> 0.08</td><td> 1.00</td><td>0.42</td><td>-0.14</td><td> 0.29</td><td> 0.42</td></tr>\n",
       "\t<tr><th scope=row>X3</th><td> 0.14</td><td> 0.42</td><td>1.00</td><td> 0.14</td><td> 0.07</td><td> 0.44</td></tr>\n",
       "\t<tr><th scope=row>X4</th><td>-0.20</td><td>-0.14</td><td>0.14</td><td> 1.00</td><td>-0.63</td><td>-0.34</td></tr>\n",
       "\t<tr><th scope=row>X5</th><td> 0.23</td><td> 0.29</td><td>0.07</td><td>-0.63</td><td> 1.00</td><td> 0.02</td></tr>\n",
       "\t<tr><th scope=row>X6</th><td> 0.25</td><td> 0.42</td><td>0.44</td><td>-0.34</td><td> 0.02</td><td> 1.00</td></tr>\n",
       "</tbody>\n",
       "</table>\n"
      ],
      "text/latex": [
       "A matrix: 6 × 6 of type dbl\n",
       "\\begin{tabular}{r|llllll}\n",
       "  & X1 & X2 & X3 & X4 & X5 & X6\\\\\n",
       "\\hline\n",
       "\tX1 &  1.00 &  0.08 & 0.14 & -0.20 &  0.23 &  0.25\\\\\n",
       "\tX2 &  0.08 &  1.00 & 0.42 & -0.14 &  0.29 &  0.42\\\\\n",
       "\tX3 &  0.14 &  0.42 & 1.00 &  0.14 &  0.07 &  0.44\\\\\n",
       "\tX4 & -0.20 & -0.14 & 0.14 &  1.00 & -0.63 & -0.34\\\\\n",
       "\tX5 &  0.23 &  0.29 & 0.07 & -0.63 &  1.00 &  0.02\\\\\n",
       "\tX6 &  0.25 &  0.42 & 0.44 & -0.34 &  0.02 &  1.00\\\\\n",
       "\\end{tabular}\n"
      ],
      "text/markdown": [
       "\n",
       "A matrix: 6 × 6 of type dbl\n",
       "\n",
       "| <!--/--> | X1 | X2 | X3 | X4 | X5 | X6 |\n",
       "|---|---|---|---|---|---|---|\n",
       "| X1 |  1.00 |  0.08 | 0.14 | -0.20 |  0.23 |  0.25 |\n",
       "| X2 |  0.08 |  1.00 | 0.42 | -0.14 |  0.29 |  0.42 |\n",
       "| X3 |  0.14 |  0.42 | 1.00 |  0.14 |  0.07 |  0.44 |\n",
       "| X4 | -0.20 | -0.14 | 0.14 |  1.00 | -0.63 | -0.34 |\n",
       "| X5 |  0.23 |  0.29 | 0.07 | -0.63 |  1.00 |  0.02 |\n",
       "| X6 |  0.25 |  0.42 | 0.44 | -0.34 |  0.02 |  1.00 |\n",
       "\n"
      ],
      "text/plain": [
       "   X1    X2    X3   X4    X5    X6   \n",
       "X1  1.00  0.08 0.14 -0.20  0.23  0.25\n",
       "X2  0.08  1.00 0.42 -0.14  0.29  0.42\n",
       "X3  0.14  0.42 1.00  0.14  0.07  0.44\n",
       "X4 -0.20 -0.14 0.14  1.00 -0.63 -0.34\n",
       "X5  0.23  0.29 0.07 -0.63  1.00  0.02\n",
       "X6  0.25  0.42 0.44 -0.34  0.02  1.00"
      ]
     },
     "metadata": {},
     "output_type": "display_data"
    }
   ],
   "source": [
    "round(cor(company.data), 2)"
   ]
  },
  {
   "cell_type": "markdown",
   "metadata": {},
   "source": [
    "(X2, X3), (X2, X6), (X3, X6), (X4, X5)의 상관관계가 두드러진다.\n",
    "(X1, X2), (X5, X6)의 상관관계가 없다시피하다."
   ]
  },
  {
   "cell_type": "markdown",
   "metadata": {},
   "source": [
    "## (3) "
   ]
  },
  {
   "cell_type": "markdown",
   "metadata": {},
   "source": [
    "### 1)"
   ]
  },
  {
   "cell_type": "code",
   "execution_count": 16,
   "metadata": {
    "ExecuteTime": {
     "end_time": "2020-09-26T07:12:15.855810Z",
     "start_time": "2020-09-26T07:12:14.777Z"
    }
   },
   "outputs": [],
   "source": [
    "company.pca = princomp(company.data, cor = T, scores = T)"
   ]
  },
  {
   "cell_type": "code",
   "execution_count": 17,
   "metadata": {
    "ExecuteTime": {
     "end_time": "2020-09-26T07:12:15.926312Z",
     "start_time": "2020-09-26T07:12:14.782Z"
    }
   },
   "outputs": [
    {
     "data": {
      "text/html": [
       "<dl class=dl-horizontal>\n",
       "\t<dt>Comp.1</dt>\n",
       "\t\t<dd>2.20124816531973</dd>\n",
       "\t<dt>Comp.2</dt>\n",
       "\t\t<dd>1.48579467700037</dd>\n",
       "\t<dt>Comp.3</dt>\n",
       "\t\t<dd>0.913795545316428</dd>\n",
       "\t<dt>Comp.4</dt>\n",
       "\t\t<dd>0.744785797910029</dd>\n",
       "\t<dt>Comp.5</dt>\n",
       "\t\t<dd>0.499416002069133</dd>\n",
       "\t<dt>Comp.6</dt>\n",
       "\t\t<dd>0.154959812384308</dd>\n",
       "</dl>\n"
      ],
      "text/latex": [
       "\\begin{description*}\n",
       "\\item[Comp.1] 2.20124816531973\n",
       "\\item[Comp.2] 1.48579467700037\n",
       "\\item[Comp.3] 0.913795545316428\n",
       "\\item[Comp.4] 0.744785797910029\n",
       "\\item[Comp.5] 0.499416002069133\n",
       "\\item[Comp.6] 0.154959812384308\n",
       "\\end{description*}\n"
      ],
      "text/markdown": [
       "Comp.1\n",
       ":   2.20124816531973Comp.2\n",
       ":   1.48579467700037Comp.3\n",
       ":   0.913795545316428Comp.4\n",
       ":   0.744785797910029Comp.5\n",
       ":   0.499416002069133Comp.6\n",
       ":   0.154959812384308\n",
       "\n"
      ],
      "text/plain": [
       "   Comp.1    Comp.2    Comp.3    Comp.4    Comp.5    Comp.6 \n",
       "2.2012482 1.4857947 0.9137955 0.7447858 0.4994160 0.1549598 "
      ]
     },
     "metadata": {},
     "output_type": "display_data"
    }
   ],
   "source": [
    "eigen.val = company.pca$sdev^2\n",
    "eigen.val"
   ]
  },
  {
   "cell_type": "markdown",
   "metadata": {},
   "source": [
    "고유값(주성분의 분산)은 위와 같다."
   ]
  },
  {
   "cell_type": "code",
   "execution_count": 18,
   "metadata": {
    "ExecuteTime": {
     "end_time": "2020-09-26T07:12:15.938951Z",
     "start_time": "2020-09-26T07:12:14.793Z"
    }
   },
   "outputs": [
    {
     "data": {
      "text/plain": [
       "Importance of components:\n",
       "                          Comp.1    Comp.2    Comp.3    Comp.4    Comp.5\n",
       "Standard deviation     1.4836604 1.2189318 0.9559265 0.8630097 0.7066937\n",
       "Proportion of Variance 0.3668747 0.2476324 0.1522993 0.1241310 0.0832360\n",
       "Cumulative Proportion  0.3668747 0.6145071 0.7668064 0.8909374 0.9741734\n",
       "                           Comp.6\n",
       "Standard deviation     0.39364935\n",
       "Proportion of Variance 0.02582664\n",
       "Cumulative Proportion  1.00000000"
      ]
     },
     "metadata": {},
     "output_type": "display_data"
    }
   ],
   "source": [
    "summary(company.pca)"
   ]
  },
  {
   "cell_type": "markdown",
   "metadata": {},
   "source": [
    "고유값이 확보하는 정보의 양(Proportion of Variance)과 누적정보량(Cumulative Proportion)은 위와 같다. <br>\n",
    "누적정보량을 기준으로 봤을 때 80%를 넘기는 주성분 4까지가 적당해보인다."
   ]
  },
  {
   "cell_type": "markdown",
   "metadata": {},
   "source": [
    "### 2)"
   ]
  },
  {
   "cell_type": "code",
   "execution_count": 19,
   "metadata": {
    "ExecuteTime": {
     "end_time": "2020-09-26T07:12:15.980074Z",
     "start_time": "2020-09-26T07:12:14.802Z"
    }
   },
   "outputs": [
    {
     "data": {
      "text/html": [
       "2"
      ],
      "text/latex": [
       "2"
      ],
      "text/markdown": [
       "2"
      ],
      "text/plain": [
       "[1] 2"
      ]
     },
     "metadata": {},
     "output_type": "display_data"
    }
   ],
   "source": [
    "sum(eigen.val > 1)"
   ]
  },
  {
   "cell_type": "markdown",
   "metadata": {},
   "source": [
    "고유값이 1보다 큰 주성분의 수는 2이다."
   ]
  },
  {
   "cell_type": "code",
   "execution_count": 20,
   "metadata": {
    "ExecuteTime": {
     "end_time": "2020-09-26T07:12:16.018130Z",
     "start_time": "2020-09-26T07:12:14.808Z"
    }
   },
   "outputs": [
    {
     "data": {
      "text/html": [
       "0.614507140386684"
      ],
      "text/latex": [
       "0.614507140386684"
      ],
      "text/markdown": [
       "0.614507140386684"
      ],
      "text/plain": [
       "[1] 0.6145071"
      ]
     },
     "metadata": {},
     "output_type": "display_data"
    }
   ],
   "source": [
    "sum(eigen.val[eigen.val > 1] / sum(eigen.val))"
   ]
  },
  {
   "cell_type": "markdown",
   "metadata": {},
   "source": [
    "1보다 큰 고유근을 가지는 주성분의 누적 정보량은 61%이다."
   ]
  },
  {
   "cell_type": "markdown",
   "metadata": {},
   "source": [
    "### 3)"
   ]
  },
  {
   "cell_type": "markdown",
   "metadata": {},
   "source": [
    "누적정보량을 기준으로 했을 때는 86%의 4개, 고유값의 크기를 기준으로는 2개이다. <br>\n",
    "누적정보량이 76%로 80%에 근접하고 고유값의 크기가 0.95로 1에 가까운 3개까지 선택하도록 하자"
   ]
  },
  {
   "cell_type": "code",
   "execution_count": 21,
   "metadata": {
    "ExecuteTime": {
     "end_time": "2020-09-26T07:12:16.057219Z",
     "start_time": "2020-09-26T07:12:14.817Z"
    }
   },
   "outputs": [
    {
     "data": {
      "text/html": [
       "<table>\n",
       "<caption>A matrix: 6 × 3 of type dbl</caption>\n",
       "<thead>\n",
       "\t<tr><th></th><th scope=col>Comp.1</th><th scope=col>Comp.2</th><th scope=col>Comp.3</th></tr>\n",
       "</thead>\n",
       "<tbody>\n",
       "\t<tr><th scope=row>X1</th><td> 0.32</td><td> 0.08</td><td> 0.84</td></tr>\n",
       "\t<tr><th scope=row>X2</th><td> 0.46</td><td>-0.27</td><td>-0.43</td></tr>\n",
       "\t<tr><th scope=row>X3</th><td> 0.34</td><td>-0.56</td><td>-0.04</td></tr>\n",
       "\t<tr><th scope=row>X4</th><td>-0.42</td><td>-0.54</td><td> 0.07</td></tr>\n",
       "\t<tr><th scope=row>X5</th><td> 0.42</td><td> 0.48</td><td>-0.26</td></tr>\n",
       "\t<tr><th scope=row>X6</th><td> 0.48</td><td>-0.29</td><td> 0.17</td></tr>\n",
       "</tbody>\n",
       "</table>\n"
      ],
      "text/latex": [
       "A matrix: 6 × 3 of type dbl\n",
       "\\begin{tabular}{r|lll}\n",
       "  & Comp.1 & Comp.2 & Comp.3\\\\\n",
       "\\hline\n",
       "\tX1 &  0.32 &  0.08 &  0.84\\\\\n",
       "\tX2 &  0.46 & -0.27 & -0.43\\\\\n",
       "\tX3 &  0.34 & -0.56 & -0.04\\\\\n",
       "\tX4 & -0.42 & -0.54 &  0.07\\\\\n",
       "\tX5 &  0.42 &  0.48 & -0.26\\\\\n",
       "\tX6 &  0.48 & -0.29 &  0.17\\\\\n",
       "\\end{tabular}\n"
      ],
      "text/markdown": [
       "\n",
       "A matrix: 6 × 3 of type dbl\n",
       "\n",
       "| <!--/--> | Comp.1 | Comp.2 | Comp.3 |\n",
       "|---|---|---|---|\n",
       "| X1 |  0.32 |  0.08 |  0.84 |\n",
       "| X2 |  0.46 | -0.27 | -0.43 |\n",
       "| X3 |  0.34 | -0.56 | -0.04 |\n",
       "| X4 | -0.42 | -0.54 |  0.07 |\n",
       "| X5 |  0.42 |  0.48 | -0.26 |\n",
       "| X6 |  0.48 | -0.29 |  0.17 |\n",
       "\n"
      ],
      "text/plain": [
       "   Comp.1 Comp.2 Comp.3\n",
       "X1  0.32   0.08   0.84 \n",
       "X2  0.46  -0.27  -0.43 \n",
       "X3  0.34  -0.56  -0.04 \n",
       "X4 -0.42  -0.54   0.07 \n",
       "X5  0.42   0.48  -0.26 \n",
       "X6  0.48  -0.29   0.17 "
      ]
     },
     "metadata": {},
     "output_type": "display_data"
    }
   ],
   "source": [
    "round(company.pca$loadings[,1:3], 2)"
   ]
  },
  {
   "cell_type": "markdown",
   "metadata": {},
   "source": [
    "고유벡터 즉, 주성분의 계수는 위와 같다. <br>\n",
    "pc1 = 0.32X1 + 0.46X2 + 0.34X3 - 0.42X4 + 0.42X5 + 0.48X6 <br>\n",
    "pc2 = 0.08X1 + 0.27X2 + 0.56X3 + 0.54X4 + 0.48X5 + 0.29X6 <br>\n",
    "pc3 = 0.84X1 - 0.463X2 - 0.04X3 + 0.07X4 - 0.26X5 + 0.17X6 <br>"
   ]
  },
  {
   "cell_type": "code",
   "execution_count": 22,
   "metadata": {
    "ExecuteTime": {
     "end_time": "2020-09-26T07:12:16.143323Z",
     "start_time": "2020-09-26T07:12:14.825Z"
    }
   },
   "outputs": [
    {
     "data": {
      "text/html": [
       "<table>\n",
       "<caption>A matrix: 21 × 3 of type dbl</caption>\n",
       "<thead>\n",
       "\t<tr><th></th><th scope=col>Comp.1</th><th scope=col>Comp.2</th><th scope=col>Comp.3</th></tr>\n",
       "</thead>\n",
       "<tbody>\n",
       "\t<tr><th scope=row>1</th><td>-2.38</td><td> 2.58</td><td> 0.78</td></tr>\n",
       "\t<tr><th scope=row>2</th><td>-0.83</td><td> 1.04</td><td>-1.40</td></tr>\n",
       "\t<tr><th scope=row>3</th><td> 0.09</td><td> 0.49</td><td> 0.11</td></tr>\n",
       "\t<tr><th scope=row>4</th><td> 2.09</td><td> 0.42</td><td> 0.62</td></tr>\n",
       "\t<tr><th scope=row>5</th><td> 1.20</td><td> 0.98</td><td>-0.79</td></tr>\n",
       "\t<tr><th scope=row>6</th><td> 0.72</td><td> 0.24</td><td> 1.67</td></tr>\n",
       "\t<tr><th scope=row>7</th><td> 1.17</td><td> 0.75</td><td> 1.63</td></tr>\n",
       "\t<tr><th scope=row>8</th><td>-0.02</td><td> 0.58</td><td>-0.95</td></tr>\n",
       "\t<tr><th scope=row>9</th><td>-1.20</td><td>-0.83</td><td>-1.88</td></tr>\n",
       "\t<tr><th scope=row>10</th><td>-0.90</td><td> 0.37</td><td> 1.22</td></tr>\n",
       "\t<tr><th scope=row>11</th><td> 1.16</td><td>-0.65</td><td>-0.38</td></tr>\n",
       "\t<tr><th scope=row>12</th><td> 0.80</td><td>-0.89</td><td>-0.39</td></tr>\n",
       "\t<tr><th scope=row>13</th><td>-3.11</td><td>-1.64</td><td>-0.02</td></tr>\n",
       "\t<tr><th scope=row>14</th><td>-2.19</td><td>-2.56</td><td> 0.82</td></tr>\n",
       "\t<tr><th scope=row>15</th><td> 1.12</td><td> 0.04</td><td> 0.33</td></tr>\n",
       "\t<tr><th scope=row>16</th><td> 0.94</td><td>-0.37</td><td>-1.06</td></tr>\n",
       "\t<tr><th scope=row>17</th><td>-0.05</td><td>-0.13</td><td> 0.14</td></tr>\n",
       "\t<tr><th scope=row>18</th><td> 1.57</td><td> 1.22</td><td>-1.12</td></tr>\n",
       "\t<tr><th scope=row>19</th><td>-2.03</td><td> 0.85</td><td>-0.33</td></tr>\n",
       "\t<tr><th scope=row>20</th><td>-0.29</td><td> 0.23</td><td> 0.77</td></tr>\n",
       "\t<tr><th scope=row>21</th><td> 2.15</td><td>-2.73</td><td> 0.22</td></tr>\n",
       "</tbody>\n",
       "</table>\n"
      ],
      "text/latex": [
       "A matrix: 21 × 3 of type dbl\n",
       "\\begin{tabular}{r|lll}\n",
       "  & Comp.1 & Comp.2 & Comp.3\\\\\n",
       "\\hline\n",
       "\t1 & -2.38 &  2.58 &  0.78\\\\\n",
       "\t2 & -0.83 &  1.04 & -1.40\\\\\n",
       "\t3 &  0.09 &  0.49 &  0.11\\\\\n",
       "\t4 &  2.09 &  0.42 &  0.62\\\\\n",
       "\t5 &  1.20 &  0.98 & -0.79\\\\\n",
       "\t6 &  0.72 &  0.24 &  1.67\\\\\n",
       "\t7 &  1.17 &  0.75 &  1.63\\\\\n",
       "\t8 & -0.02 &  0.58 & -0.95\\\\\n",
       "\t9 & -1.20 & -0.83 & -1.88\\\\\n",
       "\t10 & -0.90 &  0.37 &  1.22\\\\\n",
       "\t11 &  1.16 & -0.65 & -0.38\\\\\n",
       "\t12 &  0.80 & -0.89 & -0.39\\\\\n",
       "\t13 & -3.11 & -1.64 & -0.02\\\\\n",
       "\t14 & -2.19 & -2.56 &  0.82\\\\\n",
       "\t15 &  1.12 &  0.04 &  0.33\\\\\n",
       "\t16 &  0.94 & -0.37 & -1.06\\\\\n",
       "\t17 & -0.05 & -0.13 &  0.14\\\\\n",
       "\t18 &  1.57 &  1.22 & -1.12\\\\\n",
       "\t19 & -2.03 &  0.85 & -0.33\\\\\n",
       "\t20 & -0.29 &  0.23 &  0.77\\\\\n",
       "\t21 &  2.15 & -2.73 &  0.22\\\\\n",
       "\\end{tabular}\n"
      ],
      "text/markdown": [
       "\n",
       "A matrix: 21 × 3 of type dbl\n",
       "\n",
       "| <!--/--> | Comp.1 | Comp.2 | Comp.3 |\n",
       "|---|---|---|---|\n",
       "| 1 | -2.38 |  2.58 |  0.78 |\n",
       "| 2 | -0.83 |  1.04 | -1.40 |\n",
       "| 3 |  0.09 |  0.49 |  0.11 |\n",
       "| 4 |  2.09 |  0.42 |  0.62 |\n",
       "| 5 |  1.20 |  0.98 | -0.79 |\n",
       "| 6 |  0.72 |  0.24 |  1.67 |\n",
       "| 7 |  1.17 |  0.75 |  1.63 |\n",
       "| 8 | -0.02 |  0.58 | -0.95 |\n",
       "| 9 | -1.20 | -0.83 | -1.88 |\n",
       "| 10 | -0.90 |  0.37 |  1.22 |\n",
       "| 11 |  1.16 | -0.65 | -0.38 |\n",
       "| 12 |  0.80 | -0.89 | -0.39 |\n",
       "| 13 | -3.11 | -1.64 | -0.02 |\n",
       "| 14 | -2.19 | -2.56 |  0.82 |\n",
       "| 15 |  1.12 |  0.04 |  0.33 |\n",
       "| 16 |  0.94 | -0.37 | -1.06 |\n",
       "| 17 | -0.05 | -0.13 |  0.14 |\n",
       "| 18 |  1.57 |  1.22 | -1.12 |\n",
       "| 19 | -2.03 |  0.85 | -0.33 |\n",
       "| 20 | -0.29 |  0.23 |  0.77 |\n",
       "| 21 |  2.15 | -2.73 |  0.22 |\n",
       "\n"
      ],
      "text/plain": [
       "   Comp.1 Comp.2 Comp.3\n",
       "1  -2.38   2.58   0.78 \n",
       "2  -0.83   1.04  -1.40 \n",
       "3   0.09   0.49   0.11 \n",
       "4   2.09   0.42   0.62 \n",
       "5   1.20   0.98  -0.79 \n",
       "6   0.72   0.24   1.67 \n",
       "7   1.17   0.75   1.63 \n",
       "8  -0.02   0.58  -0.95 \n",
       "9  -1.20  -0.83  -1.88 \n",
       "10 -0.90   0.37   1.22 \n",
       "11  1.16  -0.65  -0.38 \n",
       "12  0.80  -0.89  -0.39 \n",
       "13 -3.11  -1.64  -0.02 \n",
       "14 -2.19  -2.56   0.82 \n",
       "15  1.12   0.04   0.33 \n",
       "16  0.94  -0.37  -1.06 \n",
       "17 -0.05  -0.13   0.14 \n",
       "18  1.57   1.22  -1.12 \n",
       "19 -2.03   0.85  -0.33 \n",
       "20 -0.29   0.23   0.77 \n",
       "21  2.15  -2.73   0.22 "
      ]
     },
     "metadata": {},
     "output_type": "display_data"
    }
   ],
   "source": [
    "round(company.pca$scores[,1:3], 2)"
   ]
  },
  {
   "cell_type": "markdown",
   "metadata": {},
   "source": [
    "계산된 주성분의 값은 위와 같다."
   ]
  },
  {
   "cell_type": "markdown",
   "metadata": {},
   "source": [
    "#  연습문제 2.3"
   ]
  },
  {
   "cell_type": "code",
   "execution_count": 23,
   "metadata": {
    "ExecuteTime": {
     "end_time": "2020-09-26T07:12:16.206748Z",
     "start_time": "2020-09-26T07:12:14.832Z"
    }
   },
   "outputs": [
    {
     "data": {
      "text/html": [
       "<table>\n",
       "<caption>A data.frame: 14 × 6</caption>\n",
       "<thead>\n",
       "\t<tr><th scope=col>REGION</th><th scope=col>X1</th><th scope=col>X2</th><th scope=col>X3</th><th scope=col>X4</th><th scope=col>X5</th></tr>\n",
       "\t<tr><th scope=col>&lt;int&gt;</th><th scope=col>&lt;dbl&gt;</th><th scope=col>&lt;dbl&gt;</th><th scope=col>&lt;dbl&gt;</th><th scope=col>&lt;dbl&gt;</th><th scope=col>&lt;dbl&gt;</th></tr>\n",
       "</thead>\n",
       "<tbody>\n",
       "\t<tr><td> 1</td><td>5.935</td><td>14.2</td><td>2.265</td><td>2.27</td><td>2.91</td></tr>\n",
       "\t<tr><td> 2</td><td>1.523</td><td>13.1</td><td>0.597</td><td>0.75</td><td>2.62</td></tr>\n",
       "\t<tr><td> 3</td><td>2.599</td><td>12.7</td><td>1.237</td><td>1.11</td><td>1.72</td></tr>\n",
       "\t<tr><td> 4</td><td>4.009</td><td>15.2</td><td>1.649</td><td>0.81</td><td>3.02</td></tr>\n",
       "\t<tr><td> 5</td><td>4.687</td><td>14.7</td><td>2.312</td><td>2.50</td><td>2.22</td></tr>\n",
       "\t<tr><td> 6</td><td>8.044</td><td>15.6</td><td>3.641</td><td>4.51</td><td>2.36</td></tr>\n",
       "\t<tr><td> 7</td><td>2.766</td><td>13.3</td><td>1.244</td><td>1.03</td><td>1.97</td></tr>\n",
       "\t<tr><td> 8</td><td>6.538</td><td>17.0</td><td>2.618</td><td>2.39</td><td>1.85</td></tr>\n",
       "\t<tr><td> 9</td><td>6.451</td><td>12.9</td><td>3.147</td><td>5.52</td><td>2.01</td></tr>\n",
       "\t<tr><td>10</td><td>3.314</td><td>12.2</td><td>1.606</td><td>2.18</td><td>1.82</td></tr>\n",
       "\t<tr><td>11</td><td>3.777</td><td>13.0</td><td>2.119</td><td>2.83</td><td>1.80</td></tr>\n",
       "\t<tr><td>12</td><td>1.530</td><td>13.8</td><td>0.798</td><td>0.84</td><td>4.25</td></tr>\n",
       "\t<tr><td>13</td><td>2.768</td><td>13.6</td><td>1.336</td><td>1.75</td><td>2.64</td></tr>\n",
       "\t<tr><td>14</td><td>6.585</td><td>14.9</td><td>2.763</td><td>1.91</td><td>3.17</td></tr>\n",
       "</tbody>\n",
       "</table>\n"
      ],
      "text/latex": [
       "A data.frame: 14 × 6\n",
       "\\begin{tabular}{llllll}\n",
       " REGION & X1 & X2 & X3 & X4 & X5\\\\\n",
       " <int> & <dbl> & <dbl> & <dbl> & <dbl> & <dbl>\\\\\n",
       "\\hline\n",
       "\t  1 & 5.935 & 14.2 & 2.265 & 2.27 & 2.91\\\\\n",
       "\t  2 & 1.523 & 13.1 & 0.597 & 0.75 & 2.62\\\\\n",
       "\t  3 & 2.599 & 12.7 & 1.237 & 1.11 & 1.72\\\\\n",
       "\t  4 & 4.009 & 15.2 & 1.649 & 0.81 & 3.02\\\\\n",
       "\t  5 & 4.687 & 14.7 & 2.312 & 2.50 & 2.22\\\\\n",
       "\t  6 & 8.044 & 15.6 & 3.641 & 4.51 & 2.36\\\\\n",
       "\t  7 & 2.766 & 13.3 & 1.244 & 1.03 & 1.97\\\\\n",
       "\t  8 & 6.538 & 17.0 & 2.618 & 2.39 & 1.85\\\\\n",
       "\t  9 & 6.451 & 12.9 & 3.147 & 5.52 & 2.01\\\\\n",
       "\t 10 & 3.314 & 12.2 & 1.606 & 2.18 & 1.82\\\\\n",
       "\t 11 & 3.777 & 13.0 & 2.119 & 2.83 & 1.80\\\\\n",
       "\t 12 & 1.530 & 13.8 & 0.798 & 0.84 & 4.25\\\\\n",
       "\t 13 & 2.768 & 13.6 & 1.336 & 1.75 & 2.64\\\\\n",
       "\t 14 & 6.585 & 14.9 & 2.763 & 1.91 & 3.17\\\\\n",
       "\\end{tabular}\n"
      ],
      "text/markdown": [
       "\n",
       "A data.frame: 14 × 6\n",
       "\n",
       "| REGION &lt;int&gt; | X1 &lt;dbl&gt; | X2 &lt;dbl&gt; | X3 &lt;dbl&gt; | X4 &lt;dbl&gt; | X5 &lt;dbl&gt; |\n",
       "|---|---|---|---|---|---|\n",
       "|  1 | 5.935 | 14.2 | 2.265 | 2.27 | 2.91 |\n",
       "|  2 | 1.523 | 13.1 | 0.597 | 0.75 | 2.62 |\n",
       "|  3 | 2.599 | 12.7 | 1.237 | 1.11 | 1.72 |\n",
       "|  4 | 4.009 | 15.2 | 1.649 | 0.81 | 3.02 |\n",
       "|  5 | 4.687 | 14.7 | 2.312 | 2.50 | 2.22 |\n",
       "|  6 | 8.044 | 15.6 | 3.641 | 4.51 | 2.36 |\n",
       "|  7 | 2.766 | 13.3 | 1.244 | 1.03 | 1.97 |\n",
       "|  8 | 6.538 | 17.0 | 2.618 | 2.39 | 1.85 |\n",
       "|  9 | 6.451 | 12.9 | 3.147 | 5.52 | 2.01 |\n",
       "| 10 | 3.314 | 12.2 | 1.606 | 2.18 | 1.82 |\n",
       "| 11 | 3.777 | 13.0 | 2.119 | 2.83 | 1.80 |\n",
       "| 12 | 1.530 | 13.8 | 0.798 | 0.84 | 4.25 |\n",
       "| 13 | 2.768 | 13.6 | 1.336 | 1.75 | 2.64 |\n",
       "| 14 | 6.585 | 14.9 | 2.763 | 1.91 | 3.17 |\n",
       "\n"
      ],
      "text/plain": [
       "   REGION X1    X2   X3    X4   X5  \n",
       "1   1     5.935 14.2 2.265 2.27 2.91\n",
       "2   2     1.523 13.1 0.597 0.75 2.62\n",
       "3   3     2.599 12.7 1.237 1.11 1.72\n",
       "4   4     4.009 15.2 1.649 0.81 3.02\n",
       "5   5     4.687 14.7 2.312 2.50 2.22\n",
       "6   6     8.044 15.6 3.641 4.51 2.36\n",
       "7   7     2.766 13.3 1.244 1.03 1.97\n",
       "8   8     6.538 17.0 2.618 2.39 1.85\n",
       "9   9     6.451 12.9 3.147 5.52 2.01\n",
       "10 10     3.314 12.2 1.606 2.18 1.82\n",
       "11 11     3.777 13.0 2.119 2.83 1.80\n",
       "12 12     1.530 13.8 0.798 0.84 4.25\n",
       "13 13     2.768 13.6 1.336 1.75 2.64\n",
       "14 14     6.585 14.9 2.763 1.91 3.17"
      ]
     },
     "metadata": {},
     "output_type": "display_data"
    }
   ],
   "source": [
    "city.data = read.table(\"exdata/ex2-3.txt\", header = F)\n",
    "colnames(city.data) = paste(rep(\"X\", 5), 1:5, sep = \"\")\n",
    "REGION = 1:length(city.data[,1])\n",
    "city = cbind(REGION, city.data)\n",
    "city"
   ]
  },
  {
   "cell_type": "markdown",
   "metadata": {},
   "source": [
    "## (1)"
   ]
  },
  {
   "cell_type": "code",
   "execution_count": 24,
   "metadata": {
    "ExecuteTime": {
     "end_time": "2020-09-26T07:12:16.251928Z",
     "start_time": "2020-09-26T07:12:14.841Z"
    }
   },
   "outputs": [
    {
     "data": {
      "text/html": [
       "<table>\n",
       "<caption>A matrix: 5 × 5 of type dbl</caption>\n",
       "<thead>\n",
       "\t<tr><th></th><th scope=col>X1</th><th scope=col>X2</th><th scope=col>X3</th><th scope=col>X4</th><th scope=col>X5</th></tr>\n",
       "</thead>\n",
       "<tbody>\n",
       "\t<tr><th scope=row>X1</th><td> 1.00</td><td>0.61</td><td> 0.97</td><td> 0.74</td><td>-0.17</td></tr>\n",
       "\t<tr><th scope=row>X2</th><td> 0.61</td><td>1.00</td><td> 0.49</td><td> 0.10</td><td> 0.19</td></tr>\n",
       "\t<tr><th scope=row>X3</th><td> 0.97</td><td>0.49</td><td> 1.00</td><td> 0.85</td><td>-0.25</td></tr>\n",
       "\t<tr><th scope=row>X4</th><td> 0.74</td><td>0.10</td><td> 0.85</td><td> 1.00</td><td>-0.36</td></tr>\n",
       "\t<tr><th scope=row>X5</th><td>-0.17</td><td>0.19</td><td>-0.25</td><td>-0.36</td><td> 1.00</td></tr>\n",
       "</tbody>\n",
       "</table>\n"
      ],
      "text/latex": [
       "A matrix: 5 × 5 of type dbl\n",
       "\\begin{tabular}{r|lllll}\n",
       "  & X1 & X2 & X3 & X4 & X5\\\\\n",
       "\\hline\n",
       "\tX1 &  1.00 & 0.61 &  0.97 &  0.74 & -0.17\\\\\n",
       "\tX2 &  0.61 & 1.00 &  0.49 &  0.10 &  0.19\\\\\n",
       "\tX3 &  0.97 & 0.49 &  1.00 &  0.85 & -0.25\\\\\n",
       "\tX4 &  0.74 & 0.10 &  0.85 &  1.00 & -0.36\\\\\n",
       "\tX5 & -0.17 & 0.19 & -0.25 & -0.36 &  1.00\\\\\n",
       "\\end{tabular}\n"
      ],
      "text/markdown": [
       "\n",
       "A matrix: 5 × 5 of type dbl\n",
       "\n",
       "| <!--/--> | X1 | X2 | X3 | X4 | X5 |\n",
       "|---|---|---|---|---|---|\n",
       "| X1 |  1.00 | 0.61 |  0.97 |  0.74 | -0.17 |\n",
       "| X2 |  0.61 | 1.00 |  0.49 |  0.10 |  0.19 |\n",
       "| X3 |  0.97 | 0.49 |  1.00 |  0.85 | -0.25 |\n",
       "| X4 |  0.74 | 0.10 |  0.85 |  1.00 | -0.36 |\n",
       "| X5 | -0.17 | 0.19 | -0.25 | -0.36 |  1.00 |\n",
       "\n"
      ],
      "text/plain": [
       "   X1    X2   X3    X4    X5   \n",
       "X1  1.00 0.61  0.97  0.74 -0.17\n",
       "X2  0.61 1.00  0.49  0.10  0.19\n",
       "X3  0.97 0.49  1.00  0.85 -0.25\n",
       "X4  0.74 0.10  0.85  1.00 -0.36\n",
       "X5 -0.17 0.19 -0.25 -0.36  1.00"
      ]
     },
     "metadata": {},
     "output_type": "display_data"
    }
   ],
   "source": [
    "round(cor(city.data), 2)"
   ]
  },
  {
   "cell_type": "markdown",
   "metadata": {},
   "source": [
    "총인구가 많아질 수록 주택가격을 제외한 지수가 높아지는 것을 알 수 있다. <br>"
   ]
  },
  {
   "cell_type": "markdown",
   "metadata": {},
   "source": [
    "##  (2)"
   ]
  },
  {
   "cell_type": "code",
   "execution_count": 25,
   "metadata": {
    "ExecuteTime": {
     "end_time": "2020-09-26T07:12:16.276118Z",
     "start_time": "2020-09-26T07:12:14.847Z"
    }
   },
   "outputs": [],
   "source": [
    "city.pca = princomp(city.data, cor = T, scores = T)"
   ]
  },
  {
   "cell_type": "code",
   "execution_count": 26,
   "metadata": {
    "ExecuteTime": {
     "end_time": "2020-09-26T07:12:16.314987Z",
     "start_time": "2020-09-26T07:12:14.853Z"
    }
   },
   "outputs": [
    {
     "data": {
      "text/html": [
       "<dl class=dl-horizontal>\n",
       "\t<dt>Comp.1</dt>\n",
       "\t\t<dd>3.02889605742183</dd>\n",
       "\t<dt>Comp.2</dt>\n",
       "\t\t<dd>1.29113795904372</dd>\n",
       "\t<dt>Comp.3</dt>\n",
       "\t\t<dd>0.572455662699603</dd>\n",
       "\t<dt>Comp.4</dt>\n",
       "\t\t<dd>0.0953984825415042</dd>\n",
       "\t<dt>Comp.5</dt>\n",
       "\t\t<dd>0.0121118382933332</dd>\n",
       "</dl>\n"
      ],
      "text/latex": [
       "\\begin{description*}\n",
       "\\item[Comp.1] 3.02889605742183\n",
       "\\item[Comp.2] 1.29113795904372\n",
       "\\item[Comp.3] 0.572455662699603\n",
       "\\item[Comp.4] 0.0953984825415042\n",
       "\\item[Comp.5] 0.0121118382933332\n",
       "\\end{description*}\n"
      ],
      "text/markdown": [
       "Comp.1\n",
       ":   3.02889605742183Comp.2\n",
       ":   1.29113795904372Comp.3\n",
       ":   0.572455662699603Comp.4\n",
       ":   0.0953984825415042Comp.5\n",
       ":   0.0121118382933332\n",
       "\n"
      ],
      "text/plain": [
       "    Comp.1     Comp.2     Comp.3     Comp.4     Comp.5 \n",
       "3.02889606 1.29113796 0.57245566 0.09539848 0.01211184 "
      ]
     },
     "metadata": {},
     "output_type": "display_data"
    }
   ],
   "source": [
    "eigen.val = city.pca$sdev^2\n",
    "eigen.val"
   ]
  },
  {
   "cell_type": "markdown",
   "metadata": {},
   "source": [
    "고유값 = 주성분의 분산은 위와 같다."
   ]
  },
  {
   "cell_type": "code",
   "execution_count": 27,
   "metadata": {
    "ExecuteTime": {
     "end_time": "2020-09-26T07:12:16.346313Z",
     "start_time": "2020-09-26T07:12:14.859Z"
    }
   },
   "outputs": [
    {
     "data": {
      "text/plain": [
       "Importance of components:\n",
       "                          Comp.1    Comp.2    Comp.3    Comp.4      Comp.5\n",
       "Standard deviation     1.7403724 1.1362825 0.7566080 0.3088664 0.110053797\n",
       "Proportion of Variance 0.6057792 0.2582276 0.1144911 0.0190797 0.002422368\n",
       "Cumulative Proportion  0.6057792 0.8640068 0.9784979 0.9975776 1.000000000"
      ]
     },
     "metadata": {},
     "output_type": "display_data"
    }
   ],
   "source": [
    "summary(city.pca)"
   ]
  },
  {
   "cell_type": "markdown",
   "metadata": {},
   "source": [
    "고유값이 확보하는 정보양과 누적 정보양은 위와 같다."
   ]
  },
  {
   "cell_type": "markdown",
   "metadata": {},
   "source": [
    "## (3)"
   ]
  },
  {
   "cell_type": "code",
   "execution_count": 28,
   "metadata": {
    "ExecuteTime": {
     "end_time": "2020-09-26T07:12:16.373872Z",
     "start_time": "2020-09-26T07:12:14.866Z"
    }
   },
   "outputs": [
    {
     "data": {
      "text/html": [
       "<dl class=dl-horizontal>\n",
       "\t<dt>Comp.1</dt>\n",
       "\t\t<dd>3.02889605742183</dd>\n",
       "\t<dt>Comp.2</dt>\n",
       "\t\t<dd>1.29113795904372</dd>\n",
       "</dl>\n"
      ],
      "text/latex": [
       "\\begin{description*}\n",
       "\\item[Comp.1] 3.02889605742183\n",
       "\\item[Comp.2] 1.29113795904372\n",
       "\\end{description*}\n"
      ],
      "text/markdown": [
       "Comp.1\n",
       ":   3.02889605742183Comp.2\n",
       ":   1.29113795904372\n",
       "\n"
      ],
      "text/plain": [
       "  Comp.1   Comp.2 \n",
       "3.028896 1.291138 "
      ]
     },
     "metadata": {},
     "output_type": "display_data"
    }
   ],
   "source": [
    "eigen.val[eigen.val > 1]"
   ]
  },
  {
   "cell_type": "markdown",
   "metadata": {},
   "source": [
    "1보다 큰 고유값은 위와 같이 총 2개이다."
   ]
  },
  {
   "cell_type": "code",
   "execution_count": 29,
   "metadata": {
    "ExecuteTime": {
     "end_time": "2020-09-26T07:12:16.408802Z",
     "start_time": "2020-09-26T07:12:14.871Z"
    }
   },
   "outputs": [
    {
     "data": {
      "text/html": [
       "0.864006803293112"
      ],
      "text/latex": [
       "0.864006803293112"
      ],
      "text/markdown": [
       "0.864006803293112"
      ],
      "text/plain": [
       "[1] 0.8640068"
      ]
     },
     "metadata": {},
     "output_type": "display_data"
    }
   ],
   "source": [
    "sum(eigen.val[eigen.val > 1] / sum(eigen.val))"
   ]
  },
  {
   "cell_type": "markdown",
   "metadata": {},
   "source": [
    "1보다 큰 고유값이 확보하는 누적 정보량은 위와 같다."
   ]
  },
  {
   "cell_type": "markdown",
   "metadata": {},
   "source": [
    "## (4)"
   ]
  },
  {
   "cell_type": "markdown",
   "metadata": {},
   "source": [
    "1보다 큰 고유값은 2개이며 누적정보량도 86%이다."
   ]
  },
  {
   "cell_type": "code",
   "execution_count": 30,
   "metadata": {
    "ExecuteTime": {
     "end_time": "2020-09-26T07:12:16.441327Z",
     "start_time": "2020-09-26T07:12:14.877Z"
    }
   },
   "outputs": [
    {
     "data": {
      "text/html": [
       "<table>\n",
       "<caption>A matrix: 5 × 2 of type dbl</caption>\n",
       "<thead>\n",
       "\t<tr><th></th><th scope=col>Comp.1</th><th scope=col>Comp.2</th></tr>\n",
       "</thead>\n",
       "<tbody>\n",
       "\t<tr><th scope=row>X1</th><td> 0.56</td><td> 0.13</td></tr>\n",
       "\t<tr><th scope=row>X2</th><td> 0.31</td><td> 0.63</td></tr>\n",
       "\t<tr><th scope=row>X3</th><td> 0.57</td><td> 0.00</td></tr>\n",
       "\t<tr><th scope=row>X4</th><td> 0.49</td><td>-0.31</td></tr>\n",
       "\t<tr><th scope=row>X5</th><td>-0.17</td><td> 0.70</td></tr>\n",
       "</tbody>\n",
       "</table>\n"
      ],
      "text/latex": [
       "A matrix: 5 × 2 of type dbl\n",
       "\\begin{tabular}{r|ll}\n",
       "  & Comp.1 & Comp.2\\\\\n",
       "\\hline\n",
       "\tX1 &  0.56 &  0.13\\\\\n",
       "\tX2 &  0.31 &  0.63\\\\\n",
       "\tX3 &  0.57 &  0.00\\\\\n",
       "\tX4 &  0.49 & -0.31\\\\\n",
       "\tX5 & -0.17 &  0.70\\\\\n",
       "\\end{tabular}\n"
      ],
      "text/markdown": [
       "\n",
       "A matrix: 5 × 2 of type dbl\n",
       "\n",
       "| <!--/--> | Comp.1 | Comp.2 |\n",
       "|---|---|---|\n",
       "| X1 |  0.56 |  0.13 |\n",
       "| X2 |  0.31 |  0.63 |\n",
       "| X3 |  0.57 |  0.00 |\n",
       "| X4 |  0.49 | -0.31 |\n",
       "| X5 | -0.17 |  0.70 |\n",
       "\n"
      ],
      "text/plain": [
       "   Comp.1 Comp.2\n",
       "X1  0.56   0.13 \n",
       "X2  0.31   0.63 \n",
       "X3  0.57   0.00 \n",
       "X4  0.49  -0.31 \n",
       "X5 -0.17   0.70 "
      ]
     },
     "metadata": {},
     "output_type": "display_data"
    }
   ],
   "source": [
    "round(city.pca$loadings[,1:2], 2)"
   ]
  },
  {
   "cell_type": "markdown",
   "metadata": {},
   "source": [
    "고유벡터는 위와 같고 주성분은 다음과 같은 선형식으로 나타내어진다. <br>\n",
    "pc1 = 0.56X1 + 0.31X2 + 0.57X3 - 0.49X4 - 0.17X5 <br>\n",
    "pc2 = 0.13X1 + 0.63X2 - 0.31X4 + 0.7X5 <br>\n",
    "x3가 주성분 2에 미치는 영향은 없으며 x2, x5는 주성분에 미치는 영향이 적고 주성분 2에 많다."
   ]
  },
  {
   "cell_type": "code",
   "execution_count": 31,
   "metadata": {
    "ExecuteTime": {
     "end_time": "2020-09-26T07:12:16.483967Z",
     "start_time": "2020-09-26T07:12:14.883Z"
    }
   },
   "outputs": [
    {
     "data": {
      "text/html": [
       "<table>\n",
       "<caption>A matrix: 14 × 6 of type dbl</caption>\n",
       "<thead>\n",
       "\t<tr><th scope=col>REGION</th><th scope=col>Comp.1</th><th scope=col>Comp.2</th><th scope=col>Comp.3</th><th scope=col>Comp.4</th><th scope=col>Comp.5</th></tr>\n",
       "</thead>\n",
       "<tbody>\n",
       "\t<tr><td> 1</td><td> 0.62</td><td> 0.64</td><td> 0.46</td><td> 0.44</td><td> 0.21</td></tr>\n",
       "\t<tr><td> 2</td><td>-2.45</td><td>-0.14</td><td>-0.11</td><td>-0.18</td><td> 0.15</td></tr>\n",
       "\t<tr><td> 3</td><td>-1.47</td><td>-1.27</td><td>-0.64</td><td> 0.26</td><td>-0.02</td></tr>\n",
       "\t<tr><td> 4</td><td>-0.63</td><td> 1.45</td><td>-0.44</td><td> 0.07</td><td>-0.05</td></tr>\n",
       "\t<tr><td> 5</td><td> 0.68</td><td> 0.05</td><td>-0.37</td><td>-0.19</td><td>-0.16</td></tr>\n",
       "\t<tr><td> 6</td><td> 3.40</td><td> 0.40</td><td> 0.26</td><td>-0.13</td><td>-0.04</td></tr>\n",
       "\t<tr><td> 7</td><td>-1.36</td><td>-0.69</td><td>-0.67</td><td> 0.14</td><td> 0.00</td></tr>\n",
       "\t<tr><td> 8</td><td> 2.02</td><td> 0.95</td><td>-1.72</td><td>-0.36</td><td> 0.11</td></tr>\n",
       "\t<tr><td> 9</td><td> 2.43</td><td>-1.62</td><td> 1.33</td><td>-0.26</td><td> 0.09</td></tr>\n",
       "\t<tr><td>10</td><td>-0.79</td><td>-1.61</td><td> 0.09</td><td> 0.24</td><td> 0.03</td></tr>\n",
       "\t<tr><td>11</td><td> 0.11</td><td>-1.35</td><td> 0.02</td><td>-0.07</td><td>-0.20</td></tr>\n",
       "\t<tr><td>12</td><td>-2.53</td><td> 1.85</td><td> 1.29</td><td>-0.37</td><td>-0.05</td></tr>\n",
       "\t<tr><td>13</td><td>-1.14</td><td>-0.02</td><td> 0.13</td><td>-0.27</td><td> 0.01</td></tr>\n",
       "\t<tr><td>14</td><td> 1.11</td><td> 1.38</td><td> 0.37</td><td> 0.70</td><td>-0.10</td></tr>\n",
       "</tbody>\n",
       "</table>\n"
      ],
      "text/latex": [
       "A matrix: 14 × 6 of type dbl\n",
       "\\begin{tabular}{llllll}\n",
       " REGION & Comp.1 & Comp.2 & Comp.3 & Comp.4 & Comp.5\\\\\n",
       "\\hline\n",
       "\t  1 &  0.62 &  0.64 &  0.46 &  0.44 &  0.21\\\\\n",
       "\t  2 & -2.45 & -0.14 & -0.11 & -0.18 &  0.15\\\\\n",
       "\t  3 & -1.47 & -1.27 & -0.64 &  0.26 & -0.02\\\\\n",
       "\t  4 & -0.63 &  1.45 & -0.44 &  0.07 & -0.05\\\\\n",
       "\t  5 &  0.68 &  0.05 & -0.37 & -0.19 & -0.16\\\\\n",
       "\t  6 &  3.40 &  0.40 &  0.26 & -0.13 & -0.04\\\\\n",
       "\t  7 & -1.36 & -0.69 & -0.67 &  0.14 &  0.00\\\\\n",
       "\t  8 &  2.02 &  0.95 & -1.72 & -0.36 &  0.11\\\\\n",
       "\t  9 &  2.43 & -1.62 &  1.33 & -0.26 &  0.09\\\\\n",
       "\t 10 & -0.79 & -1.61 &  0.09 &  0.24 &  0.03\\\\\n",
       "\t 11 &  0.11 & -1.35 &  0.02 & -0.07 & -0.20\\\\\n",
       "\t 12 & -2.53 &  1.85 &  1.29 & -0.37 & -0.05\\\\\n",
       "\t 13 & -1.14 & -0.02 &  0.13 & -0.27 &  0.01\\\\\n",
       "\t 14 &  1.11 &  1.38 &  0.37 &  0.70 & -0.10\\\\\n",
       "\\end{tabular}\n"
      ],
      "text/markdown": [
       "\n",
       "A matrix: 14 × 6 of type dbl\n",
       "\n",
       "| REGION | Comp.1 | Comp.2 | Comp.3 | Comp.4 | Comp.5 |\n",
       "|---|---|---|---|---|---|\n",
       "|  1 |  0.62 |  0.64 |  0.46 |  0.44 |  0.21 |\n",
       "|  2 | -2.45 | -0.14 | -0.11 | -0.18 |  0.15 |\n",
       "|  3 | -1.47 | -1.27 | -0.64 |  0.26 | -0.02 |\n",
       "|  4 | -0.63 |  1.45 | -0.44 |  0.07 | -0.05 |\n",
       "|  5 |  0.68 |  0.05 | -0.37 | -0.19 | -0.16 |\n",
       "|  6 |  3.40 |  0.40 |  0.26 | -0.13 | -0.04 |\n",
       "|  7 | -1.36 | -0.69 | -0.67 |  0.14 |  0.00 |\n",
       "|  8 |  2.02 |  0.95 | -1.72 | -0.36 |  0.11 |\n",
       "|  9 |  2.43 | -1.62 |  1.33 | -0.26 |  0.09 |\n",
       "| 10 | -0.79 | -1.61 |  0.09 |  0.24 |  0.03 |\n",
       "| 11 |  0.11 | -1.35 |  0.02 | -0.07 | -0.20 |\n",
       "| 12 | -2.53 |  1.85 |  1.29 | -0.37 | -0.05 |\n",
       "| 13 | -1.14 | -0.02 |  0.13 | -0.27 |  0.01 |\n",
       "| 14 |  1.11 |  1.38 |  0.37 |  0.70 | -0.10 |\n",
       "\n"
      ],
      "text/plain": [
       "      REGION Comp.1 Comp.2 Comp.3 Comp.4 Comp.5\n",
       " [1,]  1      0.62   0.64   0.46   0.44   0.21 \n",
       " [2,]  2     -2.45  -0.14  -0.11  -0.18   0.15 \n",
       " [3,]  3     -1.47  -1.27  -0.64   0.26  -0.02 \n",
       " [4,]  4     -0.63   1.45  -0.44   0.07  -0.05 \n",
       " [5,]  5      0.68   0.05  -0.37  -0.19  -0.16 \n",
       " [6,]  6      3.40   0.40   0.26  -0.13  -0.04 \n",
       " [7,]  7     -1.36  -0.69  -0.67   0.14   0.00 \n",
       " [8,]  8      2.02   0.95  -1.72  -0.36   0.11 \n",
       " [9,]  9      2.43  -1.62   1.33  -0.26   0.09 \n",
       "[10,] 10     -0.79  -1.61   0.09   0.24   0.03 \n",
       "[11,] 11      0.11  -1.35   0.02  -0.07  -0.20 \n",
       "[12,] 12     -2.53   1.85   1.29  -0.37  -0.05 \n",
       "[13,] 13     -1.14  -0.02   0.13  -0.27   0.01 \n",
       "[14,] 14      1.11   1.38   0.37   0.70  -0.10 "
      ]
     },
     "metadata": {},
     "output_type": "display_data"
    }
   ],
   "source": [
    "cbind(REGION, round(city.pca$scores, 2))"
   ]
  },
  {
   "cell_type": "markdown",
   "metadata": {
    "ExecuteTime": {
     "end_time": "2020-09-26T05:20:04.073565Z",
     "start_time": "2020-09-26T05:20:04.047Z"
    }
   },
   "source": [
    "주성분 값은 위와 같다."
   ]
  },
  {
   "cell_type": "markdown",
   "metadata": {},
   "source": [
    "# 연습문제 2.4 "
   ]
  },
  {
   "cell_type": "code",
   "execution_count": 32,
   "metadata": {
    "ExecuteTime": {
     "end_time": "2020-09-26T07:12:17.556371Z",
     "start_time": "2020-09-26T07:12:14.891Z"
    }
   },
   "outputs": [],
   "source": [
    "library(xlsx)"
   ]
  },
  {
   "cell_type": "code",
   "execution_count": 33,
   "metadata": {
    "ExecuteTime": {
     "end_time": "2020-09-26T07:12:18.261893Z",
     "start_time": "2020-09-26T07:12:14.896Z"
    }
   },
   "outputs": [],
   "source": [
    "crime = read.xlsx(\"exdata/ex2_4.xlsx\", 1, row.names = 1)"
   ]
  },
  {
   "cell_type": "code",
   "execution_count": 34,
   "metadata": {
    "ExecuteTime": {
     "end_time": "2020-09-26T07:12:18.337590Z",
     "start_time": "2020-09-26T07:12:14.902Z"
    }
   },
   "outputs": [
    {
     "data": {
      "text/html": [
       "<table>\n",
       "<caption>A data.frame: 50 × 4</caption>\n",
       "<thead>\n",
       "\t<tr><th></th><th scope=col>Murder</th><th scope=col>Assault</th><th scope=col>UrbanPop</th><th scope=col>Rape</th></tr>\n",
       "\t<tr><th></th><th scope=col>&lt;dbl&gt;</th><th scope=col>&lt;dbl&gt;</th><th scope=col>&lt;dbl&gt;</th><th scope=col>&lt;dbl&gt;</th></tr>\n",
       "</thead>\n",
       "<tbody>\n",
       "\t<tr><th scope=row>Alabama</th><td>13.2</td><td>236</td><td>58</td><td>21.2</td></tr>\n",
       "\t<tr><th scope=row>Alaska</th><td>10.0</td><td>263</td><td>48</td><td>44.5</td></tr>\n",
       "\t<tr><th scope=row>Arizona</th><td> 8.1</td><td>294</td><td>80</td><td>31.0</td></tr>\n",
       "\t<tr><th scope=row>Arkansas</th><td> 8.8</td><td>190</td><td>50</td><td>19.5</td></tr>\n",
       "\t<tr><th scope=row>California</th><td> 9.0</td><td>276</td><td>91</td><td>40.6</td></tr>\n",
       "\t<tr><th scope=row>Colorado</th><td> 7.9</td><td>204</td><td>78</td><td>38.7</td></tr>\n",
       "\t<tr><th scope=row>Connecticut</th><td> 3.3</td><td>110</td><td>77</td><td>11.1</td></tr>\n",
       "\t<tr><th scope=row>Delaware</th><td> 5.9</td><td>238</td><td>72</td><td>15.8</td></tr>\n",
       "\t<tr><th scope=row>Florida</th><td>15.4</td><td>335</td><td>80</td><td>31.9</td></tr>\n",
       "\t<tr><th scope=row>Georgia</th><td>17.4</td><td>211</td><td>60</td><td>25.8</td></tr>\n",
       "\t<tr><th scope=row>Hawaii</th><td> 5.3</td><td> 46</td><td>83</td><td>20.2</td></tr>\n",
       "\t<tr><th scope=row>Idaho</th><td> 2.6</td><td>120</td><td>54</td><td>14.2</td></tr>\n",
       "\t<tr><th scope=row>Illinois</th><td>10.4</td><td>249</td><td>83</td><td>24.0</td></tr>\n",
       "\t<tr><th scope=row>Indiana</th><td> 7.2</td><td>113</td><td>65</td><td>21.0</td></tr>\n",
       "\t<tr><th scope=row>Iowa</th><td> 2.2</td><td> 56</td><td>57</td><td>11.3</td></tr>\n",
       "\t<tr><th scope=row>Kansas</th><td> 6.0</td><td>115</td><td>66</td><td>18.0</td></tr>\n",
       "\t<tr><th scope=row>Kentucky</th><td> 9.7</td><td>109</td><td>52</td><td>16.3</td></tr>\n",
       "\t<tr><th scope=row>Louisiana</th><td>15.4</td><td>249</td><td>66</td><td>22.2</td></tr>\n",
       "\t<tr><th scope=row>Maine</th><td> 2.1</td><td> 83</td><td>51</td><td> 7.8</td></tr>\n",
       "\t<tr><th scope=row>Maryland</th><td>11.3</td><td>300</td><td>67</td><td>27.8</td></tr>\n",
       "\t<tr><th scope=row>Massachusetts</th><td> 4.4</td><td>149</td><td>85</td><td>16.3</td></tr>\n",
       "\t<tr><th scope=row>Michigan</th><td>12.1</td><td>255</td><td>74</td><td>35.1</td></tr>\n",
       "\t<tr><th scope=row>Minnesota</th><td> 2.7</td><td> 72</td><td>66</td><td>14.9</td></tr>\n",
       "\t<tr><th scope=row>Mississippi</th><td>16.1</td><td>259</td><td>44</td><td>17.1</td></tr>\n",
       "\t<tr><th scope=row>Missouri</th><td> 9.0</td><td>178</td><td>70</td><td>28.2</td></tr>\n",
       "\t<tr><th scope=row>Montana</th><td> 6.0</td><td>109</td><td>53</td><td>16.4</td></tr>\n",
       "\t<tr><th scope=row>Nebraska</th><td> 4.3</td><td>102</td><td>62</td><td>16.5</td></tr>\n",
       "\t<tr><th scope=row>Nevada</th><td>12.2</td><td>252</td><td>81</td><td>46.0</td></tr>\n",
       "\t<tr><th scope=row>New Hampshire</th><td> 2.1</td><td> 57</td><td>56</td><td> 9.5</td></tr>\n",
       "\t<tr><th scope=row>New Jersey</th><td> 7.4</td><td>159</td><td>89</td><td>18.8</td></tr>\n",
       "\t<tr><th scope=row>New Mexico</th><td>11.4</td><td>285</td><td>70</td><td>32.1</td></tr>\n",
       "\t<tr><th scope=row>New York</th><td>11.1</td><td>254</td><td>86</td><td>26.1</td></tr>\n",
       "\t<tr><th scope=row>North Carolina</th><td>13.0</td><td>337</td><td>45</td><td>16.1</td></tr>\n",
       "\t<tr><th scope=row>North Dakota</th><td> 0.8</td><td> 45</td><td>44</td><td> 7.3</td></tr>\n",
       "\t<tr><th scope=row>Ohio</th><td> 7.3</td><td>120</td><td>75</td><td>21.4</td></tr>\n",
       "\t<tr><th scope=row>Oklahoma</th><td> 6.6</td><td>151</td><td>68</td><td>20.0</td></tr>\n",
       "\t<tr><th scope=row>Oregon</th><td> 4.9</td><td>159</td><td>67</td><td>29.3</td></tr>\n",
       "\t<tr><th scope=row>Pennsylvania</th><td> 6.3</td><td>106</td><td>72</td><td>14.9</td></tr>\n",
       "\t<tr><th scope=row>Rhode Island</th><td> 3.4</td><td>174</td><td>87</td><td> 8.3</td></tr>\n",
       "\t<tr><th scope=row>South Carolina</th><td>14.4</td><td>279</td><td>48</td><td>22.5</td></tr>\n",
       "\t<tr><th scope=row>South Dakota</th><td> 3.8</td><td> 86</td><td>45</td><td>12.8</td></tr>\n",
       "\t<tr><th scope=row>Tennessee</th><td>13.2</td><td>188</td><td>59</td><td>26.9</td></tr>\n",
       "\t<tr><th scope=row>Texas</th><td>12.7</td><td>201</td><td>80</td><td>25.5</td></tr>\n",
       "\t<tr><th scope=row>Utah</th><td> 3.2</td><td>120</td><td>80</td><td>22.9</td></tr>\n",
       "\t<tr><th scope=row>Vermont</th><td> 2.2</td><td> 48</td><td>32</td><td>11.2</td></tr>\n",
       "\t<tr><th scope=row>Virginia</th><td> 8.5</td><td>156</td><td>63</td><td>20.7</td></tr>\n",
       "\t<tr><th scope=row>Washington</th><td> 4.0</td><td>145</td><td>73</td><td>26.2</td></tr>\n",
       "\t<tr><th scope=row>West Virginia</th><td> 5.7</td><td> 81</td><td>39</td><td> 9.3</td></tr>\n",
       "\t<tr><th scope=row>Wisconsin</th><td> 2.6</td><td> 53</td><td>66</td><td>10.8</td></tr>\n",
       "\t<tr><th scope=row>Wyoming</th><td> 6.8</td><td>161</td><td>60</td><td>15.6</td></tr>\n",
       "</tbody>\n",
       "</table>\n"
      ],
      "text/latex": [
       "A data.frame: 50 × 4\n",
       "\\begin{tabular}{r|llll}\n",
       "  & Murder & Assault & UrbanPop & Rape\\\\\n",
       "  & <dbl> & <dbl> & <dbl> & <dbl>\\\\\n",
       "\\hline\n",
       "\tAlabama & 13.2 & 236 & 58 & 21.2\\\\\n",
       "\tAlaska & 10.0 & 263 & 48 & 44.5\\\\\n",
       "\tArizona &  8.1 & 294 & 80 & 31.0\\\\\n",
       "\tArkansas &  8.8 & 190 & 50 & 19.5\\\\\n",
       "\tCalifornia &  9.0 & 276 & 91 & 40.6\\\\\n",
       "\tColorado &  7.9 & 204 & 78 & 38.7\\\\\n",
       "\tConnecticut &  3.3 & 110 & 77 & 11.1\\\\\n",
       "\tDelaware &  5.9 & 238 & 72 & 15.8\\\\\n",
       "\tFlorida & 15.4 & 335 & 80 & 31.9\\\\\n",
       "\tGeorgia & 17.4 & 211 & 60 & 25.8\\\\\n",
       "\tHawaii &  5.3 &  46 & 83 & 20.2\\\\\n",
       "\tIdaho &  2.6 & 120 & 54 & 14.2\\\\\n",
       "\tIllinois & 10.4 & 249 & 83 & 24.0\\\\\n",
       "\tIndiana &  7.2 & 113 & 65 & 21.0\\\\\n",
       "\tIowa &  2.2 &  56 & 57 & 11.3\\\\\n",
       "\tKansas &  6.0 & 115 & 66 & 18.0\\\\\n",
       "\tKentucky &  9.7 & 109 & 52 & 16.3\\\\\n",
       "\tLouisiana & 15.4 & 249 & 66 & 22.2\\\\\n",
       "\tMaine &  2.1 &  83 & 51 &  7.8\\\\\n",
       "\tMaryland & 11.3 & 300 & 67 & 27.8\\\\\n",
       "\tMassachusetts &  4.4 & 149 & 85 & 16.3\\\\\n",
       "\tMichigan & 12.1 & 255 & 74 & 35.1\\\\\n",
       "\tMinnesota &  2.7 &  72 & 66 & 14.9\\\\\n",
       "\tMississippi & 16.1 & 259 & 44 & 17.1\\\\\n",
       "\tMissouri &  9.0 & 178 & 70 & 28.2\\\\\n",
       "\tMontana &  6.0 & 109 & 53 & 16.4\\\\\n",
       "\tNebraska &  4.3 & 102 & 62 & 16.5\\\\\n",
       "\tNevada & 12.2 & 252 & 81 & 46.0\\\\\n",
       "\tNew Hampshire &  2.1 &  57 & 56 &  9.5\\\\\n",
       "\tNew Jersey &  7.4 & 159 & 89 & 18.8\\\\\n",
       "\tNew Mexico & 11.4 & 285 & 70 & 32.1\\\\\n",
       "\tNew York & 11.1 & 254 & 86 & 26.1\\\\\n",
       "\tNorth Carolina & 13.0 & 337 & 45 & 16.1\\\\\n",
       "\tNorth Dakota &  0.8 &  45 & 44 &  7.3\\\\\n",
       "\tOhio &  7.3 & 120 & 75 & 21.4\\\\\n",
       "\tOklahoma &  6.6 & 151 & 68 & 20.0\\\\\n",
       "\tOregon &  4.9 & 159 & 67 & 29.3\\\\\n",
       "\tPennsylvania &  6.3 & 106 & 72 & 14.9\\\\\n",
       "\tRhode Island &  3.4 & 174 & 87 &  8.3\\\\\n",
       "\tSouth Carolina & 14.4 & 279 & 48 & 22.5\\\\\n",
       "\tSouth Dakota &  3.8 &  86 & 45 & 12.8\\\\\n",
       "\tTennessee & 13.2 & 188 & 59 & 26.9\\\\\n",
       "\tTexas & 12.7 & 201 & 80 & 25.5\\\\\n",
       "\tUtah &  3.2 & 120 & 80 & 22.9\\\\\n",
       "\tVermont &  2.2 &  48 & 32 & 11.2\\\\\n",
       "\tVirginia &  8.5 & 156 & 63 & 20.7\\\\\n",
       "\tWashington &  4.0 & 145 & 73 & 26.2\\\\\n",
       "\tWest Virginia &  5.7 &  81 & 39 &  9.3\\\\\n",
       "\tWisconsin &  2.6 &  53 & 66 & 10.8\\\\\n",
       "\tWyoming &  6.8 & 161 & 60 & 15.6\\\\\n",
       "\\end{tabular}\n"
      ],
      "text/markdown": [
       "\n",
       "A data.frame: 50 × 4\n",
       "\n",
       "| <!--/--> | Murder &lt;dbl&gt; | Assault &lt;dbl&gt; | UrbanPop &lt;dbl&gt; | Rape &lt;dbl&gt; |\n",
       "|---|---|---|---|---|\n",
       "| Alabama | 13.2 | 236 | 58 | 21.2 |\n",
       "| Alaska | 10.0 | 263 | 48 | 44.5 |\n",
       "| Arizona |  8.1 | 294 | 80 | 31.0 |\n",
       "| Arkansas |  8.8 | 190 | 50 | 19.5 |\n",
       "| California |  9.0 | 276 | 91 | 40.6 |\n",
       "| Colorado |  7.9 | 204 | 78 | 38.7 |\n",
       "| Connecticut |  3.3 | 110 | 77 | 11.1 |\n",
       "| Delaware |  5.9 | 238 | 72 | 15.8 |\n",
       "| Florida | 15.4 | 335 | 80 | 31.9 |\n",
       "| Georgia | 17.4 | 211 | 60 | 25.8 |\n",
       "| Hawaii |  5.3 |  46 | 83 | 20.2 |\n",
       "| Idaho |  2.6 | 120 | 54 | 14.2 |\n",
       "| Illinois | 10.4 | 249 | 83 | 24.0 |\n",
       "| Indiana |  7.2 | 113 | 65 | 21.0 |\n",
       "| Iowa |  2.2 |  56 | 57 | 11.3 |\n",
       "| Kansas |  6.0 | 115 | 66 | 18.0 |\n",
       "| Kentucky |  9.7 | 109 | 52 | 16.3 |\n",
       "| Louisiana | 15.4 | 249 | 66 | 22.2 |\n",
       "| Maine |  2.1 |  83 | 51 |  7.8 |\n",
       "| Maryland | 11.3 | 300 | 67 | 27.8 |\n",
       "| Massachusetts |  4.4 | 149 | 85 | 16.3 |\n",
       "| Michigan | 12.1 | 255 | 74 | 35.1 |\n",
       "| Minnesota |  2.7 |  72 | 66 | 14.9 |\n",
       "| Mississippi | 16.1 | 259 | 44 | 17.1 |\n",
       "| Missouri |  9.0 | 178 | 70 | 28.2 |\n",
       "| Montana |  6.0 | 109 | 53 | 16.4 |\n",
       "| Nebraska |  4.3 | 102 | 62 | 16.5 |\n",
       "| Nevada | 12.2 | 252 | 81 | 46.0 |\n",
       "| New Hampshire |  2.1 |  57 | 56 |  9.5 |\n",
       "| New Jersey |  7.4 | 159 | 89 | 18.8 |\n",
       "| New Mexico | 11.4 | 285 | 70 | 32.1 |\n",
       "| New York | 11.1 | 254 | 86 | 26.1 |\n",
       "| North Carolina | 13.0 | 337 | 45 | 16.1 |\n",
       "| North Dakota |  0.8 |  45 | 44 |  7.3 |\n",
       "| Ohio |  7.3 | 120 | 75 | 21.4 |\n",
       "| Oklahoma |  6.6 | 151 | 68 | 20.0 |\n",
       "| Oregon |  4.9 | 159 | 67 | 29.3 |\n",
       "| Pennsylvania |  6.3 | 106 | 72 | 14.9 |\n",
       "| Rhode Island |  3.4 | 174 | 87 |  8.3 |\n",
       "| South Carolina | 14.4 | 279 | 48 | 22.5 |\n",
       "| South Dakota |  3.8 |  86 | 45 | 12.8 |\n",
       "| Tennessee | 13.2 | 188 | 59 | 26.9 |\n",
       "| Texas | 12.7 | 201 | 80 | 25.5 |\n",
       "| Utah |  3.2 | 120 | 80 | 22.9 |\n",
       "| Vermont |  2.2 |  48 | 32 | 11.2 |\n",
       "| Virginia |  8.5 | 156 | 63 | 20.7 |\n",
       "| Washington |  4.0 | 145 | 73 | 26.2 |\n",
       "| West Virginia |  5.7 |  81 | 39 |  9.3 |\n",
       "| Wisconsin |  2.6 |  53 | 66 | 10.8 |\n",
       "| Wyoming |  6.8 | 161 | 60 | 15.6 |\n",
       "\n"
      ],
      "text/plain": [
       "               Murder Assault UrbanPop Rape\n",
       "Alabama        13.2   236     58       21.2\n",
       "Alaska         10.0   263     48       44.5\n",
       "Arizona         8.1   294     80       31.0\n",
       "Arkansas        8.8   190     50       19.5\n",
       "California      9.0   276     91       40.6\n",
       "Colorado        7.9   204     78       38.7\n",
       "Connecticut     3.3   110     77       11.1\n",
       "Delaware        5.9   238     72       15.8\n",
       "Florida        15.4   335     80       31.9\n",
       "Georgia        17.4   211     60       25.8\n",
       "Hawaii          5.3    46     83       20.2\n",
       "Idaho           2.6   120     54       14.2\n",
       "Illinois       10.4   249     83       24.0\n",
       "Indiana         7.2   113     65       21.0\n",
       "Iowa            2.2    56     57       11.3\n",
       "Kansas          6.0   115     66       18.0\n",
       "Kentucky        9.7   109     52       16.3\n",
       "Louisiana      15.4   249     66       22.2\n",
       "Maine           2.1    83     51        7.8\n",
       "Maryland       11.3   300     67       27.8\n",
       "Massachusetts   4.4   149     85       16.3\n",
       "Michigan       12.1   255     74       35.1\n",
       "Minnesota       2.7    72     66       14.9\n",
       "Mississippi    16.1   259     44       17.1\n",
       "Missouri        9.0   178     70       28.2\n",
       "Montana         6.0   109     53       16.4\n",
       "Nebraska        4.3   102     62       16.5\n",
       "Nevada         12.2   252     81       46.0\n",
       "New Hampshire   2.1    57     56        9.5\n",
       "New Jersey      7.4   159     89       18.8\n",
       "New Mexico     11.4   285     70       32.1\n",
       "New York       11.1   254     86       26.1\n",
       "North Carolina 13.0   337     45       16.1\n",
       "North Dakota    0.8    45     44        7.3\n",
       "Ohio            7.3   120     75       21.4\n",
       "Oklahoma        6.6   151     68       20.0\n",
       "Oregon          4.9   159     67       29.3\n",
       "Pennsylvania    6.3   106     72       14.9\n",
       "Rhode Island    3.4   174     87        8.3\n",
       "South Carolina 14.4   279     48       22.5\n",
       "South Dakota    3.8    86     45       12.8\n",
       "Tennessee      13.2   188     59       26.9\n",
       "Texas          12.7   201     80       25.5\n",
       "Utah            3.2   120     80       22.9\n",
       "Vermont         2.2    48     32       11.2\n",
       "Virginia        8.5   156     63       20.7\n",
       "Washington      4.0   145     73       26.2\n",
       "West Virginia   5.7    81     39        9.3\n",
       "Wisconsin       2.6    53     66       10.8\n",
       "Wyoming         6.8   161     60       15.6"
      ]
     },
     "metadata": {},
     "output_type": "display_data"
    }
   ],
   "source": [
    "crime"
   ]
  },
  {
   "cell_type": "markdown",
   "metadata": {},
   "source": [
    "데이터를 불러온다."
   ]
  },
  {
   "cell_type": "code",
   "execution_count": 35,
   "metadata": {
    "ExecuteTime": {
     "end_time": "2020-09-26T07:12:18.370863Z",
     "start_time": "2020-09-26T07:12:14.908Z"
    }
   },
   "outputs": [],
   "source": [
    "crime.pca = princomp(crime, cor = T, scores = T)"
   ]
  },
  {
   "cell_type": "code",
   "execution_count": 36,
   "metadata": {
    "ExecuteTime": {
     "end_time": "2020-09-26T07:12:18.404409Z",
     "start_time": "2020-09-26T07:12:14.914Z"
    }
   },
   "outputs": [
    {
     "data": {
      "text/plain": [
       "Importance of components:\n",
       "                          Comp.1    Comp.2    Comp.3     Comp.4\n",
       "Standard deviation     1.5748783 0.9948694 0.5971291 0.41644938\n",
       "Proportion of Variance 0.6200604 0.2474413 0.0891408 0.04335752\n",
       "Cumulative Proportion  0.6200604 0.8675017 0.9566425 1.00000000"
      ]
     },
     "metadata": {},
     "output_type": "display_data"
    }
   ],
   "source": [
    "summary(crime.pca)"
   ]
  },
  {
   "cell_type": "markdown",
   "metadata": {},
   "source": [
    "누적정보량이 80%가 되는 것은 2개이다."
   ]
  },
  {
   "cell_type": "code",
   "execution_count": 37,
   "metadata": {
    "ExecuteTime": {
     "end_time": "2020-09-26T07:12:18.439211Z",
     "start_time": "2020-09-26T07:12:14.919Z"
    }
   },
   "outputs": [
    {
     "data": {
      "text/html": [
       "1"
      ],
      "text/latex": [
       "1"
      ],
      "text/markdown": [
       "1"
      ],
      "text/plain": [
       "[1] 1"
      ]
     },
     "metadata": {},
     "output_type": "display_data"
    }
   ],
   "source": [
    "sum(crime.pca$sdev^2 > 1)"
   ]
  },
  {
   "cell_type": "markdown",
   "metadata": {},
   "source": [
    "고유값이 1이 넘는 것은 1개이다."
   ]
  },
  {
   "cell_type": "code",
   "execution_count": 38,
   "metadata": {
    "ExecuteTime": {
     "end_time": "2020-09-26T07:12:18.529919Z",
     "start_time": "2020-09-26T07:12:14.928Z"
    }
   },
   "outputs": [
    {
     "data": {
      "image/png": "[encoded data removed]",
      "text/plain": [
       "Plot with title “Scree Plot”"
      ]
     },
     "metadata": {
      "image/png": {
       "height": 420,
       "width": 420
      }
     },
     "output_type": "display_data"
    }
   ],
   "source": [
    "screeplot(crime.pca, type = \"lines\", main = \"Scree Plot\")"
   ]
  },
  {
   "cell_type": "markdown",
   "metadata": {},
   "source": [
    "급격한 하강을 보이는 것은 2까지이다."
   ]
  },
  {
   "cell_type": "markdown",
   "metadata": {},
   "source": [
    "위의 주어진 조건을 종합해보았을 때 누적정보량이 86%가 되고 고유값도 1을 넘지는 않지만 1에 가까운 2개까지가 적당해 보인다."
   ]
  },
  {
   "cell_type": "code",
   "execution_count": 39,
   "metadata": {
    "ExecuteTime": {
     "end_time": "2020-09-26T07:12:18.565169Z",
     "start_time": "2020-09-26T07:12:14.935Z"
    }
   },
   "outputs": [
    {
     "data": {
      "text/html": [
       "<table>\n",
       "<caption>A matrix: 4 × 2 of type dbl</caption>\n",
       "<thead>\n",
       "\t<tr><th></th><th scope=col>Comp.1</th><th scope=col>Comp.2</th></tr>\n",
       "</thead>\n",
       "<tbody>\n",
       "\t<tr><th scope=row>Murder</th><td>0.54</td><td> 0.42</td></tr>\n",
       "\t<tr><th scope=row>Assault</th><td>0.58</td><td> 0.19</td></tr>\n",
       "\t<tr><th scope=row>UrbanPop</th><td>0.28</td><td>-0.87</td></tr>\n",
       "\t<tr><th scope=row>Rape</th><td>0.54</td><td>-0.17</td></tr>\n",
       "</tbody>\n",
       "</table>\n"
      ],
      "text/latex": [
       "A matrix: 4 × 2 of type dbl\n",
       "\\begin{tabular}{r|ll}\n",
       "  & Comp.1 & Comp.2\\\\\n",
       "\\hline\n",
       "\tMurder & 0.54 &  0.42\\\\\n",
       "\tAssault & 0.58 &  0.19\\\\\n",
       "\tUrbanPop & 0.28 & -0.87\\\\\n",
       "\tRape & 0.54 & -0.17\\\\\n",
       "\\end{tabular}\n"
      ],
      "text/markdown": [
       "\n",
       "A matrix: 4 × 2 of type dbl\n",
       "\n",
       "| <!--/--> | Comp.1 | Comp.2 |\n",
       "|---|---|---|\n",
       "| Murder | 0.54 |  0.42 |\n",
       "| Assault | 0.58 |  0.19 |\n",
       "| UrbanPop | 0.28 | -0.87 |\n",
       "| Rape | 0.54 | -0.17 |\n",
       "\n"
      ],
      "text/plain": [
       "         Comp.1 Comp.2\n",
       "Murder   0.54    0.42 \n",
       "Assault  0.58    0.19 \n",
       "UrbanPop 0.28   -0.87 \n",
       "Rape     0.54   -0.17 "
      ]
     },
     "metadata": {},
     "output_type": "display_data"
    }
   ],
   "source": [
    "round(crime.pca$loadings[,1:2], 2)"
   ]
  },
  {
   "cell_type": "markdown",
   "metadata": {},
   "source": [
    "고유벡터 즉, 주성분의 계수는 위와 같다. <br>\n",
    "pc1 = 0.54X1 + 0.58X2 + 0.28X3 + 0.54X4<br>\n",
    "pc2 = 0.42X1 + 0.19X2 - 0.87X3 - 0.17X4"
   ]
  },
  {
   "cell_type": "code",
   "execution_count": 40,
   "metadata": {
    "ExecuteTime": {
     "end_time": "2020-09-26T07:12:18.639758Z",
     "start_time": "2020-09-26T07:12:14.943Z"
    }
   },
   "outputs": [
    {
     "data": {
      "text/html": [
       "<table>\n",
       "<caption>A matrix: 50 × 2 of type dbl</caption>\n",
       "<thead>\n",
       "\t<tr><th></th><th scope=col>Comp.1</th><th scope=col>Comp.2</th></tr>\n",
       "</thead>\n",
       "<tbody>\n",
       "\t<tr><th scope=row>Alabama</th><td> 0.99</td><td> 1.13</td></tr>\n",
       "\t<tr><th scope=row>Alaska</th><td> 1.95</td><td> 1.07</td></tr>\n",
       "\t<tr><th scope=row>Arizona</th><td> 1.76</td><td>-0.75</td></tr>\n",
       "\t<tr><th scope=row>Arkansas</th><td>-0.14</td><td> 1.12</td></tr>\n",
       "\t<tr><th scope=row>California</th><td> 2.52</td><td>-1.54</td></tr>\n",
       "\t<tr><th scope=row>Colorado</th><td> 1.51</td><td>-0.99</td></tr>\n",
       "\t<tr><th scope=row>Connecticut</th><td>-1.36</td><td>-1.09</td></tr>\n",
       "\t<tr><th scope=row>Delaware</th><td> 0.05</td><td>-0.33</td></tr>\n",
       "\t<tr><th scope=row>Florida</th><td> 3.01</td><td> 0.04</td></tr>\n",
       "\t<tr><th scope=row>Georgia</th><td> 1.64</td><td> 1.28</td></tr>\n",
       "\t<tr><th scope=row>Hawaii</th><td>-0.91</td><td>-1.57</td></tr>\n",
       "\t<tr><th scope=row>Idaho</th><td>-1.64</td><td> 0.21</td></tr>\n",
       "\t<tr><th scope=row>Illinois</th><td> 1.38</td><td>-0.68</td></tr>\n",
       "\t<tr><th scope=row>Indiana</th><td>-0.51</td><td>-0.15</td></tr>\n",
       "\t<tr><th scope=row>Iowa</th><td>-2.25</td><td>-0.10</td></tr>\n",
       "\t<tr><th scope=row>Kansas</th><td>-0.80</td><td>-0.27</td></tr>\n",
       "\t<tr><th scope=row>Kentucky</th><td>-0.75</td><td> 0.96</td></tr>\n",
       "\t<tr><th scope=row>Louisiana</th><td> 1.56</td><td> 0.87</td></tr>\n",
       "\t<tr><th scope=row>Maine</th><td>-2.40</td><td> 0.38</td></tr>\n",
       "\t<tr><th scope=row>Maryland</th><td> 1.76</td><td> 0.43</td></tr>\n",
       "\t<tr><th scope=row>Massachusetts</th><td>-0.49</td><td>-1.47</td></tr>\n",
       "\t<tr><th scope=row>Michigan</th><td> 2.11</td><td>-0.16</td></tr>\n",
       "\t<tr><th scope=row>Minnesota</th><td>-1.69</td><td>-0.63</td></tr>\n",
       "\t<tr><th scope=row>Mississippi</th><td> 1.00</td><td> 2.39</td></tr>\n",
       "\t<tr><th scope=row>Missouri</th><td> 0.70</td><td>-0.26</td></tr>\n",
       "\t<tr><th scope=row>Montana</th><td>-1.19</td><td> 0.54</td></tr>\n",
       "\t<tr><th scope=row>Nebraska</th><td>-1.27</td><td>-0.19</td></tr>\n",
       "\t<tr><th scope=row>Nevada</th><td> 2.87</td><td>-0.78</td></tr>\n",
       "\t<tr><th scope=row>New Hampshire</th><td>-2.38</td><td>-0.02</td></tr>\n",
       "\t<tr><th scope=row>New Jersey</th><td> 0.18</td><td>-1.45</td></tr>\n",
       "\t<tr><th scope=row>New Mexico</th><td> 1.98</td><td> 0.14</td></tr>\n",
       "\t<tr><th scope=row>New York</th><td> 1.68</td><td>-0.82</td></tr>\n",
       "\t<tr><th scope=row>North Carolina</th><td> 1.12</td><td> 2.23</td></tr>\n",
       "\t<tr><th scope=row>North Dakota</th><td>-2.99</td><td> 0.60</td></tr>\n",
       "\t<tr><th scope=row>Ohio</th><td>-0.23</td><td>-0.74</td></tr>\n",
       "\t<tr><th scope=row>Oklahoma</th><td>-0.31</td><td>-0.29</td></tr>\n",
       "\t<tr><th scope=row>Oregon</th><td> 0.06</td><td>-0.54</td></tr>\n",
       "\t<tr><th scope=row>Pennsylvania</th><td>-0.89</td><td>-0.57</td></tr>\n",
       "\t<tr><th scope=row>Rhode Island</th><td>-0.86</td><td>-1.49</td></tr>\n",
       "\t<tr><th scope=row>South Carolina</th><td> 1.32</td><td> 1.93</td></tr>\n",
       "\t<tr><th scope=row>South Dakota</th><td>-1.99</td><td> 0.82</td></tr>\n",
       "\t<tr><th scope=row>Tennessee</th><td> 1.00</td><td> 0.86</td></tr>\n",
       "\t<tr><th scope=row>Texas</th><td> 1.36</td><td>-0.41</td></tr>\n",
       "\t<tr><th scope=row>Utah</th><td>-0.55</td><td>-1.47</td></tr>\n",
       "\t<tr><th scope=row>Vermont</th><td>-2.80</td><td> 1.40</td></tr>\n",
       "\t<tr><th scope=row>Virginia</th><td>-0.10</td><td> 0.20</td></tr>\n",
       "\t<tr><th scope=row>Washington</th><td>-0.22</td><td>-0.97</td></tr>\n",
       "\t<tr><th scope=row>West Virginia</th><td>-2.11</td><td> 1.42</td></tr>\n",
       "\t<tr><th scope=row>Wisconsin</th><td>-2.08</td><td>-0.61</td></tr>\n",
       "\t<tr><th scope=row>Wyoming</th><td>-0.63</td><td> 0.32</td></tr>\n",
       "</tbody>\n",
       "</table>\n"
      ],
      "text/latex": [
       "A matrix: 50 × 2 of type dbl\n",
       "\\begin{tabular}{r|ll}\n",
       "  & Comp.1 & Comp.2\\\\\n",
       "\\hline\n",
       "\tAlabama &  0.99 &  1.13\\\\\n",
       "\tAlaska &  1.95 &  1.07\\\\\n",
       "\tArizona &  1.76 & -0.75\\\\\n",
       "\tArkansas & -0.14 &  1.12\\\\\n",
       "\tCalifornia &  2.52 & -1.54\\\\\n",
       "\tColorado &  1.51 & -0.99\\\\\n",
       "\tConnecticut & -1.36 & -1.09\\\\\n",
       "\tDelaware &  0.05 & -0.33\\\\\n",
       "\tFlorida &  3.01 &  0.04\\\\\n",
       "\tGeorgia &  1.64 &  1.28\\\\\n",
       "\tHawaii & -0.91 & -1.57\\\\\n",
       "\tIdaho & -1.64 &  0.21\\\\\n",
       "\tIllinois &  1.38 & -0.68\\\\\n",
       "\tIndiana & -0.51 & -0.15\\\\\n",
       "\tIowa & -2.25 & -0.10\\\\\n",
       "\tKansas & -0.80 & -0.27\\\\\n",
       "\tKentucky & -0.75 &  0.96\\\\\n",
       "\tLouisiana &  1.56 &  0.87\\\\\n",
       "\tMaine & -2.40 &  0.38\\\\\n",
       "\tMaryland &  1.76 &  0.43\\\\\n",
       "\tMassachusetts & -0.49 & -1.47\\\\\n",
       "\tMichigan &  2.11 & -0.16\\\\\n",
       "\tMinnesota & -1.69 & -0.63\\\\\n",
       "\tMississippi &  1.00 &  2.39\\\\\n",
       "\tMissouri &  0.70 & -0.26\\\\\n",
       "\tMontana & -1.19 &  0.54\\\\\n",
       "\tNebraska & -1.27 & -0.19\\\\\n",
       "\tNevada &  2.87 & -0.78\\\\\n",
       "\tNew Hampshire & -2.38 & -0.02\\\\\n",
       "\tNew Jersey &  0.18 & -1.45\\\\\n",
       "\tNew Mexico &  1.98 &  0.14\\\\\n",
       "\tNew York &  1.68 & -0.82\\\\\n",
       "\tNorth Carolina &  1.12 &  2.23\\\\\n",
       "\tNorth Dakota & -2.99 &  0.60\\\\\n",
       "\tOhio & -0.23 & -0.74\\\\\n",
       "\tOklahoma & -0.31 & -0.29\\\\\n",
       "\tOregon &  0.06 & -0.54\\\\\n",
       "\tPennsylvania & -0.89 & -0.57\\\\\n",
       "\tRhode Island & -0.86 & -1.49\\\\\n",
       "\tSouth Carolina &  1.32 &  1.93\\\\\n",
       "\tSouth Dakota & -1.99 &  0.82\\\\\n",
       "\tTennessee &  1.00 &  0.86\\\\\n",
       "\tTexas &  1.36 & -0.41\\\\\n",
       "\tUtah & -0.55 & -1.47\\\\\n",
       "\tVermont & -2.80 &  1.40\\\\\n",
       "\tVirginia & -0.10 &  0.20\\\\\n",
       "\tWashington & -0.22 & -0.97\\\\\n",
       "\tWest Virginia & -2.11 &  1.42\\\\\n",
       "\tWisconsin & -2.08 & -0.61\\\\\n",
       "\tWyoming & -0.63 &  0.32\\\\\n",
       "\\end{tabular}\n"
      ],
      "text/markdown": [
       "\n",
       "A matrix: 50 × 2 of type dbl\n",
       "\n",
       "| <!--/--> | Comp.1 | Comp.2 |\n",
       "|---|---|---|\n",
       "| Alabama |  0.99 |  1.13 |\n",
       "| Alaska |  1.95 |  1.07 |\n",
       "| Arizona |  1.76 | -0.75 |\n",
       "| Arkansas | -0.14 |  1.12 |\n",
       "| California |  2.52 | -1.54 |\n",
       "| Colorado |  1.51 | -0.99 |\n",
       "| Connecticut | -1.36 | -1.09 |\n",
       "| Delaware |  0.05 | -0.33 |\n",
       "| Florida |  3.01 |  0.04 |\n",
       "| Georgia |  1.64 |  1.28 |\n",
       "| Hawaii | -0.91 | -1.57 |\n",
       "| Idaho | -1.64 |  0.21 |\n",
       "| Illinois |  1.38 | -0.68 |\n",
       "| Indiana | -0.51 | -0.15 |\n",
       "| Iowa | -2.25 | -0.10 |\n",
       "| Kansas | -0.80 | -0.27 |\n",
       "| Kentucky | -0.75 |  0.96 |\n",
       "| Louisiana |  1.56 |  0.87 |\n",
       "| Maine | -2.40 |  0.38 |\n",
       "| Maryland |  1.76 |  0.43 |\n",
       "| Massachusetts | -0.49 | -1.47 |\n",
       "| Michigan |  2.11 | -0.16 |\n",
       "| Minnesota | -1.69 | -0.63 |\n",
       "| Mississippi |  1.00 |  2.39 |\n",
       "| Missouri |  0.70 | -0.26 |\n",
       "| Montana | -1.19 |  0.54 |\n",
       "| Nebraska | -1.27 | -0.19 |\n",
       "| Nevada |  2.87 | -0.78 |\n",
       "| New Hampshire | -2.38 | -0.02 |\n",
       "| New Jersey |  0.18 | -1.45 |\n",
       "| New Mexico |  1.98 |  0.14 |\n",
       "| New York |  1.68 | -0.82 |\n",
       "| North Carolina |  1.12 |  2.23 |\n",
       "| North Dakota | -2.99 |  0.60 |\n",
       "| Ohio | -0.23 | -0.74 |\n",
       "| Oklahoma | -0.31 | -0.29 |\n",
       "| Oregon |  0.06 | -0.54 |\n",
       "| Pennsylvania | -0.89 | -0.57 |\n",
       "| Rhode Island | -0.86 | -1.49 |\n",
       "| South Carolina |  1.32 |  1.93 |\n",
       "| South Dakota | -1.99 |  0.82 |\n",
       "| Tennessee |  1.00 |  0.86 |\n",
       "| Texas |  1.36 | -0.41 |\n",
       "| Utah | -0.55 | -1.47 |\n",
       "| Vermont | -2.80 |  1.40 |\n",
       "| Virginia | -0.10 |  0.20 |\n",
       "| Washington | -0.22 | -0.97 |\n",
       "| West Virginia | -2.11 |  1.42 |\n",
       "| Wisconsin | -2.08 | -0.61 |\n",
       "| Wyoming | -0.63 |  0.32 |\n",
       "\n"
      ],
      "text/plain": [
       "               Comp.1 Comp.2\n",
       "Alabama         0.99   1.13 \n",
       "Alaska          1.95   1.07 \n",
       "Arizona         1.76  -0.75 \n",
       "Arkansas       -0.14   1.12 \n",
       "California      2.52  -1.54 \n",
       "Colorado        1.51  -0.99 \n",
       "Connecticut    -1.36  -1.09 \n",
       "Delaware        0.05  -0.33 \n",
       "Florida         3.01   0.04 \n",
       "Georgia         1.64   1.28 \n",
       "Hawaii         -0.91  -1.57 \n",
       "Idaho          -1.64   0.21 \n",
       "Illinois        1.38  -0.68 \n",
       "Indiana        -0.51  -0.15 \n",
       "Iowa           -2.25  -0.10 \n",
       "Kansas         -0.80  -0.27 \n",
       "Kentucky       -0.75   0.96 \n",
       "Louisiana       1.56   0.87 \n",
       "Maine          -2.40   0.38 \n",
       "Maryland        1.76   0.43 \n",
       "Massachusetts  -0.49  -1.47 \n",
       "Michigan        2.11  -0.16 \n",
       "Minnesota      -1.69  -0.63 \n",
       "Mississippi     1.00   2.39 \n",
       "Missouri        0.70  -0.26 \n",
       "Montana        -1.19   0.54 \n",
       "Nebraska       -1.27  -0.19 \n",
       "Nevada          2.87  -0.78 \n",
       "New Hampshire  -2.38  -0.02 \n",
       "New Jersey      0.18  -1.45 \n",
       "New Mexico      1.98   0.14 \n",
       "New York        1.68  -0.82 \n",
       "North Carolina  1.12   2.23 \n",
       "North Dakota   -2.99   0.60 \n",
       "Ohio           -0.23  -0.74 \n",
       "Oklahoma       -0.31  -0.29 \n",
       "Oregon          0.06  -0.54 \n",
       "Pennsylvania   -0.89  -0.57 \n",
       "Rhode Island   -0.86  -1.49 \n",
       "South Carolina  1.32   1.93 \n",
       "South Dakota   -1.99   0.82 \n",
       "Tennessee       1.00   0.86 \n",
       "Texas           1.36  -0.41 \n",
       "Utah           -0.55  -1.47 \n",
       "Vermont        -2.80   1.40 \n",
       "Virginia       -0.10   0.20 \n",
       "Washington     -0.22  -0.97 \n",
       "West Virginia  -2.11   1.42 \n",
       "Wisconsin      -2.08  -0.61 \n",
       "Wyoming        -0.63   0.32 "
      ]
     },
     "metadata": {},
     "output_type": "display_data"
    }
   ],
   "source": [
    "round(crime.pca$scores[, 1:2], 2)"
   ]
  },
  {
   "cell_type": "markdown",
   "metadata": {},
   "source": [
    "주성분의 값은 위와 같다."
   ]
  },
  {
   "cell_type": "code",
   "execution_count": 41,
   "metadata": {
    "ExecuteTime": {
     "end_time": "2020-09-26T07:12:18.785399Z",
     "start_time": "2020-09-26T07:12:14.950Z"
    }
   },
   "outputs": [
    {
     "data": {
      "image/png": "[encoded data removed]",
      "text/plain": [
       "Plot with title “Biplot”"
      ]
     },
     "metadata": {
      "image/png": {
       "height": 420,
       "width": 420
      }
     },
     "output_type": "display_data"
    }
   ],
   "source": [
    "biplot(crime.pca, col = c(\"red\", \"blue\"), main = \"Biplot\")"
   ]
  },
  {
   "cell_type": "markdown",
   "metadata": {},
   "source": [
    "세 사고 건수는 벡터의 방향이 비슷하다. <br>\n",
    "즉 이 변수들의 상관성이 높다. 또한 이들은 주성분 2에 대한 영향이 적으며 주성분 1에 영향이 크다. <br>\n",
    "반면에 도시인구 비율은 이들과 방향이 다르며 주성분 1에 대한 영향이 적고 주성분에 2에 음적인 영향을 많이 준다.<br>"
   ]
  },
  {
   "cell_type": "markdown",
   "metadata": {},
   "source": [
    "# 연습문제 2.5"
   ]
  },
  {
   "cell_type": "code",
   "execution_count": 42,
   "metadata": {
    "ExecuteTime": {
     "end_time": "2020-09-26T07:12:18.827188Z",
     "start_time": "2020-09-26T07:12:14.958Z"
    }
   },
   "outputs": [
    {
     "data": {
      "text/html": [
       "<table>\n",
       "<caption>A matrix: 5 × 5 of type dbl</caption>\n",
       "<thead>\n",
       "\t<tr><th></th><th scope=col>x1</th><th scope=col>x2</th><th scope=col>x3</th><th scope=col>x4</th><th scope=col>x5</th></tr>\n",
       "</thead>\n",
       "<tbody>\n",
       "\t<tr><th scope=row>x1</th><td>1.0000</td><td>0.9885</td><td>0.9929</td><td>0.9836</td><td>0.9958</td></tr>\n",
       "\t<tr><th scope=row>x2</th><td>0.9885</td><td>1.0000</td><td>0.9762</td><td>0.9619</td><td>0.9842</td></tr>\n",
       "\t<tr><th scope=row>x3</th><td>0.9929</td><td>0.9762</td><td>1.0000</td><td>0.9968</td><td>0.9969</td></tr>\n",
       "\t<tr><th scope=row>x4</th><td>0.9836</td><td>0.9619</td><td>0.9968</td><td>1.0000</td><td>0.9873</td></tr>\n",
       "\t<tr><th scope=row>x5</th><td>0.9958</td><td>0.9842</td><td>0.9969</td><td>0.9873</td><td>1.0000</td></tr>\n",
       "</tbody>\n",
       "</table>\n"
      ],
      "text/latex": [
       "A matrix: 5 × 5 of type dbl\n",
       "\\begin{tabular}{r|lllll}\n",
       "  & x1 & x2 & x3 & x4 & x5\\\\\n",
       "\\hline\n",
       "\tx1 & 1.0000 & 0.9885 & 0.9929 & 0.9836 & 0.9958\\\\\n",
       "\tx2 & 0.9885 & 1.0000 & 0.9762 & 0.9619 & 0.9842\\\\\n",
       "\tx3 & 0.9929 & 0.9762 & 1.0000 & 0.9968 & 0.9969\\\\\n",
       "\tx4 & 0.9836 & 0.9619 & 0.9968 & 1.0000 & 0.9873\\\\\n",
       "\tx5 & 0.9958 & 0.9842 & 0.9969 & 0.9873 & 1.0000\\\\\n",
       "\\end{tabular}\n"
      ],
      "text/markdown": [
       "\n",
       "A matrix: 5 × 5 of type dbl\n",
       "\n",
       "| <!--/--> | x1 | x2 | x3 | x4 | x5 |\n",
       "|---|---|---|---|---|---|\n",
       "| x1 | 1.0000 | 0.9885 | 0.9929 | 0.9836 | 0.9958 |\n",
       "| x2 | 0.9885 | 1.0000 | 0.9762 | 0.9619 | 0.9842 |\n",
       "| x3 | 0.9929 | 0.9762 | 1.0000 | 0.9968 | 0.9969 |\n",
       "| x4 | 0.9836 | 0.9619 | 0.9968 | 1.0000 | 0.9873 |\n",
       "| x5 | 0.9958 | 0.9842 | 0.9969 | 0.9873 | 1.0000 |\n",
       "\n"
      ],
      "text/plain": [
       "   x1     x2     x3     x4     x5    \n",
       "x1 1.0000 0.9885 0.9929 0.9836 0.9958\n",
       "x2 0.9885 1.0000 0.9762 0.9619 0.9842\n",
       "x3 0.9929 0.9762 1.0000 0.9968 0.9969\n",
       "x4 0.9836 0.9619 0.9968 1.0000 0.9873\n",
       "x5 0.9958 0.9842 0.9969 0.9873 1.0000"
      ]
     },
     "metadata": {},
     "output_type": "display_data"
    }
   ],
   "source": [
    "eco.data = read.csv(\"econo.csv\", header = T, row.names = 1)\n",
    "eco.cor = round(cor(eco.data[, 1:5]), 4)\n",
    "eco.cor"
   ]
  },
  {
   "cell_type": "markdown",
   "metadata": {},
   "source": [
    "##  (1)"
   ]
  },
  {
   "cell_type": "code",
   "execution_count": 43,
   "metadata": {
    "ExecuteTime": {
     "end_time": "2020-09-26T07:12:18.862048Z",
     "start_time": "2020-09-26T07:12:14.964Z"
    }
   },
   "outputs": [],
   "source": [
    "eigen = eigen(eco.cor)"
   ]
  },
  {
   "cell_type": "code",
   "execution_count": 44,
   "metadata": {
    "ExecuteTime": {
     "end_time": "2020-09-26T07:12:18.901258Z",
     "start_time": "2020-09-26T07:12:14.970Z"
    }
   },
   "outputs": [
    {
     "data": {
      "text/html": [
       "<ol class=list-inline>\n",
       "\t<li>4.9457</li>\n",
       "\t<li>0.0433</li>\n",
       "\t<li>0.007</li>\n",
       "\t<li>0.004</li>\n",
       "\t<li>0</li>\n",
       "</ol>\n"
      ],
      "text/latex": [
       "\\begin{enumerate*}\n",
       "\\item 4.9457\n",
       "\\item 0.0433\n",
       "\\item 0.007\n",
       "\\item 0.004\n",
       "\\item 0\n",
       "\\end{enumerate*}\n"
      ],
      "text/markdown": [
       "1. 4.9457\n",
       "2. 0.0433\n",
       "3. 0.007\n",
       "4. 0.004\n",
       "5. 0\n",
       "\n",
       "\n"
      ],
      "text/plain": [
       "[1] 4.9457 0.0433 0.0070 0.0040 0.0000"
      ]
     },
     "metadata": {},
     "output_type": "display_data"
    }
   ],
   "source": [
    "round(eigen$values, 4)"
   ]
  },
  {
   "cell_type": "markdown",
   "metadata": {},
   "source": [
    "고유값은 위와 같다. 주성분 1이 대부분을 차지한다."
   ]
  },
  {
   "cell_type": "code",
   "execution_count": 45,
   "metadata": {
    "ExecuteTime": {
     "end_time": "2020-09-26T07:12:18.942047Z",
     "start_time": "2020-09-26T07:12:14.975Z"
    }
   },
   "outputs": [
    {
     "data": {
      "text/html": [
       "<table>\n",
       "<caption>A matrix: 5 × 5 of type dbl</caption>\n",
       "<tbody>\n",
       "\t<tr><td>-0.4486</td><td> 0.1670</td><td> 0.4187</td><td> 0.7717</td><td> 0.0002</td></tr>\n",
       "\t<tr><td>-0.4440</td><td> 0.7280</td><td>-0.5023</td><td>-0.1431</td><td>-0.0016</td></tr>\n",
       "\t<tr><td>-0.4488</td><td>-0.2968</td><td> 0.0297</td><td>-0.2125</td><td>-0.8152</td></tr>\n",
       "\t<tr><td>-0.4458</td><td>-0.5950</td><td>-0.5115</td><td> 0.1471</td><td> 0.4051</td></tr>\n",
       "\t<tr><td>-0.4489</td><td> 0.0005</td><td> 0.5567</td><td>-0.5632</td><td> 0.4141</td></tr>\n",
       "</tbody>\n",
       "</table>\n"
      ],
      "text/latex": [
       "A matrix: 5 × 5 of type dbl\n",
       "\\begin{tabular}{lllll}\n",
       "\t -0.4486 &  0.1670 &  0.4187 &  0.7717 &  0.0002\\\\\n",
       "\t -0.4440 &  0.7280 & -0.5023 & -0.1431 & -0.0016\\\\\n",
       "\t -0.4488 & -0.2968 &  0.0297 & -0.2125 & -0.8152\\\\\n",
       "\t -0.4458 & -0.5950 & -0.5115 &  0.1471 &  0.4051\\\\\n",
       "\t -0.4489 &  0.0005 &  0.5567 & -0.5632 &  0.4141\\\\\n",
       "\\end{tabular}\n"
      ],
      "text/markdown": [
       "\n",
       "A matrix: 5 × 5 of type dbl\n",
       "\n",
       "| -0.4486 |  0.1670 |  0.4187 |  0.7717 |  0.0002 |\n",
       "| -0.4440 |  0.7280 | -0.5023 | -0.1431 | -0.0016 |\n",
       "| -0.4488 | -0.2968 |  0.0297 | -0.2125 | -0.8152 |\n",
       "| -0.4458 | -0.5950 | -0.5115 |  0.1471 |  0.4051 |\n",
       "| -0.4489 |  0.0005 |  0.5567 | -0.5632 |  0.4141 |\n",
       "\n"
      ],
      "text/plain": [
       "     [,1]    [,2]    [,3]    [,4]    [,5]   \n",
       "[1,] -0.4486  0.1670  0.4187  0.7717  0.0002\n",
       "[2,] -0.4440  0.7280 -0.5023 -0.1431 -0.0016\n",
       "[3,] -0.4488 -0.2968  0.0297 -0.2125 -0.8152\n",
       "[4,] -0.4458 -0.5950 -0.5115  0.1471  0.4051\n",
       "[5,] -0.4489  0.0005  0.5567 -0.5632  0.4141"
      ]
     },
     "metadata": {},
     "output_type": "display_data"
    }
   ],
   "source": [
    "round(eigen$vectors, 4)"
   ]
  },
  {
   "cell_type": "markdown",
   "metadata": {
    "ExecuteTime": {
     "end_time": "2020-09-26T06:28:22.646491Z",
     "start_time": "2020-09-26T06:28:22.623Z"
    }
   },
   "source": [
    "고유 벡터는 위와 같다."
   ]
  },
  {
   "cell_type": "markdown",
   "metadata": {},
   "source": [
    "## (2)"
   ]
  },
  {
   "cell_type": "code",
   "execution_count": 46,
   "metadata": {
    "ExecuteTime": {
     "end_time": "2020-09-26T07:12:19.056333Z",
     "start_time": "2020-09-26T07:12:14.984Z"
    }
   },
   "outputs": [
    {
     "name": "stderr",
     "output_type": "stream",
     "text": [
      "Warning message in plot.xy(xy, type, ...):\n",
      "“plot type 'lines' will be truncated to first character”\n"
     ]
    },
    {
     "data": {
      "image/png": "[encoded data removed]",
      "text/plain": [
       "Plot with title “Scree Plot”"
      ]
     },
     "metadata": {
      "image/png": {
       "height": 420,
       "width": 420
      }
     },
     "output_type": "display_data"
    }
   ],
   "source": [
    "plot(eigen$values, type = \"lines\", main = \"Scree Plot\")"
   ]
  },
  {
   "cell_type": "markdown",
   "metadata": {},
   "source": [
    "1에서 급격히 하강하고 완만해진다. <br>\n",
    "고유값의 크기도 매우 크고 전체에서 대부분을 차지하므로 주성분은 1개 필요하다. "
   ]
  },
  {
   "cell_type": "markdown",
   "metadata": {},
   "source": [
    "## (3)"
   ]
  },
  {
   "cell_type": "code",
   "execution_count": 47,
   "metadata": {
    "ExecuteTime": {
     "end_time": "2020-09-26T07:12:19.114928Z",
     "start_time": "2020-09-26T07:12:14.992Z"
    }
   },
   "outputs": [
    {
     "data": {
      "text/html": [
       "<ol class=list-inline>\n",
       "\t<li>-0.45</li>\n",
       "\t<li>-0.44</li>\n",
       "\t<li>-0.45</li>\n",
       "\t<li>-0.45</li>\n",
       "\t<li>-0.45</li>\n",
       "</ol>\n"
      ],
      "text/latex": [
       "\\begin{enumerate*}\n",
       "\\item -0.45\n",
       "\\item -0.44\n",
       "\\item -0.45\n",
       "\\item -0.45\n",
       "\\item -0.45\n",
       "\\end{enumerate*}\n"
      ],
      "text/markdown": [
       "1. -0.45\n",
       "2. -0.44\n",
       "3. -0.45\n",
       "4. -0.45\n",
       "5. -0.45\n",
       "\n",
       "\n"
      ],
      "text/plain": [
       "[1] -0.45 -0.44 -0.45 -0.45 -0.45"
      ]
     },
     "metadata": {},
     "output_type": "display_data"
    }
   ],
   "source": [
    "round(eigen$vectors[,1], 2)"
   ]
  },
  {
   "cell_type": "markdown",
   "metadata": {},
   "source": [
    "고유 벡터는 위와 같다. 이 5 x 1 벡터를 표준화된 데이터와 행렬곱 시켜서 주성분의 값을 구한다. <br>\n",
    "pc1 = - 0.45X1 - 0.44X2 - 0.45X3 - 0.45X4 - 0.45X5"
   ]
  },
  {
   "cell_type": "code",
   "execution_count": 48,
   "metadata": {
    "ExecuteTime": {
     "end_time": "2020-09-26T07:12:19.179815Z",
     "start_time": "2020-09-26T07:12:15.000Z"
    }
   },
   "outputs": [
    {
     "data": {
      "text/html": [
       "<table>\n",
       "<caption>A matrix: 22 × 1 of type dbl</caption>\n",
       "<tbody>\n",
       "\t<tr><th scope=row>1971</th><td> 2.33670489</td></tr>\n",
       "\t<tr><th scope=row>1972</th><td> 2.30885503</td></tr>\n",
       "\t<tr><th scope=row>1973</th><td> 2.19412063</td></tr>\n",
       "\t<tr><th scope=row>1974</th><td> 2.04818436</td></tr>\n",
       "\t<tr><th scope=row>1975</th><td> 1.99666741</td></tr>\n",
       "\t<tr><th scope=row>1976</th><td> 1.83077530</td></tr>\n",
       "\t<tr><th scope=row>1977</th><td> 1.64466870</td></tr>\n",
       "\t<tr><th scope=row>1978</th><td> 1.33168751</td></tr>\n",
       "\t<tr><th scope=row>1979</th><td> 1.03066356</td></tr>\n",
       "\t<tr><th scope=row>1980</th><td> 0.89374143</td></tr>\n",
       "\t<tr><th scope=row>1981</th><td> 0.61960287</td></tr>\n",
       "\t<tr><th scope=row>1982</th><td> 0.58313705</td></tr>\n",
       "\t<tr><th scope=row>1983</th><td> 0.37322503</td></tr>\n",
       "\t<tr><th scope=row>1984</th><td> 0.05203681</td></tr>\n",
       "\t<tr><th scope=row>1985</th><td>-0.01993015</td></tr>\n",
       "\t<tr><th scope=row>1986</th><td>-0.32491807</td></tr>\n",
       "\t<tr><th scope=row>1987</th><td>-1.14232322</td></tr>\n",
       "\t<tr><th scope=row>1988</th><td>-2.13748677</td></tr>\n",
       "\t<tr><th scope=row>1989</th><td>-2.77994688</td></tr>\n",
       "\t<tr><th scope=row>1990</th><td>-3.53833770</td></tr>\n",
       "\t<tr><th scope=row>1991</th><td>-4.52253256</td></tr>\n",
       "\t<tr><th scope=row>1992</th><td>-4.77859523</td></tr>\n",
       "</tbody>\n",
       "</table>\n"
      ],
      "text/latex": [
       "A matrix: 22 × 1 of type dbl\n",
       "\\begin{tabular}{r|l}\n",
       "\t1971 &  2.33670489\\\\\n",
       "\t1972 &  2.30885503\\\\\n",
       "\t1973 &  2.19412063\\\\\n",
       "\t1974 &  2.04818436\\\\\n",
       "\t1975 &  1.99666741\\\\\n",
       "\t1976 &  1.83077530\\\\\n",
       "\t1977 &  1.64466870\\\\\n",
       "\t1978 &  1.33168751\\\\\n",
       "\t1979 &  1.03066356\\\\\n",
       "\t1980 &  0.89374143\\\\\n",
       "\t1981 &  0.61960287\\\\\n",
       "\t1982 &  0.58313705\\\\\n",
       "\t1983 &  0.37322503\\\\\n",
       "\t1984 &  0.05203681\\\\\n",
       "\t1985 & -0.01993015\\\\\n",
       "\t1986 & -0.32491807\\\\\n",
       "\t1987 & -1.14232322\\\\\n",
       "\t1988 & -2.13748677\\\\\n",
       "\t1989 & -2.77994688\\\\\n",
       "\t1990 & -3.53833770\\\\\n",
       "\t1991 & -4.52253256\\\\\n",
       "\t1992 & -4.77859523\\\\\n",
       "\\end{tabular}\n"
      ],
      "text/markdown": [
       "\n",
       "A matrix: 22 × 1 of type dbl\n",
       "\n",
       "| 1971 |  2.33670489 |\n",
       "| 1972 |  2.30885503 |\n",
       "| 1973 |  2.19412063 |\n",
       "| 1974 |  2.04818436 |\n",
       "| 1975 |  1.99666741 |\n",
       "| 1976 |  1.83077530 |\n",
       "| 1977 |  1.64466870 |\n",
       "| 1978 |  1.33168751 |\n",
       "| 1979 |  1.03066356 |\n",
       "| 1980 |  0.89374143 |\n",
       "| 1981 |  0.61960287 |\n",
       "| 1982 |  0.58313705 |\n",
       "| 1983 |  0.37322503 |\n",
       "| 1984 |  0.05203681 |\n",
       "| 1985 | -0.01993015 |\n",
       "| 1986 | -0.32491807 |\n",
       "| 1987 | -1.14232322 |\n",
       "| 1988 | -2.13748677 |\n",
       "| 1989 | -2.77994688 |\n",
       "| 1990 | -3.53833770 |\n",
       "| 1991 | -4.52253256 |\n",
       "| 1992 | -4.77859523 |\n",
       "\n"
      ],
      "text/plain": [
       "     [,1]       \n",
       "1971  2.33670489\n",
       "1972  2.30885503\n",
       "1973  2.19412063\n",
       "1974  2.04818436\n",
       "1975  1.99666741\n",
       "1976  1.83077530\n",
       "1977  1.64466870\n",
       "1978  1.33168751\n",
       "1979  1.03066356\n",
       "1980  0.89374143\n",
       "1981  0.61960287\n",
       "1982  0.58313705\n",
       "1983  0.37322503\n",
       "1984  0.05203681\n",
       "1985 -0.01993015\n",
       "1986 -0.32491807\n",
       "1987 -1.14232322\n",
       "1988 -2.13748677\n",
       "1989 -2.77994688\n",
       "1990 -3.53833770\n",
       "1991 -4.52253256\n",
       "1992 -4.77859523"
      ]
     },
     "metadata": {},
     "output_type": "display_data"
    }
   ],
   "source": [
    "scale(as.matrix(eco.data[,1:5])) %*% eigen$vectors[,1]"
   ]
  },
  {
   "cell_type": "markdown",
   "metadata": {
    "ExecuteTime": {
     "end_time": "2020-09-26T07:09:27.461319Z",
     "start_time": "2020-09-26T07:09:27.437Z"
    }
   },
   "source": [
    "주성분의 값은 위와 같다."
   ]
  }
 ],
 "metadata": {
  "kernelspec": {
   "display_name": "R",
   "language": "R",
   "name": "ir"
  },
  "language_info": {
   "codemirror_mode": "r",
   "file_extension": ".r",
   "mimetype": "text/x-r-source",
   "name": "R",
   "pygments_lexer": "r",
   "version": "3.6.3"
  },
  "toc": {
   "base_numbering": 1,
   "nav_menu": {},
   "number_sections": true,
   "sideBar": true,
   "skip_h1_title": false,
   "title_cell": "Table of Contents",
   "title_sidebar": "Contents",
   "toc_cell": false,
   "toc_position": {
    "height": "calc(100% - 180px)",
    "left": "10px",
    "top": "150px",
    "width": "307.2px"
   },
   "toc_section_display": true,
   "toc_window_display": true
  }
 },
 "nbformat": 4,
 "nbformat_minor": 4
}
