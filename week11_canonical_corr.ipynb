{
 "cells": [
  {
   "cell_type": "markdown",
   "metadata": {},
   "source": [
    "# 정준상관분석 Canonical Correlation"
   ]
  },
  {
   "cell_type": "markdown",
   "metadata": {},
   "source": [
    "변수군(변수들의 선형결합)과 변수군 간의 상관계수를 분석하는 방법"
   ]
  },
  {
   "cell_type": "code",
   "execution_count": 1,
   "metadata": {
    "ExecuteTime": {
     "end_time": "2020-11-23T05:29:41.273646Z",
     "start_time": "2020-11-23T05:29:41.193Z"
    }
   },
   "outputs": [],
   "source": [
    "sales <- read.table(\"mvadata/sales.txt\", header = T,row.names = 1)"
   ]
  },
  {
   "cell_type": "code",
   "execution_count": 2,
   "metadata": {
    "ExecuteTime": {
     "end_time": "2020-11-23T05:29:41.727560Z",
     "start_time": "2020-11-23T05:29:41.582Z"
    }
   },
   "outputs": [
    {
     "data": {
      "text/html": [
       "<table>\n",
       "<caption>A data.frame: 6 × 7</caption>\n",
       "<thead>\n",
       "\t<tr><th></th><th scope=col>X1</th><th scope=col>X2</th><th scope=col>X3</th><th scope=col>X4</th><th scope=col>Y1</th><th scope=col>Y2</th><th scope=col>Y3</th></tr>\n",
       "\t<tr><th></th><th scope=col>&lt;int&gt;</th><th scope=col>&lt;int&gt;</th><th scope=col>&lt;int&gt;</th><th scope=col>&lt;int&gt;</th><th scope=col>&lt;dbl&gt;</th><th scope=col>&lt;dbl&gt;</th><th scope=col>&lt;dbl&gt;</th></tr>\n",
       "</thead>\n",
       "<tbody>\n",
       "\t<tr><th scope=row>1</th><td> 9</td><td>12</td><td> 9</td><td>20</td><td> 93.0</td><td> 96.0</td><td> 97.8</td></tr>\n",
       "\t<tr><th scope=row>2</th><td> 7</td><td>10</td><td>10</td><td>15</td><td> 88.8</td><td> 91.8</td><td> 96.8</td></tr>\n",
       "\t<tr><th scope=row>3</th><td> 8</td><td>12</td><td> 9</td><td>26</td><td> 95.0</td><td>100.3</td><td> 99.0</td></tr>\n",
       "\t<tr><th scope=row>4</th><td>12</td><td>14</td><td>12</td><td>29</td><td>101.3</td><td>103.8</td><td>106.8</td></tr>\n",
       "\t<tr><th scope=row>5</th><td>10</td><td>15</td><td>12</td><td>32</td><td>102.0</td><td>107.8</td><td>103.0</td></tr>\n",
       "\t<tr><th scope=row>6</th><td>10</td><td>14</td><td>11</td><td>21</td><td> 95.8</td><td> 97.5</td><td> 99.3</td></tr>\n",
       "</tbody>\n",
       "</table>\n"
      ],
      "text/latex": [
       "A data.frame: 6 × 7\n",
       "\\begin{tabular}{r|lllllll}\n",
       "  & X1 & X2 & X3 & X4 & Y1 & Y2 & Y3\\\\\n",
       "  & <int> & <int> & <int> & <int> & <dbl> & <dbl> & <dbl>\\\\\n",
       "\\hline\n",
       "\t1 &  9 & 12 &  9 & 20 &  93.0 &  96.0 &  97.8\\\\\n",
       "\t2 &  7 & 10 & 10 & 15 &  88.8 &  91.8 &  96.8\\\\\n",
       "\t3 &  8 & 12 &  9 & 26 &  95.0 & 100.3 &  99.0\\\\\n",
       "\t4 & 12 & 14 & 12 & 29 & 101.3 & 103.8 & 106.8\\\\\n",
       "\t5 & 10 & 15 & 12 & 32 & 102.0 & 107.8 & 103.0\\\\\n",
       "\t6 & 10 & 14 & 11 & 21 &  95.8 &  97.5 &  99.3\\\\\n",
       "\\end{tabular}\n"
      ],
      "text/markdown": [
       "\n",
       "A data.frame: 6 × 7\n",
       "\n",
       "| <!--/--> | X1 &lt;int&gt; | X2 &lt;int&gt; | X3 &lt;int&gt; | X4 &lt;int&gt; | Y1 &lt;dbl&gt; | Y2 &lt;dbl&gt; | Y3 &lt;dbl&gt; |\n",
       "|---|---|---|---|---|---|---|---|\n",
       "| 1 |  9 | 12 |  9 | 20 |  93.0 |  96.0 |  97.8 |\n",
       "| 2 |  7 | 10 | 10 | 15 |  88.8 |  91.8 |  96.8 |\n",
       "| 3 |  8 | 12 |  9 | 26 |  95.0 | 100.3 |  99.0 |\n",
       "| 4 | 12 | 14 | 12 | 29 | 101.3 | 103.8 | 106.8 |\n",
       "| 5 | 10 | 15 | 12 | 32 | 102.0 | 107.8 | 103.0 |\n",
       "| 6 | 10 | 14 | 11 | 21 |  95.8 |  97.5 |  99.3 |\n",
       "\n"
      ],
      "text/plain": [
       "  X1 X2 X3 X4 Y1    Y2    Y3   \n",
       "1  9 12  9 20  93.0  96.0  97.8\n",
       "2  7 10 10 15  88.8  91.8  96.8\n",
       "3  8 12  9 26  95.0 100.3  99.0\n",
       "4 12 14 12 29 101.3 103.8 106.8\n",
       "5 10 15 12 32 102.0 107.8 103.0\n",
       "6 10 14 11 21  95.8  97.5  99.3"
      ]
     },
     "metadata": {},
     "output_type": "display_data"
    }
   ],
   "source": [
    "head(sales)"
   ]
  },
  {
   "cell_type": "code",
   "execution_count": 3,
   "metadata": {
    "ExecuteTime": {
     "end_time": "2020-11-23T05:29:42.897957Z",
     "start_time": "2020-11-23T05:29:42.172Z"
    }
   },
   "outputs": [],
   "source": [
    "library(psych)"
   ]
  },
  {
   "cell_type": "code",
   "execution_count": 4,
   "metadata": {
    "ExecuteTime": {
     "end_time": "2020-11-23T05:29:42.946192Z",
     "start_time": "2020-11-23T05:29:42.420Z"
    }
   },
   "outputs": [
    {
     "data": {
      "text/plain": [
       "       X1              X2              X3              X4       \n",
       " Min.   : 1.00   Min.   : 5.00   Min.   : 5.00   Min.   : 9.00  \n",
       " 1st Qu.: 8.25   1st Qu.:12.00   1st Qu.: 9.00   1st Qu.:21.50  \n",
       " Median :10.00   Median :15.00   Median :11.00   Median :31.50  \n",
       " Mean   :11.20   Mean   :14.18   Mean   :10.56   Mean   :29.76  \n",
       " 3rd Qu.:14.00   3rd Qu.:17.00   3rd Qu.:12.00   3rd Qu.:37.00  \n",
       " Max.   :18.00   Max.   :20.00   Max.   :15.00   Max.   :51.00  \n",
       "       Y1               Y2              Y3        \n",
       " Min.   : 81.50   Min.   : 87.3   Min.   : 94.30  \n",
       " 1st Qu.: 93.55   1st Qu.: 99.5   1st Qu.: 99.08  \n",
       " Median :100.65   Median :106.2   Median :103.15  \n",
       " Mean   : 98.84   Mean   :106.6   Mean   :102.81  \n",
       " 3rd Qu.:105.05   3rd Qu.:114.8   3rd Qu.:106.45  \n",
       " Max.   :110.80   Max.   :122.3   Max.   :115.30  "
      ]
     },
     "metadata": {},
     "output_type": "display_data"
    }
   ],
   "source": [
    "summary(sales)"
   ]
  },
  {
   "cell_type": "code",
   "execution_count": 5,
   "metadata": {
    "ExecuteTime": {
     "end_time": "2020-11-23T05:29:43.034045Z",
     "start_time": "2020-11-23T05:29:42.629Z"
    }
   },
   "outputs": [
    {
     "data": {
      "text/html": [
       "<dl class=dl-horizontal>\n",
       "\t<dt>X1</dt>\n",
       "\t\t<dd>3.94347821195493</dd>\n",
       "\t<dt>X2</dt>\n",
       "\t\t<dd>3.38477985899786</dd>\n",
       "\t<dt>X3</dt>\n",
       "\t\t<dd>2.13961659735418</dd>\n",
       "\t<dt>X4</dt>\n",
       "\t\t<dd>10.5377068333733</dd>\n",
       "\t<dt>Y1</dt>\n",
       "\t\t<dd>7.33734534656056</dd>\n",
       "\t<dt>Y2</dt>\n",
       "\t\t<dd>10.124314842023</dd>\n",
       "\t<dt>Y3</dt>\n",
       "\t\t<dd>4.71221816133337</dd>\n",
       "</dl>\n"
      ],
      "text/latex": [
       "\\begin{description*}\n",
       "\\item[X1] 3.94347821195493\n",
       "\\item[X2] 3.38477985899786\n",
       "\\item[X3] 2.13961659735418\n",
       "\\item[X4] 10.5377068333733\n",
       "\\item[Y1] 7.33734534656056\n",
       "\\item[Y2] 10.124314842023\n",
       "\\item[Y3] 4.71221816133337\n",
       "\\end{description*}\n"
      ],
      "text/markdown": [
       "X1\n",
       ":   3.94347821195493X2\n",
       ":   3.38477985899786X3\n",
       ":   2.13961659735418X4\n",
       ":   10.5377068333733Y1\n",
       ":   7.33734534656056Y2\n",
       ":   10.124314842023Y3\n",
       ":   4.71221816133337\n",
       "\n"
      ],
      "text/plain": [
       "       X1        X2        X3        X4        Y1        Y2        Y3 \n",
       " 3.943478  3.384780  2.139617 10.537707  7.337345 10.124315  4.712218 "
      ]
     },
     "metadata": {},
     "output_type": "display_data"
    }
   ],
   "source": [
    "SD(sales)"
   ]
  },
  {
   "cell_type": "code",
   "execution_count": 6,
   "metadata": {
    "ExecuteTime": {
     "end_time": "2020-11-23T05:29:44.071038Z",
     "start_time": "2020-11-23T05:29:42.860Z"
    }
   },
   "outputs": [
    {
     "name": "stderr",
     "output_type": "stream",
     "text": [
      "\n",
      "Attaching package: ‘ggplot2’\n",
      "\n",
      "\n",
      "The following objects are masked from ‘package:psych’:\n",
      "\n",
      "    %+%, alpha\n",
      "\n",
      "\n"
     ]
    }
   ],
   "source": [
    "library(ggplot2)"
   ]
  },
  {
   "cell_type": "code",
   "execution_count": 7,
   "metadata": {
    "ExecuteTime": {
     "end_time": "2020-11-23T05:29:45.747167Z",
     "start_time": "2020-11-23T05:29:45.484Z"
    }
   },
   "outputs": [
    {
     "name": "stderr",
     "output_type": "stream",
     "text": [
      "Registered S3 method overwritten by 'GGally':\n",
      "  method from   \n",
      "  +.gg   ggplot2\n",
      "\n"
     ]
    }
   ],
   "source": [
    "library(GGally)"
   ]
  },
  {
   "cell_type": "code",
   "execution_count": 8,
   "metadata": {
    "ExecuteTime": {
     "end_time": "2020-11-23T05:29:48.312844Z",
     "start_time": "2020-11-23T05:29:45.820Z"
    }
   },
   "outputs": [
    {
     "name": "stderr",
     "output_type": "stream",
     "text": [
      "Loading required package: fda\n",
      "\n",
      "Loading required package: Matrix\n",
      "\n",
      "\n",
      "Attaching package: ‘fda’\n",
      "\n",
      "\n",
      "The following object is masked from ‘package:graphics’:\n",
      "\n",
      "    matplot\n",
      "\n",
      "\n",
      "Loading required package: fields\n",
      "\n",
      "Loading required package: spam\n",
      "\n",
      "Loading required package: dotCall64\n",
      "\n",
      "Loading required package: grid\n",
      "\n",
      "Spam version 2.5-1 (2019-12-12) is loaded.\n",
      "Type 'help( Spam)' or 'demo( spam)' for a short introduction \n",
      "and overview of this package.\n",
      "Help for individual functions is also obtained by adding the\n",
      "suffix '.spam' to the function name, e.g. 'help( chol.spam)'.\n",
      "\n",
      "\n",
      "Attaching package: ‘spam’\n",
      "\n",
      "\n",
      "The following object is masked from ‘package:Matrix’:\n",
      "\n",
      "    det\n",
      "\n",
      "\n",
      "The following objects are masked from ‘package:base’:\n",
      "\n",
      "    backsolve, forwardsolve\n",
      "\n",
      "\n",
      "See https://github.com/NCAR/Fields for\n",
      " an extensive vignette, other supplements and source code \n",
      "\n",
      "\n",
      "Attaching package: ‘fields’\n",
      "\n",
      "\n",
      "The following object is masked from ‘package:psych’:\n",
      "\n",
      "    describe\n",
      "\n",
      "\n"
     ]
    }
   ],
   "source": [
    "library(CCA)"
   ]
  },
  {
   "cell_type": "code",
   "execution_count": 9,
   "metadata": {
    "ExecuteTime": {
     "end_time": "2020-11-23T05:29:48.342291Z",
     "start_time": "2020-11-23T05:29:46.526Z"
    }
   },
   "outputs": [],
   "source": [
    "exam = sales[,c(1:4)]"
   ]
  },
  {
   "cell_type": "code",
   "execution_count": 10,
   "metadata": {
    "ExecuteTime": {
     "end_time": "2020-11-23T05:29:48.369347Z",
     "start_time": "2020-11-23T05:29:46.988Z"
    }
   },
   "outputs": [],
   "source": [
    "perform = sales[, c(5:7)]"
   ]
  },
  {
   "cell_type": "code",
   "execution_count": 11,
   "metadata": {
    "ExecuteTime": {
     "end_time": "2020-11-23T05:29:52.437276Z",
     "start_time": "2020-11-23T05:29:49.021Z"
    }
   },
   "outputs": [
    {
     "data": {
      "image/png": "[encoded data removed]",
      "text/plain": [
       "plot without title"
      ]
     },
     "metadata": {
      "image/png": {
       "height": 420,
       "width": 420
      }
     },
     "output_type": "display_data"
    }
   ],
   "source": [
    "ggpairs(exam)"
   ]
  },
  {
   "cell_type": "code",
   "execution_count": 12,
   "metadata": {
    "ExecuteTime": {
     "end_time": "2020-11-23T05:29:54.111367Z",
     "start_time": "2020-11-23T05:29:51.089Z"
    }
   },
   "outputs": [
    {
     "data": {
      "image/png": "[encoded data removed]",
      "text/plain": [
       "plot without title"
      ]
     },
     "metadata": {
      "image/png": {
       "height": 420,
       "width": 420
      }
     },
     "output_type": "display_data"
    }
   ],
   "source": [
    "ggpairs(perform)"
   ]
  },
  {
   "cell_type": "code",
   "execution_count": 13,
   "metadata": {
    "ExecuteTime": {
     "end_time": "2020-11-23T05:29:54.247039Z",
     "start_time": "2020-11-23T05:29:51.541Z"
    }
   },
   "outputs": [
    {
     "data": {
      "text/html": [
       "<dl>\n",
       "\t<dt>$Xcor</dt>\n",
       "\t\t<dd><table>\n",
       "<caption>A matrix: 4 × 4 of type dbl</caption>\n",
       "<thead>\n",
       "\t<tr><th></th><th scope=col>X1</th><th scope=col>X2</th><th scope=col>X3</th><th scope=col>X4</th></tr>\n",
       "</thead>\n",
       "<tbody>\n",
       "\t<tr><th scope=row>X1</th><td>1.0000000</td><td>0.5920105</td><td>0.1436729</td><td>0.4137107</td></tr>\n",
       "\t<tr><th scope=row>X2</th><td>0.5920105</td><td>1.0000000</td><td>0.3859502</td><td>0.5745533</td></tr>\n",
       "\t<tr><th scope=row>X3</th><td>0.1436729</td><td>0.3859502</td><td>1.0000000</td><td>0.5663721</td></tr>\n",
       "\t<tr><th scope=row>X4</th><td>0.4137107</td><td>0.5745533</td><td>0.5663721</td><td>1.0000000</td></tr>\n",
       "</tbody>\n",
       "</table>\n",
       "</dd>\n",
       "\t<dt>$Ycor</dt>\n",
       "\t\t<dd><table>\n",
       "<caption>A matrix: 3 × 3 of type dbl</caption>\n",
       "<thead>\n",
       "\t<tr><th></th><th scope=col>Y1</th><th scope=col>Y2</th><th scope=col>Y3</th></tr>\n",
       "</thead>\n",
       "<tbody>\n",
       "\t<tr><th scope=row>Y1</th><td>1.0000000</td><td>0.9260758</td><td>0.8840023</td></tr>\n",
       "\t<tr><th scope=row>Y2</th><td>0.9260758</td><td>1.0000000</td><td>0.8425232</td></tr>\n",
       "\t<tr><th scope=row>Y3</th><td>0.8840023</td><td>0.8425232</td><td>1.0000000</td></tr>\n",
       "</tbody>\n",
       "</table>\n",
       "</dd>\n",
       "\t<dt>$XYcor</dt>\n",
       "\t\t<dd><table>\n",
       "<caption>A matrix: 7 × 7 of type dbl</caption>\n",
       "<thead>\n",
       "\t<tr><th></th><th scope=col>X1</th><th scope=col>X2</th><th scope=col>X3</th><th scope=col>X4</th><th scope=col>Y1</th><th scope=col>Y2</th><th scope=col>Y3</th></tr>\n",
       "</thead>\n",
       "<tbody>\n",
       "\t<tr><th scope=row>X1</th><td>1.0000000</td><td>0.5920105</td><td>0.1436729</td><td>0.4137107</td><td>0.5712660</td><td>0.5438665</td><td>0.6971657</td></tr>\n",
       "\t<tr><th scope=row>X2</th><td>0.5920105</td><td>1.0000000</td><td>0.3859502</td><td>0.5745533</td><td>0.7080738</td><td>0.7459097</td><td>0.6374712</td></tr>\n",
       "\t<tr><th scope=row>X3</th><td>0.1436729</td><td>0.3859502</td><td>1.0000000</td><td>0.5663721</td><td>0.6744073</td><td>0.4653880</td><td>0.6410886</td></tr>\n",
       "\t<tr><th scope=row>X4</th><td>0.4137107</td><td>0.5745533</td><td>0.5663721</td><td>1.0000000</td><td>0.9273116</td><td>0.9442960</td><td>0.8525682</td></tr>\n",
       "\t<tr><th scope=row>Y1</th><td>0.5712660</td><td>0.7080738</td><td>0.6744073</td><td>0.9273116</td><td>1.0000000</td><td>0.9260758</td><td>0.8840023</td></tr>\n",
       "\t<tr><th scope=row>Y2</th><td>0.5438665</td><td>0.7459097</td><td>0.4653880</td><td>0.9442960</td><td>0.9260758</td><td>1.0000000</td><td>0.8425232</td></tr>\n",
       "\t<tr><th scope=row>Y3</th><td>0.6971657</td><td>0.6374712</td><td>0.6410886</td><td>0.8525682</td><td>0.8840023</td><td>0.8425232</td><td>1.0000000</td></tr>\n",
       "</tbody>\n",
       "</table>\n",
       "</dd>\n",
       "</dl>\n"
      ],
      "text/latex": [
       "\\begin{description}\n",
       "\\item[\\$Xcor] A matrix: 4 × 4 of type dbl\n",
       "\\begin{tabular}{r|llll}\n",
       "  & X1 & X2 & X3 & X4\\\\\n",
       "\\hline\n",
       "\tX1 & 1.0000000 & 0.5920105 & 0.1436729 & 0.4137107\\\\\n",
       "\tX2 & 0.5920105 & 1.0000000 & 0.3859502 & 0.5745533\\\\\n",
       "\tX3 & 0.1436729 & 0.3859502 & 1.0000000 & 0.5663721\\\\\n",
       "\tX4 & 0.4137107 & 0.5745533 & 0.5663721 & 1.0000000\\\\\n",
       "\\end{tabular}\n",
       "\n",
       "\\item[\\$Ycor] A matrix: 3 × 3 of type dbl\n",
       "\\begin{tabular}{r|lll}\n",
       "  & Y1 & Y2 & Y3\\\\\n",
       "\\hline\n",
       "\tY1 & 1.0000000 & 0.9260758 & 0.8840023\\\\\n",
       "\tY2 & 0.9260758 & 1.0000000 & 0.8425232\\\\\n",
       "\tY3 & 0.8840023 & 0.8425232 & 1.0000000\\\\\n",
       "\\end{tabular}\n",
       "\n",
       "\\item[\\$XYcor] A matrix: 7 × 7 of type dbl\n",
       "\\begin{tabular}{r|lllllll}\n",
       "  & X1 & X2 & X3 & X4 & Y1 & Y2 & Y3\\\\\n",
       "\\hline\n",
       "\tX1 & 1.0000000 & 0.5920105 & 0.1436729 & 0.4137107 & 0.5712660 & 0.5438665 & 0.6971657\\\\\n",
       "\tX2 & 0.5920105 & 1.0000000 & 0.3859502 & 0.5745533 & 0.7080738 & 0.7459097 & 0.6374712\\\\\n",
       "\tX3 & 0.1436729 & 0.3859502 & 1.0000000 & 0.5663721 & 0.6744073 & 0.4653880 & 0.6410886\\\\\n",
       "\tX4 & 0.4137107 & 0.5745533 & 0.5663721 & 1.0000000 & 0.9273116 & 0.9442960 & 0.8525682\\\\\n",
       "\tY1 & 0.5712660 & 0.7080738 & 0.6744073 & 0.9273116 & 1.0000000 & 0.9260758 & 0.8840023\\\\\n",
       "\tY2 & 0.5438665 & 0.7459097 & 0.4653880 & 0.9442960 & 0.9260758 & 1.0000000 & 0.8425232\\\\\n",
       "\tY3 & 0.6971657 & 0.6374712 & 0.6410886 & 0.8525682 & 0.8840023 & 0.8425232 & 1.0000000\\\\\n",
       "\\end{tabular}\n",
       "\n",
       "\\end{description}\n"
      ],
      "text/markdown": [
       "$Xcor\n",
       ":   \n",
       "A matrix: 4 × 4 of type dbl\n",
       "\n",
       "| <!--/--> | X1 | X2 | X3 | X4 |\n",
       "|---|---|---|---|---|\n",
       "| X1 | 1.0000000 | 0.5920105 | 0.1436729 | 0.4137107 |\n",
       "| X2 | 0.5920105 | 1.0000000 | 0.3859502 | 0.5745533 |\n",
       "| X3 | 0.1436729 | 0.3859502 | 1.0000000 | 0.5663721 |\n",
       "| X4 | 0.4137107 | 0.5745533 | 0.5663721 | 1.0000000 |\n",
       "\n",
       "\n",
       "$Ycor\n",
       ":   \n",
       "A matrix: 3 × 3 of type dbl\n",
       "\n",
       "| <!--/--> | Y1 | Y2 | Y3 |\n",
       "|---|---|---|---|\n",
       "| Y1 | 1.0000000 | 0.9260758 | 0.8840023 |\n",
       "| Y2 | 0.9260758 | 1.0000000 | 0.8425232 |\n",
       "| Y3 | 0.8840023 | 0.8425232 | 1.0000000 |\n",
       "\n",
       "\n",
       "$XYcor\n",
       ":   \n",
       "A matrix: 7 × 7 of type dbl\n",
       "\n",
       "| <!--/--> | X1 | X2 | X3 | X4 | Y1 | Y2 | Y3 |\n",
       "|---|---|---|---|---|---|---|---|\n",
       "| X1 | 1.0000000 | 0.5920105 | 0.1436729 | 0.4137107 | 0.5712660 | 0.5438665 | 0.6971657 |\n",
       "| X2 | 0.5920105 | 1.0000000 | 0.3859502 | 0.5745533 | 0.7080738 | 0.7459097 | 0.6374712 |\n",
       "| X3 | 0.1436729 | 0.3859502 | 1.0000000 | 0.5663721 | 0.6744073 | 0.4653880 | 0.6410886 |\n",
       "| X4 | 0.4137107 | 0.5745533 | 0.5663721 | 1.0000000 | 0.9273116 | 0.9442960 | 0.8525682 |\n",
       "| Y1 | 0.5712660 | 0.7080738 | 0.6744073 | 0.9273116 | 1.0000000 | 0.9260758 | 0.8840023 |\n",
       "| Y2 | 0.5438665 | 0.7459097 | 0.4653880 | 0.9442960 | 0.9260758 | 1.0000000 | 0.8425232 |\n",
       "| Y3 | 0.6971657 | 0.6374712 | 0.6410886 | 0.8525682 | 0.8840023 | 0.8425232 | 1.0000000 |\n",
       "\n",
       "\n",
       "\n",
       "\n"
      ],
      "text/plain": [
       "$Xcor\n",
       "          X1        X2        X3        X4\n",
       "X1 1.0000000 0.5920105 0.1436729 0.4137107\n",
       "X2 0.5920105 1.0000000 0.3859502 0.5745533\n",
       "X3 0.1436729 0.3859502 1.0000000 0.5663721\n",
       "X4 0.4137107 0.5745533 0.5663721 1.0000000\n",
       "\n",
       "$Ycor\n",
       "          Y1        Y2        Y3\n",
       "Y1 1.0000000 0.9260758 0.8840023\n",
       "Y2 0.9260758 1.0000000 0.8425232\n",
       "Y3 0.8840023 0.8425232 1.0000000\n",
       "\n",
       "$XYcor\n",
       "          X1        X2        X3        X4        Y1        Y2        Y3\n",
       "X1 1.0000000 0.5920105 0.1436729 0.4137107 0.5712660 0.5438665 0.6971657\n",
       "X2 0.5920105 1.0000000 0.3859502 0.5745533 0.7080738 0.7459097 0.6374712\n",
       "X3 0.1436729 0.3859502 1.0000000 0.5663721 0.6744073 0.4653880 0.6410886\n",
       "X4 0.4137107 0.5745533 0.5663721 1.0000000 0.9273116 0.9442960 0.8525682\n",
       "Y1 0.5712660 0.7080738 0.6744073 0.9273116 1.0000000 0.9260758 0.8840023\n",
       "Y2 0.5438665 0.7459097 0.4653880 0.9442960 0.9260758 1.0000000 0.8425232\n",
       "Y3 0.6971657 0.6374712 0.6410886 0.8525682 0.8840023 0.8425232 1.0000000\n"
      ]
     },
     "metadata": {},
     "output_type": "display_data"
    }
   ],
   "source": [
    "matcor(exam, perform)"
   ]
  },
  {
   "cell_type": "code",
   "execution_count": 14,
   "metadata": {
    "ExecuteTime": {
     "end_time": "2020-11-23T05:29:54.438800Z",
     "start_time": "2020-11-23T05:29:53.437Z"
    }
   },
   "outputs": [],
   "source": [
    "canonical.result <- cc(exam, perform)"
   ]
  },
  {
   "cell_type": "code",
   "execution_count": 15,
   "metadata": {
    "ExecuteTime": {
     "end_time": "2020-11-23T05:29:54.472651Z",
     "start_time": "2020-11-23T05:29:53.950Z"
    }
   },
   "outputs": [
    {
     "data": {
      "text/html": [
       "<ol class=list-inline>\n",
       "\t<li>'cor'</li>\n",
       "\t<li>'names'</li>\n",
       "\t<li>'xcoef'</li>\n",
       "\t<li>'ycoef'</li>\n",
       "\t<li>'scores'</li>\n",
       "</ol>\n"
      ],
      "text/latex": [
       "\\begin{enumerate*}\n",
       "\\item 'cor'\n",
       "\\item 'names'\n",
       "\\item 'xcoef'\n",
       "\\item 'ycoef'\n",
       "\\item 'scores'\n",
       "\\end{enumerate*}\n"
      ],
      "text/markdown": [
       "1. 'cor'\n",
       "2. 'names'\n",
       "3. 'xcoef'\n",
       "4. 'ycoef'\n",
       "5. 'scores'\n",
       "\n",
       "\n"
      ],
      "text/plain": [
       "[1] \"cor\"    \"names\"  \"xcoef\"  \"ycoef\"  \"scores\""
      ]
     },
     "metadata": {},
     "output_type": "display_data"
    }
   ],
   "source": [
    "names(canonical.result)"
   ]
  },
  {
   "cell_type": "code",
   "execution_count": 18,
   "metadata": {
    "ExecuteTime": {
     "end_time": "2020-11-23T05:29:55.910079Z",
     "start_time": "2020-11-23T05:29:55.876Z"
    }
   },
   "outputs": [
    {
     "data": {
      "text/html": [
       "<ol class=list-inline>\n",
       "\t<li>0.994152777425467</li>\n",
       "\t<li>0.87363257014052</li>\n",
       "\t<li>0.381897726434084</li>\n",
       "</ol>\n"
      ],
      "text/latex": [
       "\\begin{enumerate*}\n",
       "\\item 0.994152777425467\n",
       "\\item 0.87363257014052\n",
       "\\item 0.381897726434084\n",
       "\\end{enumerate*}\n"
      ],
      "text/markdown": [
       "1. 0.994152777425467\n",
       "2. 0.87363257014052\n",
       "3. 0.381897726434084\n",
       "\n",
       "\n"
      ],
      "text/plain": [
       "[1] 0.9941528 0.8736326 0.3818977"
      ]
     },
     "metadata": {},
     "output_type": "display_data"
    }
   ],
   "source": [
    "canonical.result$cor"
   ]
  },
  {
   "cell_type": "markdown",
   "metadata": {},
   "source": [
    "r1 = (w1, v1), r2 =  (w2, v2), r3 = (w3, v3)"
   ]
  },
  {
   "cell_type": "code",
   "execution_count": 16,
   "metadata": {
    "ExecuteTime": {
     "end_time": "2020-11-23T05:29:54.839523Z",
     "start_time": "2020-11-23T05:29:54.796Z"
    }
   },
   "outputs": [
    {
     "data": {
      "text/html": [
       "<table>\n",
       "<caption>A matrix: 4 × 3 of type dbl</caption>\n",
       "<tbody>\n",
       "\t<tr><th scope=row>X1</th><td>-0.06761486</td><td> 0.19166238</td><td> 0.24939818</td></tr>\n",
       "\t<tr><th scope=row>X2</th><td>-0.03282084</td><td>-0.20075422</td><td>-0.14457462</td></tr>\n",
       "\t<tr><th scope=row>X3</th><td>-0.08557668</td><td> 0.50133656</td><td>-0.27278359</td></tr>\n",
       "\t<tr><th scope=row>X4</th><td>-0.06343222</td><td>-0.06799141</td><td> 0.01048697</td></tr>\n",
       "</tbody>\n",
       "</table>\n"
      ],
      "text/latex": [
       "A matrix: 4 × 3 of type dbl\n",
       "\\begin{tabular}{r|lll}\n",
       "\tX1 & -0.06761486 &  0.19166238 &  0.24939818\\\\\n",
       "\tX2 & -0.03282084 & -0.20075422 & -0.14457462\\\\\n",
       "\tX3 & -0.08557668 &  0.50133656 & -0.27278359\\\\\n",
       "\tX4 & -0.06343222 & -0.06799141 &  0.01048697\\\\\n",
       "\\end{tabular}\n"
      ],
      "text/markdown": [
       "\n",
       "A matrix: 4 × 3 of type dbl\n",
       "\n",
       "| X1 | -0.06761486 |  0.19166238 |  0.24939818 |\n",
       "| X2 | -0.03282084 | -0.20075422 | -0.14457462 |\n",
       "| X3 | -0.08557668 |  0.50133656 | -0.27278359 |\n",
       "| X4 | -0.06343222 | -0.06799141 |  0.01048697 |\n",
       "\n"
      ],
      "text/plain": [
       "   [,1]        [,2]        [,3]       \n",
       "X1 -0.06761486  0.19166238  0.24939818\n",
       "X2 -0.03282084 -0.20075422 -0.14457462\n",
       "X3 -0.08557668  0.50133656 -0.27278359\n",
       "X4 -0.06343222 -0.06799141  0.01048697"
      ]
     },
     "metadata": {},
     "output_type": "display_data"
    }
   ],
   "source": [
    "canonical.result$xcoef"
   ]
  },
  {
   "cell_type": "markdown",
   "metadata": {},
   "source": [
    "w = a1x1 + a2x2 + a3x3 + a4x4 <br>\n",
    "x의 계수들"
   ]
  },
  {
   "cell_type": "code",
   "execution_count": 17,
   "metadata": {
    "ExecuteTime": {
     "end_time": "2020-11-23T05:29:55.376341Z",
     "start_time": "2020-11-23T05:29:55.340Z"
    }
   },
   "outputs": [
    {
     "data": {
      "text/html": [
       "<table>\n",
       "<caption>A matrix: 3 × 3 of type dbl</caption>\n",
       "<tbody>\n",
       "\t<tr><th scope=row>Y1</th><td>-0.06089225</td><td> 0.1767828</td><td>-0.3761327</td></tr>\n",
       "\t<tr><th scope=row>Y2</th><td>-0.02343702</td><td>-0.2424824</td><td> 0.1022237</td></tr>\n",
       "\t<tr><th scope=row>Y3</th><td>-0.07526146</td><td> 0.2370399</td><td> 0.3847899</td></tr>\n",
       "</tbody>\n",
       "</table>\n"
      ],
      "text/latex": [
       "A matrix: 3 × 3 of type dbl\n",
       "\\begin{tabular}{r|lll}\n",
       "\tY1 & -0.06089225 &  0.1767828 & -0.3761327\\\\\n",
       "\tY2 & -0.02343702 & -0.2424824 &  0.1022237\\\\\n",
       "\tY3 & -0.07526146 &  0.2370399 &  0.3847899\\\\\n",
       "\\end{tabular}\n"
      ],
      "text/markdown": [
       "\n",
       "A matrix: 3 × 3 of type dbl\n",
       "\n",
       "| Y1 | -0.06089225 |  0.1767828 | -0.3761327 |\n",
       "| Y2 | -0.02343702 | -0.2424824 |  0.1022237 |\n",
       "| Y3 | -0.07526146 |  0.2370399 |  0.3847899 |\n",
       "\n"
      ],
      "text/plain": [
       "   [,1]        [,2]       [,3]      \n",
       "Y1 -0.06089225  0.1767828 -0.3761327\n",
       "Y2 -0.02343702 -0.2424824  0.1022237\n",
       "Y3 -0.07526146  0.2370399  0.3847899"
      ]
     },
     "metadata": {},
     "output_type": "display_data"
    }
   ],
   "source": [
    "canonical.result$ycoef"
   ]
  },
  {
   "cell_type": "markdown",
   "metadata": {},
   "source": [
    "v = b1y1 + b2y2 + b3y3 <br>\n",
    "x의 계수들"
   ]
  },
  {
   "cell_type": "code",
   "execution_count": 19,
   "metadata": {
    "ExecuteTime": {
     "end_time": "2020-11-23T05:32:59.268241Z",
     "start_time": "2020-11-23T05:32:59.119Z"
    }
   },
   "outputs": [
    {
     "data": {
      "text/html": [
       "<dl>\n",
       "\t<dt>$xscores</dt>\n",
       "\t\t<dd><table>\n",
       "<caption>A matrix: 50 × 3 of type dbl</caption>\n",
       "<tbody>\n",
       "\t<tr><th scope=row>1</th><td> 0.97290017</td><td>-0.10250187</td><td> 0.08968621</td></tr>\n",
       "\t<tr><th scope=row>2</th><td> 1.40535598</td><td> 0.75697544</td><td>-0.44517936</td></tr>\n",
       "\t<tr><th scope=row>3</th><td> 0.65992174</td><td>-0.70211272</td><td>-0.09679012</td></tr>\n",
       "\t<tr><th scope=row>4</th><td>-0.12320607</td><td> 0.96306378</td><td>-0.17523649</td></tr>\n",
       "\t<tr><th scope=row>5</th><td>-0.21109383</td><td> 0.17501057</td><td>-0.78714654</td></tr>\n",
       "\t<tr><th scope=row>6</th><td> 0.60505806</td><td> 0.62233376</td><td>-0.48514504</td></tr>\n",
       "\t<tr><th scope=row>7</th><td> 0.65573909</td><td>-0.44245893</td><td> 0.14212108</td></tr>\n",
       "\t<tr><th scope=row>8</th><td>-2.37805906</td><td> 0.91671131</td><td>-0.13393248</td></tr>\n",
       "\t<tr><th scope=row>9</th><td>-0.29887997</td><td> 0.34283009</td><td>-1.35956633</td></tr>\n",
       "\t<tr><th scope=row>10</th><td>-0.93846464</td><td>-0.63787904</td><td> 0.12291472</td></tr>\n",
       "\t<tr><th scope=row>11</th><td>-0.41196524</td><td> 0.15682687</td><td>-0.57749942</td></tr>\n",
       "\t<tr><th scope=row>12</th><td> 0.09618257</td><td>-2.36460692</td><td>-0.14022301</td></tr>\n",
       "\t<tr><th scope=row>13</th><td>-0.72371244</td><td> 0.28615700</td><td> 0.71385082</td></tr>\n",
       "\t<tr><th scope=row>14</th><td> 0.04695233</td><td> 0.15813755</td><td>-0.26931228</td></tr>\n",
       "\t<tr><th scope=row>15</th><td>-0.03439194</td><td>-0.38756024</td><td> 1.79602936</td></tr>\n",
       "\t<tr><th scope=row>16</th><td> 1.80262799</td><td>-1.61694454</td><td> 1.07380016</td></tr>\n",
       "\t<tr><th scope=row>17</th><td>-0.09466950</td><td> 0.46759905</td><td> 0.16875907</td></tr>\n",
       "\t<tr><th scope=row>18</th><td>-0.35060783</td><td>-0.13788363</td><td>-0.08892924</td></tr>\n",
       "\t<tr><th scope=row>19</th><td> 0.20108907</td><td> 0.05477229</td><td>-2.18332033</td></tr>\n",
       "\t<tr><th scope=row>20</th><td>-0.34730179</td><td> 0.95375926</td><td> 0.88984018</td></tr>\n",
       "\t<tr><th scope=row>21</th><td> 1.39359974</td><td>-0.57355555</td><td> 0.83221669</td></tr>\n",
       "\t<tr><th scope=row>22</th><td>-0.29048165</td><td>-1.16153510</td><td>-1.07818563</td></tr>\n",
       "\t<tr><th scope=row>23</th><td> 1.49624491</td><td>-0.23094667</td><td> 1.02702934</td></tr>\n",
       "\t<tr><th scope=row>24</th><td>-0.66348464</td><td> 0.21837826</td><td>-0.23591532</td></tr>\n",
       "\t<tr><th scope=row>25</th><td>-1.19209188</td><td> 0.04602805</td><td> 0.20435287</td></tr>\n",
       "\t<tr><th scope=row>26</th><td> 0.78767949</td><td>-1.71974952</td><td> 0.48238863</td></tr>\n",
       "\t<tr><th scope=row>27</th><td>-0.95839963</td><td> 0.26496597</td><td> 0.13928036</td></tr>\n",
       "\t<tr><th scope=row>28</th><td>-1.23668567</td><td>-1.68293422</td><td>-0.48065902</td></tr>\n",
       "\t<tr><th scope=row>29</th><td> 0.95414666</td><td> 2.31666467</td><td>-0.99315800</td></tr>\n",
       "\t<tr><th scope=row>30</th><td>-0.88473057</td><td>-1.73539376</td><td>-0.92706668</td></tr>\n",
       "\t<tr><th scope=row>31</th><td>-1.27861375</td><td>-0.04226907</td><td> 1.86896274</td></tr>\n",
       "\t<tr><th scope=row>32</th><td> 1.45516040</td><td> 1.04347942</td><td> 1.39976738</td></tr>\n",
       "\t<tr><th scope=row>33</th><td> 0.39448851</td><td>-0.56135606</td><td>-1.31499235</td></tr>\n",
       "\t<tr><th scope=row>34</th><td> 0.79756417</td><td> 1.15982503</td><td>-0.21696976</td></tr>\n",
       "\t<tr><th scope=row>35</th><td>-1.28082322</td><td>-0.37578610</td><td> 1.56932654</td></tr>\n",
       "\t<tr><th scope=row>36</th><td>-1.13285903</td><td> 0.17599619</td><td>-1.38505623</td></tr>\n",
       "\t<tr><th scope=row>37</th><td> 0.44552417</td><td> 0.45408889</td><td> 2.00778097</td></tr>\n",
       "\t<tr><th scope=row>38</th><td>-0.23290039</td><td> 2.62689913</td><td>-0.19274323</td></tr>\n",
       "\t<tr><th scope=row>39</th><td>-1.25134145</td><td>-0.28161715</td><td>-0.02407136</td></tr>\n",
       "\t<tr><th scope=row>40</th><td>-0.96281856</td><td>-0.40206810</td><td>-0.45999205</td></tr>\n",
       "\t<tr><th scope=row>41</th><td>-0.29469733</td><td> 0.08317630</td><td>-1.59847753</td></tr>\n",
       "\t<tr><th scope=row>42</th><td> 0.67041159</td><td>-1.64609894</td><td> 1.50336675</td></tr>\n",
       "\t<tr><th scope=row>43</th><td>-0.67734871</td><td>-0.48979703</td><td> 0.78133479</td></tr>\n",
       "\t<tr><th scope=row>44</th><td> 2.06072603</td><td> 0.10943574</td><td>-0.94591175</td></tr>\n",
       "\t<tr><th scope=row>45</th><td> 0.55196432</td><td>-0.55813605</td><td>-1.49102788</td></tr>\n",
       "\t<tr><th scope=row>46</th><td>-1.00353213</td><td> 1.76986097</td><td> 1.54962296</td></tr>\n",
       "\t<tr><th scope=row>47</th><td> 1.21910732</td><td> 0.32253229</td><td>-1.45132300</td></tr>\n",
       "\t<tr><th scope=row>48</th><td> 1.95512945</td><td> 0.75542162</td><td> 0.57601338</td></tr>\n",
       "\t<tr><th scope=row>49</th><td>-0.63681962</td><td> 1.27195709</td><td> 0.68611790</td></tr>\n",
       "\t<tr><th scope=row>50</th><td>-0.73759323</td><td>-0.61969535</td><td>-0.08673240</td></tr>\n",
       "</tbody>\n",
       "</table>\n",
       "</dd>\n",
       "\t<dt>$yscores</dt>\n",
       "\t\t<dd><table>\n",
       "<caption>A matrix: 50 × 3 of type dbl</caption>\n",
       "<tbody>\n",
       "\t<tr><th scope=row>1</th><td> 0.98137511</td><td> 0.35637308</td><td>-0.81850784</td></tr>\n",
       "\t<tr><th scope=row>2</th><td> 1.41081951</td><td> 0.39527125</td><td>-0.05288030</td></tr>\n",
       "\t<tr><th scope=row>3</th><td> 0.66849767</td><td>-0.04828754</td><td>-0.66946319</td></tr>\n",
       "\t<tr><th scope=row>4</th><td>-0.38419247</td><td> 2.06566748</td><td> 0.32004553</td></tr>\n",
       "\t<tr><th scope=row>5</th><td>-0.23457158</td><td> 0.31873419</td><td>-0.99655408</td></tr>\n",
       "\t<tr><th scope=row>6</th><td> 0.66282908</td><td> 0.84320133</td><td>-1.14115880</td></tr>\n",
       "\t<tr><th scope=row>7</th><td> 0.65680116</td><td> 0.23408976</td><td>-0.93930850</td></tr>\n",
       "\t<tr><th scope=row>8</th><td>-2.02894501</td><td> 1.34676466</td><td> 1.87797162</td></tr>\n",
       "\t<tr><th scope=row>9</th><td>-0.35521306</td><td> 0.52855122</td><td>-0.93851640</td></tr>\n",
       "\t<tr><th scope=row>10</th><td>-0.74924307</td><td>-2.14927431</td><td>-1.88853930</td></tr>\n",
       "\t<tr><th scope=row>11</th><td>-0.43586700</td><td> 0.30062706</td><td>-0.89628914</td></tr>\n",
       "\t<tr><th scope=row>12</th><td> 0.02711692</td><td>-1.73316017</td><td>-0.68626028</td></tr>\n",
       "\t<tr><th scope=row>13</th><td>-0.73710978</td><td> 0.39240106</td><td> 0.45885818</td></tr>\n",
       "\t<tr><th scope=row>14</th><td> 0.02424722</td><td> 0.26855864</td><td>-0.56068998</td></tr>\n",
       "\t<tr><th scope=row>15</th><td>-0.07898516</td><td> 0.11174646</td><td>-0.40302574</td></tr>\n",
       "\t<tr><th scope=row>16</th><td> 1.95096066</td><td>-1.73413524</td><td> 2.17404659</td></tr>\n",
       "\t<tr><th scope=row>17</th><td>-0.11830216</td><td> 0.75378415</td><td>-1.06577854</td></tr>\n",
       "\t<tr><th scope=row>18</th><td>-0.42167329</td><td>-0.06037528</td><td>-0.98646036</td></tr>\n",
       "\t<tr><th scope=row>19</th><td> 0.25543609</td><td>-0.01702239</td><td> 1.16575164</td></tr>\n",
       "\t<tr><th scope=row>20</th><td>-0.27211121</td><td> 1.26521489</td><td> 0.95802496</td></tr>\n",
       "\t<tr><th scope=row>21</th><td> 1.42231908</td><td>-0.74349183</td><td> 0.03295265</td></tr>\n",
       "\t<tr><th scope=row>22</th><td>-0.33674892</td><td>-1.59630054</td><td> 1.25524189</td></tr>\n",
       "\t<tr><th scope=row>23</th><td> 1.54883499</td><td>-0.24132401</td><td> 0.12285885</td></tr>\n",
       "\t<tr><th scope=row>24</th><td>-0.75392688</td><td>-0.05608132</td><td>-0.71898786</td></tr>\n",
       "\t<tr><th scope=row>25</th><td>-1.29997024</td><td>-0.57587932</td><td> 0.78087548</td></tr>\n",
       "\t<tr><th scope=row>26</th><td> 0.82248532</td><td>-1.04548629</td><td>-0.31800522</td></tr>\n",
       "\t<tr><th scope=row>27</th><td>-1.08953625</td><td>-0.28675669</td><td>-0.10471206</td></tr>\n",
       "\t<tr><th scope=row>28</th><td>-0.94825665</td><td>-1.36432128</td><td>-0.86223939</td></tr>\n",
       "\t<tr><th scope=row>29</th><td> 0.99534927</td><td> 1.96761331</td><td>-0.31719857</td></tr>\n",
       "\t<tr><th scope=row>30</th><td>-0.91866910</td><td>-1.76630704</td><td>-0.68738630</td></tr>\n",
       "\t<tr><th scope=row>31</th><td>-1.31681465</td><td>-0.03337867</td><td> 1.58085741</td></tr>\n",
       "\t<tr><th scope=row>32</th><td> 1.41782862</td><td> 0.06439747</td><td> 0.23740976</td></tr>\n",
       "\t<tr><th scope=row>33</th><td> 0.42440218</td><td>-0.24339191</td><td>-0.16173975</td></tr>\n",
       "\t<tr><th scope=row>34</th><td> 0.84705696</td><td> 1.23436223</td><td>-0.99906800</td></tr>\n",
       "\t<tr><th scope=row>35</th><td>-1.39413481</td><td>-0.42995200</td><td> 1.59723856</td></tr>\n",
       "\t<tr><th scope=row>36</th><td>-0.99009760</td><td> 0.19530241</td><td>-0.36286858</td></tr>\n",
       "\t<tr><th scope=row>37</th><td> 0.53124749</td><td> 0.68202965</td><td> 2.10871044</td></tr>\n",
       "\t<tr><th scope=row>38</th><td>-0.06965387</td><td> 2.32970512</td><td>-1.69890699</td></tr>\n",
       "\t<tr><th scope=row>39</th><td>-1.37196756</td><td>-0.77980871</td><td> 0.23239892</td></tr>\n",
       "\t<tr><th scope=row>40</th><td>-1.07534254</td><td>-0.64775903</td><td>-0.19488329</td></tr>\n",
       "\t<tr><th scope=row>41</th><td>-0.36038240</td><td> 0.23303400</td><td>-0.72345287</td></tr>\n",
       "\t<tr><th scope=row>42</th><td> 0.74658843</td><td>-0.95259381</td><td> 0.61119765</td></tr>\n",
       "\t<tr><th scope=row>43</th><td>-0.70990103</td><td>-0.09398198</td><td> 0.77808391</td></tr>\n",
       "\t<tr><th scope=row>44</th><td> 1.88882422</td><td> 0.39561644</td><td> 1.36344754</td></tr>\n",
       "\t<tr><th scope=row>45</th><td> 0.58531143</td><td>-0.25773570</td><td>-0.13306912</td></tr>\n",
       "\t<tr><th scope=row>46</th><td>-1.01138481</td><td> 1.41439403</td><td> 1.86994801</td></tr>\n",
       "\t<tr><th scope=row>47</th><td> 1.23212873</td><td>-0.38088675</td><td> 0.30556149</td></tr>\n",
       "\t<tr><th scope=row>48</th><td> 1.91986234</td><td>-0.50788655</td><td> 0.47329438</td></tr>\n",
       "\t<tr><th scope=row>49</th><td>-0.67788180</td><td> 1.14275445</td><td>-0.34111412</td></tr>\n",
       "\t<tr><th scope=row>50</th><td>-0.87943961</td><td>-1.09461599</td><td>-0.63771089</td></tr>\n",
       "</tbody>\n",
       "</table>\n",
       "</dd>\n",
       "\t<dt>$corr.X.xscores</dt>\n",
       "\t\t<dd><table>\n",
       "<caption>A matrix: 4 × 3 of type dbl</caption>\n",
       "<tbody>\n",
       "\t<tr><th scope=row>X1</th><td>-0.6352483</td><td> 0.2112406</td><td> 0.65565759</td></tr>\n",
       "\t<tr><th scope=row>X2</th><td>-0.7236603</td><td>-0.2297134</td><td>-0.06888076</td></tr>\n",
       "\t<tr><th scope=row>X3</th><td>-0.6428658</td><td> 0.5132111</td><td>-0.56862746</td></tr>\n",
       "\t<tr><th scope=row>X4</th><td>-0.9462723</td><td>-0.1866690</td><td>-0.09433235</td></tr>\n",
       "</tbody>\n",
       "</table>\n",
       "</dd>\n",
       "\t<dt>$corr.Y.xscores</dt>\n",
       "\t\t<dd><table>\n",
       "<caption>A matrix: 3 × 3 of type dbl</caption>\n",
       "<tbody>\n",
       "\t<tr><th scope=row>Y1</th><td>-0.9743097</td><td> 0.009650714</td><td>-0.075803677</td></tr>\n",
       "\t<tr><th scope=row>Y2</th><td>-0.9442884</td><td>-0.273145316</td><td> 0.002605397</td></tr>\n",
       "\t<tr><th scope=row>Y3</th><td>-0.9439746</td><td> 0.170594666</td><td> 0.093754591</td></tr>\n",
       "</tbody>\n",
       "</table>\n",
       "</dd>\n",
       "\t<dt>$corr.X.yscores</dt>\n",
       "\t\t<dd><table>\n",
       "<caption>A matrix: 4 × 3 of type dbl</caption>\n",
       "<tbody>\n",
       "\t<tr><th scope=row>X1</th><td>-0.6315339</td><td> 0.1845467</td><td> 0.25039414</td></tr>\n",
       "\t<tr><th scope=row>X2</th><td>-0.7194289</td><td>-0.2006851</td><td>-0.02630541</td></tr>\n",
       "\t<tr><th scope=row>X3</th><td>-0.6391068</td><td> 0.4483580</td><td>-0.21715753</td></tr>\n",
       "\t<tr><th scope=row>X4</th><td>-0.9407393</td><td>-0.1630801</td><td>-0.03602531</td></tr>\n",
       "</tbody>\n",
       "</table>\n",
       "</dd>\n",
       "\t<dt>$corr.Y.yscores</dt>\n",
       "\t\t<dd><table>\n",
       "<caption>A matrix: 3 × 3 of type dbl</caption>\n",
       "<tbody>\n",
       "\t<tr><th scope=row>Y1</th><td>-0.9800402</td><td> 0.01104665</td><td>-0.198492088</td></tr>\n",
       "\t<tr><th scope=row>Y2</th><td>-0.9498424</td><td>-0.31265469</td><td> 0.006822237</td></tr>\n",
       "\t<tr><th scope=row>Y3</th><td>-0.9495266</td><td> 0.19527050</td><td> 0.245496595</td></tr>\n",
       "</tbody>\n",
       "</table>\n",
       "</dd>\n",
       "</dl>\n"
      ],
      "text/latex": [
       "\\begin{description}\n",
       "\\item[\\$xscores] A matrix: 50 × 3 of type dbl\n",
       "\\begin{tabular}{r|lll}\n",
       "\t1 &  0.97290017 & -0.10250187 &  0.08968621\\\\\n",
       "\t2 &  1.40535598 &  0.75697544 & -0.44517936\\\\\n",
       "\t3 &  0.65992174 & -0.70211272 & -0.09679012\\\\\n",
       "\t4 & -0.12320607 &  0.96306378 & -0.17523649\\\\\n",
       "\t5 & -0.21109383 &  0.17501057 & -0.78714654\\\\\n",
       "\t6 &  0.60505806 &  0.62233376 & -0.48514504\\\\\n",
       "\t7 &  0.65573909 & -0.44245893 &  0.14212108\\\\\n",
       "\t8 & -2.37805906 &  0.91671131 & -0.13393248\\\\\n",
       "\t9 & -0.29887997 &  0.34283009 & -1.35956633\\\\\n",
       "\t10 & -0.93846464 & -0.63787904 &  0.12291472\\\\\n",
       "\t11 & -0.41196524 &  0.15682687 & -0.57749942\\\\\n",
       "\t12 &  0.09618257 & -2.36460692 & -0.14022301\\\\\n",
       "\t13 & -0.72371244 &  0.28615700 &  0.71385082\\\\\n",
       "\t14 &  0.04695233 &  0.15813755 & -0.26931228\\\\\n",
       "\t15 & -0.03439194 & -0.38756024 &  1.79602936\\\\\n",
       "\t16 &  1.80262799 & -1.61694454 &  1.07380016\\\\\n",
       "\t17 & -0.09466950 &  0.46759905 &  0.16875907\\\\\n",
       "\t18 & -0.35060783 & -0.13788363 & -0.08892924\\\\\n",
       "\t19 &  0.20108907 &  0.05477229 & -2.18332033\\\\\n",
       "\t20 & -0.34730179 &  0.95375926 &  0.88984018\\\\\n",
       "\t21 &  1.39359974 & -0.57355555 &  0.83221669\\\\\n",
       "\t22 & -0.29048165 & -1.16153510 & -1.07818563\\\\\n",
       "\t23 &  1.49624491 & -0.23094667 &  1.02702934\\\\\n",
       "\t24 & -0.66348464 &  0.21837826 & -0.23591532\\\\\n",
       "\t25 & -1.19209188 &  0.04602805 &  0.20435287\\\\\n",
       "\t26 &  0.78767949 & -1.71974952 &  0.48238863\\\\\n",
       "\t27 & -0.95839963 &  0.26496597 &  0.13928036\\\\\n",
       "\t28 & -1.23668567 & -1.68293422 & -0.48065902\\\\\n",
       "\t29 &  0.95414666 &  2.31666467 & -0.99315800\\\\\n",
       "\t30 & -0.88473057 & -1.73539376 & -0.92706668\\\\\n",
       "\t31 & -1.27861375 & -0.04226907 &  1.86896274\\\\\n",
       "\t32 &  1.45516040 &  1.04347942 &  1.39976738\\\\\n",
       "\t33 &  0.39448851 & -0.56135606 & -1.31499235\\\\\n",
       "\t34 &  0.79756417 &  1.15982503 & -0.21696976\\\\\n",
       "\t35 & -1.28082322 & -0.37578610 &  1.56932654\\\\\n",
       "\t36 & -1.13285903 &  0.17599619 & -1.38505623\\\\\n",
       "\t37 &  0.44552417 &  0.45408889 &  2.00778097\\\\\n",
       "\t38 & -0.23290039 &  2.62689913 & -0.19274323\\\\\n",
       "\t39 & -1.25134145 & -0.28161715 & -0.02407136\\\\\n",
       "\t40 & -0.96281856 & -0.40206810 & -0.45999205\\\\\n",
       "\t41 & -0.29469733 &  0.08317630 & -1.59847753\\\\\n",
       "\t42 &  0.67041159 & -1.64609894 &  1.50336675\\\\\n",
       "\t43 & -0.67734871 & -0.48979703 &  0.78133479\\\\\n",
       "\t44 &  2.06072603 &  0.10943574 & -0.94591175\\\\\n",
       "\t45 &  0.55196432 & -0.55813605 & -1.49102788\\\\\n",
       "\t46 & -1.00353213 &  1.76986097 &  1.54962296\\\\\n",
       "\t47 &  1.21910732 &  0.32253229 & -1.45132300\\\\\n",
       "\t48 &  1.95512945 &  0.75542162 &  0.57601338\\\\\n",
       "\t49 & -0.63681962 &  1.27195709 &  0.68611790\\\\\n",
       "\t50 & -0.73759323 & -0.61969535 & -0.08673240\\\\\n",
       "\\end{tabular}\n",
       "\n",
       "\\item[\\$yscores] A matrix: 50 × 3 of type dbl\n",
       "\\begin{tabular}{r|lll}\n",
       "\t1 &  0.98137511 &  0.35637308 & -0.81850784\\\\\n",
       "\t2 &  1.41081951 &  0.39527125 & -0.05288030\\\\\n",
       "\t3 &  0.66849767 & -0.04828754 & -0.66946319\\\\\n",
       "\t4 & -0.38419247 &  2.06566748 &  0.32004553\\\\\n",
       "\t5 & -0.23457158 &  0.31873419 & -0.99655408\\\\\n",
       "\t6 &  0.66282908 &  0.84320133 & -1.14115880\\\\\n",
       "\t7 &  0.65680116 &  0.23408976 & -0.93930850\\\\\n",
       "\t8 & -2.02894501 &  1.34676466 &  1.87797162\\\\\n",
       "\t9 & -0.35521306 &  0.52855122 & -0.93851640\\\\\n",
       "\t10 & -0.74924307 & -2.14927431 & -1.88853930\\\\\n",
       "\t11 & -0.43586700 &  0.30062706 & -0.89628914\\\\\n",
       "\t12 &  0.02711692 & -1.73316017 & -0.68626028\\\\\n",
       "\t13 & -0.73710978 &  0.39240106 &  0.45885818\\\\\n",
       "\t14 &  0.02424722 &  0.26855864 & -0.56068998\\\\\n",
       "\t15 & -0.07898516 &  0.11174646 & -0.40302574\\\\\n",
       "\t16 &  1.95096066 & -1.73413524 &  2.17404659\\\\\n",
       "\t17 & -0.11830216 &  0.75378415 & -1.06577854\\\\\n",
       "\t18 & -0.42167329 & -0.06037528 & -0.98646036\\\\\n",
       "\t19 &  0.25543609 & -0.01702239 &  1.16575164\\\\\n",
       "\t20 & -0.27211121 &  1.26521489 &  0.95802496\\\\\n",
       "\t21 &  1.42231908 & -0.74349183 &  0.03295265\\\\\n",
       "\t22 & -0.33674892 & -1.59630054 &  1.25524189\\\\\n",
       "\t23 &  1.54883499 & -0.24132401 &  0.12285885\\\\\n",
       "\t24 & -0.75392688 & -0.05608132 & -0.71898786\\\\\n",
       "\t25 & -1.29997024 & -0.57587932 &  0.78087548\\\\\n",
       "\t26 &  0.82248532 & -1.04548629 & -0.31800522\\\\\n",
       "\t27 & -1.08953625 & -0.28675669 & -0.10471206\\\\\n",
       "\t28 & -0.94825665 & -1.36432128 & -0.86223939\\\\\n",
       "\t29 &  0.99534927 &  1.96761331 & -0.31719857\\\\\n",
       "\t30 & -0.91866910 & -1.76630704 & -0.68738630\\\\\n",
       "\t31 & -1.31681465 & -0.03337867 &  1.58085741\\\\\n",
       "\t32 &  1.41782862 &  0.06439747 &  0.23740976\\\\\n",
       "\t33 &  0.42440218 & -0.24339191 & -0.16173975\\\\\n",
       "\t34 &  0.84705696 &  1.23436223 & -0.99906800\\\\\n",
       "\t35 & -1.39413481 & -0.42995200 &  1.59723856\\\\\n",
       "\t36 & -0.99009760 &  0.19530241 & -0.36286858\\\\\n",
       "\t37 &  0.53124749 &  0.68202965 &  2.10871044\\\\\n",
       "\t38 & -0.06965387 &  2.32970512 & -1.69890699\\\\\n",
       "\t39 & -1.37196756 & -0.77980871 &  0.23239892\\\\\n",
       "\t40 & -1.07534254 & -0.64775903 & -0.19488329\\\\\n",
       "\t41 & -0.36038240 &  0.23303400 & -0.72345287\\\\\n",
       "\t42 &  0.74658843 & -0.95259381 &  0.61119765\\\\\n",
       "\t43 & -0.70990103 & -0.09398198 &  0.77808391\\\\\n",
       "\t44 &  1.88882422 &  0.39561644 &  1.36344754\\\\\n",
       "\t45 &  0.58531143 & -0.25773570 & -0.13306912\\\\\n",
       "\t46 & -1.01138481 &  1.41439403 &  1.86994801\\\\\n",
       "\t47 &  1.23212873 & -0.38088675 &  0.30556149\\\\\n",
       "\t48 &  1.91986234 & -0.50788655 &  0.47329438\\\\\n",
       "\t49 & -0.67788180 &  1.14275445 & -0.34111412\\\\\n",
       "\t50 & -0.87943961 & -1.09461599 & -0.63771089\\\\\n",
       "\\end{tabular}\n",
       "\n",
       "\\item[\\$corr.X.xscores] A matrix: 4 × 3 of type dbl\n",
       "\\begin{tabular}{r|lll}\n",
       "\tX1 & -0.6352483 &  0.2112406 &  0.65565759\\\\\n",
       "\tX2 & -0.7236603 & -0.2297134 & -0.06888076\\\\\n",
       "\tX3 & -0.6428658 &  0.5132111 & -0.56862746\\\\\n",
       "\tX4 & -0.9462723 & -0.1866690 & -0.09433235\\\\\n",
       "\\end{tabular}\n",
       "\n",
       "\\item[\\$corr.Y.xscores] A matrix: 3 × 3 of type dbl\n",
       "\\begin{tabular}{r|lll}\n",
       "\tY1 & -0.9743097 &  0.009650714 & -0.075803677\\\\\n",
       "\tY2 & -0.9442884 & -0.273145316 &  0.002605397\\\\\n",
       "\tY3 & -0.9439746 &  0.170594666 &  0.093754591\\\\\n",
       "\\end{tabular}\n",
       "\n",
       "\\item[\\$corr.X.yscores] A matrix: 4 × 3 of type dbl\n",
       "\\begin{tabular}{r|lll}\n",
       "\tX1 & -0.6315339 &  0.1845467 &  0.25039414\\\\\n",
       "\tX2 & -0.7194289 & -0.2006851 & -0.02630541\\\\\n",
       "\tX3 & -0.6391068 &  0.4483580 & -0.21715753\\\\\n",
       "\tX4 & -0.9407393 & -0.1630801 & -0.03602531\\\\\n",
       "\\end{tabular}\n",
       "\n",
       "\\item[\\$corr.Y.yscores] A matrix: 3 × 3 of type dbl\n",
       "\\begin{tabular}{r|lll}\n",
       "\tY1 & -0.9800402 &  0.01104665 & -0.198492088\\\\\n",
       "\tY2 & -0.9498424 & -0.31265469 &  0.006822237\\\\\n",
       "\tY3 & -0.9495266 &  0.19527050 &  0.245496595\\\\\n",
       "\\end{tabular}\n",
       "\n",
       "\\end{description}\n"
      ],
      "text/markdown": [
       "$xscores\n",
       ":   \n",
       "A matrix: 50 × 3 of type dbl\n",
       "\n",
       "| 1 |  0.97290017 | -0.10250187 |  0.08968621 |\n",
       "| 2 |  1.40535598 |  0.75697544 | -0.44517936 |\n",
       "| 3 |  0.65992174 | -0.70211272 | -0.09679012 |\n",
       "| 4 | -0.12320607 |  0.96306378 | -0.17523649 |\n",
       "| 5 | -0.21109383 |  0.17501057 | -0.78714654 |\n",
       "| 6 |  0.60505806 |  0.62233376 | -0.48514504 |\n",
       "| 7 |  0.65573909 | -0.44245893 |  0.14212108 |\n",
       "| 8 | -2.37805906 |  0.91671131 | -0.13393248 |\n",
       "| 9 | -0.29887997 |  0.34283009 | -1.35956633 |\n",
       "| 10 | -0.93846464 | -0.63787904 |  0.12291472 |\n",
       "| 11 | -0.41196524 |  0.15682687 | -0.57749942 |\n",
       "| 12 |  0.09618257 | -2.36460692 | -0.14022301 |\n",
       "| 13 | -0.72371244 |  0.28615700 |  0.71385082 |\n",
       "| 14 |  0.04695233 |  0.15813755 | -0.26931228 |\n",
       "| 15 | -0.03439194 | -0.38756024 |  1.79602936 |\n",
       "| 16 |  1.80262799 | -1.61694454 |  1.07380016 |\n",
       "| 17 | -0.09466950 |  0.46759905 |  0.16875907 |\n",
       "| 18 | -0.35060783 | -0.13788363 | -0.08892924 |\n",
       "| 19 |  0.20108907 |  0.05477229 | -2.18332033 |\n",
       "| 20 | -0.34730179 |  0.95375926 |  0.88984018 |\n",
       "| 21 |  1.39359974 | -0.57355555 |  0.83221669 |\n",
       "| 22 | -0.29048165 | -1.16153510 | -1.07818563 |\n",
       "| 23 |  1.49624491 | -0.23094667 |  1.02702934 |\n",
       "| 24 | -0.66348464 |  0.21837826 | -0.23591532 |\n",
       "| 25 | -1.19209188 |  0.04602805 |  0.20435287 |\n",
       "| 26 |  0.78767949 | -1.71974952 |  0.48238863 |\n",
       "| 27 | -0.95839963 |  0.26496597 |  0.13928036 |\n",
       "| 28 | -1.23668567 | -1.68293422 | -0.48065902 |\n",
       "| 29 |  0.95414666 |  2.31666467 | -0.99315800 |\n",
       "| 30 | -0.88473057 | -1.73539376 | -0.92706668 |\n",
       "| 31 | -1.27861375 | -0.04226907 |  1.86896274 |\n",
       "| 32 |  1.45516040 |  1.04347942 |  1.39976738 |\n",
       "| 33 |  0.39448851 | -0.56135606 | -1.31499235 |\n",
       "| 34 |  0.79756417 |  1.15982503 | -0.21696976 |\n",
       "| 35 | -1.28082322 | -0.37578610 |  1.56932654 |\n",
       "| 36 | -1.13285903 |  0.17599619 | -1.38505623 |\n",
       "| 37 |  0.44552417 |  0.45408889 |  2.00778097 |\n",
       "| 38 | -0.23290039 |  2.62689913 | -0.19274323 |\n",
       "| 39 | -1.25134145 | -0.28161715 | -0.02407136 |\n",
       "| 40 | -0.96281856 | -0.40206810 | -0.45999205 |\n",
       "| 41 | -0.29469733 |  0.08317630 | -1.59847753 |\n",
       "| 42 |  0.67041159 | -1.64609894 |  1.50336675 |\n",
       "| 43 | -0.67734871 | -0.48979703 |  0.78133479 |\n",
       "| 44 |  2.06072603 |  0.10943574 | -0.94591175 |\n",
       "| 45 |  0.55196432 | -0.55813605 | -1.49102788 |\n",
       "| 46 | -1.00353213 |  1.76986097 |  1.54962296 |\n",
       "| 47 |  1.21910732 |  0.32253229 | -1.45132300 |\n",
       "| 48 |  1.95512945 |  0.75542162 |  0.57601338 |\n",
       "| 49 | -0.63681962 |  1.27195709 |  0.68611790 |\n",
       "| 50 | -0.73759323 | -0.61969535 | -0.08673240 |\n",
       "\n",
       "\n",
       "$yscores\n",
       ":   \n",
       "A matrix: 50 × 3 of type dbl\n",
       "\n",
       "| 1 |  0.98137511 |  0.35637308 | -0.81850784 |\n",
       "| 2 |  1.41081951 |  0.39527125 | -0.05288030 |\n",
       "| 3 |  0.66849767 | -0.04828754 | -0.66946319 |\n",
       "| 4 | -0.38419247 |  2.06566748 |  0.32004553 |\n",
       "| 5 | -0.23457158 |  0.31873419 | -0.99655408 |\n",
       "| 6 |  0.66282908 |  0.84320133 | -1.14115880 |\n",
       "| 7 |  0.65680116 |  0.23408976 | -0.93930850 |\n",
       "| 8 | -2.02894501 |  1.34676466 |  1.87797162 |\n",
       "| 9 | -0.35521306 |  0.52855122 | -0.93851640 |\n",
       "| 10 | -0.74924307 | -2.14927431 | -1.88853930 |\n",
       "| 11 | -0.43586700 |  0.30062706 | -0.89628914 |\n",
       "| 12 |  0.02711692 | -1.73316017 | -0.68626028 |\n",
       "| 13 | -0.73710978 |  0.39240106 |  0.45885818 |\n",
       "| 14 |  0.02424722 |  0.26855864 | -0.56068998 |\n",
       "| 15 | -0.07898516 |  0.11174646 | -0.40302574 |\n",
       "| 16 |  1.95096066 | -1.73413524 |  2.17404659 |\n",
       "| 17 | -0.11830216 |  0.75378415 | -1.06577854 |\n",
       "| 18 | -0.42167329 | -0.06037528 | -0.98646036 |\n",
       "| 19 |  0.25543609 | -0.01702239 |  1.16575164 |\n",
       "| 20 | -0.27211121 |  1.26521489 |  0.95802496 |\n",
       "| 21 |  1.42231908 | -0.74349183 |  0.03295265 |\n",
       "| 22 | -0.33674892 | -1.59630054 |  1.25524189 |\n",
       "| 23 |  1.54883499 | -0.24132401 |  0.12285885 |\n",
       "| 24 | -0.75392688 | -0.05608132 | -0.71898786 |\n",
       "| 25 | -1.29997024 | -0.57587932 |  0.78087548 |\n",
       "| 26 |  0.82248532 | -1.04548629 | -0.31800522 |\n",
       "| 27 | -1.08953625 | -0.28675669 | -0.10471206 |\n",
       "| 28 | -0.94825665 | -1.36432128 | -0.86223939 |\n",
       "| 29 |  0.99534927 |  1.96761331 | -0.31719857 |\n",
       "| 30 | -0.91866910 | -1.76630704 | -0.68738630 |\n",
       "| 31 | -1.31681465 | -0.03337867 |  1.58085741 |\n",
       "| 32 |  1.41782862 |  0.06439747 |  0.23740976 |\n",
       "| 33 |  0.42440218 | -0.24339191 | -0.16173975 |\n",
       "| 34 |  0.84705696 |  1.23436223 | -0.99906800 |\n",
       "| 35 | -1.39413481 | -0.42995200 |  1.59723856 |\n",
       "| 36 | -0.99009760 |  0.19530241 | -0.36286858 |\n",
       "| 37 |  0.53124749 |  0.68202965 |  2.10871044 |\n",
       "| 38 | -0.06965387 |  2.32970512 | -1.69890699 |\n",
       "| 39 | -1.37196756 | -0.77980871 |  0.23239892 |\n",
       "| 40 | -1.07534254 | -0.64775903 | -0.19488329 |\n",
       "| 41 | -0.36038240 |  0.23303400 | -0.72345287 |\n",
       "| 42 |  0.74658843 | -0.95259381 |  0.61119765 |\n",
       "| 43 | -0.70990103 | -0.09398198 |  0.77808391 |\n",
       "| 44 |  1.88882422 |  0.39561644 |  1.36344754 |\n",
       "| 45 |  0.58531143 | -0.25773570 | -0.13306912 |\n",
       "| 46 | -1.01138481 |  1.41439403 |  1.86994801 |\n",
       "| 47 |  1.23212873 | -0.38088675 |  0.30556149 |\n",
       "| 48 |  1.91986234 | -0.50788655 |  0.47329438 |\n",
       "| 49 | -0.67788180 |  1.14275445 | -0.34111412 |\n",
       "| 50 | -0.87943961 | -1.09461599 | -0.63771089 |\n",
       "\n",
       "\n",
       "$corr.X.xscores\n",
       ":   \n",
       "A matrix: 4 × 3 of type dbl\n",
       "\n",
       "| X1 | -0.6352483 |  0.2112406 |  0.65565759 |\n",
       "| X2 | -0.7236603 | -0.2297134 | -0.06888076 |\n",
       "| X3 | -0.6428658 |  0.5132111 | -0.56862746 |\n",
       "| X4 | -0.9462723 | -0.1866690 | -0.09433235 |\n",
       "\n",
       "\n",
       "$corr.Y.xscores\n",
       ":   \n",
       "A matrix: 3 × 3 of type dbl\n",
       "\n",
       "| Y1 | -0.9743097 |  0.009650714 | -0.075803677 |\n",
       "| Y2 | -0.9442884 | -0.273145316 |  0.002605397 |\n",
       "| Y3 | -0.9439746 |  0.170594666 |  0.093754591 |\n",
       "\n",
       "\n",
       "$corr.X.yscores\n",
       ":   \n",
       "A matrix: 4 × 3 of type dbl\n",
       "\n",
       "| X1 | -0.6315339 |  0.1845467 |  0.25039414 |\n",
       "| X2 | -0.7194289 | -0.2006851 | -0.02630541 |\n",
       "| X3 | -0.6391068 |  0.4483580 | -0.21715753 |\n",
       "| X4 | -0.9407393 | -0.1630801 | -0.03602531 |\n",
       "\n",
       "\n",
       "$corr.Y.yscores\n",
       ":   \n",
       "A matrix: 3 × 3 of type dbl\n",
       "\n",
       "| Y1 | -0.9800402 |  0.01104665 | -0.198492088 |\n",
       "| Y2 | -0.9498424 | -0.31265469 |  0.006822237 |\n",
       "| Y3 | -0.9495266 |  0.19527050 |  0.245496595 |\n",
       "\n",
       "\n",
       "\n",
       "\n"
      ],
      "text/plain": [
       "$xscores\n",
       "          [,1]        [,2]        [,3]\n",
       "1   0.97290017 -0.10250187  0.08968621\n",
       "2   1.40535598  0.75697544 -0.44517936\n",
       "3   0.65992174 -0.70211272 -0.09679012\n",
       "4  -0.12320607  0.96306378 -0.17523649\n",
       "5  -0.21109383  0.17501057 -0.78714654\n",
       "6   0.60505806  0.62233376 -0.48514504\n",
       "7   0.65573909 -0.44245893  0.14212108\n",
       "8  -2.37805906  0.91671131 -0.13393248\n",
       "9  -0.29887997  0.34283009 -1.35956633\n",
       "10 -0.93846464 -0.63787904  0.12291472\n",
       "11 -0.41196524  0.15682687 -0.57749942\n",
       "12  0.09618257 -2.36460692 -0.14022301\n",
       "13 -0.72371244  0.28615700  0.71385082\n",
       "14  0.04695233  0.15813755 -0.26931228\n",
       "15 -0.03439194 -0.38756024  1.79602936\n",
       "16  1.80262799 -1.61694454  1.07380016\n",
       "17 -0.09466950  0.46759905  0.16875907\n",
       "18 -0.35060783 -0.13788363 -0.08892924\n",
       "19  0.20108907  0.05477229 -2.18332033\n",
       "20 -0.34730179  0.95375926  0.88984018\n",
       "21  1.39359974 -0.57355555  0.83221669\n",
       "22 -0.29048165 -1.16153510 -1.07818563\n",
       "23  1.49624491 -0.23094667  1.02702934\n",
       "24 -0.66348464  0.21837826 -0.23591532\n",
       "25 -1.19209188  0.04602805  0.20435287\n",
       "26  0.78767949 -1.71974952  0.48238863\n",
       "27 -0.95839963  0.26496597  0.13928036\n",
       "28 -1.23668567 -1.68293422 -0.48065902\n",
       "29  0.95414666  2.31666467 -0.99315800\n",
       "30 -0.88473057 -1.73539376 -0.92706668\n",
       "31 -1.27861375 -0.04226907  1.86896274\n",
       "32  1.45516040  1.04347942  1.39976738\n",
       "33  0.39448851 -0.56135606 -1.31499235\n",
       "34  0.79756417  1.15982503 -0.21696976\n",
       "35 -1.28082322 -0.37578610  1.56932654\n",
       "36 -1.13285903  0.17599619 -1.38505623\n",
       "37  0.44552417  0.45408889  2.00778097\n",
       "38 -0.23290039  2.62689913 -0.19274323\n",
       "39 -1.25134145 -0.28161715 -0.02407136\n",
       "40 -0.96281856 -0.40206810 -0.45999205\n",
       "41 -0.29469733  0.08317630 -1.59847753\n",
       "42  0.67041159 -1.64609894  1.50336675\n",
       "43 -0.67734871 -0.48979703  0.78133479\n",
       "44  2.06072603  0.10943574 -0.94591175\n",
       "45  0.55196432 -0.55813605 -1.49102788\n",
       "46 -1.00353213  1.76986097  1.54962296\n",
       "47  1.21910732  0.32253229 -1.45132300\n",
       "48  1.95512945  0.75542162  0.57601338\n",
       "49 -0.63681962  1.27195709  0.68611790\n",
       "50 -0.73759323 -0.61969535 -0.08673240\n",
       "\n",
       "$yscores\n",
       "          [,1]        [,2]        [,3]\n",
       "1   0.98137511  0.35637308 -0.81850784\n",
       "2   1.41081951  0.39527125 -0.05288030\n",
       "3   0.66849767 -0.04828754 -0.66946319\n",
       "4  -0.38419247  2.06566748  0.32004553\n",
       "5  -0.23457158  0.31873419 -0.99655408\n",
       "6   0.66282908  0.84320133 -1.14115880\n",
       "7   0.65680116  0.23408976 -0.93930850\n",
       "8  -2.02894501  1.34676466  1.87797162\n",
       "9  -0.35521306  0.52855122 -0.93851640\n",
       "10 -0.74924307 -2.14927431 -1.88853930\n",
       "11 -0.43586700  0.30062706 -0.89628914\n",
       "12  0.02711692 -1.73316017 -0.68626028\n",
       "13 -0.73710978  0.39240106  0.45885818\n",
       "14  0.02424722  0.26855864 -0.56068998\n",
       "15 -0.07898516  0.11174646 -0.40302574\n",
       "16  1.95096066 -1.73413524  2.17404659\n",
       "17 -0.11830216  0.75378415 -1.06577854\n",
       "18 -0.42167329 -0.06037528 -0.98646036\n",
       "19  0.25543609 -0.01702239  1.16575164\n",
       "20 -0.27211121  1.26521489  0.95802496\n",
       "21  1.42231908 -0.74349183  0.03295265\n",
       "22 -0.33674892 -1.59630054  1.25524189\n",
       "23  1.54883499 -0.24132401  0.12285885\n",
       "24 -0.75392688 -0.05608132 -0.71898786\n",
       "25 -1.29997024 -0.57587932  0.78087548\n",
       "26  0.82248532 -1.04548629 -0.31800522\n",
       "27 -1.08953625 -0.28675669 -0.10471206\n",
       "28 -0.94825665 -1.36432128 -0.86223939\n",
       "29  0.99534927  1.96761331 -0.31719857\n",
       "30 -0.91866910 -1.76630704 -0.68738630\n",
       "31 -1.31681465 -0.03337867  1.58085741\n",
       "32  1.41782862  0.06439747  0.23740976\n",
       "33  0.42440218 -0.24339191 -0.16173975\n",
       "34  0.84705696  1.23436223 -0.99906800\n",
       "35 -1.39413481 -0.42995200  1.59723856\n",
       "36 -0.99009760  0.19530241 -0.36286858\n",
       "37  0.53124749  0.68202965  2.10871044\n",
       "38 -0.06965387  2.32970512 -1.69890699\n",
       "39 -1.37196756 -0.77980871  0.23239892\n",
       "40 -1.07534254 -0.64775903 -0.19488329\n",
       "41 -0.36038240  0.23303400 -0.72345287\n",
       "42  0.74658843 -0.95259381  0.61119765\n",
       "43 -0.70990103 -0.09398198  0.77808391\n",
       "44  1.88882422  0.39561644  1.36344754\n",
       "45  0.58531143 -0.25773570 -0.13306912\n",
       "46 -1.01138481  1.41439403  1.86994801\n",
       "47  1.23212873 -0.38088675  0.30556149\n",
       "48  1.91986234 -0.50788655  0.47329438\n",
       "49 -0.67788180  1.14275445 -0.34111412\n",
       "50 -0.87943961 -1.09461599 -0.63771089\n",
       "\n",
       "$corr.X.xscores\n",
       "         [,1]       [,2]        [,3]\n",
       "X1 -0.6352483  0.2112406  0.65565759\n",
       "X2 -0.7236603 -0.2297134 -0.06888076\n",
       "X3 -0.6428658  0.5132111 -0.56862746\n",
       "X4 -0.9462723 -0.1866690 -0.09433235\n",
       "\n",
       "$corr.Y.xscores\n",
       "         [,1]         [,2]         [,3]\n",
       "Y1 -0.9743097  0.009650714 -0.075803677\n",
       "Y2 -0.9442884 -0.273145316  0.002605397\n",
       "Y3 -0.9439746  0.170594666  0.093754591\n",
       "\n",
       "$corr.X.yscores\n",
       "         [,1]       [,2]        [,3]\n",
       "X1 -0.6315339  0.1845467  0.25039414\n",
       "X2 -0.7194289 -0.2006851 -0.02630541\n",
       "X3 -0.6391068  0.4483580 -0.21715753\n",
       "X4 -0.9407393 -0.1630801 -0.03602531\n",
       "\n",
       "$corr.Y.yscores\n",
       "         [,1]        [,2]         [,3]\n",
       "Y1 -0.9800402  0.01104665 -0.198492088\n",
       "Y2 -0.9498424 -0.31265469  0.006822237\n",
       "Y3 -0.9495266  0.19527050  0.245496595\n"
      ]
     },
     "metadata": {},
     "output_type": "display_data"
    }
   ],
   "source": [
    "canonical.result$scores"
   ]
  },
  {
   "cell_type": "code",
   "execution_count": 20,
   "metadata": {
    "ExecuteTime": {
     "end_time": "2020-11-23T05:40:38.149093Z",
     "start_time": "2020-11-23T05:40:38.043Z"
    }
   },
   "outputs": [
    {
     "data": {
      "text/html": [
       "<table>\n",
       "<caption>A matrix: 50 × 3 of type dbl</caption>\n",
       "<tbody>\n",
       "\t<tr><th scope=row>1</th><td> 0.97290017</td><td>-0.10250187</td><td> 0.08968621</td></tr>\n",
       "\t<tr><th scope=row>2</th><td> 1.40535598</td><td> 0.75697544</td><td>-0.44517936</td></tr>\n",
       "\t<tr><th scope=row>3</th><td> 0.65992174</td><td>-0.70211272</td><td>-0.09679012</td></tr>\n",
       "\t<tr><th scope=row>4</th><td>-0.12320607</td><td> 0.96306378</td><td>-0.17523649</td></tr>\n",
       "\t<tr><th scope=row>5</th><td>-0.21109383</td><td> 0.17501057</td><td>-0.78714654</td></tr>\n",
       "\t<tr><th scope=row>6</th><td> 0.60505806</td><td> 0.62233376</td><td>-0.48514504</td></tr>\n",
       "\t<tr><th scope=row>7</th><td> 0.65573909</td><td>-0.44245893</td><td> 0.14212108</td></tr>\n",
       "\t<tr><th scope=row>8</th><td>-2.37805906</td><td> 0.91671131</td><td>-0.13393248</td></tr>\n",
       "\t<tr><th scope=row>9</th><td>-0.29887997</td><td> 0.34283009</td><td>-1.35956633</td></tr>\n",
       "\t<tr><th scope=row>10</th><td>-0.93846464</td><td>-0.63787904</td><td> 0.12291472</td></tr>\n",
       "\t<tr><th scope=row>11</th><td>-0.41196524</td><td> 0.15682687</td><td>-0.57749942</td></tr>\n",
       "\t<tr><th scope=row>12</th><td> 0.09618257</td><td>-2.36460692</td><td>-0.14022301</td></tr>\n",
       "\t<tr><th scope=row>13</th><td>-0.72371244</td><td> 0.28615700</td><td> 0.71385082</td></tr>\n",
       "\t<tr><th scope=row>14</th><td> 0.04695233</td><td> 0.15813755</td><td>-0.26931228</td></tr>\n",
       "\t<tr><th scope=row>15</th><td>-0.03439194</td><td>-0.38756024</td><td> 1.79602936</td></tr>\n",
       "\t<tr><th scope=row>16</th><td> 1.80262799</td><td>-1.61694454</td><td> 1.07380016</td></tr>\n",
       "\t<tr><th scope=row>17</th><td>-0.09466950</td><td> 0.46759905</td><td> 0.16875907</td></tr>\n",
       "\t<tr><th scope=row>18</th><td>-0.35060783</td><td>-0.13788363</td><td>-0.08892924</td></tr>\n",
       "\t<tr><th scope=row>19</th><td> 0.20108907</td><td> 0.05477229</td><td>-2.18332033</td></tr>\n",
       "\t<tr><th scope=row>20</th><td>-0.34730179</td><td> 0.95375926</td><td> 0.88984018</td></tr>\n",
       "\t<tr><th scope=row>21</th><td> 1.39359974</td><td>-0.57355555</td><td> 0.83221669</td></tr>\n",
       "\t<tr><th scope=row>22</th><td>-0.29048165</td><td>-1.16153510</td><td>-1.07818563</td></tr>\n",
       "\t<tr><th scope=row>23</th><td> 1.49624491</td><td>-0.23094667</td><td> 1.02702934</td></tr>\n",
       "\t<tr><th scope=row>24</th><td>-0.66348464</td><td> 0.21837826</td><td>-0.23591532</td></tr>\n",
       "\t<tr><th scope=row>25</th><td>-1.19209188</td><td> 0.04602805</td><td> 0.20435287</td></tr>\n",
       "\t<tr><th scope=row>26</th><td> 0.78767949</td><td>-1.71974952</td><td> 0.48238863</td></tr>\n",
       "\t<tr><th scope=row>27</th><td>-0.95839963</td><td> 0.26496597</td><td> 0.13928036</td></tr>\n",
       "\t<tr><th scope=row>28</th><td>-1.23668567</td><td>-1.68293422</td><td>-0.48065902</td></tr>\n",
       "\t<tr><th scope=row>29</th><td> 0.95414666</td><td> 2.31666467</td><td>-0.99315800</td></tr>\n",
       "\t<tr><th scope=row>30</th><td>-0.88473057</td><td>-1.73539376</td><td>-0.92706668</td></tr>\n",
       "\t<tr><th scope=row>31</th><td>-1.27861375</td><td>-0.04226907</td><td> 1.86896274</td></tr>\n",
       "\t<tr><th scope=row>32</th><td> 1.45516040</td><td> 1.04347942</td><td> 1.39976738</td></tr>\n",
       "\t<tr><th scope=row>33</th><td> 0.39448851</td><td>-0.56135606</td><td>-1.31499235</td></tr>\n",
       "\t<tr><th scope=row>34</th><td> 0.79756417</td><td> 1.15982503</td><td>-0.21696976</td></tr>\n",
       "\t<tr><th scope=row>35</th><td>-1.28082322</td><td>-0.37578610</td><td> 1.56932654</td></tr>\n",
       "\t<tr><th scope=row>36</th><td>-1.13285903</td><td> 0.17599619</td><td>-1.38505623</td></tr>\n",
       "\t<tr><th scope=row>37</th><td> 0.44552417</td><td> 0.45408889</td><td> 2.00778097</td></tr>\n",
       "\t<tr><th scope=row>38</th><td>-0.23290039</td><td> 2.62689913</td><td>-0.19274323</td></tr>\n",
       "\t<tr><th scope=row>39</th><td>-1.25134145</td><td>-0.28161715</td><td>-0.02407136</td></tr>\n",
       "\t<tr><th scope=row>40</th><td>-0.96281856</td><td>-0.40206810</td><td>-0.45999205</td></tr>\n",
       "\t<tr><th scope=row>41</th><td>-0.29469733</td><td> 0.08317630</td><td>-1.59847753</td></tr>\n",
       "\t<tr><th scope=row>42</th><td> 0.67041159</td><td>-1.64609894</td><td> 1.50336675</td></tr>\n",
       "\t<tr><th scope=row>43</th><td>-0.67734871</td><td>-0.48979703</td><td> 0.78133479</td></tr>\n",
       "\t<tr><th scope=row>44</th><td> 2.06072603</td><td> 0.10943574</td><td>-0.94591175</td></tr>\n",
       "\t<tr><th scope=row>45</th><td> 0.55196432</td><td>-0.55813605</td><td>-1.49102788</td></tr>\n",
       "\t<tr><th scope=row>46</th><td>-1.00353213</td><td> 1.76986097</td><td> 1.54962296</td></tr>\n",
       "\t<tr><th scope=row>47</th><td> 1.21910732</td><td> 0.32253229</td><td>-1.45132300</td></tr>\n",
       "\t<tr><th scope=row>48</th><td> 1.95512945</td><td> 0.75542162</td><td> 0.57601338</td></tr>\n",
       "\t<tr><th scope=row>49</th><td>-0.63681962</td><td> 1.27195709</td><td> 0.68611790</td></tr>\n",
       "\t<tr><th scope=row>50</th><td>-0.73759323</td><td>-0.61969535</td><td>-0.08673240</td></tr>\n",
       "</tbody>\n",
       "</table>\n"
      ],
      "text/latex": [
       "A matrix: 50 × 3 of type dbl\n",
       "\\begin{tabular}{r|lll}\n",
       "\t1 &  0.97290017 & -0.10250187 &  0.08968621\\\\\n",
       "\t2 &  1.40535598 &  0.75697544 & -0.44517936\\\\\n",
       "\t3 &  0.65992174 & -0.70211272 & -0.09679012\\\\\n",
       "\t4 & -0.12320607 &  0.96306378 & -0.17523649\\\\\n",
       "\t5 & -0.21109383 &  0.17501057 & -0.78714654\\\\\n",
       "\t6 &  0.60505806 &  0.62233376 & -0.48514504\\\\\n",
       "\t7 &  0.65573909 & -0.44245893 &  0.14212108\\\\\n",
       "\t8 & -2.37805906 &  0.91671131 & -0.13393248\\\\\n",
       "\t9 & -0.29887997 &  0.34283009 & -1.35956633\\\\\n",
       "\t10 & -0.93846464 & -0.63787904 &  0.12291472\\\\\n",
       "\t11 & -0.41196524 &  0.15682687 & -0.57749942\\\\\n",
       "\t12 &  0.09618257 & -2.36460692 & -0.14022301\\\\\n",
       "\t13 & -0.72371244 &  0.28615700 &  0.71385082\\\\\n",
       "\t14 &  0.04695233 &  0.15813755 & -0.26931228\\\\\n",
       "\t15 & -0.03439194 & -0.38756024 &  1.79602936\\\\\n",
       "\t16 &  1.80262799 & -1.61694454 &  1.07380016\\\\\n",
       "\t17 & -0.09466950 &  0.46759905 &  0.16875907\\\\\n",
       "\t18 & -0.35060783 & -0.13788363 & -0.08892924\\\\\n",
       "\t19 &  0.20108907 &  0.05477229 & -2.18332033\\\\\n",
       "\t20 & -0.34730179 &  0.95375926 &  0.88984018\\\\\n",
       "\t21 &  1.39359974 & -0.57355555 &  0.83221669\\\\\n",
       "\t22 & -0.29048165 & -1.16153510 & -1.07818563\\\\\n",
       "\t23 &  1.49624491 & -0.23094667 &  1.02702934\\\\\n",
       "\t24 & -0.66348464 &  0.21837826 & -0.23591532\\\\\n",
       "\t25 & -1.19209188 &  0.04602805 &  0.20435287\\\\\n",
       "\t26 &  0.78767949 & -1.71974952 &  0.48238863\\\\\n",
       "\t27 & -0.95839963 &  0.26496597 &  0.13928036\\\\\n",
       "\t28 & -1.23668567 & -1.68293422 & -0.48065902\\\\\n",
       "\t29 &  0.95414666 &  2.31666467 & -0.99315800\\\\\n",
       "\t30 & -0.88473057 & -1.73539376 & -0.92706668\\\\\n",
       "\t31 & -1.27861375 & -0.04226907 &  1.86896274\\\\\n",
       "\t32 &  1.45516040 &  1.04347942 &  1.39976738\\\\\n",
       "\t33 &  0.39448851 & -0.56135606 & -1.31499235\\\\\n",
       "\t34 &  0.79756417 &  1.15982503 & -0.21696976\\\\\n",
       "\t35 & -1.28082322 & -0.37578610 &  1.56932654\\\\\n",
       "\t36 & -1.13285903 &  0.17599619 & -1.38505623\\\\\n",
       "\t37 &  0.44552417 &  0.45408889 &  2.00778097\\\\\n",
       "\t38 & -0.23290039 &  2.62689913 & -0.19274323\\\\\n",
       "\t39 & -1.25134145 & -0.28161715 & -0.02407136\\\\\n",
       "\t40 & -0.96281856 & -0.40206810 & -0.45999205\\\\\n",
       "\t41 & -0.29469733 &  0.08317630 & -1.59847753\\\\\n",
       "\t42 &  0.67041159 & -1.64609894 &  1.50336675\\\\\n",
       "\t43 & -0.67734871 & -0.48979703 &  0.78133479\\\\\n",
       "\t44 &  2.06072603 &  0.10943574 & -0.94591175\\\\\n",
       "\t45 &  0.55196432 & -0.55813605 & -1.49102788\\\\\n",
       "\t46 & -1.00353213 &  1.76986097 &  1.54962296\\\\\n",
       "\t47 &  1.21910732 &  0.32253229 & -1.45132300\\\\\n",
       "\t48 &  1.95512945 &  0.75542162 &  0.57601338\\\\\n",
       "\t49 & -0.63681962 &  1.27195709 &  0.68611790\\\\\n",
       "\t50 & -0.73759323 & -0.61969535 & -0.08673240\\\\\n",
       "\\end{tabular}\n"
      ],
      "text/markdown": [
       "\n",
       "A matrix: 50 × 3 of type dbl\n",
       "\n",
       "| 1 |  0.97290017 | -0.10250187 |  0.08968621 |\n",
       "| 2 |  1.40535598 |  0.75697544 | -0.44517936 |\n",
       "| 3 |  0.65992174 | -0.70211272 | -0.09679012 |\n",
       "| 4 | -0.12320607 |  0.96306378 | -0.17523649 |\n",
       "| 5 | -0.21109383 |  0.17501057 | -0.78714654 |\n",
       "| 6 |  0.60505806 |  0.62233376 | -0.48514504 |\n",
       "| 7 |  0.65573909 | -0.44245893 |  0.14212108 |\n",
       "| 8 | -2.37805906 |  0.91671131 | -0.13393248 |\n",
       "| 9 | -0.29887997 |  0.34283009 | -1.35956633 |\n",
       "| 10 | -0.93846464 | -0.63787904 |  0.12291472 |\n",
       "| 11 | -0.41196524 |  0.15682687 | -0.57749942 |\n",
       "| 12 |  0.09618257 | -2.36460692 | -0.14022301 |\n",
       "| 13 | -0.72371244 |  0.28615700 |  0.71385082 |\n",
       "| 14 |  0.04695233 |  0.15813755 | -0.26931228 |\n",
       "| 15 | -0.03439194 | -0.38756024 |  1.79602936 |\n",
       "| 16 |  1.80262799 | -1.61694454 |  1.07380016 |\n",
       "| 17 | -0.09466950 |  0.46759905 |  0.16875907 |\n",
       "| 18 | -0.35060783 | -0.13788363 | -0.08892924 |\n",
       "| 19 |  0.20108907 |  0.05477229 | -2.18332033 |\n",
       "| 20 | -0.34730179 |  0.95375926 |  0.88984018 |\n",
       "| 21 |  1.39359974 | -0.57355555 |  0.83221669 |\n",
       "| 22 | -0.29048165 | -1.16153510 | -1.07818563 |\n",
       "| 23 |  1.49624491 | -0.23094667 |  1.02702934 |\n",
       "| 24 | -0.66348464 |  0.21837826 | -0.23591532 |\n",
       "| 25 | -1.19209188 |  0.04602805 |  0.20435287 |\n",
       "| 26 |  0.78767949 | -1.71974952 |  0.48238863 |\n",
       "| 27 | -0.95839963 |  0.26496597 |  0.13928036 |\n",
       "| 28 | -1.23668567 | -1.68293422 | -0.48065902 |\n",
       "| 29 |  0.95414666 |  2.31666467 | -0.99315800 |\n",
       "| 30 | -0.88473057 | -1.73539376 | -0.92706668 |\n",
       "| 31 | -1.27861375 | -0.04226907 |  1.86896274 |\n",
       "| 32 |  1.45516040 |  1.04347942 |  1.39976738 |\n",
       "| 33 |  0.39448851 | -0.56135606 | -1.31499235 |\n",
       "| 34 |  0.79756417 |  1.15982503 | -0.21696976 |\n",
       "| 35 | -1.28082322 | -0.37578610 |  1.56932654 |\n",
       "| 36 | -1.13285903 |  0.17599619 | -1.38505623 |\n",
       "| 37 |  0.44552417 |  0.45408889 |  2.00778097 |\n",
       "| 38 | -0.23290039 |  2.62689913 | -0.19274323 |\n",
       "| 39 | -1.25134145 | -0.28161715 | -0.02407136 |\n",
       "| 40 | -0.96281856 | -0.40206810 | -0.45999205 |\n",
       "| 41 | -0.29469733 |  0.08317630 | -1.59847753 |\n",
       "| 42 |  0.67041159 | -1.64609894 |  1.50336675 |\n",
       "| 43 | -0.67734871 | -0.48979703 |  0.78133479 |\n",
       "| 44 |  2.06072603 |  0.10943574 | -0.94591175 |\n",
       "| 45 |  0.55196432 | -0.55813605 | -1.49102788 |\n",
       "| 46 | -1.00353213 |  1.76986097 |  1.54962296 |\n",
       "| 47 |  1.21910732 |  0.32253229 | -1.45132300 |\n",
       "| 48 |  1.95512945 |  0.75542162 |  0.57601338 |\n",
       "| 49 | -0.63681962 |  1.27195709 |  0.68611790 |\n",
       "| 50 | -0.73759323 | -0.61969535 | -0.08673240 |\n",
       "\n"
      ],
      "text/plain": [
       "   [,1]        [,2]        [,3]       \n",
       "1   0.97290017 -0.10250187  0.08968621\n",
       "2   1.40535598  0.75697544 -0.44517936\n",
       "3   0.65992174 -0.70211272 -0.09679012\n",
       "4  -0.12320607  0.96306378 -0.17523649\n",
       "5  -0.21109383  0.17501057 -0.78714654\n",
       "6   0.60505806  0.62233376 -0.48514504\n",
       "7   0.65573909 -0.44245893  0.14212108\n",
       "8  -2.37805906  0.91671131 -0.13393248\n",
       "9  -0.29887997  0.34283009 -1.35956633\n",
       "10 -0.93846464 -0.63787904  0.12291472\n",
       "11 -0.41196524  0.15682687 -0.57749942\n",
       "12  0.09618257 -2.36460692 -0.14022301\n",
       "13 -0.72371244  0.28615700  0.71385082\n",
       "14  0.04695233  0.15813755 -0.26931228\n",
       "15 -0.03439194 -0.38756024  1.79602936\n",
       "16  1.80262799 -1.61694454  1.07380016\n",
       "17 -0.09466950  0.46759905  0.16875907\n",
       "18 -0.35060783 -0.13788363 -0.08892924\n",
       "19  0.20108907  0.05477229 -2.18332033\n",
       "20 -0.34730179  0.95375926  0.88984018\n",
       "21  1.39359974 -0.57355555  0.83221669\n",
       "22 -0.29048165 -1.16153510 -1.07818563\n",
       "23  1.49624491 -0.23094667  1.02702934\n",
       "24 -0.66348464  0.21837826 -0.23591532\n",
       "25 -1.19209188  0.04602805  0.20435287\n",
       "26  0.78767949 -1.71974952  0.48238863\n",
       "27 -0.95839963  0.26496597  0.13928036\n",
       "28 -1.23668567 -1.68293422 -0.48065902\n",
       "29  0.95414666  2.31666467 -0.99315800\n",
       "30 -0.88473057 -1.73539376 -0.92706668\n",
       "31 -1.27861375 -0.04226907  1.86896274\n",
       "32  1.45516040  1.04347942  1.39976738\n",
       "33  0.39448851 -0.56135606 -1.31499235\n",
       "34  0.79756417  1.15982503 -0.21696976\n",
       "35 -1.28082322 -0.37578610  1.56932654\n",
       "36 -1.13285903  0.17599619 -1.38505623\n",
       "37  0.44552417  0.45408889  2.00778097\n",
       "38 -0.23290039  2.62689913 -0.19274323\n",
       "39 -1.25134145 -0.28161715 -0.02407136\n",
       "40 -0.96281856 -0.40206810 -0.45999205\n",
       "41 -0.29469733  0.08317630 -1.59847753\n",
       "42  0.67041159 -1.64609894  1.50336675\n",
       "43 -0.67734871 -0.48979703  0.78133479\n",
       "44  2.06072603  0.10943574 -0.94591175\n",
       "45  0.55196432 -0.55813605 -1.49102788\n",
       "46 -1.00353213  1.76986097  1.54962296\n",
       "47  1.21910732  0.32253229 -1.45132300\n",
       "48  1.95512945  0.75542162  0.57601338\n",
       "49 -0.63681962  1.27195709  0.68611790\n",
       "50 -0.73759323 -0.61969535 -0.08673240"
      ]
     },
     "metadata": {},
     "output_type": "display_data"
    }
   ],
   "source": [
    "canonical.result$scores$xscores"
   ]
  },
  {
   "cell_type": "markdown",
   "metadata": {},
   "source": [
    "각 관측치별 w1, w2, w3의 값"
   ]
  },
  {
   "cell_type": "code",
   "execution_count": 21,
   "metadata": {
    "ExecuteTime": {
     "end_time": "2020-11-23T05:41:25.200142Z",
     "start_time": "2020-11-23T05:41:25.125Z"
    }
   },
   "outputs": [
    {
     "data": {
      "text/html": [
       "<table>\n",
       "<caption>A matrix: 50 × 3 of type dbl</caption>\n",
       "<tbody>\n",
       "\t<tr><th scope=row>1</th><td> 0.98137511</td><td> 0.35637308</td><td>-0.81850784</td></tr>\n",
       "\t<tr><th scope=row>2</th><td> 1.41081951</td><td> 0.39527125</td><td>-0.05288030</td></tr>\n",
       "\t<tr><th scope=row>3</th><td> 0.66849767</td><td>-0.04828754</td><td>-0.66946319</td></tr>\n",
       "\t<tr><th scope=row>4</th><td>-0.38419247</td><td> 2.06566748</td><td> 0.32004553</td></tr>\n",
       "\t<tr><th scope=row>5</th><td>-0.23457158</td><td> 0.31873419</td><td>-0.99655408</td></tr>\n",
       "\t<tr><th scope=row>6</th><td> 0.66282908</td><td> 0.84320133</td><td>-1.14115880</td></tr>\n",
       "\t<tr><th scope=row>7</th><td> 0.65680116</td><td> 0.23408976</td><td>-0.93930850</td></tr>\n",
       "\t<tr><th scope=row>8</th><td>-2.02894501</td><td> 1.34676466</td><td> 1.87797162</td></tr>\n",
       "\t<tr><th scope=row>9</th><td>-0.35521306</td><td> 0.52855122</td><td>-0.93851640</td></tr>\n",
       "\t<tr><th scope=row>10</th><td>-0.74924307</td><td>-2.14927431</td><td>-1.88853930</td></tr>\n",
       "\t<tr><th scope=row>11</th><td>-0.43586700</td><td> 0.30062706</td><td>-0.89628914</td></tr>\n",
       "\t<tr><th scope=row>12</th><td> 0.02711692</td><td>-1.73316017</td><td>-0.68626028</td></tr>\n",
       "\t<tr><th scope=row>13</th><td>-0.73710978</td><td> 0.39240106</td><td> 0.45885818</td></tr>\n",
       "\t<tr><th scope=row>14</th><td> 0.02424722</td><td> 0.26855864</td><td>-0.56068998</td></tr>\n",
       "\t<tr><th scope=row>15</th><td>-0.07898516</td><td> 0.11174646</td><td>-0.40302574</td></tr>\n",
       "\t<tr><th scope=row>16</th><td> 1.95096066</td><td>-1.73413524</td><td> 2.17404659</td></tr>\n",
       "\t<tr><th scope=row>17</th><td>-0.11830216</td><td> 0.75378415</td><td>-1.06577854</td></tr>\n",
       "\t<tr><th scope=row>18</th><td>-0.42167329</td><td>-0.06037528</td><td>-0.98646036</td></tr>\n",
       "\t<tr><th scope=row>19</th><td> 0.25543609</td><td>-0.01702239</td><td> 1.16575164</td></tr>\n",
       "\t<tr><th scope=row>20</th><td>-0.27211121</td><td> 1.26521489</td><td> 0.95802496</td></tr>\n",
       "\t<tr><th scope=row>21</th><td> 1.42231908</td><td>-0.74349183</td><td> 0.03295265</td></tr>\n",
       "\t<tr><th scope=row>22</th><td>-0.33674892</td><td>-1.59630054</td><td> 1.25524189</td></tr>\n",
       "\t<tr><th scope=row>23</th><td> 1.54883499</td><td>-0.24132401</td><td> 0.12285885</td></tr>\n",
       "\t<tr><th scope=row>24</th><td>-0.75392688</td><td>-0.05608132</td><td>-0.71898786</td></tr>\n",
       "\t<tr><th scope=row>25</th><td>-1.29997024</td><td>-0.57587932</td><td> 0.78087548</td></tr>\n",
       "\t<tr><th scope=row>26</th><td> 0.82248532</td><td>-1.04548629</td><td>-0.31800522</td></tr>\n",
       "\t<tr><th scope=row>27</th><td>-1.08953625</td><td>-0.28675669</td><td>-0.10471206</td></tr>\n",
       "\t<tr><th scope=row>28</th><td>-0.94825665</td><td>-1.36432128</td><td>-0.86223939</td></tr>\n",
       "\t<tr><th scope=row>29</th><td> 0.99534927</td><td> 1.96761331</td><td>-0.31719857</td></tr>\n",
       "\t<tr><th scope=row>30</th><td>-0.91866910</td><td>-1.76630704</td><td>-0.68738630</td></tr>\n",
       "\t<tr><th scope=row>31</th><td>-1.31681465</td><td>-0.03337867</td><td> 1.58085741</td></tr>\n",
       "\t<tr><th scope=row>32</th><td> 1.41782862</td><td> 0.06439747</td><td> 0.23740976</td></tr>\n",
       "\t<tr><th scope=row>33</th><td> 0.42440218</td><td>-0.24339191</td><td>-0.16173975</td></tr>\n",
       "\t<tr><th scope=row>34</th><td> 0.84705696</td><td> 1.23436223</td><td>-0.99906800</td></tr>\n",
       "\t<tr><th scope=row>35</th><td>-1.39413481</td><td>-0.42995200</td><td> 1.59723856</td></tr>\n",
       "\t<tr><th scope=row>36</th><td>-0.99009760</td><td> 0.19530241</td><td>-0.36286858</td></tr>\n",
       "\t<tr><th scope=row>37</th><td> 0.53124749</td><td> 0.68202965</td><td> 2.10871044</td></tr>\n",
       "\t<tr><th scope=row>38</th><td>-0.06965387</td><td> 2.32970512</td><td>-1.69890699</td></tr>\n",
       "\t<tr><th scope=row>39</th><td>-1.37196756</td><td>-0.77980871</td><td> 0.23239892</td></tr>\n",
       "\t<tr><th scope=row>40</th><td>-1.07534254</td><td>-0.64775903</td><td>-0.19488329</td></tr>\n",
       "\t<tr><th scope=row>41</th><td>-0.36038240</td><td> 0.23303400</td><td>-0.72345287</td></tr>\n",
       "\t<tr><th scope=row>42</th><td> 0.74658843</td><td>-0.95259381</td><td> 0.61119765</td></tr>\n",
       "\t<tr><th scope=row>43</th><td>-0.70990103</td><td>-0.09398198</td><td> 0.77808391</td></tr>\n",
       "\t<tr><th scope=row>44</th><td> 1.88882422</td><td> 0.39561644</td><td> 1.36344754</td></tr>\n",
       "\t<tr><th scope=row>45</th><td> 0.58531143</td><td>-0.25773570</td><td>-0.13306912</td></tr>\n",
       "\t<tr><th scope=row>46</th><td>-1.01138481</td><td> 1.41439403</td><td> 1.86994801</td></tr>\n",
       "\t<tr><th scope=row>47</th><td> 1.23212873</td><td>-0.38088675</td><td> 0.30556149</td></tr>\n",
       "\t<tr><th scope=row>48</th><td> 1.91986234</td><td>-0.50788655</td><td> 0.47329438</td></tr>\n",
       "\t<tr><th scope=row>49</th><td>-0.67788180</td><td> 1.14275445</td><td>-0.34111412</td></tr>\n",
       "\t<tr><th scope=row>50</th><td>-0.87943961</td><td>-1.09461599</td><td>-0.63771089</td></tr>\n",
       "</tbody>\n",
       "</table>\n"
      ],
      "text/latex": [
       "A matrix: 50 × 3 of type dbl\n",
       "\\begin{tabular}{r|lll}\n",
       "\t1 &  0.98137511 &  0.35637308 & -0.81850784\\\\\n",
       "\t2 &  1.41081951 &  0.39527125 & -0.05288030\\\\\n",
       "\t3 &  0.66849767 & -0.04828754 & -0.66946319\\\\\n",
       "\t4 & -0.38419247 &  2.06566748 &  0.32004553\\\\\n",
       "\t5 & -0.23457158 &  0.31873419 & -0.99655408\\\\\n",
       "\t6 &  0.66282908 &  0.84320133 & -1.14115880\\\\\n",
       "\t7 &  0.65680116 &  0.23408976 & -0.93930850\\\\\n",
       "\t8 & -2.02894501 &  1.34676466 &  1.87797162\\\\\n",
       "\t9 & -0.35521306 &  0.52855122 & -0.93851640\\\\\n",
       "\t10 & -0.74924307 & -2.14927431 & -1.88853930\\\\\n",
       "\t11 & -0.43586700 &  0.30062706 & -0.89628914\\\\\n",
       "\t12 &  0.02711692 & -1.73316017 & -0.68626028\\\\\n",
       "\t13 & -0.73710978 &  0.39240106 &  0.45885818\\\\\n",
       "\t14 &  0.02424722 &  0.26855864 & -0.56068998\\\\\n",
       "\t15 & -0.07898516 &  0.11174646 & -0.40302574\\\\\n",
       "\t16 &  1.95096066 & -1.73413524 &  2.17404659\\\\\n",
       "\t17 & -0.11830216 &  0.75378415 & -1.06577854\\\\\n",
       "\t18 & -0.42167329 & -0.06037528 & -0.98646036\\\\\n",
       "\t19 &  0.25543609 & -0.01702239 &  1.16575164\\\\\n",
       "\t20 & -0.27211121 &  1.26521489 &  0.95802496\\\\\n",
       "\t21 &  1.42231908 & -0.74349183 &  0.03295265\\\\\n",
       "\t22 & -0.33674892 & -1.59630054 &  1.25524189\\\\\n",
       "\t23 &  1.54883499 & -0.24132401 &  0.12285885\\\\\n",
       "\t24 & -0.75392688 & -0.05608132 & -0.71898786\\\\\n",
       "\t25 & -1.29997024 & -0.57587932 &  0.78087548\\\\\n",
       "\t26 &  0.82248532 & -1.04548629 & -0.31800522\\\\\n",
       "\t27 & -1.08953625 & -0.28675669 & -0.10471206\\\\\n",
       "\t28 & -0.94825665 & -1.36432128 & -0.86223939\\\\\n",
       "\t29 &  0.99534927 &  1.96761331 & -0.31719857\\\\\n",
       "\t30 & -0.91866910 & -1.76630704 & -0.68738630\\\\\n",
       "\t31 & -1.31681465 & -0.03337867 &  1.58085741\\\\\n",
       "\t32 &  1.41782862 &  0.06439747 &  0.23740976\\\\\n",
       "\t33 &  0.42440218 & -0.24339191 & -0.16173975\\\\\n",
       "\t34 &  0.84705696 &  1.23436223 & -0.99906800\\\\\n",
       "\t35 & -1.39413481 & -0.42995200 &  1.59723856\\\\\n",
       "\t36 & -0.99009760 &  0.19530241 & -0.36286858\\\\\n",
       "\t37 &  0.53124749 &  0.68202965 &  2.10871044\\\\\n",
       "\t38 & -0.06965387 &  2.32970512 & -1.69890699\\\\\n",
       "\t39 & -1.37196756 & -0.77980871 &  0.23239892\\\\\n",
       "\t40 & -1.07534254 & -0.64775903 & -0.19488329\\\\\n",
       "\t41 & -0.36038240 &  0.23303400 & -0.72345287\\\\\n",
       "\t42 &  0.74658843 & -0.95259381 &  0.61119765\\\\\n",
       "\t43 & -0.70990103 & -0.09398198 &  0.77808391\\\\\n",
       "\t44 &  1.88882422 &  0.39561644 &  1.36344754\\\\\n",
       "\t45 &  0.58531143 & -0.25773570 & -0.13306912\\\\\n",
       "\t46 & -1.01138481 &  1.41439403 &  1.86994801\\\\\n",
       "\t47 &  1.23212873 & -0.38088675 &  0.30556149\\\\\n",
       "\t48 &  1.91986234 & -0.50788655 &  0.47329438\\\\\n",
       "\t49 & -0.67788180 &  1.14275445 & -0.34111412\\\\\n",
       "\t50 & -0.87943961 & -1.09461599 & -0.63771089\\\\\n",
       "\\end{tabular}\n"
      ],
      "text/markdown": [
       "\n",
       "A matrix: 50 × 3 of type dbl\n",
       "\n",
       "| 1 |  0.98137511 |  0.35637308 | -0.81850784 |\n",
       "| 2 |  1.41081951 |  0.39527125 | -0.05288030 |\n",
       "| 3 |  0.66849767 | -0.04828754 | -0.66946319 |\n",
       "| 4 | -0.38419247 |  2.06566748 |  0.32004553 |\n",
       "| 5 | -0.23457158 |  0.31873419 | -0.99655408 |\n",
       "| 6 |  0.66282908 |  0.84320133 | -1.14115880 |\n",
       "| 7 |  0.65680116 |  0.23408976 | -0.93930850 |\n",
       "| 8 | -2.02894501 |  1.34676466 |  1.87797162 |\n",
       "| 9 | -0.35521306 |  0.52855122 | -0.93851640 |\n",
       "| 10 | -0.74924307 | -2.14927431 | -1.88853930 |\n",
       "| 11 | -0.43586700 |  0.30062706 | -0.89628914 |\n",
       "| 12 |  0.02711692 | -1.73316017 | -0.68626028 |\n",
       "| 13 | -0.73710978 |  0.39240106 |  0.45885818 |\n",
       "| 14 |  0.02424722 |  0.26855864 | -0.56068998 |\n",
       "| 15 | -0.07898516 |  0.11174646 | -0.40302574 |\n",
       "| 16 |  1.95096066 | -1.73413524 |  2.17404659 |\n",
       "| 17 | -0.11830216 |  0.75378415 | -1.06577854 |\n",
       "| 18 | -0.42167329 | -0.06037528 | -0.98646036 |\n",
       "| 19 |  0.25543609 | -0.01702239 |  1.16575164 |\n",
       "| 20 | -0.27211121 |  1.26521489 |  0.95802496 |\n",
       "| 21 |  1.42231908 | -0.74349183 |  0.03295265 |\n",
       "| 22 | -0.33674892 | -1.59630054 |  1.25524189 |\n",
       "| 23 |  1.54883499 | -0.24132401 |  0.12285885 |\n",
       "| 24 | -0.75392688 | -0.05608132 | -0.71898786 |\n",
       "| 25 | -1.29997024 | -0.57587932 |  0.78087548 |\n",
       "| 26 |  0.82248532 | -1.04548629 | -0.31800522 |\n",
       "| 27 | -1.08953625 | -0.28675669 | -0.10471206 |\n",
       "| 28 | -0.94825665 | -1.36432128 | -0.86223939 |\n",
       "| 29 |  0.99534927 |  1.96761331 | -0.31719857 |\n",
       "| 30 | -0.91866910 | -1.76630704 | -0.68738630 |\n",
       "| 31 | -1.31681465 | -0.03337867 |  1.58085741 |\n",
       "| 32 |  1.41782862 |  0.06439747 |  0.23740976 |\n",
       "| 33 |  0.42440218 | -0.24339191 | -0.16173975 |\n",
       "| 34 |  0.84705696 |  1.23436223 | -0.99906800 |\n",
       "| 35 | -1.39413481 | -0.42995200 |  1.59723856 |\n",
       "| 36 | -0.99009760 |  0.19530241 | -0.36286858 |\n",
       "| 37 |  0.53124749 |  0.68202965 |  2.10871044 |\n",
       "| 38 | -0.06965387 |  2.32970512 | -1.69890699 |\n",
       "| 39 | -1.37196756 | -0.77980871 |  0.23239892 |\n",
       "| 40 | -1.07534254 | -0.64775903 | -0.19488329 |\n",
       "| 41 | -0.36038240 |  0.23303400 | -0.72345287 |\n",
       "| 42 |  0.74658843 | -0.95259381 |  0.61119765 |\n",
       "| 43 | -0.70990103 | -0.09398198 |  0.77808391 |\n",
       "| 44 |  1.88882422 |  0.39561644 |  1.36344754 |\n",
       "| 45 |  0.58531143 | -0.25773570 | -0.13306912 |\n",
       "| 46 | -1.01138481 |  1.41439403 |  1.86994801 |\n",
       "| 47 |  1.23212873 | -0.38088675 |  0.30556149 |\n",
       "| 48 |  1.91986234 | -0.50788655 |  0.47329438 |\n",
       "| 49 | -0.67788180 |  1.14275445 | -0.34111412 |\n",
       "| 50 | -0.87943961 | -1.09461599 | -0.63771089 |\n",
       "\n"
      ],
      "text/plain": [
       "   [,1]        [,2]        [,3]       \n",
       "1   0.98137511  0.35637308 -0.81850784\n",
       "2   1.41081951  0.39527125 -0.05288030\n",
       "3   0.66849767 -0.04828754 -0.66946319\n",
       "4  -0.38419247  2.06566748  0.32004553\n",
       "5  -0.23457158  0.31873419 -0.99655408\n",
       "6   0.66282908  0.84320133 -1.14115880\n",
       "7   0.65680116  0.23408976 -0.93930850\n",
       "8  -2.02894501  1.34676466  1.87797162\n",
       "9  -0.35521306  0.52855122 -0.93851640\n",
       "10 -0.74924307 -2.14927431 -1.88853930\n",
       "11 -0.43586700  0.30062706 -0.89628914\n",
       "12  0.02711692 -1.73316017 -0.68626028\n",
       "13 -0.73710978  0.39240106  0.45885818\n",
       "14  0.02424722  0.26855864 -0.56068998\n",
       "15 -0.07898516  0.11174646 -0.40302574\n",
       "16  1.95096066 -1.73413524  2.17404659\n",
       "17 -0.11830216  0.75378415 -1.06577854\n",
       "18 -0.42167329 -0.06037528 -0.98646036\n",
       "19  0.25543609 -0.01702239  1.16575164\n",
       "20 -0.27211121  1.26521489  0.95802496\n",
       "21  1.42231908 -0.74349183  0.03295265\n",
       "22 -0.33674892 -1.59630054  1.25524189\n",
       "23  1.54883499 -0.24132401  0.12285885\n",
       "24 -0.75392688 -0.05608132 -0.71898786\n",
       "25 -1.29997024 -0.57587932  0.78087548\n",
       "26  0.82248532 -1.04548629 -0.31800522\n",
       "27 -1.08953625 -0.28675669 -0.10471206\n",
       "28 -0.94825665 -1.36432128 -0.86223939\n",
       "29  0.99534927  1.96761331 -0.31719857\n",
       "30 -0.91866910 -1.76630704 -0.68738630\n",
       "31 -1.31681465 -0.03337867  1.58085741\n",
       "32  1.41782862  0.06439747  0.23740976\n",
       "33  0.42440218 -0.24339191 -0.16173975\n",
       "34  0.84705696  1.23436223 -0.99906800\n",
       "35 -1.39413481 -0.42995200  1.59723856\n",
       "36 -0.99009760  0.19530241 -0.36286858\n",
       "37  0.53124749  0.68202965  2.10871044\n",
       "38 -0.06965387  2.32970512 -1.69890699\n",
       "39 -1.37196756 -0.77980871  0.23239892\n",
       "40 -1.07534254 -0.64775903 -0.19488329\n",
       "41 -0.36038240  0.23303400 -0.72345287\n",
       "42  0.74658843 -0.95259381  0.61119765\n",
       "43 -0.70990103 -0.09398198  0.77808391\n",
       "44  1.88882422  0.39561644  1.36344754\n",
       "45  0.58531143 -0.25773570 -0.13306912\n",
       "46 -1.01138481  1.41439403  1.86994801\n",
       "47  1.23212873 -0.38088675  0.30556149\n",
       "48  1.91986234 -0.50788655  0.47329438\n",
       "49 -0.67788180  1.14275445 -0.34111412\n",
       "50 -0.87943961 -1.09461599 -0.63771089"
      ]
     },
     "metadata": {},
     "output_type": "display_data"
    }
   ],
   "source": [
    "canonical.result$scores$yscores"
   ]
  },
  {
   "cell_type": "markdown",
   "metadata": {},
   "source": [
    "각 v1, v2, v3의 값"
   ]
  },
  {
   "cell_type": "code",
   "execution_count": 22,
   "metadata": {
    "ExecuteTime": {
     "end_time": "2020-11-23T05:42:57.922215Z",
     "start_time": "2020-11-23T05:42:57.885Z"
    }
   },
   "outputs": [
    {
     "data": {
      "text/html": [
       "<table>\n",
       "<caption>A matrix: 4 × 3 of type dbl</caption>\n",
       "<tbody>\n",
       "\t<tr><th scope=row>X1</th><td>-0.6352483</td><td> 0.2112406</td><td> 0.65565759</td></tr>\n",
       "\t<tr><th scope=row>X2</th><td>-0.7236603</td><td>-0.2297134</td><td>-0.06888076</td></tr>\n",
       "\t<tr><th scope=row>X3</th><td>-0.6428658</td><td> 0.5132111</td><td>-0.56862746</td></tr>\n",
       "\t<tr><th scope=row>X4</th><td>-0.9462723</td><td>-0.1866690</td><td>-0.09433235</td></tr>\n",
       "</tbody>\n",
       "</table>\n"
      ],
      "text/latex": [
       "A matrix: 4 × 3 of type dbl\n",
       "\\begin{tabular}{r|lll}\n",
       "\tX1 & -0.6352483 &  0.2112406 &  0.65565759\\\\\n",
       "\tX2 & -0.7236603 & -0.2297134 & -0.06888076\\\\\n",
       "\tX3 & -0.6428658 &  0.5132111 & -0.56862746\\\\\n",
       "\tX4 & -0.9462723 & -0.1866690 & -0.09433235\\\\\n",
       "\\end{tabular}\n"
      ],
      "text/markdown": [
       "\n",
       "A matrix: 4 × 3 of type dbl\n",
       "\n",
       "| X1 | -0.6352483 |  0.2112406 |  0.65565759 |\n",
       "| X2 | -0.7236603 | -0.2297134 | -0.06888076 |\n",
       "| X3 | -0.6428658 |  0.5132111 | -0.56862746 |\n",
       "| X4 | -0.9462723 | -0.1866690 | -0.09433235 |\n",
       "\n"
      ],
      "text/plain": [
       "   [,1]       [,2]       [,3]       \n",
       "X1 -0.6352483  0.2112406  0.65565759\n",
       "X2 -0.7236603 -0.2297134 -0.06888076\n",
       "X3 -0.6428658  0.5132111 -0.56862746\n",
       "X4 -0.9462723 -0.1866690 -0.09433235"
      ]
     },
     "metadata": {},
     "output_type": "display_data"
    }
   ],
   "source": [
    "canonical.result$scores$corr.X.xscores"
   ]
  },
  {
   "cell_type": "code",
   "execution_count": 23,
   "metadata": {
    "ExecuteTime": {
     "end_time": "2020-11-23T05:47:41.978328Z",
     "start_time": "2020-11-23T05:47:41.939Z"
    }
   },
   "outputs": [
    {
     "data": {
      "text/html": [
       "<table>\n",
       "<caption>A matrix: 3 × 3 of type dbl</caption>\n",
       "<tbody>\n",
       "\t<tr><th scope=row>Y1</th><td>-0.9743097</td><td> 0.009650714</td><td>-0.075803677</td></tr>\n",
       "\t<tr><th scope=row>Y2</th><td>-0.9442884</td><td>-0.273145316</td><td> 0.002605397</td></tr>\n",
       "\t<tr><th scope=row>Y3</th><td>-0.9439746</td><td> 0.170594666</td><td> 0.093754591</td></tr>\n",
       "</tbody>\n",
       "</table>\n"
      ],
      "text/latex": [
       "A matrix: 3 × 3 of type dbl\n",
       "\\begin{tabular}{r|lll}\n",
       "\tY1 & -0.9743097 &  0.009650714 & -0.075803677\\\\\n",
       "\tY2 & -0.9442884 & -0.273145316 &  0.002605397\\\\\n",
       "\tY3 & -0.9439746 &  0.170594666 &  0.093754591\\\\\n",
       "\\end{tabular}\n"
      ],
      "text/markdown": [
       "\n",
       "A matrix: 3 × 3 of type dbl\n",
       "\n",
       "| Y1 | -0.9743097 |  0.009650714 | -0.075803677 |\n",
       "| Y2 | -0.9442884 | -0.273145316 |  0.002605397 |\n",
       "| Y3 | -0.9439746 |  0.170594666 |  0.093754591 |\n",
       "\n"
      ],
      "text/plain": [
       "   [,1]       [,2]         [,3]        \n",
       "Y1 -0.9743097  0.009650714 -0.075803677\n",
       "Y2 -0.9442884 -0.273145316  0.002605397\n",
       "Y3 -0.9439746  0.170594666  0.093754591"
      ]
     },
     "metadata": {},
     "output_type": "display_data"
    }
   ],
   "source": [
    "canonical.result$scores$corr.Y.xscores"
   ]
  },
  {
   "cell_type": "code",
   "execution_count": 24,
   "metadata": {
    "ExecuteTime": {
     "end_time": "2020-11-23T05:47:52.959021Z",
     "start_time": "2020-11-23T05:47:52.916Z"
    }
   },
   "outputs": [
    {
     "data": {
      "text/html": [
       "<table>\n",
       "<caption>A matrix: 4 × 3 of type dbl</caption>\n",
       "<tbody>\n",
       "\t<tr><th scope=row>X1</th><td>-0.6315339</td><td> 0.1845467</td><td> 0.25039414</td></tr>\n",
       "\t<tr><th scope=row>X2</th><td>-0.7194289</td><td>-0.2006851</td><td>-0.02630541</td></tr>\n",
       "\t<tr><th scope=row>X3</th><td>-0.6391068</td><td> 0.4483580</td><td>-0.21715753</td></tr>\n",
       "\t<tr><th scope=row>X4</th><td>-0.9407393</td><td>-0.1630801</td><td>-0.03602531</td></tr>\n",
       "</tbody>\n",
       "</table>\n"
      ],
      "text/latex": [
       "A matrix: 4 × 3 of type dbl\n",
       "\\begin{tabular}{r|lll}\n",
       "\tX1 & -0.6315339 &  0.1845467 &  0.25039414\\\\\n",
       "\tX2 & -0.7194289 & -0.2006851 & -0.02630541\\\\\n",
       "\tX3 & -0.6391068 &  0.4483580 & -0.21715753\\\\\n",
       "\tX4 & -0.9407393 & -0.1630801 & -0.03602531\\\\\n",
       "\\end{tabular}\n"
      ],
      "text/markdown": [
       "\n",
       "A matrix: 4 × 3 of type dbl\n",
       "\n",
       "| X1 | -0.6315339 |  0.1845467 |  0.25039414 |\n",
       "| X2 | -0.7194289 | -0.2006851 | -0.02630541 |\n",
       "| X3 | -0.6391068 |  0.4483580 | -0.21715753 |\n",
       "| X4 | -0.9407393 | -0.1630801 | -0.03602531 |\n",
       "\n"
      ],
      "text/plain": [
       "   [,1]       [,2]       [,3]       \n",
       "X1 -0.6315339  0.1845467  0.25039414\n",
       "X2 -0.7194289 -0.2006851 -0.02630541\n",
       "X3 -0.6391068  0.4483580 -0.21715753\n",
       "X4 -0.9407393 -0.1630801 -0.03602531"
      ]
     },
     "metadata": {},
     "output_type": "display_data"
    }
   ],
   "source": [
    "canonical.result$scores$corr.X.yscores"
   ]
  },
  {
   "cell_type": "code",
   "execution_count": 25,
   "metadata": {
    "ExecuteTime": {
     "end_time": "2020-11-23T05:48:01.333131Z",
     "start_time": "2020-11-23T05:48:01.292Z"
    }
   },
   "outputs": [
    {
     "data": {
      "text/html": [
       "<table>\n",
       "<caption>A matrix: 3 × 3 of type dbl</caption>\n",
       "<tbody>\n",
       "\t<tr><th scope=row>Y1</th><td>-0.9800402</td><td> 0.01104665</td><td>-0.198492088</td></tr>\n",
       "\t<tr><th scope=row>Y2</th><td>-0.9498424</td><td>-0.31265469</td><td> 0.006822237</td></tr>\n",
       "\t<tr><th scope=row>Y3</th><td>-0.9495266</td><td> 0.19527050</td><td> 0.245496595</td></tr>\n",
       "</tbody>\n",
       "</table>\n"
      ],
      "text/latex": [
       "A matrix: 3 × 3 of type dbl\n",
       "\\begin{tabular}{r|lll}\n",
       "\tY1 & -0.9800402 &  0.01104665 & -0.198492088\\\\\n",
       "\tY2 & -0.9498424 & -0.31265469 &  0.006822237\\\\\n",
       "\tY3 & -0.9495266 &  0.19527050 &  0.245496595\\\\\n",
       "\\end{tabular}\n"
      ],
      "text/markdown": [
       "\n",
       "A matrix: 3 × 3 of type dbl\n",
       "\n",
       "| Y1 | -0.9800402 |  0.01104665 | -0.198492088 |\n",
       "| Y2 | -0.9498424 | -0.31265469 |  0.006822237 |\n",
       "| Y3 | -0.9495266 |  0.19527050 |  0.245496595 |\n",
       "\n"
      ],
      "text/plain": [
       "   [,1]       [,2]        [,3]        \n",
       "Y1 -0.9800402  0.01104665 -0.198492088\n",
       "Y2 -0.9498424 -0.31265469  0.006822237\n",
       "Y3 -0.9495266  0.19527050  0.245496595"
      ]
     },
     "metadata": {},
     "output_type": "display_data"
    }
   ],
   "source": [
    "canonical.result$scores$corr.Y.yscores"
   ]
  },
  {
   "cell_type": "markdown",
   "metadata": {},
   "source": [
    "corX.xscores: w와 x들의 상관계수 행렬 <br>\n",
    "w가 만들어질 때 x의 기여도<br>\n",
    "w1이 만들어질 때 x4:수리점수의 기여도가 높다"
   ]
  },
  {
   "cell_type": "markdown",
   "metadata": {},
   "source": [
    "# 크론바흐 알파 "
   ]
  },
  {
   "cell_type": "markdown",
   "metadata": {},
   "source": [
    "설문문항의 신뢰도를 파악"
   ]
  },
  {
   "cell_type": "markdown",
   "metadata": {},
   "source": [
    "$\\alpha = {k \\over k-1} (1 - {\\sum\\sigma^2_i \\over \\sigma^2_X})$, k는 문항의 갯수, $\\sigma^2_X$는 문항의 합의 분산 $\\sum\\sigma^2_i$는 문항의 분산의 합"
   ]
  },
  {
   "cell_type": "markdown",
   "metadata": {},
   "source": [
    "문항이 독립이면 공분산이 0이 되므로 $\\sigma^2_X$과 $\\sum\\sigma^2_i$이 같아져서 1-1 = 0이 되므로 크론바흐 알파가 0이 됨 <br>\n",
    "크론바흐 알파가 높아야 문항이 서로 관계가 있는 거임"
   ]
  },
  {
   "cell_type": "code",
   "execution_count": 26,
   "metadata": {
    "ExecuteTime": {
     "end_time": "2020-11-23T06:45:02.157533Z",
     "start_time": "2020-11-23T06:45:02.131Z"
    }
   },
   "outputs": [],
   "source": [
    "library(psych)"
   ]
  },
  {
   "cell_type": "code",
   "execution_count": 27,
   "metadata": {
    "ExecuteTime": {
     "end_time": "2020-11-23T06:45:25.485387Z",
     "start_time": "2020-11-23T06:45:25.403Z"
    }
   },
   "outputs": [],
   "source": [
    "health = read.csv(\"mvadata/보건관리데이터.csv\", header = T)"
   ]
  },
  {
   "cell_type": "code",
   "execution_count": 28,
   "metadata": {
    "ExecuteTime": {
     "end_time": "2020-11-23T06:45:32.824684Z",
     "start_time": "2020-11-23T06:45:32.771Z"
    }
   },
   "outputs": [
    {
     "data": {
      "text/html": [
       "<table>\n",
       "<caption>A data.frame: 6 × 7</caption>\n",
       "<thead>\n",
       "\t<tr><th></th><th scope=col>id</th><th scope=col>q1</th><th scope=col>q2</th><th scope=col>q3</th><th scope=col>q4</th><th scope=col>q5</th><th scope=col>q6</th></tr>\n",
       "\t<tr><th></th><th scope=col>&lt;int&gt;</th><th scope=col>&lt;int&gt;</th><th scope=col>&lt;int&gt;</th><th scope=col>&lt;int&gt;</th><th scope=col>&lt;int&gt;</th><th scope=col>&lt;int&gt;</th><th scope=col>&lt;int&gt;</th></tr>\n",
       "</thead>\n",
       "<tbody>\n",
       "\t<tr><th scope=row>1</th><td>1</td><td>4</td><td>4</td><td>1</td><td>4</td><td>4</td><td>1</td></tr>\n",
       "\t<tr><th scope=row>2</th><td>2</td><td>3</td><td>1</td><td>2</td><td>1</td><td>2</td><td>2</td></tr>\n",
       "\t<tr><th scope=row>3</th><td>3</td><td>2</td><td>1</td><td>2</td><td>1</td><td>3</td><td>3</td></tr>\n",
       "\t<tr><th scope=row>4</th><td>4</td><td>1</td><td>2</td><td>1</td><td>2</td><td>2</td><td>3</td></tr>\n",
       "\t<tr><th scope=row>5</th><td>5</td><td>2</td><td>1</td><td>1</td><td>4</td><td>1</td><td>1</td></tr>\n",
       "\t<tr><th scope=row>6</th><td>6</td><td>2</td><td>2</td><td>1</td><td>2</td><td>2</td><td>2</td></tr>\n",
       "</tbody>\n",
       "</table>\n"
      ],
      "text/latex": [
       "A data.frame: 6 × 7\n",
       "\\begin{tabular}{r|lllllll}\n",
       "  & id & q1 & q2 & q3 & q4 & q5 & q6\\\\\n",
       "  & <int> & <int> & <int> & <int> & <int> & <int> & <int>\\\\\n",
       "\\hline\n",
       "\t1 & 1 & 4 & 4 & 1 & 4 & 4 & 1\\\\\n",
       "\t2 & 2 & 3 & 1 & 2 & 1 & 2 & 2\\\\\n",
       "\t3 & 3 & 2 & 1 & 2 & 1 & 3 & 3\\\\\n",
       "\t4 & 4 & 1 & 2 & 1 & 2 & 2 & 3\\\\\n",
       "\t5 & 5 & 2 & 1 & 1 & 4 & 1 & 1\\\\\n",
       "\t6 & 6 & 2 & 2 & 1 & 2 & 2 & 2\\\\\n",
       "\\end{tabular}\n"
      ],
      "text/markdown": [
       "\n",
       "A data.frame: 6 × 7\n",
       "\n",
       "| <!--/--> | id &lt;int&gt; | q1 &lt;int&gt; | q2 &lt;int&gt; | q3 &lt;int&gt; | q4 &lt;int&gt; | q5 &lt;int&gt; | q6 &lt;int&gt; |\n",
       "|---|---|---|---|---|---|---|---|\n",
       "| 1 | 1 | 4 | 4 | 1 | 4 | 4 | 1 |\n",
       "| 2 | 2 | 3 | 1 | 2 | 1 | 2 | 2 |\n",
       "| 3 | 3 | 2 | 1 | 2 | 1 | 3 | 3 |\n",
       "| 4 | 4 | 1 | 2 | 1 | 2 | 2 | 3 |\n",
       "| 5 | 5 | 2 | 1 | 1 | 4 | 1 | 1 |\n",
       "| 6 | 6 | 2 | 2 | 1 | 2 | 2 | 2 |\n",
       "\n"
      ],
      "text/plain": [
       "  id q1 q2 q3 q4 q5 q6\n",
       "1 1  4  4  1  4  4  1 \n",
       "2 2  3  1  2  1  2  2 \n",
       "3 3  2  1  2  1  3  3 \n",
       "4 4  1  2  1  2  2  3 \n",
       "5 5  2  1  1  4  1  1 \n",
       "6 6  2  2  1  2  2  2 "
      ]
     },
     "metadata": {},
     "output_type": "display_data"
    }
   ],
   "source": [
    "head(health)"
   ]
  },
  {
   "cell_type": "code",
   "execution_count": 31,
   "metadata": {
    "ExecuteTime": {
     "end_time": "2020-11-23T06:46:53.221453Z",
     "start_time": "2020-11-23T06:46:48.218Z"
    }
   },
   "outputs": [
    {
     "data": {
      "image/png": "[encoded data removed]",
      "text/plain": [
       "plot without title"
      ]
     },
     "metadata": {
      "image/png": {
       "height": 420,
       "width": 420
      }
     },
     "output_type": "display_data"
    }
   ],
   "source": [
    "ggpairs(health[,-1])"
   ]
  },
  {
   "cell_type": "code",
   "execution_count": 32,
   "metadata": {
    "ExecuteTime": {
     "end_time": "2020-11-23T06:46:53.514552Z",
     "start_time": "2020-11-23T06:46:50.522Z"
    }
   },
   "outputs": [
    {
     "data": {
      "image/png": "[encoded data removed]",
      "text/plain": [
       "plot without title"
      ]
     },
     "metadata": {
      "image/png": {
       "height": 420,
       "width": 420
      }
     },
     "output_type": "display_data"
    }
   ],
   "source": [
    "pairs(health[, -1], panel = panel.smooth)"
   ]
  },
  {
   "cell_type": "code",
   "execution_count": 39,
   "metadata": {
    "ExecuteTime": {
     "end_time": "2020-11-23T06:49:03.835881Z",
     "start_time": "2020-11-23T06:49:03.698Z"
    },
    "scrolled": true
   },
   "outputs": [
    {
     "data": {
      "text/plain": [
       "\n",
       "Reliability analysis   \n",
       "Call: psych::alpha(x = health[, -1])\n",
       "\n",
       "  raw_alpha std.alpha G6(smc) average_r S/N   ase mean   sd median_r\n",
       "      0.77      0.78    0.86      0.37 3.5 0.084  2.4 0.81     0.41\n",
       "\n",
       " lower alpha upper     95% confidence boundaries\n",
       "0.6 0.77 0.93 \n",
       "\n",
       " Reliability if an item is dropped:\n",
       "   raw_alpha std.alpha G6(smc) average_r S/N alpha se var.r med.r\n",
       "q1      0.69      0.70    0.79      0.32 2.4    0.114 0.076  0.36\n",
       "q2      0.77      0.79    0.85      0.43 3.8    0.083 0.042  0.44\n",
       "q3      0.73      0.76    0.76      0.38 3.1    0.097 0.039  0.42\n",
       "q4      0.72      0.74    0.83      0.37 2.9    0.101 0.074  0.40\n",
       "q5      0.69      0.70    0.81      0.32 2.3    0.114 0.075  0.36\n",
       "q6      0.77      0.77    0.80      0.40 3.3    0.079 0.049  0.46\n",
       "\n",
       " Item statistics \n",
       "    n raw.r std.r r.cor r.drop mean   sd\n",
       "q1 20  0.79  0.80  0.77   0.67  3.0 1.19\n",
       "q2 20  0.54  0.54  0.43   0.33  2.0 1.17\n",
       "q3 20  0.65  0.66  0.65   0.52  1.6 0.94\n",
       "q4 20  0.71  0.70  0.61   0.53  2.8 1.25\n",
       "q5 20  0.80  0.81  0.76   0.69  2.9 1.04\n",
       "q6 20  0.64  0.62  0.59   0.41  1.9 1.48\n",
       "\n",
       "Non missing response frequency for each item\n",
       "      0    1    2    3    4 miss\n",
       "q1 0.05 0.05 0.20 0.20 0.50    0\n",
       "q2 0.10 0.20 0.45 0.10 0.15    0\n",
       "q3 0.10 0.45 0.25 0.20 0.00    0\n",
       "q4 0.00 0.20 0.30 0.05 0.45    0\n",
       "q5 0.00 0.10 0.30 0.25 0.35    0\n",
       "q6 0.25 0.15 0.25 0.15 0.20    0"
      ]
     },
     "metadata": {},
     "output_type": "display_data"
    }
   ],
   "source": [
    "psych::alpha(health[,-1])"
   ]
  },
  {
   "cell_type": "markdown",
   "metadata": {},
   "source": [
    "raw_alpha가 0.77 표준화한 std_alpha가 0.78 그리고 신뢰구간이 (0.6, 0.93)"
   ]
  },
  {
   "cell_type": "markdown",
   "metadata": {},
   "source": [
    "Reliability if an item is dropped는 각 문항 하나가 제거 되었을 때 크론바흐 알파를 나타낸다. 예를 들어 q1을 빼면 알파가 0.69가 되므로 빼지 않는 것이 좋다."
   ]
  },
  {
   "cell_type": "code",
   "execution_count": null,
   "metadata": {},
   "outputs": [],
   "source": []
  }
 ],
 "metadata": {
  "kernelspec": {
   "display_name": "R",
   "language": "R",
   "name": "ir"
  },
  "language_info": {
   "codemirror_mode": "r",
   "file_extension": ".r",
   "mimetype": "text/x-r-source",
   "name": "R",
   "pygments_lexer": "r",
   "version": "3.6.3"
  },
  "toc": {
   "base_numbering": 1,
   "nav_menu": {},
   "number_sections": true,
   "sideBar": true,
   "skip_h1_title": false,
   "title_cell": "Table of Contents",
   "title_sidebar": "Contents",
   "toc_cell": false,
   "toc_position": {},
   "toc_section_display": true,
   "toc_window_display": false
  }
 },
 "nbformat": 4,
 "nbformat_minor": 4
}
