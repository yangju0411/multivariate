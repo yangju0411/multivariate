{
 "cells": [
  {
   "cell_type": "markdown",
   "metadata": {},
   "source": [
    "# factanal 함수 사용"
   ]
  },
  {
   "cell_type": "code",
   "execution_count": 1,
   "metadata": {
    "ExecuteTime": {
     "end_time": "2020-10-28T09:19:14.161249Z",
     "start_time": "2020-10-28T09:19:14.025Z"
    }
   },
   "outputs": [],
   "source": [
    "library(psych)\n",
    "library(GPArotation)"
   ]
  },
  {
   "cell_type": "code",
   "execution_count": 2,
   "metadata": {
    "ExecuteTime": {
     "end_time": "2020-10-28T09:19:39.706022Z",
     "start_time": "2020-10-28T09:19:39.464Z"
    }
   },
   "outputs": [
    {
     "data": {
      "text/html": [
       "<table>\n",
       "<caption>A matrix: 50 × 8 of type dbl</caption>\n",
       "<thead>\n",
       "\t<tr><th></th><th scope=col>Population</th><th scope=col>Income</th><th scope=col>Illiteracy</th><th scope=col>Life Exp</th><th scope=col>Murder</th><th scope=col>HS Grad</th><th scope=col>Frost</th><th scope=col>Area</th></tr>\n",
       "</thead>\n",
       "<tbody>\n",
       "\t<tr><th scope=row>Alabama</th><td> 3615</td><td>3624</td><td>2.1</td><td>69.05</td><td>15.1</td><td>41.3</td><td> 20</td><td> 50708</td></tr>\n",
       "\t<tr><th scope=row>Alaska</th><td>  365</td><td>6315</td><td>1.5</td><td>69.31</td><td>11.3</td><td>66.7</td><td>152</td><td>566432</td></tr>\n",
       "\t<tr><th scope=row>Arizona</th><td> 2212</td><td>4530</td><td>1.8</td><td>70.55</td><td> 7.8</td><td>58.1</td><td> 15</td><td>113417</td></tr>\n",
       "\t<tr><th scope=row>Arkansas</th><td> 2110</td><td>3378</td><td>1.9</td><td>70.66</td><td>10.1</td><td>39.9</td><td> 65</td><td> 51945</td></tr>\n",
       "\t<tr><th scope=row>California</th><td>21198</td><td>5114</td><td>1.1</td><td>71.71</td><td>10.3</td><td>62.6</td><td> 20</td><td>156361</td></tr>\n",
       "\t<tr><th scope=row>Colorado</th><td> 2541</td><td>4884</td><td>0.7</td><td>72.06</td><td> 6.8</td><td>63.9</td><td>166</td><td>103766</td></tr>\n",
       "\t<tr><th scope=row>Connecticut</th><td> 3100</td><td>5348</td><td>1.1</td><td>72.48</td><td> 3.1</td><td>56.0</td><td>139</td><td>  4862</td></tr>\n",
       "\t<tr><th scope=row>Delaware</th><td>  579</td><td>4809</td><td>0.9</td><td>70.06</td><td> 6.2</td><td>54.6</td><td>103</td><td>  1982</td></tr>\n",
       "\t<tr><th scope=row>Florida</th><td> 8277</td><td>4815</td><td>1.3</td><td>70.66</td><td>10.7</td><td>52.6</td><td> 11</td><td> 54090</td></tr>\n",
       "\t<tr><th scope=row>Georgia</th><td> 4931</td><td>4091</td><td>2.0</td><td>68.54</td><td>13.9</td><td>40.6</td><td> 60</td><td> 58073</td></tr>\n",
       "\t<tr><th scope=row>Hawaii</th><td>  868</td><td>4963</td><td>1.9</td><td>73.60</td><td> 6.2</td><td>61.9</td><td>  0</td><td>  6425</td></tr>\n",
       "\t<tr><th scope=row>Idaho</th><td>  813</td><td>4119</td><td>0.6</td><td>71.87</td><td> 5.3</td><td>59.5</td><td>126</td><td> 82677</td></tr>\n",
       "\t<tr><th scope=row>Illinois</th><td>11197</td><td>5107</td><td>0.9</td><td>70.14</td><td>10.3</td><td>52.6</td><td>127</td><td> 55748</td></tr>\n",
       "\t<tr><th scope=row>Indiana</th><td> 5313</td><td>4458</td><td>0.7</td><td>70.88</td><td> 7.1</td><td>52.9</td><td>122</td><td> 36097</td></tr>\n",
       "\t<tr><th scope=row>Iowa</th><td> 2861</td><td>4628</td><td>0.5</td><td>72.56</td><td> 2.3</td><td>59.0</td><td>140</td><td> 55941</td></tr>\n",
       "\t<tr><th scope=row>Kansas</th><td> 2280</td><td>4669</td><td>0.6</td><td>72.58</td><td> 4.5</td><td>59.9</td><td>114</td><td> 81787</td></tr>\n",
       "\t<tr><th scope=row>Kentucky</th><td> 3387</td><td>3712</td><td>1.6</td><td>70.10</td><td>10.6</td><td>38.5</td><td> 95</td><td> 39650</td></tr>\n",
       "\t<tr><th scope=row>Louisiana</th><td> 3806</td><td>3545</td><td>2.8</td><td>68.76</td><td>13.2</td><td>42.2</td><td> 12</td><td> 44930</td></tr>\n",
       "\t<tr><th scope=row>Maine</th><td> 1058</td><td>3694</td><td>0.7</td><td>70.39</td><td> 2.7</td><td>54.7</td><td>161</td><td> 30920</td></tr>\n",
       "\t<tr><th scope=row>Maryland</th><td> 4122</td><td>5299</td><td>0.9</td><td>70.22</td><td> 8.5</td><td>52.3</td><td>101</td><td>  9891</td></tr>\n",
       "\t<tr><th scope=row>Massachusetts</th><td> 5814</td><td>4755</td><td>1.1</td><td>71.83</td><td> 3.3</td><td>58.5</td><td>103</td><td>  7826</td></tr>\n",
       "\t<tr><th scope=row>Michigan</th><td> 9111</td><td>4751</td><td>0.9</td><td>70.63</td><td>11.1</td><td>52.8</td><td>125</td><td> 56817</td></tr>\n",
       "\t<tr><th scope=row>Minnesota</th><td> 3921</td><td>4675</td><td>0.6</td><td>72.96</td><td> 2.3</td><td>57.6</td><td>160</td><td> 79289</td></tr>\n",
       "\t<tr><th scope=row>Mississippi</th><td> 2341</td><td>3098</td><td>2.4</td><td>68.09</td><td>12.5</td><td>41.0</td><td> 50</td><td> 47296</td></tr>\n",
       "\t<tr><th scope=row>Missouri</th><td> 4767</td><td>4254</td><td>0.8</td><td>70.69</td><td> 9.3</td><td>48.8</td><td>108</td><td> 68995</td></tr>\n",
       "\t<tr><th scope=row>Montana</th><td>  746</td><td>4347</td><td>0.6</td><td>70.56</td><td> 5.0</td><td>59.2</td><td>155</td><td>145587</td></tr>\n",
       "\t<tr><th scope=row>Nebraska</th><td> 1544</td><td>4508</td><td>0.6</td><td>72.60</td><td> 2.9</td><td>59.3</td><td>139</td><td> 76483</td></tr>\n",
       "\t<tr><th scope=row>Nevada</th><td>  590</td><td>5149</td><td>0.5</td><td>69.03</td><td>11.5</td><td>65.2</td><td>188</td><td>109889</td></tr>\n",
       "\t<tr><th scope=row>New Hampshire</th><td>  812</td><td>4281</td><td>0.7</td><td>71.23</td><td> 3.3</td><td>57.6</td><td>174</td><td>  9027</td></tr>\n",
       "\t<tr><th scope=row>New Jersey</th><td> 7333</td><td>5237</td><td>1.1</td><td>70.93</td><td> 5.2</td><td>52.5</td><td>115</td><td>  7521</td></tr>\n",
       "\t<tr><th scope=row>New Mexico</th><td> 1144</td><td>3601</td><td>2.2</td><td>70.32</td><td> 9.7</td><td>55.2</td><td>120</td><td>121412</td></tr>\n",
       "\t<tr><th scope=row>New York</th><td>18076</td><td>4903</td><td>1.4</td><td>70.55</td><td>10.9</td><td>52.7</td><td> 82</td><td> 47831</td></tr>\n",
       "\t<tr><th scope=row>North Carolina</th><td> 5441</td><td>3875</td><td>1.8</td><td>69.21</td><td>11.1</td><td>38.5</td><td> 80</td><td> 48798</td></tr>\n",
       "\t<tr><th scope=row>North Dakota</th><td>  637</td><td>5087</td><td>0.8</td><td>72.78</td><td> 1.4</td><td>50.3</td><td>186</td><td> 69273</td></tr>\n",
       "\t<tr><th scope=row>Ohio</th><td>10735</td><td>4561</td><td>0.8</td><td>70.82</td><td> 7.4</td><td>53.2</td><td>124</td><td> 40975</td></tr>\n",
       "\t<tr><th scope=row>Oklahoma</th><td> 2715</td><td>3983</td><td>1.1</td><td>71.42</td><td> 6.4</td><td>51.6</td><td> 82</td><td> 68782</td></tr>\n",
       "\t<tr><th scope=row>Oregon</th><td> 2284</td><td>4660</td><td>0.6</td><td>72.13</td><td> 4.2</td><td>60.0</td><td> 44</td><td> 96184</td></tr>\n",
       "\t<tr><th scope=row>Pennsylvania</th><td>11860</td><td>4449</td><td>1.0</td><td>70.43</td><td> 6.1</td><td>50.2</td><td>126</td><td> 44966</td></tr>\n",
       "\t<tr><th scope=row>Rhode Island</th><td>  931</td><td>4558</td><td>1.3</td><td>71.90</td><td> 2.4</td><td>46.4</td><td>127</td><td>  1049</td></tr>\n",
       "\t<tr><th scope=row>South Carolina</th><td> 2816</td><td>3635</td><td>2.3</td><td>67.96</td><td>11.6</td><td>37.8</td><td> 65</td><td> 30225</td></tr>\n",
       "\t<tr><th scope=row>South Dakota</th><td>  681</td><td>4167</td><td>0.5</td><td>72.08</td><td> 1.7</td><td>53.3</td><td>172</td><td> 75955</td></tr>\n",
       "\t<tr><th scope=row>Tennessee</th><td> 4173</td><td>3821</td><td>1.7</td><td>70.11</td><td>11.0</td><td>41.8</td><td> 70</td><td> 41328</td></tr>\n",
       "\t<tr><th scope=row>Texas</th><td>12237</td><td>4188</td><td>2.2</td><td>70.90</td><td>12.2</td><td>47.4</td><td> 35</td><td>262134</td></tr>\n",
       "\t<tr><th scope=row>Utah</th><td> 1203</td><td>4022</td><td>0.6</td><td>72.90</td><td> 4.5</td><td>67.3</td><td>137</td><td> 82096</td></tr>\n",
       "\t<tr><th scope=row>Vermont</th><td>  472</td><td>3907</td><td>0.6</td><td>71.64</td><td> 5.5</td><td>57.1</td><td>168</td><td>  9267</td></tr>\n",
       "\t<tr><th scope=row>Virginia</th><td> 4981</td><td>4701</td><td>1.4</td><td>70.08</td><td> 9.5</td><td>47.8</td><td> 85</td><td> 39780</td></tr>\n",
       "\t<tr><th scope=row>Washington</th><td> 3559</td><td>4864</td><td>0.6</td><td>71.72</td><td> 4.3</td><td>63.5</td><td> 32</td><td> 66570</td></tr>\n",
       "\t<tr><th scope=row>West Virginia</th><td> 1799</td><td>3617</td><td>1.4</td><td>69.48</td><td> 6.7</td><td>41.6</td><td>100</td><td> 24070</td></tr>\n",
       "\t<tr><th scope=row>Wisconsin</th><td> 4589</td><td>4468</td><td>0.7</td><td>72.48</td><td> 3.0</td><td>54.5</td><td>149</td><td> 54464</td></tr>\n",
       "\t<tr><th scope=row>Wyoming</th><td>  376</td><td>4566</td><td>0.6</td><td>70.29</td><td> 6.9</td><td>62.9</td><td>173</td><td> 97203</td></tr>\n",
       "</tbody>\n",
       "</table>\n"
      ],
      "text/latex": [
       "A matrix: 50 × 8 of type dbl\n",
       "\\begin{tabular}{r|llllllll}\n",
       "  & Population & Income & Illiteracy & Life Exp & Murder & HS Grad & Frost & Area\\\\\n",
       "\\hline\n",
       "\tAlabama &  3615 & 3624 & 2.1 & 69.05 & 15.1 & 41.3 &  20 &  50708\\\\\n",
       "\tAlaska &   365 & 6315 & 1.5 & 69.31 & 11.3 & 66.7 & 152 & 566432\\\\\n",
       "\tArizona &  2212 & 4530 & 1.8 & 70.55 &  7.8 & 58.1 &  15 & 113417\\\\\n",
       "\tArkansas &  2110 & 3378 & 1.9 & 70.66 & 10.1 & 39.9 &  65 &  51945\\\\\n",
       "\tCalifornia & 21198 & 5114 & 1.1 & 71.71 & 10.3 & 62.6 &  20 & 156361\\\\\n",
       "\tColorado &  2541 & 4884 & 0.7 & 72.06 &  6.8 & 63.9 & 166 & 103766\\\\\n",
       "\tConnecticut &  3100 & 5348 & 1.1 & 72.48 &  3.1 & 56.0 & 139 &   4862\\\\\n",
       "\tDelaware &   579 & 4809 & 0.9 & 70.06 &  6.2 & 54.6 & 103 &   1982\\\\\n",
       "\tFlorida &  8277 & 4815 & 1.3 & 70.66 & 10.7 & 52.6 &  11 &  54090\\\\\n",
       "\tGeorgia &  4931 & 4091 & 2.0 & 68.54 & 13.9 & 40.6 &  60 &  58073\\\\\n",
       "\tHawaii &   868 & 4963 & 1.9 & 73.60 &  6.2 & 61.9 &   0 &   6425\\\\\n",
       "\tIdaho &   813 & 4119 & 0.6 & 71.87 &  5.3 & 59.5 & 126 &  82677\\\\\n",
       "\tIllinois & 11197 & 5107 & 0.9 & 70.14 & 10.3 & 52.6 & 127 &  55748\\\\\n",
       "\tIndiana &  5313 & 4458 & 0.7 & 70.88 &  7.1 & 52.9 & 122 &  36097\\\\\n",
       "\tIowa &  2861 & 4628 & 0.5 & 72.56 &  2.3 & 59.0 & 140 &  55941\\\\\n",
       "\tKansas &  2280 & 4669 & 0.6 & 72.58 &  4.5 & 59.9 & 114 &  81787\\\\\n",
       "\tKentucky &  3387 & 3712 & 1.6 & 70.10 & 10.6 & 38.5 &  95 &  39650\\\\\n",
       "\tLouisiana &  3806 & 3545 & 2.8 & 68.76 & 13.2 & 42.2 &  12 &  44930\\\\\n",
       "\tMaine &  1058 & 3694 & 0.7 & 70.39 &  2.7 & 54.7 & 161 &  30920\\\\\n",
       "\tMaryland &  4122 & 5299 & 0.9 & 70.22 &  8.5 & 52.3 & 101 &   9891\\\\\n",
       "\tMassachusetts &  5814 & 4755 & 1.1 & 71.83 &  3.3 & 58.5 & 103 &   7826\\\\\n",
       "\tMichigan &  9111 & 4751 & 0.9 & 70.63 & 11.1 & 52.8 & 125 &  56817\\\\\n",
       "\tMinnesota &  3921 & 4675 & 0.6 & 72.96 &  2.3 & 57.6 & 160 &  79289\\\\\n",
       "\tMississippi &  2341 & 3098 & 2.4 & 68.09 & 12.5 & 41.0 &  50 &  47296\\\\\n",
       "\tMissouri &  4767 & 4254 & 0.8 & 70.69 &  9.3 & 48.8 & 108 &  68995\\\\\n",
       "\tMontana &   746 & 4347 & 0.6 & 70.56 &  5.0 & 59.2 & 155 & 145587\\\\\n",
       "\tNebraska &  1544 & 4508 & 0.6 & 72.60 &  2.9 & 59.3 & 139 &  76483\\\\\n",
       "\tNevada &   590 & 5149 & 0.5 & 69.03 & 11.5 & 65.2 & 188 & 109889\\\\\n",
       "\tNew Hampshire &   812 & 4281 & 0.7 & 71.23 &  3.3 & 57.6 & 174 &   9027\\\\\n",
       "\tNew Jersey &  7333 & 5237 & 1.1 & 70.93 &  5.2 & 52.5 & 115 &   7521\\\\\n",
       "\tNew Mexico &  1144 & 3601 & 2.2 & 70.32 &  9.7 & 55.2 & 120 & 121412\\\\\n",
       "\tNew York & 18076 & 4903 & 1.4 & 70.55 & 10.9 & 52.7 &  82 &  47831\\\\\n",
       "\tNorth Carolina &  5441 & 3875 & 1.8 & 69.21 & 11.1 & 38.5 &  80 &  48798\\\\\n",
       "\tNorth Dakota &   637 & 5087 & 0.8 & 72.78 &  1.4 & 50.3 & 186 &  69273\\\\\n",
       "\tOhio & 10735 & 4561 & 0.8 & 70.82 &  7.4 & 53.2 & 124 &  40975\\\\\n",
       "\tOklahoma &  2715 & 3983 & 1.1 & 71.42 &  6.4 & 51.6 &  82 &  68782\\\\\n",
       "\tOregon &  2284 & 4660 & 0.6 & 72.13 &  4.2 & 60.0 &  44 &  96184\\\\\n",
       "\tPennsylvania & 11860 & 4449 & 1.0 & 70.43 &  6.1 & 50.2 & 126 &  44966\\\\\n",
       "\tRhode Island &   931 & 4558 & 1.3 & 71.90 &  2.4 & 46.4 & 127 &   1049\\\\\n",
       "\tSouth Carolina &  2816 & 3635 & 2.3 & 67.96 & 11.6 & 37.8 &  65 &  30225\\\\\n",
       "\tSouth Dakota &   681 & 4167 & 0.5 & 72.08 &  1.7 & 53.3 & 172 &  75955\\\\\n",
       "\tTennessee &  4173 & 3821 & 1.7 & 70.11 & 11.0 & 41.8 &  70 &  41328\\\\\n",
       "\tTexas & 12237 & 4188 & 2.2 & 70.90 & 12.2 & 47.4 &  35 & 262134\\\\\n",
       "\tUtah &  1203 & 4022 & 0.6 & 72.90 &  4.5 & 67.3 & 137 &  82096\\\\\n",
       "\tVermont &   472 & 3907 & 0.6 & 71.64 &  5.5 & 57.1 & 168 &   9267\\\\\n",
       "\tVirginia &  4981 & 4701 & 1.4 & 70.08 &  9.5 & 47.8 &  85 &  39780\\\\\n",
       "\tWashington &  3559 & 4864 & 0.6 & 71.72 &  4.3 & 63.5 &  32 &  66570\\\\\n",
       "\tWest Virginia &  1799 & 3617 & 1.4 & 69.48 &  6.7 & 41.6 & 100 &  24070\\\\\n",
       "\tWisconsin &  4589 & 4468 & 0.7 & 72.48 &  3.0 & 54.5 & 149 &  54464\\\\\n",
       "\tWyoming &   376 & 4566 & 0.6 & 70.29 &  6.9 & 62.9 & 173 &  97203\\\\\n",
       "\\end{tabular}\n"
      ],
      "text/markdown": [
       "\n",
       "A matrix: 50 × 8 of type dbl\n",
       "\n",
       "| <!--/--> | Population | Income | Illiteracy | Life Exp | Murder | HS Grad | Frost | Area |\n",
       "|---|---|---|---|---|---|---|---|---|\n",
       "| Alabama |  3615 | 3624 | 2.1 | 69.05 | 15.1 | 41.3 |  20 |  50708 |\n",
       "| Alaska |   365 | 6315 | 1.5 | 69.31 | 11.3 | 66.7 | 152 | 566432 |\n",
       "| Arizona |  2212 | 4530 | 1.8 | 70.55 |  7.8 | 58.1 |  15 | 113417 |\n",
       "| Arkansas |  2110 | 3378 | 1.9 | 70.66 | 10.1 | 39.9 |  65 |  51945 |\n",
       "| California | 21198 | 5114 | 1.1 | 71.71 | 10.3 | 62.6 |  20 | 156361 |\n",
       "| Colorado |  2541 | 4884 | 0.7 | 72.06 |  6.8 | 63.9 | 166 | 103766 |\n",
       "| Connecticut |  3100 | 5348 | 1.1 | 72.48 |  3.1 | 56.0 | 139 |   4862 |\n",
       "| Delaware |   579 | 4809 | 0.9 | 70.06 |  6.2 | 54.6 | 103 |   1982 |\n",
       "| Florida |  8277 | 4815 | 1.3 | 70.66 | 10.7 | 52.6 |  11 |  54090 |\n",
       "| Georgia |  4931 | 4091 | 2.0 | 68.54 | 13.9 | 40.6 |  60 |  58073 |\n",
       "| Hawaii |   868 | 4963 | 1.9 | 73.60 |  6.2 | 61.9 |   0 |   6425 |\n",
       "| Idaho |   813 | 4119 | 0.6 | 71.87 |  5.3 | 59.5 | 126 |  82677 |\n",
       "| Illinois | 11197 | 5107 | 0.9 | 70.14 | 10.3 | 52.6 | 127 |  55748 |\n",
       "| Indiana |  5313 | 4458 | 0.7 | 70.88 |  7.1 | 52.9 | 122 |  36097 |\n",
       "| Iowa |  2861 | 4628 | 0.5 | 72.56 |  2.3 | 59.0 | 140 |  55941 |\n",
       "| Kansas |  2280 | 4669 | 0.6 | 72.58 |  4.5 | 59.9 | 114 |  81787 |\n",
       "| Kentucky |  3387 | 3712 | 1.6 | 70.10 | 10.6 | 38.5 |  95 |  39650 |\n",
       "| Louisiana |  3806 | 3545 | 2.8 | 68.76 | 13.2 | 42.2 |  12 |  44930 |\n",
       "| Maine |  1058 | 3694 | 0.7 | 70.39 |  2.7 | 54.7 | 161 |  30920 |\n",
       "| Maryland |  4122 | 5299 | 0.9 | 70.22 |  8.5 | 52.3 | 101 |   9891 |\n",
       "| Massachusetts |  5814 | 4755 | 1.1 | 71.83 |  3.3 | 58.5 | 103 |   7826 |\n",
       "| Michigan |  9111 | 4751 | 0.9 | 70.63 | 11.1 | 52.8 | 125 |  56817 |\n",
       "| Minnesota |  3921 | 4675 | 0.6 | 72.96 |  2.3 | 57.6 | 160 |  79289 |\n",
       "| Mississippi |  2341 | 3098 | 2.4 | 68.09 | 12.5 | 41.0 |  50 |  47296 |\n",
       "| Missouri |  4767 | 4254 | 0.8 | 70.69 |  9.3 | 48.8 | 108 |  68995 |\n",
       "| Montana |   746 | 4347 | 0.6 | 70.56 |  5.0 | 59.2 | 155 | 145587 |\n",
       "| Nebraska |  1544 | 4508 | 0.6 | 72.60 |  2.9 | 59.3 | 139 |  76483 |\n",
       "| Nevada |   590 | 5149 | 0.5 | 69.03 | 11.5 | 65.2 | 188 | 109889 |\n",
       "| New Hampshire |   812 | 4281 | 0.7 | 71.23 |  3.3 | 57.6 | 174 |   9027 |\n",
       "| New Jersey |  7333 | 5237 | 1.1 | 70.93 |  5.2 | 52.5 | 115 |   7521 |\n",
       "| New Mexico |  1144 | 3601 | 2.2 | 70.32 |  9.7 | 55.2 | 120 | 121412 |\n",
       "| New York | 18076 | 4903 | 1.4 | 70.55 | 10.9 | 52.7 |  82 |  47831 |\n",
       "| North Carolina |  5441 | 3875 | 1.8 | 69.21 | 11.1 | 38.5 |  80 |  48798 |\n",
       "| North Dakota |   637 | 5087 | 0.8 | 72.78 |  1.4 | 50.3 | 186 |  69273 |\n",
       "| Ohio | 10735 | 4561 | 0.8 | 70.82 |  7.4 | 53.2 | 124 |  40975 |\n",
       "| Oklahoma |  2715 | 3983 | 1.1 | 71.42 |  6.4 | 51.6 |  82 |  68782 |\n",
       "| Oregon |  2284 | 4660 | 0.6 | 72.13 |  4.2 | 60.0 |  44 |  96184 |\n",
       "| Pennsylvania | 11860 | 4449 | 1.0 | 70.43 |  6.1 | 50.2 | 126 |  44966 |\n",
       "| Rhode Island |   931 | 4558 | 1.3 | 71.90 |  2.4 | 46.4 | 127 |   1049 |\n",
       "| South Carolina |  2816 | 3635 | 2.3 | 67.96 | 11.6 | 37.8 |  65 |  30225 |\n",
       "| South Dakota |   681 | 4167 | 0.5 | 72.08 |  1.7 | 53.3 | 172 |  75955 |\n",
       "| Tennessee |  4173 | 3821 | 1.7 | 70.11 | 11.0 | 41.8 |  70 |  41328 |\n",
       "| Texas | 12237 | 4188 | 2.2 | 70.90 | 12.2 | 47.4 |  35 | 262134 |\n",
       "| Utah |  1203 | 4022 | 0.6 | 72.90 |  4.5 | 67.3 | 137 |  82096 |\n",
       "| Vermont |   472 | 3907 | 0.6 | 71.64 |  5.5 | 57.1 | 168 |   9267 |\n",
       "| Virginia |  4981 | 4701 | 1.4 | 70.08 |  9.5 | 47.8 |  85 |  39780 |\n",
       "| Washington |  3559 | 4864 | 0.6 | 71.72 |  4.3 | 63.5 |  32 |  66570 |\n",
       "| West Virginia |  1799 | 3617 | 1.4 | 69.48 |  6.7 | 41.6 | 100 |  24070 |\n",
       "| Wisconsin |  4589 | 4468 | 0.7 | 72.48 |  3.0 | 54.5 | 149 |  54464 |\n",
       "| Wyoming |   376 | 4566 | 0.6 | 70.29 |  6.9 | 62.9 | 173 |  97203 |\n",
       "\n"
      ],
      "text/plain": [
       "               Population Income Illiteracy Life Exp Murder HS Grad Frost\n",
       "Alabama         3615      3624   2.1        69.05    15.1   41.3     20  \n",
       "Alaska           365      6315   1.5        69.31    11.3   66.7    152  \n",
       "Arizona         2212      4530   1.8        70.55     7.8   58.1     15  \n",
       "Arkansas        2110      3378   1.9        70.66    10.1   39.9     65  \n",
       "California     21198      5114   1.1        71.71    10.3   62.6     20  \n",
       "Colorado        2541      4884   0.7        72.06     6.8   63.9    166  \n",
       "Connecticut     3100      5348   1.1        72.48     3.1   56.0    139  \n",
       "Delaware         579      4809   0.9        70.06     6.2   54.6    103  \n",
       "Florida         8277      4815   1.3        70.66    10.7   52.6     11  \n",
       "Georgia         4931      4091   2.0        68.54    13.9   40.6     60  \n",
       "Hawaii           868      4963   1.9        73.60     6.2   61.9      0  \n",
       "Idaho            813      4119   0.6        71.87     5.3   59.5    126  \n",
       "Illinois       11197      5107   0.9        70.14    10.3   52.6    127  \n",
       "Indiana         5313      4458   0.7        70.88     7.1   52.9    122  \n",
       "Iowa            2861      4628   0.5        72.56     2.3   59.0    140  \n",
       "Kansas          2280      4669   0.6        72.58     4.5   59.9    114  \n",
       "Kentucky        3387      3712   1.6        70.10    10.6   38.5     95  \n",
       "Louisiana       3806      3545   2.8        68.76    13.2   42.2     12  \n",
       "Maine           1058      3694   0.7        70.39     2.7   54.7    161  \n",
       "Maryland        4122      5299   0.9        70.22     8.5   52.3    101  \n",
       "Massachusetts   5814      4755   1.1        71.83     3.3   58.5    103  \n",
       "Michigan        9111      4751   0.9        70.63    11.1   52.8    125  \n",
       "Minnesota       3921      4675   0.6        72.96     2.3   57.6    160  \n",
       "Mississippi     2341      3098   2.4        68.09    12.5   41.0     50  \n",
       "Missouri        4767      4254   0.8        70.69     9.3   48.8    108  \n",
       "Montana          746      4347   0.6        70.56     5.0   59.2    155  \n",
       "Nebraska        1544      4508   0.6        72.60     2.9   59.3    139  \n",
       "Nevada           590      5149   0.5        69.03    11.5   65.2    188  \n",
       "New Hampshire    812      4281   0.7        71.23     3.3   57.6    174  \n",
       "New Jersey      7333      5237   1.1        70.93     5.2   52.5    115  \n",
       "New Mexico      1144      3601   2.2        70.32     9.7   55.2    120  \n",
       "New York       18076      4903   1.4        70.55    10.9   52.7     82  \n",
       "North Carolina  5441      3875   1.8        69.21    11.1   38.5     80  \n",
       "North Dakota     637      5087   0.8        72.78     1.4   50.3    186  \n",
       "Ohio           10735      4561   0.8        70.82     7.4   53.2    124  \n",
       "Oklahoma        2715      3983   1.1        71.42     6.4   51.6     82  \n",
       "Oregon          2284      4660   0.6        72.13     4.2   60.0     44  \n",
       "Pennsylvania   11860      4449   1.0        70.43     6.1   50.2    126  \n",
       "Rhode Island     931      4558   1.3        71.90     2.4   46.4    127  \n",
       "South Carolina  2816      3635   2.3        67.96    11.6   37.8     65  \n",
       "South Dakota     681      4167   0.5        72.08     1.7   53.3    172  \n",
       "Tennessee       4173      3821   1.7        70.11    11.0   41.8     70  \n",
       "Texas          12237      4188   2.2        70.90    12.2   47.4     35  \n",
       "Utah            1203      4022   0.6        72.90     4.5   67.3    137  \n",
       "Vermont          472      3907   0.6        71.64     5.5   57.1    168  \n",
       "Virginia        4981      4701   1.4        70.08     9.5   47.8     85  \n",
       "Washington      3559      4864   0.6        71.72     4.3   63.5     32  \n",
       "West Virginia   1799      3617   1.4        69.48     6.7   41.6    100  \n",
       "Wisconsin       4589      4468   0.7        72.48     3.0   54.5    149  \n",
       "Wyoming          376      4566   0.6        70.29     6.9   62.9    173  \n",
       "               Area  \n",
       "Alabama         50708\n",
       "Alaska         566432\n",
       "Arizona        113417\n",
       "Arkansas        51945\n",
       "California     156361\n",
       "Colorado       103766\n",
       "Connecticut      4862\n",
       "Delaware         1982\n",
       "Florida         54090\n",
       "Georgia         58073\n",
       "Hawaii           6425\n",
       "Idaho           82677\n",
       "Illinois        55748\n",
       "Indiana         36097\n",
       "Iowa            55941\n",
       "Kansas          81787\n",
       "Kentucky        39650\n",
       "Louisiana       44930\n",
       "Maine           30920\n",
       "Maryland         9891\n",
       "Massachusetts    7826\n",
       "Michigan        56817\n",
       "Minnesota       79289\n",
       "Mississippi     47296\n",
       "Missouri        68995\n",
       "Montana        145587\n",
       "Nebraska        76483\n",
       "Nevada         109889\n",
       "New Hampshire    9027\n",
       "New Jersey       7521\n",
       "New Mexico     121412\n",
       "New York        47831\n",
       "North Carolina  48798\n",
       "North Dakota    69273\n",
       "Ohio            40975\n",
       "Oklahoma        68782\n",
       "Oregon          96184\n",
       "Pennsylvania    44966\n",
       "Rhode Island     1049\n",
       "South Carolina  30225\n",
       "South Dakota    75955\n",
       "Tennessee       41328\n",
       "Texas          262134\n",
       "Utah            82096\n",
       "Vermont          9267\n",
       "Virginia        39780\n",
       "Washington      66570\n",
       "West Virginia   24070\n",
       "Wisconsin       54464\n",
       "Wyoming         97203"
      ]
     },
     "metadata": {},
     "output_type": "display_data"
    }
   ],
   "source": [
    "state.x77"
   ]
  },
  {
   "cell_type": "markdown",
   "metadata": {},
   "source": [
    "1970s 미국 50개 주의 인구, 수입 등 생활 전반에 대한 정보이다."
   ]
  },
  {
   "cell_type": "code",
   "execution_count": 4,
   "metadata": {
    "ExecuteTime": {
     "end_time": "2020-10-28T09:20:51.580995Z",
     "start_time": "2020-10-28T09:20:51.547Z"
    }
   },
   "outputs": [],
   "source": [
    "state = state.x77"
   ]
  },
  {
   "cell_type": "code",
   "execution_count": 5,
   "metadata": {
    "ExecuteTime": {
     "end_time": "2020-10-28T09:22:56.845890Z",
     "start_time": "2020-10-28T09:22:56.818Z"
    }
   },
   "outputs": [],
   "source": [
    "library(stats)"
   ]
  },
  {
   "cell_type": "code",
   "execution_count": 12,
   "metadata": {
    "ExecuteTime": {
     "end_time": "2020-10-28T09:25:40.939657Z",
     "start_time": "2020-10-28T09:25:40.888Z"
    }
   },
   "outputs": [
    {
     "data": {
      "text/plain": [
       "\n",
       "Call:\n",
       "factanal(x = state, factors = 4)\n",
       "\n",
       "Uniquenesses:\n",
       "Population     Income Illiteracy   Life Exp     Murder    HS Grad      Frost \n",
       "     0.584      0.473      0.005      0.165      0.050      0.219      0.301 \n",
       "      Area \n",
       "     0.327 \n",
       "\n",
       "Loadings:\n",
       "           Factor1 Factor2 Factor3 Factor4\n",
       "Population                          0.636 \n",
       "Income      0.313   0.281   0.561   0.189 \n",
       "Illiteracy -0.466  -0.878                 \n",
       "Life Exp    0.891   0.191                 \n",
       "Murder     -0.792  -0.384   0.109   0.405 \n",
       "HS Grad     0.517   0.418   0.581         \n",
       "Frost       0.128   0.679   0.105  -0.460 \n",
       "Area       -0.174           0.796         \n",
       "\n",
       "               Factor1 Factor2 Factor3 Factor4\n",
       "SS loadings      2.054   1.680   1.321   0.821\n",
       "Proportion Var   0.257   0.210   0.165   0.103\n",
       "Cumulative Var   0.257   0.467   0.632   0.734\n",
       "\n",
       "Test of the hypothesis that 4 factors are sufficient.\n",
       "The chi square statistic is 6.11 on 2 degrees of freedom.\n",
       "The p-value is 0.047 "
      ]
     },
     "metadata": {},
     "output_type": "display_data"
    }
   ],
   "source": [
    "state.fact0 = factanal(state, factors = 4)\n",
    "state.fact0"
   ]
  },
  {
   "cell_type": "markdown",
   "metadata": {
    "ExecuteTime": {
     "end_time": "2020-10-28T09:23:36.863177Z",
     "start_time": "2020-10-28T09:23:36.833Z"
    }
   },
   "source": [
    "stats 라이브러리의 factanal 함수를 통해 인자 분석을 실시할 수 있다.\n",
    "이는 maximum-likelihood factor analysis에 기반한다."
   ]
  },
  {
   "cell_type": "markdown",
   "metadata": {},
   "source": [
    "값이 없는 것은 0에 가까운 값들이다.<br>\n",
    "고유값의 크기가 1이상인 것을 생각했을 때는 3개의 인자를 선택한다 <br>\n",
    "uniqueness는 특수성 즉 고유분산이다. principal과는 달리 특수성은 계산해줘도 공통성을 계산해주지 않으므로 1-uniqueness로 직접 계산해야한다."
   ]
  },
  {
   "cell_type": "code",
   "execution_count": 17,
   "metadata": {
    "ExecuteTime": {
     "end_time": "2020-10-28T10:08:27.878126Z",
     "start_time": "2020-10-28T10:08:27.825Z"
    }
   },
   "outputs": [
    {
     "data": {
      "text/plain": [
       "\n",
       "Call:\n",
       "factanal(x = state, factors = 3, rotation = \"none\")\n",
       "\n",
       "Uniquenesses:\n",
       "Population     Income Illiteracy   Life Exp     Murder    HS Grad      Frost \n",
       "     0.813      0.474      0.266      0.240      0.050      0.167      0.005 \n",
       "      Area \n",
       "     0.613 \n",
       "\n",
       "Loadings:\n",
       "           Factor1 Factor2 Factor3\n",
       "Population -0.339           0.251 \n",
       "Income      0.245  -0.258   0.632 \n",
       "Illiteracy -0.703   0.440  -0.217 \n",
       "Life Exp    0.314  -0.808         \n",
       "Murder     -0.589   0.756   0.180 \n",
       "HS Grad     0.401  -0.491   0.657 \n",
       "Frost       0.996                 \n",
       "Area                0.211   0.583 \n",
       "\n",
       "               Factor1 Factor2 Factor3\n",
       "SS loadings      2.268   1.782   1.321\n",
       "Proportion Var   0.284   0.223   0.165\n",
       "Cumulative Var   0.284   0.506   0.671\n",
       "\n",
       "Test of the hypothesis that 3 factors are sufficient.\n",
       "The chi square statistic is 20.47 on 7 degrees of freedom.\n",
       "The p-value is 0.00464 "
      ]
     },
     "metadata": {},
     "output_type": "display_data"
    }
   ],
   "source": [
    "state.fact = factanal(state, factors = 3, rotation = \"none\")\n",
    "state.fact"
   ]
  },
  {
   "cell_type": "markdown",
   "metadata": {},
   "source": [
    "population은 특수성이 0.813으로 세가지 인자로 설명되지 않는 부분이 너무 크므로 제외하고 다시 인자분석을 실시한다."
   ]
  },
  {
   "cell_type": "code",
   "execution_count": 16,
   "metadata": {
    "ExecuteTime": {
     "end_time": "2020-10-28T10:07:38.854278Z",
     "start_time": "2020-10-28T10:07:38.809Z"
    }
   },
   "outputs": [
    {
     "data": {
      "text/plain": [
       "\n",
       "Call:\n",
       "factanal(x = state[, -1], factors = 3, scores = \"Bartlett\", rotation = \"varimax\")\n",
       "\n",
       "Uniquenesses:\n",
       "    Income Illiteracy   Life Exp     Murder    HS Grad      Frost       Area \n",
       "     0.533      0.263      0.221      0.094      0.101      0.005      0.579 \n",
       "\n",
       "Loadings:\n",
       "           Factor1 Factor2 Factor3\n",
       "Income      0.264   0.621   0.105 \n",
       "Illiteracy -0.599  -0.301  -0.537 \n",
       "Life Exp    0.867   0.141         \n",
       "Murder     -0.866          -0.391 \n",
       "HS Grad     0.534   0.763   0.179 \n",
       "Frost       0.192   0.119   0.972 \n",
       "Area       -0.252   0.597         \n",
       "\n",
       "               Factor1 Factor2 Factor3\n",
       "SS loadings      2.316   1.452   1.436\n",
       "Proportion Var   0.331   0.207   0.205\n",
       "Cumulative Var   0.331   0.538   0.743\n",
       "\n",
       "Test of the hypothesis that 3 factors are sufficient.\n",
       "The chi square statistic is 7.29 on 3 degrees of freedom.\n",
       "The p-value is 0.0631 "
      ]
     },
     "metadata": {},
     "output_type": "display_data"
    }
   ],
   "source": [
    "state.fact.1 = factanal(state[, -1], factors = 3, rotation = \"varimax\", scores = \"Bartlett\")\n",
    "state.fact.1"
   ]
  },
  {
   "cell_type": "markdown",
   "metadata": {},
   "source": [
    "F1(-illiteracy 문맹, -murder 살인,  life exp 생활기대수준, HS grad 고등 교육 수준) 삶의 질 <br>\n",
    "F2(income, hsgrad, area 지역) 사회적 지위 <br>\n",
    "F3(frost 기후, -illiteracy) 기후"
   ]
  },
  {
   "cell_type": "code",
   "execution_count": 18,
   "metadata": {
    "ExecuteTime": {
     "end_time": "2020-10-28T10:21:02.573515Z",
     "start_time": "2020-10-28T10:21:02.450Z"
    }
   },
   "outputs": [
    {
     "data": {
      "text/html": [
       "<table>\n",
       "<caption>A matrix: 50 × 3 of type dbl</caption>\n",
       "<thead>\n",
       "\t<tr><th></th><th scope=col>Factor1</th><th scope=col>Factor2</th><th scope=col>Factor3</th></tr>\n",
       "</thead>\n",
       "<tbody>\n",
       "\t<tr><th scope=row>Alabama</th><td>-1.65096019</td><td>-0.49376734</td><td>-1.28710622</td></tr>\n",
       "\t<tr><th scope=row>Alaska</th><td>-2.00028383</td><td> 3.88798794</td><td> 0.86086473</td></tr>\n",
       "\t<tr><th scope=row>Arizona</th><td> 0.44463744</td><td> 0.75445578</td><td>-1.94918945</td></tr>\n",
       "\t<tr><th scope=row>Arkansas</th><td>-0.56577894</td><td>-1.56660667</td><td>-0.48274061</td></tr>\n",
       "\t<tr><th scope=row>California</th><td> 0.28211067</td><td> 1.93461012</td><td>-1.96336941</td></tr>\n",
       "\t<tr><th scope=row>Colorado</th><td> 0.07832695</td><td> 1.38347239</td><td> 1.02731166</td></tr>\n",
       "\t<tr><th scope=row>Connecticut</th><td> 1.08568725</td><td>-0.28965227</td><td> 0.49853736</td></tr>\n",
       "\t<tr><th scope=row>Delaware</th><td> 0.20275514</td><td> 0.02529933</td><td>-0.06500747</td></tr>\n",
       "\t<tr><th scope=row>Florida</th><td>-0.02108532</td><td> 0.52126839</td><td>-1.90575059</td></tr>\n",
       "\t<tr><th scope=row>Georgia</th><td>-1.84211920</td><td>-0.58494442</td><td>-0.44482855</td></tr>\n",
       "\t<tr><th scope=row>Hawaii</th><td> 1.72625736</td><td> 0.66914700</td><td>-2.50305248</td></tr>\n",
       "\t<tr><th scope=row>Idaho</th><td> 0.67319468</td><td> 0.39579835</td><td> 0.24635882</td></tr>\n",
       "\t<tr><th scope=row>Illinois</th><td>-0.91537051</td><td> 0.59834043</td><td> 0.55481655</td></tr>\n",
       "\t<tr><th scope=row>Indiana</th><td> 0.04158178</td><td>-0.09260109</td><td> 0.35382499</td></tr>\n",
       "\t<tr><th scope=row>Iowa</th><td> 1.37977873</td><td>-0.07466145</td><td> 0.44128779</td></tr>\n",
       "\t<tr><th scope=row>Kansas</th><td> 1.09536631</td><td> 0.42921383</td><td>-0.08000861</td></tr>\n",
       "\t<tr><th scope=row>Kentucky</th><td>-0.99225482</td><td>-1.53833443</td><td> 0.19466551</td></tr>\n",
       "\t<tr><th scope=row>Louisiana</th><td>-1.37311239</td><td>-0.76078875</td><td>-1.47148392</td></tr>\n",
       "\t<tr><th scope=row>Maine</th><td> 0.58182916</td><td>-0.73871950</td><td> 1.10156968</td></tr>\n",
       "\t<tr><th scope=row>Maryland</th><td>-0.27223540</td><td> 0.23756285</td><td>-0.03940502</td></tr>\n",
       "\t<tr><th scope=row>Massachusetts</th><td> 1.22115422</td><td>-0.06786996</td><td>-0.26241045</td></tr>\n",
       "\t<tr><th scope=row>Michigan</th><td>-0.94635130</td><td> 0.62293022</td><td> 0.51529344</td></tr>\n",
       "\t<tr><th scope=row>Minnesota</th><td> 1.25102036</td><td>-0.21582652</td><td> 0.87573133</td></tr>\n",
       "\t<tr><th scope=row>Mississippi</th><td>-1.61451111</td><td>-1.05394570</td><td>-0.63055453</td></tr>\n",
       "\t<tr><th scope=row>Missouri</th><td>-0.44908971</td><td>-0.23407219</td><td> 0.19052897</td></tr>\n",
       "\t<tr><th scope=row>Montana</th><td> 0.13166347</td><td> 0.58495749</td><td> 0.90908315</td></tr>\n",
       "\t<tr><th scope=row>Nebraska</th><td> 1.23688958</td><td> 0.05358123</td><td> 0.43238706</td></tr>\n",
       "\t<tr><th scope=row>Nevada</th><td>-1.73800955</td><td> 2.53331608</td><td> 1.68979060</td></tr>\n",
       "\t<tr><th scope=row>New Hampshire</th><td> 0.58978460</td><td>-0.23601080</td><td> 1.28939717</td></tr>\n",
       "\t<tr><th scope=row>New Jersey</th><td> 0.43857695</td><td>-0.32547528</td><td> 0.16313522</td></tr>\n",
       "\t<tr><th scope=row>New Mexico</th><td>-0.95066809</td><td> 0.42010387</td><td> 0.43149890</td></tr>\n",
       "\t<tr><th scope=row>New York</th><td>-0.67094932</td><td> 0.56131498</td><td>-0.38402519</td></tr>\n",
       "\t<tr><th scope=row>North Carolina</th><td>-1.23300919</td><td>-1.36521837</td><td>-0.07308207</td></tr>\n",
       "\t<tr><th scope=row>North Dakota</th><td> 1.06621471</td><td>-1.16076077</td><td> 1.54085917</td></tr>\n",
       "\t<tr><th scope=row>Ohio</th><td>-0.07404572</td><td> 0.02103348</td><td> 0.40103738</td></tr>\n",
       "\t<tr><th scope=row>Oklahoma</th><td> 0.51623543</td><td>-0.47916881</td><td>-0.48641871</td></tr>\n",
       "\t<tr><th scope=row>Oregon</th><td> 1.60266042</td><td> 0.45933268</td><td>-1.56075898</td></tr>\n",
       "\t<tr><th scope=row>Pennsylvania</th><td> 0.01663344</td><td>-0.55955544</td><td> 0.49513845</td></tr>\n",
       "\t<tr><th scope=row>Rhode Island</th><td> 1.06134235</td><td>-1.76507957</td><td> 0.44997776</td></tr>\n",
       "\t<tr><th scope=row>South Carolina</th><td>-1.58771392</td><td>-1.45563928</td><td>-0.28808295</td></tr>\n",
       "\t<tr><th scope=row>South Dakota</th><td> 1.06010068</td><td>-0.91286217</td><td> 1.24163464</td></tr>\n",
       "\t<tr><th scope=row>Tennessee</th><td>-0.85763135</td><td>-1.05230591</td><td>-0.38614335</td></tr>\n",
       "\t<tr><th scope=row>Texas</th><td>-0.90654446</td><td> 0.30046476</td><td>-1.23985535</td></tr>\n",
       "\t<tr><th scope=row>Utah</th><td> 1.08524937</td><td> 1.13035894</td><td> 0.28680128</td></tr>\n",
       "\t<tr><th scope=row>Vermont</th><td> 0.29089225</td><td>-0.07444279</td><td> 1.20719445</td></tr>\n",
       "\t<tr><th scope=row>Virginia</th><td>-0.55549963</td><td>-0.29066486</td><td>-0.23909640</td></tr>\n",
       "\t<tr><th scope=row>Washington</th><td> 1.65090836</td><td> 0.91341753</td><td>-1.86149964</td></tr>\n",
       "\t<tr><th scope=row>West Virginia</th><td>-0.26268421</td><td>-1.76171724</td><td> 0.18522068</td></tr>\n",
       "\t<tr><th scope=row>Wisconsin</th><td> 1.05431027</td><td>-0.57583266</td><td> 0.74226258</td></tr>\n",
       "\t<tr><th scope=row>Wyoming</th><td>-0.38525379</td><td> 1.28855661</td><td> 1.27766064</td></tr>\n",
       "</tbody>\n",
       "</table>\n"
      ],
      "text/latex": [
       "A matrix: 50 × 3 of type dbl\n",
       "\\begin{tabular}{r|lll}\n",
       "  & Factor1 & Factor2 & Factor3\\\\\n",
       "\\hline\n",
       "\tAlabama & -1.65096019 & -0.49376734 & -1.28710622\\\\\n",
       "\tAlaska & -2.00028383 &  3.88798794 &  0.86086473\\\\\n",
       "\tArizona &  0.44463744 &  0.75445578 & -1.94918945\\\\\n",
       "\tArkansas & -0.56577894 & -1.56660667 & -0.48274061\\\\\n",
       "\tCalifornia &  0.28211067 &  1.93461012 & -1.96336941\\\\\n",
       "\tColorado &  0.07832695 &  1.38347239 &  1.02731166\\\\\n",
       "\tConnecticut &  1.08568725 & -0.28965227 &  0.49853736\\\\\n",
       "\tDelaware &  0.20275514 &  0.02529933 & -0.06500747\\\\\n",
       "\tFlorida & -0.02108532 &  0.52126839 & -1.90575059\\\\\n",
       "\tGeorgia & -1.84211920 & -0.58494442 & -0.44482855\\\\\n",
       "\tHawaii &  1.72625736 &  0.66914700 & -2.50305248\\\\\n",
       "\tIdaho &  0.67319468 &  0.39579835 &  0.24635882\\\\\n",
       "\tIllinois & -0.91537051 &  0.59834043 &  0.55481655\\\\\n",
       "\tIndiana &  0.04158178 & -0.09260109 &  0.35382499\\\\\n",
       "\tIowa &  1.37977873 & -0.07466145 &  0.44128779\\\\\n",
       "\tKansas &  1.09536631 &  0.42921383 & -0.08000861\\\\\n",
       "\tKentucky & -0.99225482 & -1.53833443 &  0.19466551\\\\\n",
       "\tLouisiana & -1.37311239 & -0.76078875 & -1.47148392\\\\\n",
       "\tMaine &  0.58182916 & -0.73871950 &  1.10156968\\\\\n",
       "\tMaryland & -0.27223540 &  0.23756285 & -0.03940502\\\\\n",
       "\tMassachusetts &  1.22115422 & -0.06786996 & -0.26241045\\\\\n",
       "\tMichigan & -0.94635130 &  0.62293022 &  0.51529344\\\\\n",
       "\tMinnesota &  1.25102036 & -0.21582652 &  0.87573133\\\\\n",
       "\tMississippi & -1.61451111 & -1.05394570 & -0.63055453\\\\\n",
       "\tMissouri & -0.44908971 & -0.23407219 &  0.19052897\\\\\n",
       "\tMontana &  0.13166347 &  0.58495749 &  0.90908315\\\\\n",
       "\tNebraska &  1.23688958 &  0.05358123 &  0.43238706\\\\\n",
       "\tNevada & -1.73800955 &  2.53331608 &  1.68979060\\\\\n",
       "\tNew Hampshire &  0.58978460 & -0.23601080 &  1.28939717\\\\\n",
       "\tNew Jersey &  0.43857695 & -0.32547528 &  0.16313522\\\\\n",
       "\tNew Mexico & -0.95066809 &  0.42010387 &  0.43149890\\\\\n",
       "\tNew York & -0.67094932 &  0.56131498 & -0.38402519\\\\\n",
       "\tNorth Carolina & -1.23300919 & -1.36521837 & -0.07308207\\\\\n",
       "\tNorth Dakota &  1.06621471 & -1.16076077 &  1.54085917\\\\\n",
       "\tOhio & -0.07404572 &  0.02103348 &  0.40103738\\\\\n",
       "\tOklahoma &  0.51623543 & -0.47916881 & -0.48641871\\\\\n",
       "\tOregon &  1.60266042 &  0.45933268 & -1.56075898\\\\\n",
       "\tPennsylvania &  0.01663344 & -0.55955544 &  0.49513845\\\\\n",
       "\tRhode Island &  1.06134235 & -1.76507957 &  0.44997776\\\\\n",
       "\tSouth Carolina & -1.58771392 & -1.45563928 & -0.28808295\\\\\n",
       "\tSouth Dakota &  1.06010068 & -0.91286217 &  1.24163464\\\\\n",
       "\tTennessee & -0.85763135 & -1.05230591 & -0.38614335\\\\\n",
       "\tTexas & -0.90654446 &  0.30046476 & -1.23985535\\\\\n",
       "\tUtah &  1.08524937 &  1.13035894 &  0.28680128\\\\\n",
       "\tVermont &  0.29089225 & -0.07444279 &  1.20719445\\\\\n",
       "\tVirginia & -0.55549963 & -0.29066486 & -0.23909640\\\\\n",
       "\tWashington &  1.65090836 &  0.91341753 & -1.86149964\\\\\n",
       "\tWest Virginia & -0.26268421 & -1.76171724 &  0.18522068\\\\\n",
       "\tWisconsin &  1.05431027 & -0.57583266 &  0.74226258\\\\\n",
       "\tWyoming & -0.38525379 &  1.28855661 &  1.27766064\\\\\n",
       "\\end{tabular}\n"
      ],
      "text/markdown": [
       "\n",
       "A matrix: 50 × 3 of type dbl\n",
       "\n",
       "| <!--/--> | Factor1 | Factor2 | Factor3 |\n",
       "|---|---|---|---|\n",
       "| Alabama | -1.65096019 | -0.49376734 | -1.28710622 |\n",
       "| Alaska | -2.00028383 |  3.88798794 |  0.86086473 |\n",
       "| Arizona |  0.44463744 |  0.75445578 | -1.94918945 |\n",
       "| Arkansas | -0.56577894 | -1.56660667 | -0.48274061 |\n",
       "| California |  0.28211067 |  1.93461012 | -1.96336941 |\n",
       "| Colorado |  0.07832695 |  1.38347239 |  1.02731166 |\n",
       "| Connecticut |  1.08568725 | -0.28965227 |  0.49853736 |\n",
       "| Delaware |  0.20275514 |  0.02529933 | -0.06500747 |\n",
       "| Florida | -0.02108532 |  0.52126839 | -1.90575059 |\n",
       "| Georgia | -1.84211920 | -0.58494442 | -0.44482855 |\n",
       "| Hawaii |  1.72625736 |  0.66914700 | -2.50305248 |\n",
       "| Idaho |  0.67319468 |  0.39579835 |  0.24635882 |\n",
       "| Illinois | -0.91537051 |  0.59834043 |  0.55481655 |\n",
       "| Indiana |  0.04158178 | -0.09260109 |  0.35382499 |\n",
       "| Iowa |  1.37977873 | -0.07466145 |  0.44128779 |\n",
       "| Kansas |  1.09536631 |  0.42921383 | -0.08000861 |\n",
       "| Kentucky | -0.99225482 | -1.53833443 |  0.19466551 |\n",
       "| Louisiana | -1.37311239 | -0.76078875 | -1.47148392 |\n",
       "| Maine |  0.58182916 | -0.73871950 |  1.10156968 |\n",
       "| Maryland | -0.27223540 |  0.23756285 | -0.03940502 |\n",
       "| Massachusetts |  1.22115422 | -0.06786996 | -0.26241045 |\n",
       "| Michigan | -0.94635130 |  0.62293022 |  0.51529344 |\n",
       "| Minnesota |  1.25102036 | -0.21582652 |  0.87573133 |\n",
       "| Mississippi | -1.61451111 | -1.05394570 | -0.63055453 |\n",
       "| Missouri | -0.44908971 | -0.23407219 |  0.19052897 |\n",
       "| Montana |  0.13166347 |  0.58495749 |  0.90908315 |\n",
       "| Nebraska |  1.23688958 |  0.05358123 |  0.43238706 |\n",
       "| Nevada | -1.73800955 |  2.53331608 |  1.68979060 |\n",
       "| New Hampshire |  0.58978460 | -0.23601080 |  1.28939717 |\n",
       "| New Jersey |  0.43857695 | -0.32547528 |  0.16313522 |\n",
       "| New Mexico | -0.95066809 |  0.42010387 |  0.43149890 |\n",
       "| New York | -0.67094932 |  0.56131498 | -0.38402519 |\n",
       "| North Carolina | -1.23300919 | -1.36521837 | -0.07308207 |\n",
       "| North Dakota |  1.06621471 | -1.16076077 |  1.54085917 |\n",
       "| Ohio | -0.07404572 |  0.02103348 |  0.40103738 |\n",
       "| Oklahoma |  0.51623543 | -0.47916881 | -0.48641871 |\n",
       "| Oregon |  1.60266042 |  0.45933268 | -1.56075898 |\n",
       "| Pennsylvania |  0.01663344 | -0.55955544 |  0.49513845 |\n",
       "| Rhode Island |  1.06134235 | -1.76507957 |  0.44997776 |\n",
       "| South Carolina | -1.58771392 | -1.45563928 | -0.28808295 |\n",
       "| South Dakota |  1.06010068 | -0.91286217 |  1.24163464 |\n",
       "| Tennessee | -0.85763135 | -1.05230591 | -0.38614335 |\n",
       "| Texas | -0.90654446 |  0.30046476 | -1.23985535 |\n",
       "| Utah |  1.08524937 |  1.13035894 |  0.28680128 |\n",
       "| Vermont |  0.29089225 | -0.07444279 |  1.20719445 |\n",
       "| Virginia | -0.55549963 | -0.29066486 | -0.23909640 |\n",
       "| Washington |  1.65090836 |  0.91341753 | -1.86149964 |\n",
       "| West Virginia | -0.26268421 | -1.76171724 |  0.18522068 |\n",
       "| Wisconsin |  1.05431027 | -0.57583266 |  0.74226258 |\n",
       "| Wyoming | -0.38525379 |  1.28855661 |  1.27766064 |\n",
       "\n"
      ],
      "text/plain": [
       "               Factor1     Factor2     Factor3    \n",
       "Alabama        -1.65096019 -0.49376734 -1.28710622\n",
       "Alaska         -2.00028383  3.88798794  0.86086473\n",
       "Arizona         0.44463744  0.75445578 -1.94918945\n",
       "Arkansas       -0.56577894 -1.56660667 -0.48274061\n",
       "California      0.28211067  1.93461012 -1.96336941\n",
       "Colorado        0.07832695  1.38347239  1.02731166\n",
       "Connecticut     1.08568725 -0.28965227  0.49853736\n",
       "Delaware        0.20275514  0.02529933 -0.06500747\n",
       "Florida        -0.02108532  0.52126839 -1.90575059\n",
       "Georgia        -1.84211920 -0.58494442 -0.44482855\n",
       "Hawaii          1.72625736  0.66914700 -2.50305248\n",
       "Idaho           0.67319468  0.39579835  0.24635882\n",
       "Illinois       -0.91537051  0.59834043  0.55481655\n",
       "Indiana         0.04158178 -0.09260109  0.35382499\n",
       "Iowa            1.37977873 -0.07466145  0.44128779\n",
       "Kansas          1.09536631  0.42921383 -0.08000861\n",
       "Kentucky       -0.99225482 -1.53833443  0.19466551\n",
       "Louisiana      -1.37311239 -0.76078875 -1.47148392\n",
       "Maine           0.58182916 -0.73871950  1.10156968\n",
       "Maryland       -0.27223540  0.23756285 -0.03940502\n",
       "Massachusetts   1.22115422 -0.06786996 -0.26241045\n",
       "Michigan       -0.94635130  0.62293022  0.51529344\n",
       "Minnesota       1.25102036 -0.21582652  0.87573133\n",
       "Mississippi    -1.61451111 -1.05394570 -0.63055453\n",
       "Missouri       -0.44908971 -0.23407219  0.19052897\n",
       "Montana         0.13166347  0.58495749  0.90908315\n",
       "Nebraska        1.23688958  0.05358123  0.43238706\n",
       "Nevada         -1.73800955  2.53331608  1.68979060\n",
       "New Hampshire   0.58978460 -0.23601080  1.28939717\n",
       "New Jersey      0.43857695 -0.32547528  0.16313522\n",
       "New Mexico     -0.95066809  0.42010387  0.43149890\n",
       "New York       -0.67094932  0.56131498 -0.38402519\n",
       "North Carolina -1.23300919 -1.36521837 -0.07308207\n",
       "North Dakota    1.06621471 -1.16076077  1.54085917\n",
       "Ohio           -0.07404572  0.02103348  0.40103738\n",
       "Oklahoma        0.51623543 -0.47916881 -0.48641871\n",
       "Oregon          1.60266042  0.45933268 -1.56075898\n",
       "Pennsylvania    0.01663344 -0.55955544  0.49513845\n",
       "Rhode Island    1.06134235 -1.76507957  0.44997776\n",
       "South Carolina -1.58771392 -1.45563928 -0.28808295\n",
       "South Dakota    1.06010068 -0.91286217  1.24163464\n",
       "Tennessee      -0.85763135 -1.05230591 -0.38614335\n",
       "Texas          -0.90654446  0.30046476 -1.23985535\n",
       "Utah            1.08524937  1.13035894  0.28680128\n",
       "Vermont         0.29089225 -0.07444279  1.20719445\n",
       "Virginia       -0.55549963 -0.29066486 -0.23909640\n",
       "Washington      1.65090836  0.91341753 -1.86149964\n",
       "West Virginia  -0.26268421 -1.76171724  0.18522068\n",
       "Wisconsin       1.05431027 -0.57583266  0.74226258\n",
       "Wyoming        -0.38525379  1.28855661  1.27766064"
      ]
     },
     "metadata": {},
     "output_type": "display_data"
    }
   ],
   "source": [
    "state.fact.1$scores"
   ]
  },
  {
   "cell_type": "code",
   "execution_count": 20,
   "metadata": {
    "ExecuteTime": {
     "end_time": "2020-10-28T10:27:28.216950Z",
     "start_time": "2020-10-28T10:27:28.178Z"
    }
   },
   "outputs": [],
   "source": [
    "namevar = colnames(state)\n",
    "rnames = rownames(state)\n",
    "attach(state.fact.1)"
   ]
  },
  {
   "cell_type": "code",
   "execution_count": 27,
   "metadata": {
    "ExecuteTime": {
     "end_time": "2020-10-28T10:32:44.930341Z",
     "start_time": "2020-10-28T10:32:44.832Z"
    }
   },
   "outputs": [
    {
     "data": {
      "image/png": "[encoded data removed]",
      "text/plain": [
       "plot without title"
      ]
     },
     "metadata": {
      "image/png": {
       "height": 420,
       "width": 420
      }
     },
     "output_type": "display_data"
    }
   ],
   "source": [
    "# plt(f1, f2)\n",
    "plot(loadings[, 1], loadings[, 2])\n",
    "text(loadings[,1], loadings[, 2], label = namevar, cex = 0.8)\n",
    "abline(h = 0, v = 0, lty = 2)"
   ]
  },
  {
   "cell_type": "code",
   "execution_count": 28,
   "metadata": {
    "ExecuteTime": {
     "end_time": "2020-10-28T10:32:51.298053Z",
     "start_time": "2020-10-28T10:32:51.183Z"
    }
   },
   "outputs": [
    {
     "data": {
      "image/png": "[encoded data removed]",
      "text/plain": [
       "plot without title"
      ]
     },
     "metadata": {
      "image/png": {
       "height": 420,
       "width": 420
      }
     },
     "output_type": "display_data"
    }
   ],
   "source": [
    "# plt(f1, f3)\n",
    "plot(loadings[, 1], loadings[, 3])\n",
    "text(loadings[,1], loadings[, 3], label = namevar, cex = 0.8)\n",
    "abline(h = 0, v = 0, lty = 2)"
   ]
  },
  {
   "cell_type": "markdown",
   "metadata": {},
   "source": [
    "factanal함수는 principal과 다르게 biplot함수를 써도 자동으로 그려주지 않기 때문에 이렇게 직접 그려 봐야 한다."
   ]
  },
  {
   "cell_type": "markdown",
   "metadata": {},
   "source": [
    "# fa 함수 사용 "
   ]
  },
  {
   "cell_type": "code",
   "execution_count": 29,
   "metadata": {
    "ExecuteTime": {
     "end_time": "2020-10-28T10:35:25.690471Z",
     "start_time": "2020-10-28T10:35:25.598Z"
    }
   },
   "outputs": [],
   "source": [
    "fem = read.csv(\"mvadata/grntFem.csv\", header = T)"
   ]
  },
  {
   "cell_type": "code",
   "execution_count": 30,
   "metadata": {
    "ExecuteTime": {
     "end_time": "2020-10-28T10:35:38.220465Z",
     "start_time": "2020-10-28T10:35:38.192Z"
    }
   },
   "outputs": [],
   "source": [
    "library(psych)"
   ]
  },
  {
   "cell_type": "code",
   "execution_count": 37,
   "metadata": {
    "ExecuteTime": {
     "end_time": "2020-10-28T10:40:23.042559Z",
     "start_time": "2020-10-28T10:40:22.962Z"
    }
   },
   "outputs": [],
   "source": [
    "uls = fa(fem, 2, rotate = \"none\", fm = \"minres\")"
   ]
  },
  {
   "cell_type": "markdown",
   "metadata": {},
   "source": [
    "fm 패러미터에는 인자추출방법을 지정해준다. 최우추정법(ml), 주성분인자법(pa) 말고도 여러가지 있는데 minres는 minimum residual 방법이다. "
   ]
  },
  {
   "cell_type": "code",
   "execution_count": 38,
   "metadata": {
    "ExecuteTime": {
     "end_time": "2020-10-28T10:40:23.824519Z",
     "start_time": "2020-10-28T10:40:23.784Z"
    }
   },
   "outputs": [
    {
     "data": {
      "text/plain": [
       "Factor Analysis using method =  minres\n",
       "Call: fa(r = fem, nfactors = 2, rotate = \"none\", fm = \"minres\")\n",
       "Standardized loadings (pattern matrix) based upon correlation matrix\n",
       "          MR1   MR2   h2   u2 com\n",
       "visperc  0.55  0.42 0.49 0.51 1.9\n",
       "cubes    0.45  0.56 0.51 0.49 1.9\n",
       "lozenges 0.59  0.40 0.50 0.50 1.8\n",
       "paragrap 0.82 -0.31 0.76 0.24 1.3\n",
       "sentence 0.78 -0.27 0.69 0.31 1.2\n",
       "wordmean 0.78 -0.33 0.71 0.29 1.3\n",
       "\n",
       "                       MR1  MR2\n",
       "SS loadings           2.75 0.92\n",
       "Proportion Var        0.46 0.15\n",
       "Cumulative Var        0.46 0.61\n",
       "Proportion Explained  0.75 0.25\n",
       "Cumulative Proportion 0.75 1.00\n",
       "\n",
       "Mean item complexity =  1.6\n",
       "Test of the hypothesis that 2 factors are sufficient.\n",
       "\n",
       "The degrees of freedom for the null model are  15  and the objective function was  2.61 with Chi Square of  180.33\n",
       "The degrees of freedom for the model are 4  and the objective function was  0.08 \n",
       "\n",
       "The root mean square of the residuals (RMSR) is  0.03 \n",
       "The df corrected root mean square of the residuals is  0.05 \n",
       "\n",
       "The harmonic number of observations is  73 with the empirical chi square  1.56  with prob <  0.82 \n",
       "The total number of observations was  73  with Likelihood Chi Square =  5.17  with prob <  0.27 \n",
       "\n",
       "Tucker Lewis Index of factoring reliability =  0.973\n",
       "RMSEA index =  0.062  and the 90 % confidence intervals are  0 0.198\n",
       "BIC =  -11.99\n",
       "Fit based upon off diagonal values = 1\n",
       "Measures of factor score adequacy             \n",
       "                                                   MR1  MR2\n",
       "Correlation of (regression) scores with factors   0.94 0.83\n",
       "Multiple R square of scores with factors          0.89 0.68\n",
       "Minimum correlation of possible factor scores     0.78 0.37"
      ]
     },
     "metadata": {},
     "output_type": "display_data"
    }
   ],
   "source": [
    "uls"
   ]
  },
  {
   "cell_type": "code",
   "execution_count": 39,
   "metadata": {
    "ExecuteTime": {
     "end_time": "2020-10-28T10:40:25.017371Z",
     "start_time": "2020-10-28T10:40:24.985Z"
    }
   },
   "outputs": [
    {
     "data": {
      "text/html": [
       "<ol class=list-inline>\n",
       "\t<li>2.74646743309057</li>\n",
       "\t<li>0.923489754882276</li>\n",
       "\t<li>0.101215581467675</li>\n",
       "\t<li>0.0282448632789464</li>\n",
       "\t<li>-0.0332102820393795</li>\n",
       "\t<li>-0.0962506555102013</li>\n",
       "</ol>\n"
      ],
      "text/latex": [
       "\\begin{enumerate*}\n",
       "\\item 2.74646743309057\n",
       "\\item 0.923489754882276\n",
       "\\item 0.101215581467675\n",
       "\\item 0.0282448632789464\n",
       "\\item -0.0332102820393795\n",
       "\\item -0.0962506555102013\n",
       "\\end{enumerate*}\n"
      ],
      "text/markdown": [
       "1. 2.74646743309057\n",
       "2. 0.923489754882276\n",
       "3. 0.101215581467675\n",
       "4. 0.0282448632789464\n",
       "5. -0.0332102820393795\n",
       "6. -0.0962506555102013\n",
       "\n",
       "\n"
      ],
      "text/plain": [
       "[1]  2.74646743  0.92348975  0.10121558  0.02824486 -0.03321028 -0.09625066"
      ]
     },
     "metadata": {},
     "output_type": "display_data"
    }
   ],
   "source": [
    "uls$values"
   ]
  },
  {
   "cell_type": "markdown",
   "metadata": {},
   "source": [
    "두 개의 인자 선택"
   ]
  },
  {
   "cell_type": "code",
   "execution_count": 40,
   "metadata": {
    "ExecuteTime": {
     "end_time": "2020-10-28T10:40:36.483611Z",
     "start_time": "2020-10-28T10:40:36.433Z"
    }
   },
   "outputs": [],
   "source": [
    "uls = fa(fem, 2, rotate = \"varimax\", fm = \"minres\")"
   ]
  },
  {
   "cell_type": "code",
   "execution_count": 41,
   "metadata": {
    "ExecuteTime": {
     "end_time": "2020-10-28T10:40:38.754322Z",
     "start_time": "2020-10-28T10:40:38.712Z"
    }
   },
   "outputs": [
    {
     "data": {
      "text/plain": [
       "Factor Analysis using method =  minres\n",
       "Call: fa(r = fem, nfactors = 2, rotate = \"varimax\", fm = \"minres\")\n",
       "Standardized loadings (pattern matrix) based upon correlation matrix\n",
       "          MR1  MR2   h2   u2 com\n",
       "visperc  0.22 0.66 0.49 0.51 1.2\n",
       "cubes    0.06 0.71 0.51 0.49 1.0\n",
       "lozenges 0.26 0.66 0.50 0.50 1.3\n",
       "paragrap 0.85 0.20 0.76 0.24 1.1\n",
       "sentence 0.80 0.22 0.69 0.31 1.1\n",
       "wordmean 0.83 0.16 0.71 0.29 1.1\n",
       "\n",
       "                       MR1  MR2\n",
       "SS loadings           2.17 1.50\n",
       "Proportion Var        0.36 0.25\n",
       "Cumulative Var        0.36 0.61\n",
       "Proportion Explained  0.59 0.41\n",
       "Cumulative Proportion 0.59 1.00\n",
       "\n",
       "Mean item complexity =  1.1\n",
       "Test of the hypothesis that 2 factors are sufficient.\n",
       "\n",
       "The degrees of freedom for the null model are  15  and the objective function was  2.61 with Chi Square of  180.33\n",
       "The degrees of freedom for the model are 4  and the objective function was  0.08 \n",
       "\n",
       "The root mean square of the residuals (RMSR) is  0.03 \n",
       "The df corrected root mean square of the residuals is  0.05 \n",
       "\n",
       "The harmonic number of observations is  73 with the empirical chi square  1.56  with prob <  0.82 \n",
       "The total number of observations was  73  with Likelihood Chi Square =  5.17  with prob <  0.27 \n",
       "\n",
       "Tucker Lewis Index of factoring reliability =  0.973\n",
       "RMSEA index =  0.062  and the 90 % confidence intervals are  0 0.198\n",
       "BIC =  -11.99\n",
       "Fit based upon off diagonal values = 1\n",
       "Measures of factor score adequacy             \n",
       "                                                   MR1  MR2\n",
       "Correlation of (regression) scores with factors   0.93 0.84\n",
       "Multiple R square of scores with factors          0.86 0.71\n",
       "Minimum correlation of possible factor scores     0.73 0.43"
      ]
     },
     "metadata": {},
     "output_type": "display_data"
    }
   ],
   "source": [
    "uls"
   ]
  },
  {
   "cell_type": "code",
   "execution_count": null,
   "metadata": {},
   "outputs": [],
   "source": []
  }
 ],
 "metadata": {
  "kernelspec": {
   "display_name": "R",
   "language": "R",
   "name": "ir"
  },
  "language_info": {
   "codemirror_mode": "r",
   "file_extension": ".r",
   "mimetype": "text/x-r-source",
   "name": "R",
   "pygments_lexer": "r",
   "version": "3.6.3"
  },
  "toc": {
   "base_numbering": 1,
   "nav_menu": {},
   "number_sections": true,
   "sideBar": true,
   "skip_h1_title": false,
   "title_cell": "Table of Contents",
   "title_sidebar": "Contents",
   "toc_cell": false,
   "toc_position": {},
   "toc_section_display": true,
   "toc_window_display": false
  }
 },
 "nbformat": 4,
 "nbformat_minor": 4
}
