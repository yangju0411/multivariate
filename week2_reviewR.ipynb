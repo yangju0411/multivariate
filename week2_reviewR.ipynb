{
 "cells": [
  {
   "cell_type": "markdown",
   "metadata": {},
   "source": [
    "# R 복습"
   ]
  },
  {
   "cell_type": "markdown",
   "metadata": {},
   "source": [
    "## 데이터 불러오기"
   ]
  },
  {
   "cell_type": "code",
   "execution_count": 1,
   "metadata": {
    "ExecuteTime": {
     "end_time": "2020-09-10T05:01:47.888016Z",
     "start_time": "2020-09-10T05:01:47.727Z"
    }
   },
   "outputs": [],
   "source": [
    "hald.data <- read.table(\"mvadata/hald.txt\", header = T)"
   ]
  },
  {
   "cell_type": "code",
   "execution_count": 2,
   "metadata": {
    "ExecuteTime": {
     "end_time": "2020-09-10T05:01:47.998951Z",
     "start_time": "2020-09-10T05:01:47.733Z"
    }
   },
   "outputs": [
    {
     "data": {
      "text/html": [
       "<table>\n",
       "<caption>A data.frame: 6 × 5</caption>\n",
       "<thead>\n",
       "\t<tr><th></th><th scope=col>Y</th><th scope=col>X1</th><th scope=col>X2</th><th scope=col>X3</th><th scope=col>X4</th></tr>\n",
       "\t<tr><th></th><th scope=col>&lt;dbl&gt;</th><th scope=col>&lt;int&gt;</th><th scope=col>&lt;int&gt;</th><th scope=col>&lt;int&gt;</th><th scope=col>&lt;int&gt;</th></tr>\n",
       "</thead>\n",
       "<tbody>\n",
       "\t<tr><th scope=row>1</th><td> 78.5</td><td> 7</td><td>26</td><td> 6</td><td>60</td></tr>\n",
       "\t<tr><th scope=row>2</th><td> 74.3</td><td> 1</td><td>29</td><td>15</td><td>52</td></tr>\n",
       "\t<tr><th scope=row>3</th><td>104.3</td><td>11</td><td>56</td><td> 8</td><td>20</td></tr>\n",
       "\t<tr><th scope=row>4</th><td> 87.6</td><td>11</td><td>31</td><td> 8</td><td>47</td></tr>\n",
       "\t<tr><th scope=row>5</th><td> 95.9</td><td> 7</td><td>52</td><td> 6</td><td>33</td></tr>\n",
       "\t<tr><th scope=row>6</th><td>109.2</td><td>11</td><td>55</td><td> 9</td><td>22</td></tr>\n",
       "</tbody>\n",
       "</table>\n"
      ],
      "text/latex": [
       "A data.frame: 6 × 5\n",
       "\\begin{tabular}{r|lllll}\n",
       "  & Y & X1 & X2 & X3 & X4\\\\\n",
       "  & <dbl> & <int> & <int> & <int> & <int>\\\\\n",
       "\\hline\n",
       "\t1 &  78.5 &  7 & 26 &  6 & 60\\\\\n",
       "\t2 &  74.3 &  1 & 29 & 15 & 52\\\\\n",
       "\t3 & 104.3 & 11 & 56 &  8 & 20\\\\\n",
       "\t4 &  87.6 & 11 & 31 &  8 & 47\\\\\n",
       "\t5 &  95.9 &  7 & 52 &  6 & 33\\\\\n",
       "\t6 & 109.2 & 11 & 55 &  9 & 22\\\\\n",
       "\\end{tabular}\n"
      ],
      "text/markdown": [
       "\n",
       "A data.frame: 6 × 5\n",
       "\n",
       "| <!--/--> | Y &lt;dbl&gt; | X1 &lt;int&gt; | X2 &lt;int&gt; | X3 &lt;int&gt; | X4 &lt;int&gt; |\n",
       "|---|---|---|---|---|---|\n",
       "| 1 |  78.5 |  7 | 26 |  6 | 60 |\n",
       "| 2 |  74.3 |  1 | 29 | 15 | 52 |\n",
       "| 3 | 104.3 | 11 | 56 |  8 | 20 |\n",
       "| 4 |  87.6 | 11 | 31 |  8 | 47 |\n",
       "| 5 |  95.9 |  7 | 52 |  6 | 33 |\n",
       "| 6 | 109.2 | 11 | 55 |  9 | 22 |\n",
       "\n"
      ],
      "text/plain": [
       "  Y     X1 X2 X3 X4\n",
       "1  78.5  7 26  6 60\n",
       "2  74.3  1 29 15 52\n",
       "3 104.3 11 56  8 20\n",
       "4  87.6 11 31  8 47\n",
       "5  95.9  7 52  6 33\n",
       "6 109.2 11 55  9 22"
      ]
     },
     "metadata": {},
     "output_type": "display_data"
    }
   ],
   "source": [
    "head(hald.data)"
   ]
  },
  {
   "cell_type": "code",
   "execution_count": 3,
   "metadata": {
    "ExecuteTime": {
     "end_time": "2020-09-10T05:01:48.041536Z",
     "start_time": "2020-09-10T05:01:47.737Z"
    }
   },
   "outputs": [
    {
     "name": "stdout",
     "output_type": "stream",
     "text": [
      "'data.frame':\t13 obs. of  5 variables:\n",
      " $ Y : num  78.5 74.3 104.3 87.6 95.9 ...\n",
      " $ X1: int  7 1 11 11 7 11 3 1 2 21 ...\n",
      " $ X2: int  26 29 56 31 52 55 71 31 54 47 ...\n",
      " $ X3: int  6 15 8 8 6 9 17 22 18 4 ...\n",
      " $ X4: int  60 52 20 47 33 22 6 44 22 26 ...\n"
     ]
    }
   ],
   "source": [
    "str(hald.data)"
   ]
  },
  {
   "cell_type": "markdown",
   "metadata": {},
   "source": [
    "## 회귀분석"
   ]
  },
  {
   "cell_type": "code",
   "execution_count": 4,
   "metadata": {
    "ExecuteTime": {
     "end_time": "2020-09-10T05:01:48.074718Z",
     "start_time": "2020-09-10T05:01:47.744Z"
    }
   },
   "outputs": [],
   "source": [
    "hald.ls <- lm(Y ~ X1 + X2 + X3 + X4, hald.data)"
   ]
  },
  {
   "cell_type": "markdown",
   "metadata": {},
   "source": [
    "lm 함수를 통해 회귀 분석이 가능하다. <br>\n",
    "물결 왼쪽이 종속 변수 오른쪽이 독립변수이며 각 독립변수는 +로 구분 된다."
   ]
  },
  {
   "cell_type": "code",
   "execution_count": 5,
   "metadata": {
    "ExecuteTime": {
     "end_time": "2020-09-10T05:01:48.143329Z",
     "start_time": "2020-09-10T05:01:47.749Z"
    }
   },
   "outputs": [
    {
     "data": {
      "text/plain": [
       "       Y                X1               X2              X3              X4    \n",
       " Min.   : 72.50   Min.   : 1.000   Min.   :26.00   Min.   : 4.00   Min.   : 6  \n",
       " 1st Qu.: 83.80   1st Qu.: 2.000   1st Qu.:31.00   1st Qu.: 8.00   1st Qu.:20  \n",
       " Median : 95.90   Median : 7.000   Median :52.00   Median : 9.00   Median :26  \n",
       " Mean   : 95.42   Mean   : 7.462   Mean   :48.15   Mean   :11.77   Mean   :30  \n",
       " 3rd Qu.:109.20   3rd Qu.:11.000   3rd Qu.:56.00   3rd Qu.:17.00   3rd Qu.:44  \n",
       " Max.   :115.90   Max.   :21.000   Max.   :71.00   Max.   :23.00   Max.   :60  "
      ]
     },
     "metadata": {},
     "output_type": "display_data"
    }
   ],
   "source": [
    "summary(hald.data)"
   ]
  },
  {
   "cell_type": "code",
   "execution_count": 6,
   "metadata": {
    "ExecuteTime": {
     "end_time": "2020-09-10T05:01:48.204736Z",
     "start_time": "2020-09-10T05:01:47.753Z"
    }
   },
   "outputs": [
    {
     "data": {
      "text/plain": [
       "\n",
       "Call:\n",
       "lm(formula = Y ~ X1 + X2 + X3 + X4, data = hald.data)\n",
       "\n",
       "Residuals:\n",
       "    Min      1Q  Median      3Q     Max \n",
       "-3.1750 -1.6709  0.2508  1.3783  3.9254 \n",
       "\n",
       "Coefficients:\n",
       "            Estimate Std. Error t value Pr(>|t|)  \n",
       "(Intercept)  62.4054    70.0710   0.891   0.3991  \n",
       "X1            1.5511     0.7448   2.083   0.0708 .\n",
       "X2            0.5102     0.7238   0.705   0.5009  \n",
       "X3            0.1019     0.7547   0.135   0.8959  \n",
       "X4           -0.1441     0.7091  -0.203   0.8441  \n",
       "---\n",
       "Signif. codes:  0 ‘***’ 0.001 ‘**’ 0.01 ‘*’ 0.05 ‘.’ 0.1 ‘ ’ 1\n",
       "\n",
       "Residual standard error: 2.446 on 8 degrees of freedom\n",
       "Multiple R-squared:  0.9824,\tAdjusted R-squared:  0.9736 \n",
       "F-statistic: 111.5 on 4 and 8 DF,  p-value: 4.756e-07\n"
      ]
     },
     "metadata": {},
     "output_type": "display_data"
    }
   ],
   "source": [
    "summary(hald.ls)"
   ]
  },
  {
   "cell_type": "markdown",
   "metadata": {},
   "source": [
    "회귀 결과를 저장한 객체에 summary함수를 적용하면 데이터셋에 적용한 것(통계를 요약)과 달리 회귀분석 결과를 요약해준다."
   ]
  },
  {
   "cell_type": "markdown",
   "metadata": {},
   "source": [
    "잔차의 통계와 각 계수의 통계, 유의성 t검정 결과, 전체 회귀식의 유의성 검정결과와 결정계수 등이 요약된다."
   ]
  },
  {
   "cell_type": "code",
   "execution_count": 7,
   "metadata": {
    "ExecuteTime": {
     "end_time": "2020-09-10T05:01:48.259063Z",
     "start_time": "2020-09-10T05:01:47.761Z"
    }
   },
   "outputs": [
    {
     "data": {
      "text/html": [
       "<table>\n",
       "<caption>A anova: 5 × 5</caption>\n",
       "<thead>\n",
       "\t<tr><th></th><th scope=col>Df</th><th scope=col>Sum Sq</th><th scope=col>Mean Sq</th><th scope=col>F value</th><th scope=col>Pr(&gt;F)</th></tr>\n",
       "\t<tr><th></th><th scope=col>&lt;int&gt;</th><th scope=col>&lt;dbl&gt;</th><th scope=col>&lt;dbl&gt;</th><th scope=col>&lt;dbl&gt;</th><th scope=col>&lt;dbl&gt;</th></tr>\n",
       "</thead>\n",
       "<tbody>\n",
       "\t<tr><th scope=row>X1</th><td>1</td><td>1450.0763281</td><td>1450.0763281</td><td>242.36791816</td><td>2.887559e-07</td></tr>\n",
       "\t<tr><th scope=row>X2</th><td>1</td><td>1207.7822656</td><td>1207.7822656</td><td>201.87052753</td><td>5.863323e-07</td></tr>\n",
       "\t<tr><th scope=row>X3</th><td>1</td><td>   9.7938691</td><td>   9.7938691</td><td>  1.63696188</td><td>2.366003e-01</td></tr>\n",
       "\t<tr><th scope=row>X4</th><td>1</td><td>   0.2469747</td><td>   0.2469747</td><td>  0.04127972</td><td>8.440715e-01</td></tr>\n",
       "\t<tr><th scope=row>Residuals</th><td>8</td><td>  47.8636394</td><td>   5.9829549</td><td>          NA</td><td>          NA</td></tr>\n",
       "</tbody>\n",
       "</table>\n"
      ],
      "text/latex": [
       "A anova: 5 × 5\n",
       "\\begin{tabular}{r|lllll}\n",
       "  & Df & Sum Sq & Mean Sq & F value & Pr(>F)\\\\\n",
       "  & <int> & <dbl> & <dbl> & <dbl> & <dbl>\\\\\n",
       "\\hline\n",
       "\tX1 & 1 & 1450.0763281 & 1450.0763281 & 242.36791816 & 2.887559e-07\\\\\n",
       "\tX2 & 1 & 1207.7822656 & 1207.7822656 & 201.87052753 & 5.863323e-07\\\\\n",
       "\tX3 & 1 &    9.7938691 &    9.7938691 &   1.63696188 & 2.366003e-01\\\\\n",
       "\tX4 & 1 &    0.2469747 &    0.2469747 &   0.04127972 & 8.440715e-01\\\\\n",
       "\tResiduals & 8 &   47.8636394 &    5.9829549 &           NA &           NA\\\\\n",
       "\\end{tabular}\n"
      ],
      "text/markdown": [
       "\n",
       "A anova: 5 × 5\n",
       "\n",
       "| <!--/--> | Df &lt;int&gt; | Sum Sq &lt;dbl&gt; | Mean Sq &lt;dbl&gt; | F value &lt;dbl&gt; | Pr(&gt;F) &lt;dbl&gt; |\n",
       "|---|---|---|---|---|---|\n",
       "| X1 | 1 | 1450.0763281 | 1450.0763281 | 242.36791816 | 2.887559e-07 |\n",
       "| X2 | 1 | 1207.7822656 | 1207.7822656 | 201.87052753 | 5.863323e-07 |\n",
       "| X3 | 1 |    9.7938691 |    9.7938691 |   1.63696188 | 2.366003e-01 |\n",
       "| X4 | 1 |    0.2469747 |    0.2469747 |   0.04127972 | 8.440715e-01 |\n",
       "| Residuals | 8 |   47.8636394 |    5.9829549 |           NA |           NA |\n",
       "\n"
      ],
      "text/plain": [
       "          Df Sum Sq       Mean Sq      F value      Pr(>F)      \n",
       "X1        1  1450.0763281 1450.0763281 242.36791816 2.887559e-07\n",
       "X2        1  1207.7822656 1207.7822656 201.87052753 5.863323e-07\n",
       "X3        1     9.7938691    9.7938691   1.63696188 2.366003e-01\n",
       "X4        1     0.2469747    0.2469747   0.04127972 8.440715e-01\n",
       "Residuals 8    47.8636394    5.9829549           NA           NA"
      ]
     },
     "metadata": {},
     "output_type": "display_data"
    }
   ],
   "source": [
    "anova(hald.ls)"
   ]
  },
  {
   "cell_type": "markdown",
   "metadata": {},
   "source": [
    "anova 함수를 통해 회귀식의 분산분석표를 볼 수 있다."
   ]
  },
  {
   "cell_type": "markdown",
   "metadata": {},
   "source": [
    "## 간단한 기능들"
   ]
  },
  {
   "cell_type": "code",
   "execution_count": 8,
   "metadata": {
    "ExecuteTime": {
     "end_time": "2020-09-10T05:01:48.280995Z",
     "start_time": "2020-09-10T05:01:47.768Z"
    }
   },
   "outputs": [],
   "source": [
    "a = c(20:10)"
   ]
  },
  {
   "cell_type": "markdown",
   "metadata": {},
   "source": [
    "20부터 10까지 수열 생성"
   ]
  },
  {
   "cell_type": "code",
   "execution_count": 9,
   "metadata": {
    "ExecuteTime": {
     "end_time": "2020-09-10T05:01:48.315849Z",
     "start_time": "2020-09-10T05:01:47.773Z"
    }
   },
   "outputs": [
    {
     "data": {
      "text/html": [
       "<ol class=list-inline>\n",
       "\t<li>20</li>\n",
       "\t<li>19</li>\n",
       "\t<li>18</li>\n",
       "\t<li>17</li>\n",
       "\t<li>16</li>\n",
       "\t<li>15</li>\n",
       "\t<li>14</li>\n",
       "\t<li>13</li>\n",
       "\t<li>12</li>\n",
       "\t<li>11</li>\n",
       "\t<li>10</li>\n",
       "</ol>\n"
      ],
      "text/latex": [
       "\\begin{enumerate*}\n",
       "\\item 20\n",
       "\\item 19\n",
       "\\item 18\n",
       "\\item 17\n",
       "\\item 16\n",
       "\\item 15\n",
       "\\item 14\n",
       "\\item 13\n",
       "\\item 12\n",
       "\\item 11\n",
       "\\item 10\n",
       "\\end{enumerate*}\n"
      ],
      "text/markdown": [
       "1. 20\n",
       "2. 19\n",
       "3. 18\n",
       "4. 17\n",
       "5. 16\n",
       "6. 15\n",
       "7. 14\n",
       "8. 13\n",
       "9. 12\n",
       "10. 11\n",
       "11. 10\n",
       "\n",
       "\n"
      ],
      "text/plain": [
       " [1] 20 19 18 17 16 15 14 13 12 11 10"
      ]
     },
     "metadata": {},
     "output_type": "display_data"
    }
   ],
   "source": [
    "a"
   ]
  },
  {
   "cell_type": "code",
   "execution_count": 10,
   "metadata": {
    "ExecuteTime": {
     "end_time": "2020-09-10T05:01:48.342000Z",
     "start_time": "2020-09-10T05:01:47.778Z"
    }
   },
   "outputs": [
    {
     "data": {
      "text/html": [
       "<ol class=list-inline>\n",
       "\t<li>6</li>\n",
       "\t<li>6</li>\n",
       "\t<li>6</li>\n",
       "\t<li>5</li>\n",
       "\t<li>5</li>\n",
       "\t<li>5</li>\n",
       "\t<li>4</li>\n",
       "\t<li>4</li>\n",
       "\t<li>4</li>\n",
       "\t<li>3</li>\n",
       "\t<li>3</li>\n",
       "</ol>\n"
      ],
      "text/latex": [
       "\\begin{enumerate*}\n",
       "\\item 6\n",
       "\\item 6\n",
       "\\item 6\n",
       "\\item 5\n",
       "\\item 5\n",
       "\\item 5\n",
       "\\item 4\n",
       "\\item 4\n",
       "\\item 4\n",
       "\\item 3\n",
       "\\item 3\n",
       "\\end{enumerate*}\n"
      ],
      "text/markdown": [
       "1. 6\n",
       "2. 6\n",
       "3. 6\n",
       "4. 5\n",
       "5. 5\n",
       "6. 5\n",
       "7. 4\n",
       "8. 4\n",
       "9. 4\n",
       "10. 3\n",
       "11. 3\n",
       "\n",
       "\n"
      ],
      "text/plain": [
       " [1] 6 6 6 5 5 5 4 4 4 3 3"
      ]
     },
     "metadata": {},
     "output_type": "display_data"
    }
   ],
   "source": [
    "a %/% 3"
   ]
  },
  {
   "cell_type": "markdown",
   "metadata": {},
   "source": [
    "%/%으로 각각의 원소를 3으로 나누어준 몫을 출력"
   ]
  },
  {
   "cell_type": "code",
   "execution_count": 11,
   "metadata": {
    "ExecuteTime": {
     "end_time": "2020-09-10T05:01:48.369740Z",
     "start_time": "2020-09-10T05:01:47.784Z"
    }
   },
   "outputs": [
    {
     "data": {
      "text/html": [
       "<ol class=list-inline>\n",
       "\t<li>2</li>\n",
       "\t<li>1</li>\n",
       "\t<li>0</li>\n",
       "\t<li>2</li>\n",
       "\t<li>1</li>\n",
       "\t<li>0</li>\n",
       "\t<li>2</li>\n",
       "\t<li>1</li>\n",
       "\t<li>0</li>\n",
       "\t<li>2</li>\n",
       "\t<li>1</li>\n",
       "</ol>\n"
      ],
      "text/latex": [
       "\\begin{enumerate*}\n",
       "\\item 2\n",
       "\\item 1\n",
       "\\item 0\n",
       "\\item 2\n",
       "\\item 1\n",
       "\\item 0\n",
       "\\item 2\n",
       "\\item 1\n",
       "\\item 0\n",
       "\\item 2\n",
       "\\item 1\n",
       "\\end{enumerate*}\n"
      ],
      "text/markdown": [
       "1. 2\n",
       "2. 1\n",
       "3. 0\n",
       "4. 2\n",
       "5. 1\n",
       "6. 0\n",
       "7. 2\n",
       "8. 1\n",
       "9. 0\n",
       "10. 2\n",
       "11. 1\n",
       "\n",
       "\n"
      ],
      "text/plain": [
       " [1] 2 1 0 2 1 0 2 1 0 2 1"
      ]
     },
     "metadata": {},
     "output_type": "display_data"
    }
   ],
   "source": [
    "a %% 3"
   ]
  },
  {
   "cell_type": "markdown",
   "metadata": {},
   "source": [
    "%%로 각각의 원소를 3으로 나눈 나머지 출력"
   ]
  },
  {
   "cell_type": "code",
   "execution_count": 12,
   "metadata": {
    "ExecuteTime": {
     "end_time": "2020-09-10T05:01:48.393749Z",
     "start_time": "2020-09-10T05:01:47.789Z"
    }
   },
   "outputs": [],
   "source": [
    "a = c(1:3) == c(3:1)"
   ]
  },
  {
   "cell_type": "code",
   "execution_count": 13,
   "metadata": {
    "ExecuteTime": {
     "end_time": "2020-09-10T05:01:48.429981Z",
     "start_time": "2020-09-10T05:01:47.795Z"
    }
   },
   "outputs": [
    {
     "data": {
      "text/html": [
       "<ol class=list-inline>\n",
       "\t<li>FALSE</li>\n",
       "\t<li>TRUE</li>\n",
       "\t<li>FALSE</li>\n",
       "</ol>\n"
      ],
      "text/latex": [
       "\\begin{enumerate*}\n",
       "\\item FALSE\n",
       "\\item TRUE\n",
       "\\item FALSE\n",
       "\\end{enumerate*}\n"
      ],
      "text/markdown": [
       "1. FALSE\n",
       "2. TRUE\n",
       "3. FALSE\n",
       "\n",
       "\n"
      ],
      "text/plain": [
       "[1] FALSE  TRUE FALSE"
      ]
     },
     "metadata": {},
     "output_type": "display_data"
    }
   ],
   "source": [
    "a"
   ]
  },
  {
   "cell_type": "code",
   "execution_count": 14,
   "metadata": {
    "ExecuteTime": {
     "end_time": "2020-09-10T05:01:48.454361Z",
     "start_time": "2020-09-10T05:01:47.800Z"
    }
   },
   "outputs": [],
   "source": [
    "a <- c(1:3)==c(3:1)"
   ]
  },
  {
   "cell_type": "code",
   "execution_count": 15,
   "metadata": {
    "ExecuteTime": {
     "end_time": "2020-09-10T05:01:48.484556Z",
     "start_time": "2020-09-10T05:01:47.805Z"
    }
   },
   "outputs": [
    {
     "data": {
      "text/html": [
       "<ol class=list-inline>\n",
       "\t<li>FALSE</li>\n",
       "\t<li>TRUE</li>\n",
       "\t<li>FALSE</li>\n",
       "</ol>\n"
      ],
      "text/latex": [
       "\\begin{enumerate*}\n",
       "\\item FALSE\n",
       "\\item TRUE\n",
       "\\item FALSE\n",
       "\\end{enumerate*}\n"
      ],
      "text/markdown": [
       "1. FALSE\n",
       "2. TRUE\n",
       "3. FALSE\n",
       "\n",
       "\n"
      ],
      "text/plain": [
       "[1] FALSE  TRUE FALSE"
      ]
     },
     "metadata": {},
     "output_type": "display_data"
    }
   ],
   "source": [
    "a"
   ]
  },
  {
   "cell_type": "markdown",
   "metadata": {},
   "source": [
    "비교 연산자 ==이 대입 연산자 =, <-보다 우선순위를 가져 123과 321을 비교한 FTF가 a에 삽입됨"
   ]
  },
  {
   "cell_type": "code",
   "execution_count": 16,
   "metadata": {
    "ExecuteTime": {
     "end_time": "2020-09-10T05:01:48.506264Z",
     "start_time": "2020-09-10T05:01:47.813Z"
    }
   },
   "outputs": [],
   "source": [
    "x <- -5:5"
   ]
  },
  {
   "cell_type": "code",
   "execution_count": 17,
   "metadata": {
    "ExecuteTime": {
     "end_time": "2020-09-10T05:01:48.537098Z",
     "start_time": "2020-09-10T05:01:47.817Z"
    }
   },
   "outputs": [
    {
     "data": {
      "text/html": [
       "<ol class=list-inline>\n",
       "\t<li>-5</li>\n",
       "\t<li>-4</li>\n",
       "\t<li>-3</li>\n",
       "\t<li>-2</li>\n",
       "\t<li>-1</li>\n",
       "</ol>\n"
      ],
      "text/latex": [
       "\\begin{enumerate*}\n",
       "\\item -5\n",
       "\\item -4\n",
       "\\item -3\n",
       "\\item -2\n",
       "\\item -1\n",
       "\\end{enumerate*}\n"
      ],
      "text/markdown": [
       "1. -5\n",
       "2. -4\n",
       "3. -3\n",
       "4. -2\n",
       "5. -1\n",
       "\n",
       "\n"
      ],
      "text/plain": [
       "[1] -5 -4 -3 -2 -1"
      ]
     },
     "metadata": {},
     "output_type": "display_data"
    }
   ],
   "source": [
    "x[x < 0]"
   ]
  },
  {
   "cell_type": "markdown",
   "metadata": {},
   "source": [
    "0보다 작은 범위만 출력"
   ]
  },
  {
   "cell_type": "code",
   "execution_count": 18,
   "metadata": {
    "ExecuteTime": {
     "end_time": "2020-09-10T05:01:48.565110Z",
     "start_time": "2020-09-10T05:01:47.824Z"
    }
   },
   "outputs": [],
   "source": [
    "x[x<0] = 0"
   ]
  },
  {
   "cell_type": "code",
   "execution_count": 19,
   "metadata": {
    "ExecuteTime": {
     "end_time": "2020-09-10T05:01:48.600292Z",
     "start_time": "2020-09-10T05:01:47.830Z"
    }
   },
   "outputs": [
    {
     "data": {
      "text/html": [
       "<ol class=list-inline>\n",
       "\t<li>0</li>\n",
       "\t<li>0</li>\n",
       "\t<li>0</li>\n",
       "\t<li>0</li>\n",
       "\t<li>0</li>\n",
       "\t<li>0</li>\n",
       "\t<li>1</li>\n",
       "\t<li>2</li>\n",
       "\t<li>3</li>\n",
       "\t<li>4</li>\n",
       "\t<li>5</li>\n",
       "</ol>\n"
      ],
      "text/latex": [
       "\\begin{enumerate*}\n",
       "\\item 0\n",
       "\\item 0\n",
       "\\item 0\n",
       "\\item 0\n",
       "\\item 0\n",
       "\\item 0\n",
       "\\item 1\n",
       "\\item 2\n",
       "\\item 3\n",
       "\\item 4\n",
       "\\item 5\n",
       "\\end{enumerate*}\n"
      ],
      "text/markdown": [
       "1. 0\n",
       "2. 0\n",
       "3. 0\n",
       "4. 0\n",
       "5. 0\n",
       "6. 0\n",
       "7. 1\n",
       "8. 2\n",
       "9. 3\n",
       "10. 4\n",
       "11. 5\n",
       "\n",
       "\n"
      ],
      "text/plain": [
       " [1] 0 0 0 0 0 0 1 2 3 4 5"
      ]
     },
     "metadata": {},
     "output_type": "display_data"
    }
   ],
   "source": [
    "x"
   ]
  },
  {
   "cell_type": "markdown",
   "metadata": {},
   "source": [
    "0보다 작은 범위의 수를 모두 0으로 대체함."
   ]
  },
  {
   "cell_type": "code",
   "execution_count": 20,
   "metadata": {
    "ExecuteTime": {
     "end_time": "2020-09-10T05:01:48.631310Z",
     "start_time": "2020-09-10T05:01:47.835Z"
    }
   },
   "outputs": [
    {
     "data": {
      "text/html": [
       "1.36363636363636"
      ],
      "text/latex": [
       "1.36363636363636"
      ],
      "text/markdown": [
       "1.36363636363636"
      ],
      "text/plain": [
       "[1] 1.363636"
      ]
     },
     "metadata": {},
     "output_type": "display_data"
    }
   ],
   "source": [
    "mean(x)"
   ]
  },
  {
   "cell_type": "markdown",
   "metadata": {},
   "source": [
    "x의 평균"
   ]
  },
  {
   "cell_type": "code",
   "execution_count": 21,
   "metadata": {
    "ExecuteTime": {
     "end_time": "2020-09-10T05:01:48.653329Z",
     "start_time": "2020-09-10T05:01:47.842Z"
    }
   },
   "outputs": [],
   "source": [
    "consec = (1:10) * 10"
   ]
  },
  {
   "cell_type": "code",
   "execution_count": 22,
   "metadata": {
    "ExecuteTime": {
     "end_time": "2020-09-10T05:01:48.683785Z",
     "start_time": "2020-09-10T05:01:47.847Z"
    }
   },
   "outputs": [
    {
     "data": {
      "text/html": [
       "<ol class=list-inline>\n",
       "\t<li>10</li>\n",
       "\t<li>20</li>\n",
       "\t<li>30</li>\n",
       "\t<li>40</li>\n",
       "\t<li>50</li>\n",
       "\t<li>60</li>\n",
       "\t<li>70</li>\n",
       "\t<li>80</li>\n",
       "\t<li>90</li>\n",
       "\t<li>100</li>\n",
       "</ol>\n"
      ],
      "text/latex": [
       "\\begin{enumerate*}\n",
       "\\item 10\n",
       "\\item 20\n",
       "\\item 30\n",
       "\\item 40\n",
       "\\item 50\n",
       "\\item 60\n",
       "\\item 70\n",
       "\\item 80\n",
       "\\item 90\n",
       "\\item 100\n",
       "\\end{enumerate*}\n"
      ],
      "text/markdown": [
       "1. 10\n",
       "2. 20\n",
       "3. 30\n",
       "4. 40\n",
       "5. 50\n",
       "6. 60\n",
       "7. 70\n",
       "8. 80\n",
       "9. 90\n",
       "10. 100\n",
       "\n",
       "\n"
      ],
      "text/plain": [
       " [1]  10  20  30  40  50  60  70  80  90 100"
      ]
     },
     "metadata": {},
     "output_type": "display_data"
    }
   ],
   "source": [
    "consec"
   ]
  },
  {
   "cell_type": "code",
   "execution_count": 23,
   "metadata": {
    "ExecuteTime": {
     "end_time": "2020-09-10T05:01:48.709262Z",
     "start_time": "2020-09-10T05:01:47.851Z"
    }
   },
   "outputs": [
    {
     "data": {
      "text/html": [
       "20"
      ],
      "text/latex": [
       "20"
      ],
      "text/markdown": [
       "20"
      ],
      "text/plain": [
       "[1] 20"
      ]
     },
     "metadata": {},
     "output_type": "display_data"
    }
   ],
   "source": [
    "consec[2]"
   ]
  },
  {
   "cell_type": "code",
   "execution_count": 24,
   "metadata": {
    "ExecuteTime": {
     "end_time": "2020-09-10T05:01:48.736196Z",
     "start_time": "2020-09-10T05:01:47.856Z"
    }
   },
   "outputs": [
    {
     "data": {
      "text/html": [
       "<ol class=list-inline>\n",
       "\t<li>30</li>\n",
       "\t<li>60</li>\n",
       "\t<li>80</li>\n",
       "\t<li>100</li>\n",
       "</ol>\n"
      ],
      "text/latex": [
       "\\begin{enumerate*}\n",
       "\\item 30\n",
       "\\item 60\n",
       "\\item 80\n",
       "\\item 100\n",
       "\\end{enumerate*}\n"
      ],
      "text/markdown": [
       "1. 30\n",
       "2. 60\n",
       "3. 80\n",
       "4. 100\n",
       "\n",
       "\n"
      ],
      "text/plain": [
       "[1]  30  60  80 100"
      ]
     },
     "metadata": {},
     "output_type": "display_data"
    }
   ],
   "source": [
    "consec[c(3, 6, 8, 10)]"
   ]
  },
  {
   "cell_type": "code",
   "execution_count": 25,
   "metadata": {
    "ExecuteTime": {
     "end_time": "2020-09-10T05:01:48.764167Z",
     "start_time": "2020-09-10T05:01:47.861Z"
    }
   },
   "outputs": [
    {
     "data": {
      "text/html": [
       "<ol class=list-inline>\n",
       "\t<li>10</li>\n",
       "\t<li>30</li>\n",
       "\t<li>50</li>\n",
       "\t<li>60</li>\n",
       "\t<li>70</li>\n",
       "\t<li>80</li>\n",
       "\t<li>90</li>\n",
       "\t<li>100</li>\n",
       "</ol>\n"
      ],
      "text/latex": [
       "\\begin{enumerate*}\n",
       "\\item 10\n",
       "\\item 30\n",
       "\\item 50\n",
       "\\item 60\n",
       "\\item 70\n",
       "\\item 80\n",
       "\\item 90\n",
       "\\item 100\n",
       "\\end{enumerate*}\n"
      ],
      "text/markdown": [
       "1. 10\n",
       "2. 30\n",
       "3. 50\n",
       "4. 60\n",
       "5. 70\n",
       "6. 80\n",
       "7. 90\n",
       "8. 100\n",
       "\n",
       "\n"
      ],
      "text/plain": [
       "[1]  10  30  50  60  70  80  90 100"
      ]
     },
     "metadata": {},
     "output_type": "display_data"
    }
   ],
   "source": [
    "consec[c(-2, -4)]"
   ]
  },
  {
   "cell_type": "markdown",
   "metadata": {},
   "source": [
    "벡터의 인덱싱"
   ]
  },
  {
   "cell_type": "code",
   "execution_count": 26,
   "metadata": {
    "ExecuteTime": {
     "end_time": "2020-09-10T05:01:48.790498Z",
     "start_time": "2020-09-10T05:01:47.867Z"
    }
   },
   "outputs": [],
   "source": [
    "x = c(10:1)"
   ]
  },
  {
   "cell_type": "code",
   "execution_count": 27,
   "metadata": {
    "ExecuteTime": {
     "end_time": "2020-09-10T05:01:48.820236Z",
     "start_time": "2020-09-10T05:01:47.874Z"
    }
   },
   "outputs": [
    {
     "data": {
      "text/html": [
       "<ol class=list-inline>\n",
       "\t<li>10</li>\n",
       "\t<li>9</li>\n",
       "\t<li>8</li>\n",
       "\t<li>7</li>\n",
       "\t<li>6</li>\n",
       "</ol>\n"
      ],
      "text/latex": [
       "\\begin{enumerate*}\n",
       "\\item 10\n",
       "\\item 9\n",
       "\\item 8\n",
       "\\item 7\n",
       "\\item 6\n",
       "\\end{enumerate*}\n"
      ],
      "text/markdown": [
       "1. 10\n",
       "2. 9\n",
       "3. 8\n",
       "4. 7\n",
       "5. 6\n",
       "\n",
       "\n"
      ],
      "text/plain": [
       "[1] 10  9  8  7  6"
      ]
     },
     "metadata": {},
     "output_type": "display_data"
    }
   ],
   "source": [
    "x[consec < 60]"
   ]
  },
  {
   "cell_type": "code",
   "execution_count": 28,
   "metadata": {
    "ExecuteTime": {
     "end_time": "2020-09-10T05:01:48.852939Z",
     "start_time": "2020-09-10T05:01:47.882Z"
    }
   },
   "outputs": [
    {
     "data": {
      "text/html": [
       "<ol class=list-inline>\n",
       "\t<li>15</li>\n",
       "\t<li>14</li>\n",
       "\t<li>13</li>\n",
       "\t<li>12</li>\n",
       "\t<li>11</li>\n",
       "\t<li>5</li>\n",
       "\t<li>4</li>\n",
       "\t<li>3</li>\n",
       "\t<li>2</li>\n",
       "\t<li>1</li>\n",
       "</ol>\n"
      ],
      "text/latex": [
       "\\begin{enumerate*}\n",
       "\\item 15\n",
       "\\item 14\n",
       "\\item 13\n",
       "\\item 12\n",
       "\\item 11\n",
       "\\item 5\n",
       "\\item 4\n",
       "\\item 3\n",
       "\\item 2\n",
       "\\item 1\n",
       "\\end{enumerate*}\n"
      ],
      "text/markdown": [
       "1. 15\n",
       "2. 14\n",
       "3. 13\n",
       "4. 12\n",
       "5. 11\n",
       "6. 5\n",
       "7. 4\n",
       "8. 3\n",
       "9. 2\n",
       "10. 1\n",
       "\n",
       "\n"
      ],
      "text/plain": [
       " [1] 15 14 13 12 11  5  4  3  2  1"
      ]
     },
     "metadata": {},
     "output_type": "display_data"
    }
   ],
   "source": [
    "x = 15:1\n",
    "x[consec < 60]"
   ]
  },
  {
   "cell_type": "code",
   "execution_count": 29,
   "metadata": {
    "ExecuteTime": {
     "end_time": "2020-09-10T05:01:48.887994Z",
     "start_time": "2020-09-10T05:01:47.889Z"
    }
   },
   "outputs": [
    {
     "data": {
      "text/html": [
       "<ol class=list-inline>\n",
       "\t<li>4</li>\n",
       "\t<li>3</li>\n",
       "\t<li>2</li>\n",
       "\t<li>1</li>\n",
       "\t<li>&lt;NA&gt;</li>\n",
       "\t<li>&lt;NA&gt;</li>\n",
       "\t<li>&lt;NA&gt;</li>\n",
       "\t<li>&lt;NA&gt;</li>\n",
       "\t<li>&lt;NA&gt;</li>\n",
       "</ol>\n"
      ],
      "text/latex": [
       "\\begin{enumerate*}\n",
       "\\item 4\n",
       "\\item 3\n",
       "\\item 2\n",
       "\\item 1\n",
       "\\item <NA>\n",
       "\\item <NA>\n",
       "\\item <NA>\n",
       "\\item <NA>\n",
       "\\item <NA>\n",
       "\\end{enumerate*}\n"
      ],
      "text/markdown": [
       "1. 4\n",
       "2. 3\n",
       "3. 2\n",
       "4. 1\n",
       "5. &lt;NA&gt;\n",
       "6. &lt;NA&gt;\n",
       "7. &lt;NA&gt;\n",
       "8. &lt;NA&gt;\n",
       "9. &lt;NA&gt;\n",
       "\n",
       "\n"
      ],
      "text/plain": [
       "[1]  4  3  2  1 NA NA NA NA NA"
      ]
     },
     "metadata": {},
     "output_type": "display_data"
    }
   ],
   "source": [
    "x = 10:1\n",
    "consec = (1:15) * 10\n",
    "x[consec > 60]"
   ]
  },
  {
   "cell_type": "code",
   "execution_count": 30,
   "metadata": {
    "ExecuteTime": {
     "end_time": "2020-09-10T05:01:48.915783Z",
     "start_time": "2020-09-10T05:01:47.896Z"
    }
   },
   "outputs": [
    {
     "data": {
      "text/html": [
       "&lt;NA&gt;"
      ],
      "text/latex": [
       "<NA>"
      ],
      "text/markdown": [
       "&lt;NA&gt;"
      ],
      "text/plain": [
       "[1] NA"
      ]
     },
     "metadata": {},
     "output_type": "display_data"
    }
   ],
   "source": [
    "x[11]"
   ]
  },
  {
   "cell_type": "markdown",
   "metadata": {},
   "source": [
    "위치 인덱싱은 이런 식으로도 가능하다.\n",
    "consec가 60보다 작은 인덱스로 x를 슬라이싱했다.\n",
    "consec과 x의 크기가 일치하지 않는다면 넘어서는 부분도 가져온다.\n",
    "여타와는 달리 R에서는 인덱스가 크기를 넘어가도 NA를 반환하지 오류를 반환하지는 않는 것 같다."
   ]
  },
  {
   "cell_type": "markdown",
   "metadata": {},
   "source": [
    "## 통계 관련 함수"
   ]
  },
  {
   "cell_type": "code",
   "execution_count": 31,
   "metadata": {
    "ExecuteTime": {
     "end_time": "2020-09-10T05:01:48.944569Z",
     "start_time": "2020-09-10T05:01:47.905Z"
    }
   },
   "outputs": [
    {
     "data": {
      "text/html": [
       "1.95996398454005"
      ],
      "text/latex": [
       "1.95996398454005"
      ],
      "text/markdown": [
       "1.95996398454005"
      ],
      "text/plain": [
       "[1] 1.959964"
      ]
     },
     "metadata": {},
     "output_type": "display_data"
    }
   ],
   "source": [
    "qnorm(0.975)"
   ]
  },
  {
   "cell_type": "code",
   "execution_count": 32,
   "metadata": {
    "ExecuteTime": {
     "end_time": "2020-09-10T05:01:48.975007Z",
     "start_time": "2020-09-10T05:01:47.912Z"
    }
   },
   "outputs": [
    {
     "data": {
      "text/html": [
       "0.97500210485178"
      ],
      "text/latex": [
       "0.97500210485178"
      ],
      "text/markdown": [
       "0.97500210485178"
      ],
      "text/plain": [
       "[1] 0.9750021"
      ]
     },
     "metadata": {},
     "output_type": "display_data"
    }
   ],
   "source": [
    "pnorm(1.96)"
   ]
  },
  {
   "cell_type": "code",
   "execution_count": 33,
   "metadata": {
    "ExecuteTime": {
     "end_time": "2020-09-10T05:01:49.003949Z",
     "start_time": "2020-09-10T05:01:47.918Z"
    }
   },
   "outputs": [
    {
     "data": {
      "text/html": [
       "<ol class=list-inline>\n",
       "\t<li>-7.51492218097524</li>\n",
       "\t<li>-5.13696563096945</li>\n",
       "\t<li>-4.00691085770969</li>\n",
       "\t<li>-8.00897531388486</li>\n",
       "\t<li>-6.49469874067645</li>\n",
       "\t<li>-6.28336424822009</li>\n",
       "\t<li>-8.85881876388763</li>\n",
       "\t<li>-4.00991209916424</li>\n",
       "\t<li>-8.242913900985</li>\n",
       "\t<li>-5.12857196692147</li>\n",
       "</ol>\n"
      ],
      "text/latex": [
       "\\begin{enumerate*}\n",
       "\\item -7.51492218097524\n",
       "\\item -5.13696563096945\n",
       "\\item -4.00691085770969\n",
       "\\item -8.00897531388486\n",
       "\\item -6.49469874067645\n",
       "\\item -6.28336424822009\n",
       "\\item -8.85881876388763\n",
       "\\item -4.00991209916424\n",
       "\\item -8.242913900985\n",
       "\\item -5.12857196692147\n",
       "\\end{enumerate*}\n"
      ],
      "text/markdown": [
       "1. -7.51492218097524\n",
       "2. -5.13696563096945\n",
       "3. -4.00691085770969\n",
       "4. -8.00897531388486\n",
       "5. -6.49469874067645\n",
       "6. -6.28336424822009\n",
       "7. -8.85881876388763\n",
       "8. -4.00991209916424\n",
       "9. -8.242913900985\n",
       "10. -5.12857196692147\n",
       "\n",
       "\n"
      ],
      "text/plain": [
       " [1] -7.514922 -5.136966 -4.006911 -8.008975 -6.494699 -6.283364 -8.858819\n",
       " [8] -4.009912 -8.242914 -5.128572"
      ]
     },
     "metadata": {},
     "output_type": "display_data"
    }
   ],
   "source": [
    "rnorm(10, -5, 2.5)"
   ]
  },
  {
   "cell_type": "markdown",
   "metadata": {},
   "source": [
    "qnorm은 정규분포에 확률을 넣었을 때 이에 해당하는 임계값(하위 %) <br>\n",
    "pnorm은 정규분포에 (x < 값)에 해당하는 확률 <br>\n",
    "rnorm은 난수의 갯수, 평균, 표준편차를 갖는 정규분포에 해당하는 난수를 생성한다."
   ]
  },
  {
   "cell_type": "code",
   "execution_count": 34,
   "metadata": {
    "ExecuteTime": {
     "end_time": "2020-09-10T05:01:49.035258Z",
     "start_time": "2020-09-10T05:01:47.925Z"
    }
   },
   "outputs": [
    {
     "data": {
      "text/html": [
       "-4.06952473322803"
      ],
      "text/latex": [
       "-4.06952473322803"
      ],
      "text/markdown": [
       "-4.06952473322803"
      ],
      "text/plain": [
       "[1] -4.069525"
      ]
     },
     "metadata": {},
     "output_type": "display_data"
    }
   ],
   "source": [
    "ht = rnorm(10, -5, 2.5)\n",
    "mean(ht)"
   ]
  },
  {
   "cell_type": "code",
   "execution_count": 35,
   "metadata": {
    "ExecuteTime": {
     "end_time": "2020-09-10T05:01:49.066905Z",
     "start_time": "2020-09-10T05:01:47.930Z"
    }
   },
   "outputs": [
    {
     "data": {
      "text/html": [
       "1.84393812277738"
      ],
      "text/latex": [
       "1.84393812277738"
      ],
      "text/markdown": [
       "1.84393812277738"
      ],
      "text/plain": [
       "[1] 1.843938"
      ]
     },
     "metadata": {},
     "output_type": "display_data"
    }
   ],
   "source": [
    "sd(ht)"
   ]
  },
  {
   "cell_type": "markdown",
   "metadata": {},
   "source": [
    "## 매트릭스"
   ]
  },
  {
   "cell_type": "code",
   "execution_count": 36,
   "metadata": {
    "ExecuteTime": {
     "end_time": "2020-09-10T05:01:49.104744Z",
     "start_time": "2020-09-10T05:01:47.936Z"
    }
   },
   "outputs": [
    {
     "data": {
      "text/html": [
       "<table>\n",
       "<caption>A matrix: 3 × 4 of type int</caption>\n",
       "<tbody>\n",
       "\t<tr><td>1</td><td> 2</td><td> 3</td><td> 4</td></tr>\n",
       "\t<tr><td>5</td><td> 6</td><td> 7</td><td> 8</td></tr>\n",
       "\t<tr><td>9</td><td>10</td><td>11</td><td>12</td></tr>\n",
       "</tbody>\n",
       "</table>\n"
      ],
      "text/latex": [
       "A matrix: 3 × 4 of type int\n",
       "\\begin{tabular}{llll}\n",
       "\t 1 &  2 &  3 &  4\\\\\n",
       "\t 5 &  6 &  7 &  8\\\\\n",
       "\t 9 & 10 & 11 & 12\\\\\n",
       "\\end{tabular}\n"
      ],
      "text/markdown": [
       "\n",
       "A matrix: 3 × 4 of type int\n",
       "\n",
       "| 1 |  2 |  3 |  4 |\n",
       "| 5 |  6 |  7 |  8 |\n",
       "| 9 | 10 | 11 | 12 |\n",
       "\n"
      ],
      "text/plain": [
       "     [,1] [,2] [,3] [,4]\n",
       "[1,] 1     2    3    4  \n",
       "[2,] 5     6    7    8  \n",
       "[3,] 9    10   11   12  "
      ]
     },
     "metadata": {},
     "output_type": "display_data"
    }
   ],
   "source": [
    "c = c(1:12)\n",
    "x = matrix(c, ncol = 4, byrow = T)\n",
    "x"
   ]
  },
  {
   "cell_type": "code",
   "execution_count": 37,
   "metadata": {
    "ExecuteTime": {
     "end_time": "2020-09-10T05:01:49.147122Z",
     "start_time": "2020-09-10T05:01:47.942Z"
    }
   },
   "outputs": [
    {
     "data": {
      "text/html": [
       "<table>\n",
       "<caption>A matrix: 3 × 4 of type int</caption>\n",
       "<tbody>\n",
       "\t<tr><td>1</td><td>4</td><td>7</td><td>10</td></tr>\n",
       "\t<tr><td>2</td><td>5</td><td>8</td><td>11</td></tr>\n",
       "\t<tr><td>3</td><td>6</td><td>9</td><td>12</td></tr>\n",
       "</tbody>\n",
       "</table>\n"
      ],
      "text/latex": [
       "A matrix: 3 × 4 of type int\n",
       "\\begin{tabular}{llll}\n",
       "\t 1 & 4 & 7 & 10\\\\\n",
       "\t 2 & 5 & 8 & 11\\\\\n",
       "\t 3 & 6 & 9 & 12\\\\\n",
       "\\end{tabular}\n"
      ],
      "text/markdown": [
       "\n",
       "A matrix: 3 × 4 of type int\n",
       "\n",
       "| 1 | 4 | 7 | 10 |\n",
       "| 2 | 5 | 8 | 11 |\n",
       "| 3 | 6 | 9 | 12 |\n",
       "\n"
      ],
      "text/plain": [
       "     [,1] [,2] [,3] [,4]\n",
       "[1,] 1    4    7    10  \n",
       "[2,] 2    5    8    11  \n",
       "[3,] 3    6    9    12  "
      ]
     },
     "metadata": {},
     "output_type": "display_data"
    }
   ],
   "source": [
    "c = c(1:12)\n",
    "x = matrix(c, ncol = 4)\n",
    "x"
   ]
  },
  {
   "cell_type": "markdown",
   "metadata": {},
   "source": [
    "byrow 옵션을 활성화하면 행 방향으로 나열된다."
   ]
  },
  {
   "cell_type": "code",
   "execution_count": 38,
   "metadata": {
    "ExecuteTime": {
     "end_time": "2020-09-10T05:01:49.175446Z",
     "start_time": "2020-09-10T05:01:47.947Z"
    }
   },
   "outputs": [
    {
     "data": {
      "text/html": [
       "<ol class=list-inline>\n",
       "\t<li>1</li>\n",
       "\t<li>2</li>\n",
       "\t<li>3</li>\n",
       "</ol>\n"
      ],
      "text/latex": [
       "\\begin{enumerate*}\n",
       "\\item 1\n",
       "\\item 2\n",
       "\\item 3\n",
       "\\end{enumerate*}\n"
      ],
      "text/markdown": [
       "1. 1\n",
       "2. 2\n",
       "3. 3\n",
       "\n",
       "\n"
      ],
      "text/plain": [
       "[1] 1 2 3"
      ]
     },
     "metadata": {},
     "output_type": "display_data"
    }
   ],
   "source": [
    "x[,1]"
   ]
  },
  {
   "cell_type": "code",
   "execution_count": 39,
   "metadata": {
    "ExecuteTime": {
     "end_time": "2020-09-10T05:01:49.202180Z",
     "start_time": "2020-09-10T05:01:47.952Z"
    }
   },
   "outputs": [
    {
     "data": {
      "text/html": [
       "1"
      ],
      "text/latex": [
       "1"
      ],
      "text/markdown": [
       "1"
      ],
      "text/plain": [
       "[1] 1"
      ]
     },
     "metadata": {},
     "output_type": "display_data"
    }
   ],
   "source": [
    "x[1,1]"
   ]
  },
  {
   "cell_type": "markdown",
   "metadata": {},
   "source": [
    "다양한 인덱싱이 가능하다."
   ]
  },
  {
   "cell_type": "code",
   "execution_count": 40,
   "metadata": {
    "ExecuteTime": {
     "end_time": "2020-09-10T05:01:49.238730Z",
     "start_time": "2020-09-10T05:01:47.957Z"
    }
   },
   "outputs": [
    {
     "data": {
      "text/html": [
       "<table>\n",
       "<caption>A matrix: 2 × 3 of type int</caption>\n",
       "<tbody>\n",
       "\t<tr><td>1</td><td>2</td><td>3</td></tr>\n",
       "\t<tr><td>5</td><td>6</td><td>7</td></tr>\n",
       "</tbody>\n",
       "</table>\n"
      ],
      "text/latex": [
       "A matrix: 2 × 3 of type int\n",
       "\\begin{tabular}{lll}\n",
       "\t 1 & 2 & 3\\\\\n",
       "\t 5 & 6 & 7\\\\\n",
       "\\end{tabular}\n"
      ],
      "text/markdown": [
       "\n",
       "A matrix: 2 × 3 of type int\n",
       "\n",
       "| 1 | 2 | 3 |\n",
       "| 5 | 6 | 7 |\n",
       "\n"
      ],
      "text/plain": [
       "     [,1] [,2] [,3]\n",
       "[1,] 1    2    3   \n",
       "[2,] 5    6    7   "
      ]
     },
     "metadata": {},
     "output_type": "display_data"
    }
   ],
   "source": [
    "x = matrix(c(1:3, 5:7), nrow = 2, byrow = T)\n",
    "x"
   ]
  },
  {
   "cell_type": "code",
   "execution_count": 41,
   "metadata": {
    "ExecuteTime": {
     "end_time": "2020-09-10T05:01:49.270129Z",
     "start_time": "2020-09-10T05:01:47.962Z"
    }
   },
   "outputs": [
    {
     "data": {
      "text/html": [
       "<table>\n",
       "<caption>A matrix: 2 × 2 of type int</caption>\n",
       "<tbody>\n",
       "\t<tr><td>1</td><td>3</td></tr>\n",
       "\t<tr><td>2</td><td>4</td></tr>\n",
       "</tbody>\n",
       "</table>\n"
      ],
      "text/latex": [
       "A matrix: 2 × 2 of type int\n",
       "\\begin{tabular}{ll}\n",
       "\t 1 & 3\\\\\n",
       "\t 2 & 4\\\\\n",
       "\\end{tabular}\n"
      ],
      "text/markdown": [
       "\n",
       "A matrix: 2 × 2 of type int\n",
       "\n",
       "| 1 | 3 |\n",
       "| 2 | 4 |\n",
       "\n"
      ],
      "text/plain": [
       "     [,1] [,2]\n",
       "[1,] 1    3   \n",
       "[2,] 2    4   "
      ]
     },
     "metadata": {},
     "output_type": "display_data"
    }
   ],
   "source": [
    "y = matrix(1:4, nrow = 2, byrow = F)\n",
    "y"
   ]
  },
  {
   "cell_type": "markdown",
   "metadata": {},
   "source": [
    "x는 2x3, y는 2x2행렬이므로 행렬곱을 해주려면 x를 전치해야한다."
   ]
  },
  {
   "cell_type": "code",
   "execution_count": 42,
   "metadata": {
    "ExecuteTime": {
     "end_time": "2020-09-10T05:01:49.302499Z",
     "start_time": "2020-09-10T05:01:47.970Z"
    }
   },
   "outputs": [
    {
     "data": {
      "text/html": [
       "<table>\n",
       "<caption>A matrix: 3 × 2 of type dbl</caption>\n",
       "<tbody>\n",
       "\t<tr><td>11</td><td>23</td></tr>\n",
       "\t<tr><td>14</td><td>30</td></tr>\n",
       "\t<tr><td>17</td><td>37</td></tr>\n",
       "</tbody>\n",
       "</table>\n"
      ],
      "text/latex": [
       "A matrix: 3 × 2 of type dbl\n",
       "\\begin{tabular}{ll}\n",
       "\t 11 & 23\\\\\n",
       "\t 14 & 30\\\\\n",
       "\t 17 & 37\\\\\n",
       "\\end{tabular}\n"
      ],
      "text/markdown": [
       "\n",
       "A matrix: 3 × 2 of type dbl\n",
       "\n",
       "| 11 | 23 |\n",
       "| 14 | 30 |\n",
       "| 17 | 37 |\n",
       "\n"
      ],
      "text/plain": [
       "     [,1] [,2]\n",
       "[1,] 11   23  \n",
       "[2,] 14   30  \n",
       "[3,] 17   37  "
      ]
     },
     "metadata": {},
     "output_type": "display_data"
    }
   ],
   "source": [
    "t(x) %*% y"
   ]
  },
  {
   "cell_type": "markdown",
   "metadata": {},
   "source": [
    "t()는 전치 함수(transpose), %\\*%는 행렬곱이다."
   ]
  },
  {
   "cell_type": "code",
   "execution_count": 43,
   "metadata": {
    "ExecuteTime": {
     "end_time": "2020-09-10T05:01:49.331082Z",
     "start_time": "2020-09-10T05:01:47.976Z"
    }
   },
   "outputs": [
    {
     "data": {
      "text/html": [
       "<ol class=list-inline>\n",
       "\t<li>2</li>\n",
       "\t<li>6</li>\n",
       "</ol>\n"
      ],
      "text/latex": [
       "\\begin{enumerate*}\n",
       "\\item 2\n",
       "\\item 6\n",
       "\\end{enumerate*}\n"
      ],
      "text/markdown": [
       "1. 2\n",
       "2. 6\n",
       "\n",
       "\n"
      ],
      "text/plain": [
       "[1] 2 6"
      ]
     },
     "metadata": {},
     "output_type": "display_data"
    }
   ],
   "source": [
    "apply(x, 1, mean)"
   ]
  },
  {
   "cell_type": "code",
   "execution_count": 44,
   "metadata": {
    "ExecuteTime": {
     "end_time": "2020-09-10T05:01:49.362352Z",
     "start_time": "2020-09-10T05:01:47.982Z"
    }
   },
   "outputs": [
    {
     "data": {
      "text/html": [
       "<ol class=list-inline>\n",
       "\t<li>3</li>\n",
       "\t<li>4</li>\n",
       "\t<li>5</li>\n",
       "</ol>\n"
      ],
      "text/latex": [
       "\\begin{enumerate*}\n",
       "\\item 3\n",
       "\\item 4\n",
       "\\item 5\n",
       "\\end{enumerate*}\n"
      ],
      "text/markdown": [
       "1. 3\n",
       "2. 4\n",
       "3. 5\n",
       "\n",
       "\n"
      ],
      "text/plain": [
       "[1] 3 4 5"
      ]
     },
     "metadata": {},
     "output_type": "display_data"
    }
   ],
   "source": [
    "apply(x, 2, mean)"
   ]
  },
  {
   "cell_type": "markdown",
   "metadata": {},
   "source": [
    "apply로 1이면 로우 2이면 컬럼 방향에 집계함수를 적용할 수 있다."
   ]
  },
  {
   "cell_type": "markdown",
   "metadata": {},
   "source": [
    "## 함수 생성"
   ]
  },
  {
   "cell_type": "code",
   "execution_count": 45,
   "metadata": {
    "ExecuteTime": {
     "end_time": "2020-09-10T05:01:49.386245Z",
     "start_time": "2020-09-10T05:01:47.987Z"
    }
   },
   "outputs": [],
   "source": [
    "squareF = function(x) {x*x}"
   ]
  },
  {
   "cell_type": "code",
   "execution_count": 46,
   "metadata": {
    "ExecuteTime": {
     "end_time": "2020-09-10T05:01:49.409771Z",
     "start_time": "2020-09-10T05:01:47.991Z"
    }
   },
   "outputs": [
    {
     "data": {
      "text/html": [
       "16"
      ],
      "text/latex": [
       "16"
      ],
      "text/markdown": [
       "16"
      ],
      "text/plain": [
       "[1] 16"
      ]
     },
     "metadata": {},
     "output_type": "display_data"
    }
   ],
   "source": [
    "squareF(4)"
   ]
  },
  {
   "cell_type": "markdown",
   "metadata": {},
   "source": [
    "## 엑셀 파일 불러오기"
   ]
  },
  {
   "cell_type": "code",
   "execution_count": 47,
   "metadata": {
    "ExecuteTime": {
     "end_time": "2020-09-10T05:01:50.710087Z",
     "start_time": "2020-09-10T05:01:47.998Z"
    }
   },
   "outputs": [],
   "source": [
    "library(xlsx)"
   ]
  },
  {
   "cell_type": "code",
   "execution_count": 48,
   "metadata": {
    "ExecuteTime": {
     "end_time": "2020-09-10T05:01:51.820056Z",
     "start_time": "2020-09-10T05:01:48.004Z"
    }
   },
   "outputs": [],
   "source": [
    "survey.data <- read.xlsx(\"mvadata/survey.xlsx\", 1)"
   ]
  },
  {
   "cell_type": "code",
   "execution_count": 49,
   "metadata": {
    "ExecuteTime": {
     "end_time": "2020-09-10T05:01:51.860118Z",
     "start_time": "2020-09-10T05:01:48.009Z"
    }
   },
   "outputs": [
    {
     "data": {
      "text/html": [
       "<table>\n",
       "<caption>A data.frame: 6 × 7</caption>\n",
       "<thead>\n",
       "\t<tr><th></th><th scope=col>seq</th><th scope=col>sex</th><th scope=col>marriage</th><th scope=col>age</th><th scope=col>job</th><th scope=col>edu</th><th scope=col>salary</th></tr>\n",
       "\t<tr><th></th><th scope=col>&lt;dbl&gt;</th><th scope=col>&lt;dbl&gt;</th><th scope=col>&lt;dbl&gt;</th><th scope=col>&lt;dbl&gt;</th><th scope=col>&lt;dbl&gt;</th><th scope=col>&lt;dbl&gt;</th><th scope=col>&lt;dbl&gt;</th></tr>\n",
       "</thead>\n",
       "<tbody>\n",
       "\t<tr><th scope=row>1</th><td>1</td><td>1</td><td>1</td><td>21</td><td>1</td><td>4</td><td> 60</td></tr>\n",
       "\t<tr><th scope=row>2</th><td>2</td><td>1</td><td>1</td><td>22</td><td>5</td><td>5</td><td>100</td></tr>\n",
       "\t<tr><th scope=row>3</th><td>3</td><td>1</td><td>1</td><td>33</td><td>1</td><td>4</td><td>200</td></tr>\n",
       "\t<tr><th scope=row>4</th><td>4</td><td>2</td><td>2</td><td>33</td><td>7</td><td>4</td><td>120</td></tr>\n",
       "\t<tr><th scope=row>5</th><td>5</td><td>1</td><td>2</td><td>28</td><td>1</td><td>4</td><td> 70</td></tr>\n",
       "\t<tr><th scope=row>6</th><td>6</td><td>1</td><td>1</td><td>21</td><td>5</td><td>5</td><td> 80</td></tr>\n",
       "</tbody>\n",
       "</table>\n"
      ],
      "text/latex": [
       "A data.frame: 6 × 7\n",
       "\\begin{tabular}{r|lllllll}\n",
       "  & seq & sex & marriage & age & job & edu & salary\\\\\n",
       "  & <dbl> & <dbl> & <dbl> & <dbl> & <dbl> & <dbl> & <dbl>\\\\\n",
       "\\hline\n",
       "\t1 & 1 & 1 & 1 & 21 & 1 & 4 &  60\\\\\n",
       "\t2 & 2 & 1 & 1 & 22 & 5 & 5 & 100\\\\\n",
       "\t3 & 3 & 1 & 1 & 33 & 1 & 4 & 200\\\\\n",
       "\t4 & 4 & 2 & 2 & 33 & 7 & 4 & 120\\\\\n",
       "\t5 & 5 & 1 & 2 & 28 & 1 & 4 &  70\\\\\n",
       "\t6 & 6 & 1 & 1 & 21 & 5 & 5 &  80\\\\\n",
       "\\end{tabular}\n"
      ],
      "text/markdown": [
       "\n",
       "A data.frame: 6 × 7\n",
       "\n",
       "| <!--/--> | seq &lt;dbl&gt; | sex &lt;dbl&gt; | marriage &lt;dbl&gt; | age &lt;dbl&gt; | job &lt;dbl&gt; | edu &lt;dbl&gt; | salary &lt;dbl&gt; |\n",
       "|---|---|---|---|---|---|---|---|\n",
       "| 1 | 1 | 1 | 1 | 21 | 1 | 4 |  60 |\n",
       "| 2 | 2 | 1 | 1 | 22 | 5 | 5 | 100 |\n",
       "| 3 | 3 | 1 | 1 | 33 | 1 | 4 | 200 |\n",
       "| 4 | 4 | 2 | 2 | 33 | 7 | 4 | 120 |\n",
       "| 5 | 5 | 1 | 2 | 28 | 1 | 4 |  70 |\n",
       "| 6 | 6 | 1 | 1 | 21 | 5 | 5 |  80 |\n",
       "\n"
      ],
      "text/plain": [
       "  seq sex marriage age job edu salary\n",
       "1 1   1   1        21  1   4    60   \n",
       "2 2   1   1        22  5   5   100   \n",
       "3 3   1   1        33  1   4   200   \n",
       "4 4   2   2        33  7   4   120   \n",
       "5 5   1   2        28  1   4    70   \n",
       "6 6   1   1        21  5   5    80   "
      ]
     },
     "metadata": {},
     "output_type": "display_data"
    }
   ],
   "source": [
    "head(survey.data)"
   ]
  },
  {
   "cell_type": "code",
   "execution_count": 50,
   "metadata": {
    "ExecuteTime": {
     "end_time": "2020-09-10T05:01:51.887323Z",
     "start_time": "2020-09-10T05:01:48.015Z"
    }
   },
   "outputs": [],
   "source": [
    "attach(survey.data)"
   ]
  },
  {
   "cell_type": "code",
   "execution_count": 51,
   "metadata": {
    "ExecuteTime": {
     "end_time": "2020-09-10T05:01:51.921801Z",
     "start_time": "2020-09-10T05:01:48.020Z"
    }
   },
   "outputs": [
    {
     "data": {
      "text/html": [
       "34.275"
      ],
      "text/latex": [
       "34.275"
      ],
      "text/markdown": [
       "34.275"
      ],
      "text/plain": [
       "[1] 34.275"
      ]
     },
     "metadata": {},
     "output_type": "display_data"
    }
   ],
   "source": [
    "mean(age)"
   ]
  },
  {
   "cell_type": "code",
   "execution_count": 52,
   "metadata": {
    "ExecuteTime": {
     "end_time": "2020-09-10T05:01:51.956485Z",
     "start_time": "2020-09-10T05:01:48.024Z"
    }
   },
   "outputs": [
    {
     "data": {
      "text/html": [
       "11.6023593975425"
      ],
      "text/latex": [
       "11.6023593975425"
      ],
      "text/markdown": [
       "11.6023593975425"
      ],
      "text/plain": [
       "[1] 11.60236"
      ]
     },
     "metadata": {},
     "output_type": "display_data"
    }
   ],
   "source": [
    "sd(age)"
   ]
  },
  {
   "cell_type": "code",
   "execution_count": 53,
   "metadata": {
    "ExecuteTime": {
     "end_time": "2020-09-10T05:01:51.993034Z",
     "start_time": "2020-09-10T05:01:48.030Z"
    }
   },
   "outputs": [
    {
     "data": {
      "text/plain": [
       "   Min. 1st Qu.  Median    Mean 3rd Qu.    Max. \n",
       "  20.00   24.75   32.00   34.27   42.50   59.00 "
      ]
     },
     "metadata": {},
     "output_type": "display_data"
    }
   ],
   "source": [
    "summary(age)"
   ]
  },
  {
   "cell_type": "markdown",
   "metadata": {},
   "source": [
    "attach로 인덱싱 생략가능"
   ]
  },
  {
   "cell_type": "code",
   "execution_count": 54,
   "metadata": {
    "ExecuteTime": {
     "end_time": "2020-09-10T05:01:52.033667Z",
     "start_time": "2020-09-10T05:01:48.036Z"
    }
   },
   "outputs": [
    {
     "data": {
      "text/plain": [
       "      seq             sex           marriage          age             job      \n",
       " Min.   : 1.00   Min.   :1.000   Min.   :1.000   Min.   :20.00   Min.   :1.00  \n",
       " 1st Qu.:10.75   1st Qu.:1.000   1st Qu.:1.000   1st Qu.:24.75   1st Qu.:1.00  \n",
       " Median :20.50   Median :1.000   Median :2.000   Median :32.00   Median :4.00  \n",
       " Mean   :20.50   Mean   :1.325   Mean   :1.675   Mean   :34.27   Mean   :3.95  \n",
       " 3rd Qu.:30.25   3rd Qu.:2.000   3rd Qu.:2.000   3rd Qu.:42.50   3rd Qu.:6.00  \n",
       " Max.   :40.00   Max.   :2.000   Max.   :3.000   Max.   :59.00   Max.   :8.00  \n",
       "      edu          salary     \n",
       " Min.   :1.0   Min.   : 50.0  \n",
       " 1st Qu.:4.0   1st Qu.: 77.5  \n",
       " Median :4.0   Median :105.0  \n",
       " Mean   :4.2   Mean   :130.2  \n",
       " 3rd Qu.:5.0   3rd Qu.:175.0  \n",
       " Max.   :5.0   Max.   :349.0  "
      ]
     },
     "metadata": {},
     "output_type": "display_data"
    }
   ],
   "source": [
    "summary(survey.data)"
   ]
  },
  {
   "cell_type": "code",
   "execution_count": 55,
   "metadata": {
    "ExecuteTime": {
     "end_time": "2020-09-10T05:01:52.065652Z",
     "start_time": "2020-09-10T05:01:48.041Z"
    }
   },
   "outputs": [
    {
     "name": "stdout",
     "output_type": "stream",
     "text": [
      "'data.frame':\t40 obs. of  7 variables:\n",
      " $ seq     : num  1 2 3 4 5 6 7 8 9 10 ...\n",
      " $ sex     : num  1 1 1 2 1 1 2 1 1 1 ...\n",
      " $ marriage: num  1 1 1 2 2 1 2 1 2 2 ...\n",
      " $ age     : num  21 22 33 33 28 21 39 32 44 55 ...\n",
      " $ job     : num  1 5 1 7 1 5 7 1 3 4 ...\n",
      " $ edu     : num  4 5 4 4 4 5 4 4 1 4 ...\n",
      " $ salary  : num  60 100 200 120 70 80 190 100 120 110 ...\n"
     ]
    }
   ],
   "source": [
    "str(survey.data)"
   ]
  },
  {
   "cell_type": "code",
   "execution_count": 56,
   "metadata": {
    "ExecuteTime": {
     "end_time": "2020-09-10T05:01:52.091910Z",
     "start_time": "2020-09-10T05:01:48.047Z"
    }
   },
   "outputs": [],
   "source": [
    "survey.data$sex = as.factor(sex)"
   ]
  },
  {
   "cell_type": "code",
   "execution_count": 57,
   "metadata": {
    "ExecuteTime": {
     "end_time": "2020-09-10T05:01:52.129800Z",
     "start_time": "2020-09-10T05:01:48.055Z"
    }
   },
   "outputs": [
    {
     "data": {
      "text/plain": [
       "      seq        sex       marriage          age             job      \n",
       " Min.   : 1.00   1:27   Min.   :1.000   Min.   :20.00   Min.   :1.00  \n",
       " 1st Qu.:10.75   2:13   1st Qu.:1.000   1st Qu.:24.75   1st Qu.:1.00  \n",
       " Median :20.50          Median :2.000   Median :32.00   Median :4.00  \n",
       " Mean   :20.50          Mean   :1.675   Mean   :34.27   Mean   :3.95  \n",
       " 3rd Qu.:30.25          3rd Qu.:2.000   3rd Qu.:42.50   3rd Qu.:6.00  \n",
       " Max.   :40.00          Max.   :3.000   Max.   :59.00   Max.   :8.00  \n",
       "      edu          salary     \n",
       " Min.   :1.0   Min.   : 50.0  \n",
       " 1st Qu.:4.0   1st Qu.: 77.5  \n",
       " Median :4.0   Median :105.0  \n",
       " Mean   :4.2   Mean   :130.2  \n",
       " 3rd Qu.:5.0   3rd Qu.:175.0  \n",
       " Max.   :5.0   Max.   :349.0  "
      ]
     },
     "metadata": {},
     "output_type": "display_data"
    }
   ],
   "source": [
    "summary(survey.data)"
   ]
  },
  {
   "cell_type": "markdown",
   "metadata": {},
   "source": [
    "sex를 팩터화시켜주니 기술통계량이 아닌 빈도를 출력해준다."
   ]
  },
  {
   "cell_type": "code",
   "execution_count": 58,
   "metadata": {
    "ExecuteTime": {
     "end_time": "2020-09-10T05:01:52.159689Z",
     "start_time": "2020-09-10T05:01:48.063Z"
    }
   },
   "outputs": [
    {
     "data": {
      "text/html": [
       "<dl class=dl-horizontal>\n",
       "\t<dt>1</dt>\n",
       "\t\t<dd>11.9694530479804</dd>\n",
       "\t<dt>2</dt>\n",
       "\t\t<dd>11.2432315821678</dd>\n",
       "</dl>\n"
      ],
      "text/latex": [
       "\\begin{description*}\n",
       "\\item[1] 11.9694530479804\n",
       "\\item[2] 11.2432315821678\n",
       "\\end{description*}\n"
      ],
      "text/markdown": [
       "1\n",
       ":   11.96945304798042\n",
       ":   11.2432315821678\n",
       "\n"
      ],
      "text/plain": [
       "       1        2 \n",
       "11.96945 11.24323 "
      ]
     },
     "metadata": {},
     "output_type": "display_data"
    }
   ],
   "source": [
    "tapply(age, sex, sd)"
   ]
  },
  {
   "cell_type": "markdown",
   "metadata": {},
   "source": [
    "tapply를 통해 sex를 그룹으로 age의 표준편차를 구할 수 있다."
   ]
  },
  {
   "cell_type": "markdown",
   "metadata": {},
   "source": [
    "## 빈도표"
   ]
  },
  {
   "cell_type": "code",
   "execution_count": 59,
   "metadata": {
    "ExecuteTime": {
     "end_time": "2020-09-10T05:01:52.191049Z",
     "start_time": "2020-09-10T05:01:48.069Z"
    }
   },
   "outputs": [
    {
     "data": {
      "text/plain": [
       "sex\n",
       " 1  2 \n",
       "27 13 "
      ]
     },
     "metadata": {},
     "output_type": "display_data"
    }
   ],
   "source": [
    "table(sex)"
   ]
  },
  {
   "cell_type": "code",
   "execution_count": 60,
   "metadata": {
    "ExecuteTime": {
     "end_time": "2020-09-10T05:01:52.220991Z",
     "start_time": "2020-09-10T05:01:48.073Z"
    }
   },
   "outputs": [
    {
     "data": {
      "text/plain": [
       "edu\n",
       " 1  2  3  4  5 \n",
       " 1  1  3 19 16 "
      ]
     },
     "metadata": {},
     "output_type": "display_data"
    }
   ],
   "source": [
    "table(edu)"
   ]
  },
  {
   "cell_type": "code",
   "execution_count": 61,
   "metadata": {
    "ExecuteTime": {
     "end_time": "2020-09-10T05:01:52.260115Z",
     "start_time": "2020-09-10T05:01:48.083Z"
    }
   },
   "outputs": [
    {
     "data": {
      "text/plain": [
       "   edu\n",
       "sex  1  2  3  4  5\n",
       "  1  1  1  1 13 11\n",
       "  2  0  0  2  6  5"
      ]
     },
     "metadata": {},
     "output_type": "display_data"
    }
   ],
   "source": [
    "table(sex, edu)"
   ]
  },
  {
   "cell_type": "code",
   "execution_count": 62,
   "metadata": {
    "ExecuteTime": {
     "end_time": "2020-09-10T05:01:52.298323Z",
     "start_time": "2020-09-10T05:01:48.091Z"
    }
   },
   "outputs": [
    {
     "data": {
      "text/plain": [
       "Number of cases in table: 40 \n",
       "Number of factors: 2 \n",
       "Test for independence of all factors:\n",
       "\tChisq = 2.5781, df = 4, p-value = 0.6307\n",
       "\tChi-squared approximation may be incorrect"
      ]
     },
     "metadata": {},
     "output_type": "display_data"
    }
   ],
   "source": [
    "summary(table(sex, edu))"
   ]
  },
  {
   "cell_type": "markdown",
   "metadata": {},
   "source": [
    "빈도표를 summary에 넣어주면 카이스퀘어 검정결과를 출력해준다."
   ]
  },
  {
   "cell_type": "markdown",
   "metadata": {},
   "source": [
    "## 단변량 시각화"
   ]
  },
  {
   "cell_type": "code",
   "execution_count": 63,
   "metadata": {
    "ExecuteTime": {
     "end_time": "2020-09-10T05:01:52.324076Z",
     "start_time": "2020-09-10T05:01:48.105Z"
    }
   },
   "outputs": [],
   "source": [
    "edu.tb = table(edu)"
   ]
  },
  {
   "cell_type": "code",
   "execution_count": 64,
   "metadata": {
    "ExecuteTime": {
     "end_time": "2020-09-10T05:01:52.347200Z",
     "start_time": "2020-09-10T05:01:48.113Z"
    }
   },
   "outputs": [],
   "source": [
    "rownames(edu.tb) = c(\"무학\", \"초졸\", \"중졸\", \"고졸\", \"대졸\")"
   ]
  },
  {
   "cell_type": "code",
   "execution_count": 65,
   "metadata": {
    "ExecuteTime": {
     "end_time": "2020-09-10T05:01:52.476924Z",
     "start_time": "2020-09-10T05:01:48.122Z"
    }
   },
   "outputs": [
    {
     "data": {
      "image/png": "[encoded data removed]",
      "text/plain": [
       "Plot with title “교육정도 막대그래프”"
      ]
     },
     "metadata": {
      "image/png": {
       "height": 420,
       "width": 420
      }
     },
     "output_type": "display_data"
    }
   ],
   "source": [
    "barplot(edu.tb)\n",
    "title(\"교육정도 막대그래프\")"
   ]
  },
  {
   "cell_type": "code",
   "execution_count": 66,
   "metadata": {
    "ExecuteTime": {
     "end_time": "2020-09-10T05:01:52.628795Z",
     "start_time": "2020-09-10T05:01:48.133Z"
    }
   },
   "outputs": [
    {
     "data": {
      "image/png": "[encoded data removed]",
      "text/plain": [
       "Plot with title “교육정도 원그래프”"
      ]
     },
     "metadata": {
      "image/png": {
       "height": 420,
       "width": 420
      }
     },
     "output_type": "display_data"
    }
   ],
   "source": [
    "pie(edu.tb)\n",
    "title(\"교육정도 원그래프\")"
   ]
  },
  {
   "cell_type": "code",
   "execution_count": 67,
   "metadata": {
    "ExecuteTime": {
     "end_time": "2020-09-10T05:01:52.656090Z",
     "start_time": "2020-09-10T05:01:48.147Z"
    }
   },
   "outputs": [],
   "source": [
    "sex.edu = list(sex, edu)"
   ]
  },
  {
   "cell_type": "code",
   "execution_count": 68,
   "metadata": {
    "ExecuteTime": {
     "end_time": "2020-09-10T05:01:52.683191Z",
     "start_time": "2020-09-10T05:01:48.155Z"
    }
   },
   "outputs": [],
   "source": [
    "temp.t = data.frame(sex, edu)"
   ]
  },
  {
   "cell_type": "code",
   "execution_count": 69,
   "metadata": {
    "ExecuteTime": {
     "end_time": "2020-09-10T05:01:52.712892Z",
     "start_time": "2020-09-10T05:01:48.163Z"
    }
   },
   "outputs": [],
   "source": [
    "sex.edu.tb = table(sex.edu)"
   ]
  },
  {
   "cell_type": "code",
   "execution_count": 70,
   "metadata": {
    "ExecuteTime": {
     "end_time": "2020-09-10T05:01:52.742236Z",
     "start_time": "2020-09-10T05:01:48.170Z"
    }
   },
   "outputs": [],
   "source": [
    "colnames(sex.edu.tb) = c(\"무학\", \"초졸\", \"중졸\", \"고졸\", \"대졸\")"
   ]
  },
  {
   "cell_type": "code",
   "execution_count": 71,
   "metadata": {
    "ExecuteTime": {
     "end_time": "2020-09-10T05:01:52.764628Z",
     "start_time": "2020-09-10T05:01:48.178Z"
    }
   },
   "outputs": [],
   "source": [
    "rownames(sex.edu.tb) = c(\"남성\", \"여성\")"
   ]
  },
  {
   "cell_type": "code",
   "execution_count": 72,
   "metadata": {
    "ExecuteTime": {
     "end_time": "2020-09-10T05:01:52.857434Z",
     "start_time": "2020-09-10T05:01:48.185Z"
    }
   },
   "outputs": [
    {
     "data": {
      "image/png": "[encoded data removed]",
      "text/plain": [
       "Plot with title “성별, 교육정도 막대그래프”"
      ]
     },
     "metadata": {
      "image/png": {
       "height": 420,
       "width": 420
      }
     },
     "output_type": "display_data"
    }
   ],
   "source": [
    "barplot(sex.edu.tb)\n",
    "title(\"성별, 교육정도 막대그래프\")"
   ]
  },
  {
   "cell_type": "code",
   "execution_count": 73,
   "metadata": {
    "ExecuteTime": {
     "end_time": "2020-09-10T05:01:52.965207Z",
     "start_time": "2020-09-10T05:01:48.190Z"
    }
   },
   "outputs": [
    {
     "data": {
      "image/png": "[encoded data removed]",
      "text/plain": [
       "Plot with title “Histogram of salary”"
      ]
     },
     "metadata": {
      "image/png": {
       "height": 420,
       "width": 420
      }
     },
     "output_type": "display_data"
    }
   ],
   "source": [
    "hist(salary, col = \"red\")"
   ]
  },
  {
   "cell_type": "markdown",
   "metadata": {},
   "source": [
    "col옵션으로 색 지정 가능"
   ]
  },
  {
   "cell_type": "code",
   "execution_count": 74,
   "metadata": {
    "ExecuteTime": {
     "end_time": "2020-09-10T05:01:52.989668Z",
     "start_time": "2020-09-10T05:01:48.196Z"
    }
   },
   "outputs": [
    {
     "name": "stdout",
     "output_type": "stream",
     "text": [
      "\n",
      "  The decimal point is 2 digit(s) to the right of the |\n",
      "\n",
      "  0 | 555666677788889\n",
      "  1 | 00000122233\n",
      "  1 | 55579\n",
      "  2 | 000123\n",
      "  2 | 5\n",
      "  3 | 0\n",
      "  3 | 5\n",
      "\n"
     ]
    }
   ],
   "source": [
    "stem(salary)"
   ]
  },
  {
   "cell_type": "code",
   "execution_count": 75,
   "metadata": {
    "ExecuteTime": {
     "end_time": "2020-09-10T05:01:53.074482Z",
     "start_time": "2020-09-10T05:01:48.202Z"
    }
   },
   "outputs": [
    {
     "data": {
      "image/png": "[encoded data removed]",
      "text/plain": [
       "plot without title"
      ]
     },
     "metadata": {
      "image/png": {
       "height": 420,
       "width": 420
      }
     },
     "output_type": "display_data"
    }
   ],
   "source": [
    "boxplot(salary)"
   ]
  },
  {
   "cell_type": "code",
   "execution_count": 76,
   "metadata": {
    "ExecuteTime": {
     "end_time": "2020-09-10T05:01:53.223269Z",
     "start_time": "2020-09-10T05:01:48.208Z"
    }
   },
   "outputs": [
    {
     "data": {
      "image/png": "[encoded data removed]",
      "text/plain": [
       "plot without title"
      ]
     },
     "metadata": {
      "image/png": {
       "height": 420,
       "width": 420
      }
     },
     "output_type": "display_data"
    }
   ],
   "source": [
    "plot(co2)\n",
    "lines(smooth(co2), col=\"blue\")"
   ]
  },
  {
   "cell_type": "markdown",
   "metadata": {},
   "source": [
    "## 다변량 시각화"
   ]
  },
  {
   "cell_type": "code",
   "execution_count": 77,
   "metadata": {
    "ExecuteTime": {
     "end_time": "2020-09-10T05:01:53.257506Z",
     "start_time": "2020-09-10T05:01:48.216Z"
    }
   },
   "outputs": [],
   "source": [
    "library(tools)\n",
    "library(HSAUR2)"
   ]
  },
  {
   "cell_type": "code",
   "execution_count": 78,
   "metadata": {
    "ExecuteTime": {
     "end_time": "2020-09-10T05:01:53.297313Z",
     "start_time": "2020-09-10T05:01:48.222Z"
    }
   },
   "outputs": [],
   "source": [
    "library(MVA)"
   ]
  },
  {
   "cell_type": "markdown",
   "metadata": {},
   "source": [
    "다변량 시각화에 필요한 라이브러리들 불러옴"
   ]
  },
  {
   "cell_type": "code",
   "execution_count": 79,
   "metadata": {
    "ExecuteTime": {
     "end_time": "2020-09-10T05:01:53.335799Z",
     "start_time": "2020-09-10T05:01:48.227Z"
    }
   },
   "outputs": [
    {
     "name": "stderr",
     "output_type": "stream",
     "text": [
      "The following object is masked from package:datasets:\n",
      "\n",
      "    precip\n",
      "\n",
      "\n"
     ]
    }
   ],
   "source": [
    "attach(USairpollution)"
   ]
  },
  {
   "cell_type": "code",
   "execution_count": 80,
   "metadata": {
    "ExecuteTime": {
     "end_time": "2020-09-10T05:01:53.422279Z",
     "start_time": "2020-09-10T05:01:48.233Z"
    }
   },
   "outputs": [
    {
     "data": {
      "image/png": "[encoded data removed]",
      "text/plain": [
       "plot without title"
      ]
     },
     "metadata": {
      "image/png": {
       "height": 420,
       "width": 420
      }
     },
     "output_type": "display_data"
    }
   ],
   "source": [
    "plot(manu, popul)"
   ]
  },
  {
   "cell_type": "code",
   "execution_count": 81,
   "metadata": {
    "ExecuteTime": {
     "end_time": "2020-09-10T05:01:53.517353Z",
     "start_time": "2020-09-10T05:01:48.238Z"
    }
   },
   "outputs": [
    {
     "data": {
      "image/png": "[encoded data removed]",
      "text/plain": [
       "plot without title"
      ]
     },
     "metadata": {
      "image/png": {
       "height": 420,
       "width": 420
      }
     },
     "output_type": "display_data"
    }
   ],
   "source": [
    "plot(popul~manu)"
   ]
  },
  {
   "cell_type": "markdown",
   "metadata": {},
   "source": [
    "물결 왼쪽은 y축 오른쪽은 x축이다."
   ]
  },
  {
   "cell_type": "code",
   "execution_count": 82,
   "metadata": {
    "ExecuteTime": {
     "end_time": "2020-09-10T05:01:53.541180Z",
     "start_time": "2020-09-10T05:01:48.242Z"
    }
   },
   "outputs": [],
   "source": [
    "x = USairpollution[,c(3,4)]"
   ]
  },
  {
   "cell_type": "markdown",
   "metadata": {},
   "source": [
    "USairpollution의 3, 4번째 변수 manu와 popul"
   ]
  },
  {
   "cell_type": "code",
   "execution_count": 83,
   "metadata": {
    "ExecuteTime": {
     "end_time": "2020-09-10T05:01:53.627139Z",
     "start_time": "2020-09-10T05:01:48.247Z"
    }
   },
   "outputs": [
    {
     "data": {
      "image/png": "[encoded data removed]",
      "text/plain": [
       "plot without title"
      ]
     },
     "metadata": {
      "image/png": {
       "height": 420,
       "width": 420
      }
     },
     "output_type": "display_data"
    }
   ],
   "source": [
    "bvbox(x, xlab = \"manu\", ylab = \"popul\")"
   ]
  },
  {
   "cell_type": "markdown",
   "metadata": {},
   "source": [
    "bivariate 박스플롯 생성 <br>\n",
    "박스의 범위 밖은 이상값"
   ]
  },
  {
   "cell_type": "code",
   "execution_count": 84,
   "metadata": {
    "ExecuteTime": {
     "end_time": "2020-09-10T05:01:53.721388Z",
     "start_time": "2020-09-10T05:01:48.255Z"
    }
   },
   "outputs": [
    {
     "data": {
      "image/png": "[encoded data removed]",
      "text/plain": [
       "plot without title"
      ]
     },
     "metadata": {
      "image/png": {
       "height": 420,
       "width": 420
      }
     },
     "output_type": "display_data"
    }
   ],
   "source": [
    "bvbox(x, xlab = \"manu\", ylab = \"popul\")\n",
    "# identify(x)"
   ]
  },
  {
   "cell_type": "markdown",
   "metadata": {},
   "source": [
    "identify는 클릭하면 해당 점이 어느 값인지 띄우는 함수인데 주피터 노트북에서는 작동하지 않는다."
   ]
  },
  {
   "cell_type": "code",
   "execution_count": 85,
   "metadata": {
    "ExecuteTime": {
     "end_time": "2020-09-10T05:01:53.839002Z",
     "start_time": "2020-09-10T05:01:48.264Z"
    }
   },
   "outputs": [
    {
     "data": {
      "image/png": "[encoded data removed]",
      "text/plain": [
       "plot without title"
      ]
     },
     "metadata": {
      "image/png": {
       "height": 420,
       "width": 420
      }
     },
     "output_type": "display_data"
    }
   ],
   "source": [
    "plot(wind~temp, pch = 9)\n",
    "symbols(temp, wind, circles = SO2, add = T)"
   ]
  },
  {
   "cell_type": "markdown",
   "metadata": {
    "ExecuteTime": {
     "end_time": "2020-09-10T04:52:01.432167Z",
     "start_time": "2020-09-10T04:52:01.399Z"
    }
   },
   "source": [
    "symbols로 SO2의 크기를 나타내는 버블을 추가함"
   ]
  },
  {
   "cell_type": "code",
   "execution_count": 86,
   "metadata": {
    "ExecuteTime": {
     "end_time": "2020-09-10T05:01:53.863442Z",
     "start_time": "2020-09-10T05:01:48.271Z"
    }
   },
   "outputs": [],
   "source": [
    "social.data = read.table(\"mvadata/social_data.txt\", header = T)"
   ]
  },
  {
   "cell_type": "code",
   "execution_count": 87,
   "metadata": {
    "ExecuteTime": {
     "end_time": "2020-09-10T05:01:53.913022Z",
     "start_time": "2020-09-10T05:01:48.276Z"
    }
   },
   "outputs": [
    {
     "data": {
      "text/html": [
       "<table>\n",
       "<caption>A data.frame: 6 × 7</caption>\n",
       "<thead>\n",
       "\t<tr><th></th><th scope=col>YEAR</th><th scope=col>POP</th><th scope=col>GNI</th><th scope=col>VEH</th><th scope=col>CRIME</th><th scope=col>ACCI</th><th scope=col>HOSP</th></tr>\n",
       "\t<tr><th></th><th scope=col>&lt;int&gt;</th><th scope=col>&lt;int&gt;</th><th scope=col>&lt;int&gt;</th><th scope=col>&lt;int&gt;</th><th scope=col>&lt;int&gt;</th><th scope=col>&lt;int&gt;</th><th scope=col>&lt;int&gt;</th></tr>\n",
       "</thead>\n",
       "<tbody>\n",
       "\t<tr><th scope=row>1</th><td>1981</td><td>3872</td><td>1800</td><td> 572</td><td>626</td><td>123</td><td> 773</td></tr>\n",
       "\t<tr><th scope=row>2</th><td>1982</td><td>3933</td><td>1893</td><td> 647</td><td>664</td><td>141</td><td> 911</td></tr>\n",
       "\t<tr><th scope=row>3</th><td>1983</td><td>3991</td><td>2076</td><td> 785</td><td>787</td><td>170</td><td>1116</td></tr>\n",
       "\t<tr><th scope=row>4</th><td>1984</td><td>4041</td><td>2257</td><td> 948</td><td>804</td><td>134</td><td>1254</td></tr>\n",
       "\t<tr><th scope=row>5</th><td>1985</td><td>4081</td><td>2309</td><td>1113</td><td>810</td><td>147</td><td>1355</td></tr>\n",
       "\t<tr><th scope=row>6</th><td>1986</td><td>4121</td><td>2643</td><td>1309</td><td>810</td><td>154</td><td>1426</td></tr>\n",
       "</tbody>\n",
       "</table>\n"
      ],
      "text/latex": [
       "A data.frame: 6 × 7\n",
       "\\begin{tabular}{r|lllllll}\n",
       "  & YEAR & POP & GNI & VEH & CRIME & ACCI & HOSP\\\\\n",
       "  & <int> & <int> & <int> & <int> & <int> & <int> & <int>\\\\\n",
       "\\hline\n",
       "\t1 & 1981 & 3872 & 1800 &  572 & 626 & 123 &  773\\\\\n",
       "\t2 & 1982 & 3933 & 1893 &  647 & 664 & 141 &  911\\\\\n",
       "\t3 & 1983 & 3991 & 2076 &  785 & 787 & 170 & 1116\\\\\n",
       "\t4 & 1984 & 4041 & 2257 &  948 & 804 & 134 & 1254\\\\\n",
       "\t5 & 1985 & 4081 & 2309 & 1113 & 810 & 147 & 1355\\\\\n",
       "\t6 & 1986 & 4121 & 2643 & 1309 & 810 & 154 & 1426\\\\\n",
       "\\end{tabular}\n"
      ],
      "text/markdown": [
       "\n",
       "A data.frame: 6 × 7\n",
       "\n",
       "| <!--/--> | YEAR &lt;int&gt; | POP &lt;int&gt; | GNI &lt;int&gt; | VEH &lt;int&gt; | CRIME &lt;int&gt; | ACCI &lt;int&gt; | HOSP &lt;int&gt; |\n",
       "|---|---|---|---|---|---|---|---|\n",
       "| 1 | 1981 | 3872 | 1800 |  572 | 626 | 123 |  773 |\n",
       "| 2 | 1982 | 3933 | 1893 |  647 | 664 | 141 |  911 |\n",
       "| 3 | 1983 | 3991 | 2076 |  785 | 787 | 170 | 1116 |\n",
       "| 4 | 1984 | 4041 | 2257 |  948 | 804 | 134 | 1254 |\n",
       "| 5 | 1985 | 4081 | 2309 | 1113 | 810 | 147 | 1355 |\n",
       "| 6 | 1986 | 4121 | 2643 | 1309 | 810 | 154 | 1426 |\n",
       "\n"
      ],
      "text/plain": [
       "  YEAR POP  GNI  VEH  CRIME ACCI HOSP\n",
       "1 1981 3872 1800  572 626   123   773\n",
       "2 1982 3933 1893  647 664   141   911\n",
       "3 1983 3991 2076  785 787   170  1116\n",
       "4 1984 4041 2257  948 804   134  1254\n",
       "5 1985 4081 2309 1113 810   147  1355\n",
       "6 1986 4121 2643 1309 810   154  1426"
      ]
     },
     "metadata": {},
     "output_type": "display_data"
    }
   ],
   "source": [
    "head(social.data)"
   ]
  },
  {
   "cell_type": "code",
   "execution_count": 88,
   "metadata": {
    "ExecuteTime": {
     "end_time": "2020-09-10T05:01:53.954439Z",
     "start_time": "2020-09-10T05:01:48.282Z"
    }
   },
   "outputs": [
    {
     "data": {
      "text/html": [
       "<table>\n",
       "<caption>A matrix: 7 × 7 of type dbl</caption>\n",
       "<thead>\n",
       "\t<tr><th></th><th scope=col>YEAR</th><th scope=col>POP</th><th scope=col>GNI</th><th scope=col>VEH</th><th scope=col>CRIME</th><th scope=col>ACCI</th><th scope=col>HOSP</th></tr>\n",
       "</thead>\n",
       "<tbody>\n",
       "\t<tr><th scope=row>YEAR</th><td>1.000</td><td>0.996</td><td>0.948</td><td>0.985</td><td>0.989</td><td>0.680</td><td>NA</td></tr>\n",
       "\t<tr><th scope=row>POP</th><td>0.996</td><td>1.000</td><td>0.941</td><td>0.977</td><td>0.989</td><td>0.721</td><td>NA</td></tr>\n",
       "\t<tr><th scope=row>GNI</th><td>0.948</td><td>0.941</td><td>1.000</td><td>0.940</td><td>0.911</td><td>0.676</td><td>NA</td></tr>\n",
       "\t<tr><th scope=row>VEH</th><td>0.985</td><td>0.977</td><td>0.940</td><td>1.000</td><td>0.982</td><td>0.599</td><td>NA</td></tr>\n",
       "\t<tr><th scope=row>CRIME</th><td>0.989</td><td>0.989</td><td>0.911</td><td>0.982</td><td>1.000</td><td>0.683</td><td>NA</td></tr>\n",
       "\t<tr><th scope=row>ACCI</th><td>0.680</td><td>0.721</td><td>0.676</td><td>0.599</td><td>0.683</td><td>1.000</td><td>NA</td></tr>\n",
       "\t<tr><th scope=row>HOSP</th><td>   NA</td><td>   NA</td><td>   NA</td><td>   NA</td><td>   NA</td><td>   NA</td><td> 1</td></tr>\n",
       "</tbody>\n",
       "</table>\n"
      ],
      "text/latex": [
       "A matrix: 7 × 7 of type dbl\n",
       "\\begin{tabular}{r|lllllll}\n",
       "  & YEAR & POP & GNI & VEH & CRIME & ACCI & HOSP\\\\\n",
       "\\hline\n",
       "\tYEAR & 1.000 & 0.996 & 0.948 & 0.985 & 0.989 & 0.680 & NA\\\\\n",
       "\tPOP & 0.996 & 1.000 & 0.941 & 0.977 & 0.989 & 0.721 & NA\\\\\n",
       "\tGNI & 0.948 & 0.941 & 1.000 & 0.940 & 0.911 & 0.676 & NA\\\\\n",
       "\tVEH & 0.985 & 0.977 & 0.940 & 1.000 & 0.982 & 0.599 & NA\\\\\n",
       "\tCRIME & 0.989 & 0.989 & 0.911 & 0.982 & 1.000 & 0.683 & NA\\\\\n",
       "\tACCI & 0.680 & 0.721 & 0.676 & 0.599 & 0.683 & 1.000 & NA\\\\\n",
       "\tHOSP &    NA &    NA &    NA &    NA &    NA &    NA &  1\\\\\n",
       "\\end{tabular}\n"
      ],
      "text/markdown": [
       "\n",
       "A matrix: 7 × 7 of type dbl\n",
       "\n",
       "| <!--/--> | YEAR | POP | GNI | VEH | CRIME | ACCI | HOSP |\n",
       "|---|---|---|---|---|---|---|---|\n",
       "| YEAR | 1.000 | 0.996 | 0.948 | 0.985 | 0.989 | 0.680 | NA |\n",
       "| POP | 0.996 | 1.000 | 0.941 | 0.977 | 0.989 | 0.721 | NA |\n",
       "| GNI | 0.948 | 0.941 | 1.000 | 0.940 | 0.911 | 0.676 | NA |\n",
       "| VEH | 0.985 | 0.977 | 0.940 | 1.000 | 0.982 | 0.599 | NA |\n",
       "| CRIME | 0.989 | 0.989 | 0.911 | 0.982 | 1.000 | 0.683 | NA |\n",
       "| ACCI | 0.680 | 0.721 | 0.676 | 0.599 | 0.683 | 1.000 | NA |\n",
       "| HOSP |    NA |    NA |    NA |    NA |    NA |    NA |  1 |\n",
       "\n"
      ],
      "text/plain": [
       "      YEAR  POP   GNI   VEH   CRIME ACCI  HOSP\n",
       "YEAR  1.000 0.996 0.948 0.985 0.989 0.680 NA  \n",
       "POP   0.996 1.000 0.941 0.977 0.989 0.721 NA  \n",
       "GNI   0.948 0.941 1.000 0.940 0.911 0.676 NA  \n",
       "VEH   0.985 0.977 0.940 1.000 0.982 0.599 NA  \n",
       "CRIME 0.989 0.989 0.911 0.982 1.000 0.683 NA  \n",
       "ACCI  0.680 0.721 0.676 0.599 0.683 1.000 NA  \n",
       "HOSP     NA    NA    NA    NA    NA    NA  1  "
      ]
     },
     "metadata": {},
     "output_type": "display_data"
    }
   ],
   "source": [
    "round(cor(social.data), 3)"
   ]
  },
  {
   "cell_type": "code",
   "execution_count": 89,
   "metadata": {
    "ExecuteTime": {
     "end_time": "2020-09-10T05:01:54.220343Z",
     "start_time": "2020-09-10T05:01:48.288Z"
    }
   },
   "outputs": [
    {
     "data": {
      "image/png": "[encoded data removed]",
      "text/plain": [
       "plot without title"
      ]
     },
     "metadata": {
      "image/png": {
       "height": 420,
       "width": 420
      }
     },
     "output_type": "display_data"
    }
   ],
   "source": [
    "pairs(social.data)"
   ]
  },
  {
   "cell_type": "code",
   "execution_count": 90,
   "metadata": {
    "ExecuteTime": {
     "end_time": "2020-09-10T05:01:54.250258Z",
     "start_time": "2020-09-10T05:01:48.293Z"
    }
   },
   "outputs": [],
   "source": [
    "social = social.data[,-1]\n",
    "year = social.data[,1]\n",
    "rownames(social) = year"
   ]
  },
  {
   "cell_type": "markdown",
   "metadata": {},
   "source": [
    "1 컬럼인 year을 rowname으로 설정함"
   ]
  },
  {
   "cell_type": "code",
   "execution_count": 91,
   "metadata": {
    "ExecuteTime": {
     "end_time": "2020-09-10T05:01:54.392703Z",
     "start_time": "2020-09-10T05:01:48.299Z"
    }
   },
   "outputs": [
    {
     "data": {
      "image/png": "[encoded data removed]",
      "text/plain": [
       "plot without title"
      ]
     },
     "metadata": {
      "image/png": {
       "height": 420,
       "width": 420
      }
     },
     "output_type": "display_data"
    }
   ],
   "source": [
    "stars(social)"
   ]
  },
  {
   "cell_type": "markdown",
   "metadata": {},
   "source": [
    "별그림을 그려주는 함수"
   ]
  },
  {
   "cell_type": "code",
   "execution_count": 92,
   "metadata": {
    "ExecuteTime": {
     "end_time": "2020-09-10T05:01:54.459366Z",
     "start_time": "2020-09-10T05:01:48.306Z"
    }
   },
   "outputs": [
    {
     "name": "stderr",
     "output_type": "stream",
     "text": [
      "Warning message:\n",
      "“no DISPLAY variable so Tk is not available”\n"
     ]
    }
   ],
   "source": [
    "library(aplpack)"
   ]
  },
  {
   "cell_type": "code",
   "execution_count": 93,
   "metadata": {
    "ExecuteTime": {
     "end_time": "2020-09-10T05:01:55.878507Z",
     "start_time": "2020-09-10T05:01:48.312Z"
    }
   },
   "outputs": [
    {
     "name": "stdout",
     "output_type": "stream",
     "text": [
      "[1] \"Warning: NA elements have been exchanged by mean values!!\"\n",
      "effect of variables:\n",
      " modified item       Var    \n",
      " \"height of face   \" \"POP\"  \n",
      " \"width of face    \" \"GNI\"  \n",
      " \"structure of face\" \"VEH\"  \n",
      " \"height of mouth  \" \"CRIME\"\n",
      " \"width of mouth   \" \"ACCI\" \n",
      " \"smiling          \" \"HOSP\" \n",
      " \"height of eyes   \" \"POP\"  \n",
      " \"width of eyes    \" \"GNI\"  \n",
      " \"height of hair   \" \"VEH\"  \n",
      " \"width of hair   \"  \"CRIME\"\n",
      " \"style of hair   \"  \"ACCI\" \n",
      " \"height of nose  \"  \"HOSP\" \n",
      " \"width of nose   \"  \"POP\"  \n",
      " \"width of ear    \"  \"GNI\"  \n",
      " \"height of ear   \"  \"VEH\"  \n"
     ]
    },
    {
     "data": {
      "image/png": "[encoded data removed]",
      "text/plain": [
       "Plot with title “2005”"
      ]
     },
     "metadata": {
      "image/png": {
       "height": 420,
       "width": 420
      }
     },
     "output_type": "display_data"
    }
   ],
   "source": [
    "faces(social, face.type = 1)"
   ]
  }
 ],
 "metadata": {
  "kernelspec": {
   "display_name": "R",
   "language": "R",
   "name": "ir"
  },
  "language_info": {
   "codemirror_mode": "r",
   "file_extension": ".r",
   "mimetype": "text/x-r-source",
   "name": "R",
   "pygments_lexer": "r",
   "version": "3.6.3"
  },
  "toc": {
   "base_numbering": 1,
   "nav_menu": {},
   "number_sections": true,
   "sideBar": true,
   "skip_h1_title": false,
   "title_cell": "Table of Contents",
   "title_sidebar": "Contents",
   "toc_cell": false,
   "toc_position": {},
   "toc_section_display": true,
   "toc_window_display": false
  }
 },
 "nbformat": 4,
 "nbformat_minor": 2
}
