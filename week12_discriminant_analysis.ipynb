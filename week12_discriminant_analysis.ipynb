{
 "cells": [
  {
   "cell_type": "markdown",
   "metadata": {},
   "source": [
    "# 판별 분석 "
   ]
  },
  {
   "cell_type": "markdown",
   "metadata": {},
   "source": [
    "종속 변수를 그룹으로 두고 개체가 어느 그룹에 속하는지를 판별"
   ]
  },
  {
   "cell_type": "markdown",
   "metadata": {},
   "source": [
    " ##  Fisher의 판별함수"
   ]
  },
  {
   "cell_type": "markdown",
   "metadata": {},
   "source": [
    "두 집단의 공통분산공분산행렬\n",
    "$$S = {n_1-1 \\over n_1+n_2-2}S_1 + {n_2-1 \\over n_1+n_2-2}S_2$$"
   ]
  },
  {
   "cell_type": "markdown",
   "metadata": {},
   "source": [
    "Fisher's discriminant function\n",
    "$$Y=b_1X_1 + b_2X_2 + ... + b_pX_p = \\textbf{b'}X$$"
   ]
  },
  {
   "cell_type": "markdown",
   "metadata": {
    "ExecuteTime": {
     "end_time": "2020-12-01T14:18:40.262381Z",
     "start_time": "2020-12-01T14:18:40.180Z"
    }
   },
   "source": [
    "여기서 판별함수계수 b를 추정한다"
   ]
  },
  {
   "cell_type": "markdown",
   "metadata": {},
   "source": [
    "b는 $\\lambda = {그룹 간 분산 \\over 그룹 내 분산}$이 최대가 되도록 구해야 한다."
   ]
  },
  {
   "cell_type": "markdown",
   "metadata": {},
   "source": [
    "이를 만족하는 b는 다음과 같다.\n",
    "$$\\textbf{b} = \\Sigma^{-1}(\\textbf{$\\mu$}_1-\\textbf{$\\mu$}_2)$$"
   ]
  },
  {
   "cell_type": "markdown",
   "metadata": {},
   "source": [
    "따라서 판별함수 Y는\n",
    "$$Y = (\\textbf{$\\mu$}_1-\\textbf{$\\mu$}_2)\\Sigma^{-1}X$$"
   ]
  },
  {
   "cell_type": "markdown",
   "metadata": {},
   "source": [
    "## 분류점"
   ]
  },
  {
   "cell_type": "markdown",
   "metadata": {},
   "source": [
    "두 집단의 판별함수의 평균을 각각 구한다.\n",
    "$$\\bar{Y}_1 = (\\bar{X}_1 - \\bar{X}_2)'S^{-1}\\bar{X}_1$$\n",
    "$$\\bar{Y}_2 = (\\bar{X}_1 - \\bar{X}_2)'S^{-1}\\bar{X}_2$$"
   ]
  },
  {
   "cell_type": "markdown",
   "metadata": {},
   "source": [
    "이를 두 중심으로 하여 그 중앙 위치를 구한다.\n",
    "$$Y_c = {\\bar{Y}_1+\\bar{Y}_2 \\over 2} = {1 \\over 2}(\\bar{X}_1 - \\bar{X}_2)'S^{-1}(\\bar{X}_1+\\bar{X}_2)$$"
   ]
  },
  {
   "cell_type": "markdown",
   "metadata": {},
   "source": [
    "두 집단의 크기가 다르다면\n",
    "$$Y_c = {n_2\\bar{Y}_1+n_1\\bar{Y}_2 \\over n_1+n_2}$$"
   ]
  },
  {
   "cell_type": "markdown",
   "metadata": {},
   "source": [
    "## 분류계수"
   ]
  },
  {
   "cell_type": "markdown",
   "metadata": {},
   "source": [
    "## 사후확률"
   ]
  },
  {
   "cell_type": "markdown",
   "metadata": {},
   "source": [
    "# 예제"
   ]
  },
  {
   "cell_type": "code",
   "execution_count": 1,
   "metadata": {
    "ExecuteTime": {
     "end_time": "2020-12-02T09:15:57.917022Z",
     "start_time": "2020-12-02T09:15:56.620Z"
    }
   },
   "outputs": [],
   "source": [
    "library(xlsx)\n",
    "library(MASS)"
   ]
  },
  {
   "cell_type": "code",
   "execution_count": 2,
   "metadata": {
    "ExecuteTime": {
     "end_time": "2020-12-02T09:15:58.881193Z",
     "start_time": "2020-12-02T09:15:56.625Z"
    }
   },
   "outputs": [],
   "source": [
    "data = read.xlsx(\"mvadata/alcohol.xlsx\",sheetName = \"alcohol\")"
   ]
  },
  {
   "cell_type": "code",
   "execution_count": 3,
   "metadata": {
    "ExecuteTime": {
     "end_time": "2020-12-02T09:15:58.968297Z",
     "start_time": "2020-12-02T09:15:56.632Z"
    }
   },
   "outputs": [
    {
     "data": {
      "text/html": [
       "<table>\n",
       "<caption>A data.frame: 6 × 7</caption>\n",
       "<thead>\n",
       "\t<tr><th></th><th scope=col>TYPE</th><th scope=col>MEOH</th><th scope=col>ACET</th><th scope=col>BU1</th><th scope=col>MEPR</th><th scope=col>ACAL</th><th scope=col>LNPRO1</th></tr>\n",
       "\t<tr><th></th><th scope=col>&lt;fct&gt;</th><th scope=col>&lt;dbl&gt;</th><th scope=col>&lt;dbl&gt;</th><th scope=col>&lt;dbl&gt;</th><th scope=col>&lt;dbl&gt;</th><th scope=col>&lt;dbl&gt;</th><th scope=col>&lt;dbl&gt;</th></tr>\n",
       "</thead>\n",
       "<tbody>\n",
       "\t<tr><th scope=row>1</th><td>typeA</td><td>  3</td><td> 15</td><td>0.2</td><td> 9</td><td>9.0</td><td>5.86</td></tr>\n",
       "\t<tr><th scope=row>2</th><td>typeA</td><td> 23</td><td> 13</td><td>0.8</td><td> 9</td><td>2.0</td><td>6.67</td></tr>\n",
       "\t<tr><th scope=row>3</th><td>typeA</td><td> 65</td><td> 96</td><td>0.4</td><td> 9</td><td>4.0</td><td>5.31</td></tr>\n",
       "\t<tr><th scope=row>4</th><td>typeA</td><td>279</td><td> 66</td><td>0.9</td><td>36</td><td>4.8</td><td>5.45</td></tr>\n",
       "\t<tr><th scope=row>5</th><td>typeA</td><td>292</td><td>210</td><td>1.1</td><td>34</td><td>8.0</td><td>4.08</td></tr>\n",
       "\t<tr><th scope=row>6</th><td>typeA</td><td>371</td><td>414</td><td>1.2</td><td>39</td><td>9.0</td><td>6.22</td></tr>\n",
       "</tbody>\n",
       "</table>\n"
      ],
      "text/latex": [
       "A data.frame: 6 × 7\n",
       "\\begin{tabular}{r|lllllll}\n",
       "  & TYPE & MEOH & ACET & BU1 & MEPR & ACAL & LNPRO1\\\\\n",
       "  & <fct> & <dbl> & <dbl> & <dbl> & <dbl> & <dbl> & <dbl>\\\\\n",
       "\\hline\n",
       "\t1 & typeA &   3 &  15 & 0.2 &  9 & 9.0 & 5.86\\\\\n",
       "\t2 & typeA &  23 &  13 & 0.8 &  9 & 2.0 & 6.67\\\\\n",
       "\t3 & typeA &  65 &  96 & 0.4 &  9 & 4.0 & 5.31\\\\\n",
       "\t4 & typeA & 279 &  66 & 0.9 & 36 & 4.8 & 5.45\\\\\n",
       "\t5 & typeA & 292 & 210 & 1.1 & 34 & 8.0 & 4.08\\\\\n",
       "\t6 & typeA & 371 & 414 & 1.2 & 39 & 9.0 & 6.22\\\\\n",
       "\\end{tabular}\n"
      ],
      "text/markdown": [
       "\n",
       "A data.frame: 6 × 7\n",
       "\n",
       "| <!--/--> | TYPE &lt;fct&gt; | MEOH &lt;dbl&gt; | ACET &lt;dbl&gt; | BU1 &lt;dbl&gt; | MEPR &lt;dbl&gt; | ACAL &lt;dbl&gt; | LNPRO1 &lt;dbl&gt; |\n",
       "|---|---|---|---|---|---|---|---|\n",
       "| 1 | typeA |   3 |  15 | 0.2 |  9 | 9.0 | 5.86 |\n",
       "| 2 | typeA |  23 |  13 | 0.8 |  9 | 2.0 | 6.67 |\n",
       "| 3 | typeA |  65 |  96 | 0.4 |  9 | 4.0 | 5.31 |\n",
       "| 4 | typeA | 279 |  66 | 0.9 | 36 | 4.8 | 5.45 |\n",
       "| 5 | typeA | 292 | 210 | 1.1 | 34 | 8.0 | 4.08 |\n",
       "| 6 | typeA | 371 | 414 | 1.2 | 39 | 9.0 | 6.22 |\n",
       "\n"
      ],
      "text/plain": [
       "  TYPE  MEOH ACET BU1 MEPR ACAL LNPRO1\n",
       "1 typeA   3   15  0.2  9   9.0  5.86  \n",
       "2 typeA  23   13  0.8  9   2.0  6.67  \n",
       "3 typeA  65   96  0.4  9   4.0  5.31  \n",
       "4 typeA 279   66  0.9 36   4.8  5.45  \n",
       "5 typeA 292  210  1.1 34   8.0  4.08  \n",
       "6 typeA 371  414  1.2 39   9.0  6.22  "
      ]
     },
     "metadata": {},
     "output_type": "display_data"
    }
   ],
   "source": [
    "head(data)"
   ]
  },
  {
   "cell_type": "code",
   "execution_count": 4,
   "metadata": {
    "ExecuteTime": {
     "end_time": "2020-12-02T09:15:59.007462Z",
     "start_time": "2020-12-02T09:15:56.636Z"
    }
   },
   "outputs": [],
   "source": [
    "data.lda = lda(TYPE ~ ., data = data)"
   ]
  },
  {
   "cell_type": "markdown",
   "metadata": {},
   "source": [
    "Y는 TYPE X는 모두(.)"
   ]
  },
  {
   "cell_type": "code",
   "execution_count": 5,
   "metadata": {
    "ExecuteTime": {
     "end_time": "2020-12-02T09:15:59.040502Z",
     "start_time": "2020-12-02T09:15:56.640Z"
    }
   },
   "outputs": [
    {
     "data": {
      "text/plain": [
       "Call:\n",
       "lda(TYPE ~ ., data = data)\n",
       "\n",
       "Prior probabilities of groups:\n",
       "    typeA     typeB     typeC \n",
       "0.2337662 0.3766234 0.3896104 \n",
       "\n",
       "Group means:\n",
       "           MEOH     ACET       BU1     MEPR     ACAL   LNPRO1\n",
       "typeA  378.6944 218.0167  1.511111 32.06667 11.16667 6.231111\n",
       "typeB  939.1379 247.3448 17.906897 30.55172 12.54138 4.883103\n",
       "typeC 1035.4000 173.3667 19.620000 43.00000 13.27333 5.145667\n",
       "\n",
       "Coefficients of linear discriminants:\n",
       "                 LD1           LD2\n",
       "MEOH    3.382089e-03  0.0005710473\n",
       "ACET   -4.649248e-05 -0.0066573606\n",
       "BU1     1.322048e-01 -0.0162598664\n",
       "MEPR   -2.562255e-02  0.0533609640\n",
       "ACAL   -4.048757e-02  0.0297883525\n",
       "LNPRO1 -2.791911e-01  0.3894400487\n",
       "\n",
       "Proportion of trace:\n",
       "   LD1    LD2 \n",
       "0.9168 0.0832 "
      ]
     },
     "metadata": {},
     "output_type": "display_data"
    }
   ],
   "source": [
    "data.lda"
   ]
  },
  {
   "cell_type": "markdown",
   "metadata": {},
   "source": [
    "prior probabilities of groups는 실제 관측값의 비율을 의미한다."
   ]
  },
  {
   "cell_type": "code",
   "execution_count": 6,
   "metadata": {
    "ExecuteTime": {
     "end_time": "2020-12-02T09:15:59.080163Z",
     "start_time": "2020-12-02T09:15:56.646Z"
    }
   },
   "outputs": [
    {
     "data": {
      "text/html": [
       "<ol class=list-inline>\n",
       "\t<li>'prior'</li>\n",
       "\t<li>'counts'</li>\n",
       "\t<li>'means'</li>\n",
       "\t<li>'scaling'</li>\n",
       "\t<li>'lev'</li>\n",
       "\t<li>'svd'</li>\n",
       "\t<li>'N'</li>\n",
       "\t<li>'call'</li>\n",
       "\t<li>'terms'</li>\n",
       "\t<li>'xlevels'</li>\n",
       "</ol>\n"
      ],
      "text/latex": [
       "\\begin{enumerate*}\n",
       "\\item 'prior'\n",
       "\\item 'counts'\n",
       "\\item 'means'\n",
       "\\item 'scaling'\n",
       "\\item 'lev'\n",
       "\\item 'svd'\n",
       "\\item 'N'\n",
       "\\item 'call'\n",
       "\\item 'terms'\n",
       "\\item 'xlevels'\n",
       "\\end{enumerate*}\n"
      ],
      "text/markdown": [
       "1. 'prior'\n",
       "2. 'counts'\n",
       "3. 'means'\n",
       "4. 'scaling'\n",
       "5. 'lev'\n",
       "6. 'svd'\n",
       "7. 'N'\n",
       "8. 'call'\n",
       "9. 'terms'\n",
       "10. 'xlevels'\n",
       "\n",
       "\n"
      ],
      "text/plain": [
       " [1] \"prior\"   \"counts\"  \"means\"   \"scaling\" \"lev\"     \"svd\"     \"N\"      \n",
       " [8] \"call\"    \"terms\"   \"xlevels\""
      ]
     },
     "metadata": {},
     "output_type": "display_data"
    }
   ],
   "source": [
    "names(data.lda)"
   ]
  },
  {
   "cell_type": "markdown",
   "metadata": {},
   "source": [
    " "
   ]
  },
  {
   "cell_type": "code",
   "execution_count": 7,
   "metadata": {
    "ExecuteTime": {
     "end_time": "2020-12-02T09:15:59.111794Z",
     "start_time": "2020-12-02T09:15:56.650Z"
    }
   },
   "outputs": [],
   "source": [
    "pred.lda = predict(data.lda, newdata = data)"
   ]
  },
  {
   "cell_type": "code",
   "execution_count": 8,
   "metadata": {
    "ExecuteTime": {
     "end_time": "2020-12-02T09:15:59.146660Z",
     "start_time": "2020-12-02T09:15:56.654Z"
    }
   },
   "outputs": [
    {
     "data": {
      "text/html": [
       "<ol class=list-inline>\n",
       "\t<li>'class'</li>\n",
       "\t<li>'posterior'</li>\n",
       "\t<li>'x'</li>\n",
       "</ol>\n"
      ],
      "text/latex": [
       "\\begin{enumerate*}\n",
       "\\item 'class'\n",
       "\\item 'posterior'\n",
       "\\item 'x'\n",
       "\\end{enumerate*}\n"
      ],
      "text/markdown": [
       "1. 'class'\n",
       "2. 'posterior'\n",
       "3. 'x'\n",
       "\n",
       "\n"
      ],
      "text/plain": [
       "[1] \"class\"     \"posterior\" \"x\"        "
      ]
     },
     "metadata": {},
     "output_type": "display_data"
    }
   ],
   "source": [
    "names(pred.lda)"
   ]
  },
  {
   "cell_type": "markdown",
   "metadata": {},
   "source": [
    "posterior는 사후확률이다."
   ]
  },
  {
   "cell_type": "code",
   "execution_count": 9,
   "metadata": {
    "ExecuteTime": {
     "end_time": "2020-12-02T09:15:59.189504Z",
     "start_time": "2020-12-02T09:15:56.659Z"
    }
   },
   "outputs": [
    {
     "data": {
      "text/html": [
       "<ol class=list-inline>\n",
       "\t<li>typeA</li>\n",
       "\t<li>typeA</li>\n",
       "\t<li>typeA</li>\n",
       "\t<li>typeA</li>\n",
       "\t<li>typeA</li>\n",
       "\t<li>typeA</li>\n",
       "\t<li>typeA</li>\n",
       "\t<li>typeA</li>\n",
       "\t<li>typeA</li>\n",
       "\t<li>typeA</li>\n",
       "\t<li>typeA</li>\n",
       "\t<li>typeA</li>\n",
       "\t<li>typeA</li>\n",
       "\t<li>typeA</li>\n",
       "\t<li>typeA</li>\n",
       "\t<li>typeA</li>\n",
       "\t<li>typeA</li>\n",
       "\t<li>typeA</li>\n",
       "\t<li>typeB</li>\n",
       "\t<li>typeB</li>\n",
       "\t<li>typeB</li>\n",
       "\t<li>typeB</li>\n",
       "\t<li>typeB</li>\n",
       "\t<li>typeB</li>\n",
       "\t<li>typeB</li>\n",
       "\t<li>typeB</li>\n",
       "\t<li>typeB</li>\n",
       "\t<li>typeC</li>\n",
       "\t<li>typeB</li>\n",
       "\t<li>typeB</li>\n",
       "\t<li>typeB</li>\n",
       "\t<li>typeC</li>\n",
       "\t<li>typeC</li>\n",
       "\t<li>typeB</li>\n",
       "\t<li>typeB</li>\n",
       "\t<li>typeC</li>\n",
       "\t<li>typeB</li>\n",
       "\t<li>typeB</li>\n",
       "\t<li>typeB</li>\n",
       "\t<li>typeB</li>\n",
       "\t<li>typeB</li>\n",
       "\t<li>typeB</li>\n",
       "\t<li>typeC</li>\n",
       "\t<li>typeB</li>\n",
       "\t<li>typeC</li>\n",
       "\t<li>typeB</li>\n",
       "\t<li>typeB</li>\n",
       "\t<li>typeB</li>\n",
       "\t<li>typeC</li>\n",
       "\t<li>typeB</li>\n",
       "\t<li>typeB</li>\n",
       "\t<li>typeC</li>\n",
       "\t<li>typeC</li>\n",
       "\t<li>typeB</li>\n",
       "\t<li>typeB</li>\n",
       "\t<li>typeC</li>\n",
       "\t<li>typeB</li>\n",
       "\t<li>typeC</li>\n",
       "\t<li>typeC</li>\n",
       "\t<li>typeB</li>\n",
       "\t<li>typeC</li>\n",
       "\t<li>typeC</li>\n",
       "\t<li>typeB</li>\n",
       "\t<li>typeC</li>\n",
       "\t<li>typeC</li>\n",
       "\t<li>typeB</li>\n",
       "\t<li>typeC</li>\n",
       "\t<li>typeC</li>\n",
       "\t<li>typeC</li>\n",
       "\t<li>typeC</li>\n",
       "\t<li>typeC</li>\n",
       "\t<li>typeC</li>\n",
       "\t<li>typeC</li>\n",
       "\t<li>typeC</li>\n",
       "\t<li>typeC</li>\n",
       "\t<li>typeC</li>\n",
       "\t<li>typeC</li>\n",
       "</ol>\n",
       "\n",
       "<details>\n",
       "\t<summary style=display:list-item;cursor:pointer>\n",
       "\t\t<strong>Levels</strong>:\n",
       "\t</summary>\n",
       "\t<ol class=list-inline>\n",
       "\t\t<li>'typeA'</li>\n",
       "\t\t<li>'typeB'</li>\n",
       "\t\t<li>'typeC'</li>\n",
       "\t</ol>\n",
       "</details>"
      ],
      "text/latex": [
       "\\begin{enumerate*}\n",
       "\\item typeA\n",
       "\\item typeA\n",
       "\\item typeA\n",
       "\\item typeA\n",
       "\\item typeA\n",
       "\\item typeA\n",
       "\\item typeA\n",
       "\\item typeA\n",
       "\\item typeA\n",
       "\\item typeA\n",
       "\\item typeA\n",
       "\\item typeA\n",
       "\\item typeA\n",
       "\\item typeA\n",
       "\\item typeA\n",
       "\\item typeA\n",
       "\\item typeA\n",
       "\\item typeA\n",
       "\\item typeB\n",
       "\\item typeB\n",
       "\\item typeB\n",
       "\\item typeB\n",
       "\\item typeB\n",
       "\\item typeB\n",
       "\\item typeB\n",
       "\\item typeB\n",
       "\\item typeB\n",
       "\\item typeC\n",
       "\\item typeB\n",
       "\\item typeB\n",
       "\\item typeB\n",
       "\\item typeC\n",
       "\\item typeC\n",
       "\\item typeB\n",
       "\\item typeB\n",
       "\\item typeC\n",
       "\\item typeB\n",
       "\\item typeB\n",
       "\\item typeB\n",
       "\\item typeB\n",
       "\\item typeB\n",
       "\\item typeB\n",
       "\\item typeC\n",
       "\\item typeB\n",
       "\\item typeC\n",
       "\\item typeB\n",
       "\\item typeB\n",
       "\\item typeB\n",
       "\\item typeC\n",
       "\\item typeB\n",
       "\\item typeB\n",
       "\\item typeC\n",
       "\\item typeC\n",
       "\\item typeB\n",
       "\\item typeB\n",
       "\\item typeC\n",
       "\\item typeB\n",
       "\\item typeC\n",
       "\\item typeC\n",
       "\\item typeB\n",
       "\\item typeC\n",
       "\\item typeC\n",
       "\\item typeB\n",
       "\\item typeC\n",
       "\\item typeC\n",
       "\\item typeB\n",
       "\\item typeC\n",
       "\\item typeC\n",
       "\\item typeC\n",
       "\\item typeC\n",
       "\\item typeC\n",
       "\\item typeC\n",
       "\\item typeC\n",
       "\\item typeC\n",
       "\\item typeC\n",
       "\\item typeC\n",
       "\\item typeC\n",
       "\\end{enumerate*}\n",
       "\n",
       "\\emph{Levels}: \\begin{enumerate*}\n",
       "\\item 'typeA'\n",
       "\\item 'typeB'\n",
       "\\item 'typeC'\n",
       "\\end{enumerate*}\n"
      ],
      "text/markdown": [
       "1. typeA\n",
       "2. typeA\n",
       "3. typeA\n",
       "4. typeA\n",
       "5. typeA\n",
       "6. typeA\n",
       "7. typeA\n",
       "8. typeA\n",
       "9. typeA\n",
       "10. typeA\n",
       "11. typeA\n",
       "12. typeA\n",
       "13. typeA\n",
       "14. typeA\n",
       "15. typeA\n",
       "16. typeA\n",
       "17. typeA\n",
       "18. typeA\n",
       "19. typeB\n",
       "20. typeB\n",
       "21. typeB\n",
       "22. typeB\n",
       "23. typeB\n",
       "24. typeB\n",
       "25. typeB\n",
       "26. typeB\n",
       "27. typeB\n",
       "28. typeC\n",
       "29. typeB\n",
       "30. typeB\n",
       "31. typeB\n",
       "32. typeC\n",
       "33. typeC\n",
       "34. typeB\n",
       "35. typeB\n",
       "36. typeC\n",
       "37. typeB\n",
       "38. typeB\n",
       "39. typeB\n",
       "40. typeB\n",
       "41. typeB\n",
       "42. typeB\n",
       "43. typeC\n",
       "44. typeB\n",
       "45. typeC\n",
       "46. typeB\n",
       "47. typeB\n",
       "48. typeB\n",
       "49. typeC\n",
       "50. typeB\n",
       "51. typeB\n",
       "52. typeC\n",
       "53. typeC\n",
       "54. typeB\n",
       "55. typeB\n",
       "56. typeC\n",
       "57. typeB\n",
       "58. typeC\n",
       "59. typeC\n",
       "60. typeB\n",
       "61. typeC\n",
       "62. typeC\n",
       "63. typeB\n",
       "64. typeC\n",
       "65. typeC\n",
       "66. typeB\n",
       "67. typeC\n",
       "68. typeC\n",
       "69. typeC\n",
       "70. typeC\n",
       "71. typeC\n",
       "72. typeC\n",
       "73. typeC\n",
       "74. typeC\n",
       "75. typeC\n",
       "76. typeC\n",
       "77. typeC\n",
       "\n",
       "\n",
       "\n",
       "**Levels**: 1. 'typeA'\n",
       "2. 'typeB'\n",
       "3. 'typeC'\n",
       "\n",
       "\n"
      ],
      "text/plain": [
       " [1] typeA typeA typeA typeA typeA typeA typeA typeA typeA typeA typeA typeA\n",
       "[13] typeA typeA typeA typeA typeA typeA typeB typeB typeB typeB typeB typeB\n",
       "[25] typeB typeB typeB typeC typeB typeB typeB typeC typeC typeB typeB typeC\n",
       "[37] typeB typeB typeB typeB typeB typeB typeC typeB typeC typeB typeB typeB\n",
       "[49] typeC typeB typeB typeC typeC typeB typeB typeC typeB typeC typeC typeB\n",
       "[61] typeC typeC typeB typeC typeC typeB typeC typeC typeC typeC typeC typeC\n",
       "[73] typeC typeC typeC typeC typeC\n",
       "Levels: typeA typeB typeC"
      ]
     },
     "metadata": {},
     "output_type": "display_data"
    }
   ],
   "source": [
    "pred.lda$class"
   ]
  },
  {
   "cell_type": "code",
   "execution_count": 10,
   "metadata": {
    "ExecuteTime": {
     "end_time": "2020-12-02T09:15:59.233373Z",
     "start_time": "2020-12-02T09:15:56.663Z"
    }
   },
   "outputs": [
    {
     "data": {
      "text/html": [
       "<table>\n",
       "<caption>A matrix: 6 × 3 of type dbl</caption>\n",
       "<thead>\n",
       "\t<tr><th></th><th scope=col>typeA</th><th scope=col>typeB</th><th scope=col>typeC</th></tr>\n",
       "</thead>\n",
       "<tbody>\n",
       "\t<tr><th scope=row>1</th><td>0.9999932</td><td>4.878233e-06</td><td>1.882559e-06</td></tr>\n",
       "\t<tr><th scope=row>2</th><td>0.9999838</td><td>1.104519e-05</td><td>5.137599e-06</td></tr>\n",
       "\t<tr><th scope=row>3</th><td>0.9998621</td><td>1.216151e-04</td><td>1.626668e-05</td></tr>\n",
       "\t<tr><th scope=row>4</th><td>0.9999067</td><td>3.768926e-05</td><td>5.562616e-05</td></tr>\n",
       "\t<tr><th scope=row>5</th><td>0.9993267</td><td>5.527433e-04</td><td>1.205654e-04</td></tr>\n",
       "\t<tr><th scope=row>6</th><td>0.9999181</td><td>7.058307e-05</td><td>1.131889e-05</td></tr>\n",
       "</tbody>\n",
       "</table>\n"
      ],
      "text/latex": [
       "A matrix: 6 × 3 of type dbl\n",
       "\\begin{tabular}{r|lll}\n",
       "  & typeA & typeB & typeC\\\\\n",
       "\\hline\n",
       "\t1 & 0.9999932 & 4.878233e-06 & 1.882559e-06\\\\\n",
       "\t2 & 0.9999838 & 1.104519e-05 & 5.137599e-06\\\\\n",
       "\t3 & 0.9998621 & 1.216151e-04 & 1.626668e-05\\\\\n",
       "\t4 & 0.9999067 & 3.768926e-05 & 5.562616e-05\\\\\n",
       "\t5 & 0.9993267 & 5.527433e-04 & 1.205654e-04\\\\\n",
       "\t6 & 0.9999181 & 7.058307e-05 & 1.131889e-05\\\\\n",
       "\\end{tabular}\n"
      ],
      "text/markdown": [
       "\n",
       "A matrix: 6 × 3 of type dbl\n",
       "\n",
       "| <!--/--> | typeA | typeB | typeC |\n",
       "|---|---|---|---|\n",
       "| 1 | 0.9999932 | 4.878233e-06 | 1.882559e-06 |\n",
       "| 2 | 0.9999838 | 1.104519e-05 | 5.137599e-06 |\n",
       "| 3 | 0.9998621 | 1.216151e-04 | 1.626668e-05 |\n",
       "| 4 | 0.9999067 | 3.768926e-05 | 5.562616e-05 |\n",
       "| 5 | 0.9993267 | 5.527433e-04 | 1.205654e-04 |\n",
       "| 6 | 0.9999181 | 7.058307e-05 | 1.131889e-05 |\n",
       "\n"
      ],
      "text/plain": [
       "  typeA     typeB        typeC       \n",
       "1 0.9999932 4.878233e-06 1.882559e-06\n",
       "2 0.9999838 1.104519e-05 5.137599e-06\n",
       "3 0.9998621 1.216151e-04 1.626668e-05\n",
       "4 0.9999067 3.768926e-05 5.562616e-05\n",
       "5 0.9993267 5.527433e-04 1.205654e-04\n",
       "6 0.9999181 7.058307e-05 1.131889e-05"
      ]
     },
     "metadata": {},
     "output_type": "display_data"
    }
   ],
   "source": [
    "head(pred.lda$posterior)"
   ]
  },
  {
   "cell_type": "markdown",
   "metadata": {},
   "source": [
    "예를 들어 1번 개체는 typeA일 사후확률이 0.99이므로 typeA로 판별한다."
   ]
  },
  {
   "cell_type": "code",
   "execution_count": 11,
   "metadata": {
    "ExecuteTime": {
     "end_time": "2020-12-02T09:15:59.277465Z",
     "start_time": "2020-12-02T09:15:56.668Z"
    }
   },
   "outputs": [
    {
     "data": {
      "text/plain": [
       "       \n",
       "        typeA typeB typeC\n",
       "  typeA    18     0     0\n",
       "  typeB     0    23     6\n",
       "  typeC     0     9    21"
      ]
     },
     "metadata": {},
     "output_type": "display_data"
    }
   ],
   "source": [
    "confm.lda = table(data$TYPE, pred.lda$class)\n",
    "confm.lda"
   ]
  },
  {
   "cell_type": "markdown",
   "metadata": {},
   "source": [
    "관측값과 class를 교차하여 confusion matrix를 그려준다."
   ]
  },
  {
   "cell_type": "code",
   "execution_count": 12,
   "metadata": {
    "ExecuteTime": {
     "end_time": "2020-12-02T09:15:59.316799Z",
     "start_time": "2020-12-02T09:15:56.672Z"
    }
   },
   "outputs": [
    {
     "data": {
      "text/html": [
       "0.194805194805195"
      ],
      "text/latex": [
       "0.194805194805195"
      ],
      "text/markdown": [
       "0.194805194805195"
      ],
      "text/plain": [
       "[1] 0.1948052"
      ]
     },
     "metadata": {},
     "output_type": "display_data"
    }
   ],
   "source": [
    "error = 1-sum(diag(confm.lda))/sum(confm.lda)\n",
    "error"
   ]
  },
  {
   "cell_type": "markdown",
   "metadata": {},
   "source": [
    "잘못 분류된 오류들을 혼돈행렬을 통해 계산한다."
   ]
  },
  {
   "cell_type": "markdown",
   "metadata": {},
   "source": [
    "## 변수 선택"
   ]
  },
  {
   "cell_type": "code",
   "execution_count": 32,
   "metadata": {
    "ExecuteTime": {
     "end_time": "2020-12-02T09:33:59.918581Z",
     "start_time": "2020-12-02T09:33:59.885Z"
    }
   },
   "outputs": [],
   "source": [
    "library(klaR)"
   ]
  },
  {
   "cell_type": "code",
   "execution_count": 33,
   "metadata": {
    "ExecuteTime": {
     "end_time": "2020-12-02T09:34:00.196534Z",
     "start_time": "2020-12-02T09:34:00.099Z"
    }
   },
   "outputs": [],
   "source": [
    "data.forward = greedy.wilks(TYPE~.,data = data, niveau = 0.01)"
   ]
  },
  {
   "cell_type": "code",
   "execution_count": 34,
   "metadata": {
    "ExecuteTime": {
     "end_time": "2020-12-02T09:34:00.365690Z",
     "start_time": "2020-12-02T09:34:00.331Z"
    }
   },
   "outputs": [
    {
     "data": {
      "text/plain": [
       "Formula containing included variables: \n",
       "\n",
       "TYPE ~ BU1 + MEPR + MEOH\n",
       "<environment: 0x55ef7a9a43a8>\n",
       "\n",
       "\n",
       "Values calculated in each step of the selection procedure: \n",
       "\n",
       "  vars Wilks.lambda F.statistics.overall p.value.overall F.statistics.diff\n",
       "1  BU1    0.2989919             86.74917    3.975561e-20         86.749173\n",
       "2 MEPR    0.2489312             36.65654    3.402765e-21          7.340239\n",
       "3 MEOH    0.2012539             29.49819    7.226240e-23          8.528444\n",
       "  p.value.diff\n",
       "1 3.975561e-20\n",
       "2 1.235768e-03\n",
       "3 4.692630e-04"
      ]
     },
     "metadata": {},
     "output_type": "display_data"
    }
   ],
   "source": [
    "data.forward"
   ]
  },
  {
   "cell_type": "markdown",
   "metadata": {},
   "source": [
    "검정 결과 유의한 변수들을 선택함 niveau에 유의수준 "
   ]
  },
  {
   "cell_type": "code",
   "execution_count": 35,
   "metadata": {
    "ExecuteTime": {
     "end_time": "2020-12-02T09:34:00.809141Z",
     "start_time": "2020-12-02T09:34:00.755Z"
    }
   },
   "outputs": [
    {
     "data": {
      "text/plain": [
       "Call:\n",
       "lda(data.forward$formula, data = data)\n",
       "\n",
       "Prior probabilities of groups:\n",
       "    typeA     typeB     typeC \n",
       "0.2337662 0.3766234 0.3896104 \n",
       "\n",
       "Group means:\n",
       "            BU1     MEPR      MEOH\n",
       "typeA  1.511111 32.06667  378.6944\n",
       "typeB 17.906897 30.55172  939.1379\n",
       "typeC 19.620000 43.00000 1035.4000\n",
       "\n",
       "Coefficients of linear discriminants:\n",
       "              LD1           LD2\n",
       "BU1   0.149874251 -0.0313069489\n",
       "MEPR -0.025447467  0.0759388778\n",
       "MEOH  0.002809521  0.0002065334\n",
       "\n",
       "Proportion of trace:\n",
       "   LD1    LD2 \n",
       "0.9516 0.0484 "
      ]
     },
     "metadata": {},
     "output_type": "display_data"
    }
   ],
   "source": [
    "data.fwd.lda = lda(data.forward$formula, data = data)\n",
    "data.fwd.lda"
   ]
  },
  {
   "cell_type": "code",
   "execution_count": 36,
   "metadata": {
    "ExecuteTime": {
     "end_time": "2020-12-02T09:34:01.048345Z",
     "start_time": "2020-12-02T09:34:01.003Z"
    }
   },
   "outputs": [],
   "source": [
    "pred.fwd.lda = predict(data.fwd.lda, newdata = data)"
   ]
  },
  {
   "cell_type": "code",
   "execution_count": 37,
   "metadata": {
    "ExecuteTime": {
     "end_time": "2020-12-02T09:34:01.318231Z",
     "start_time": "2020-12-02T09:34:01.276Z"
    }
   },
   "outputs": [
    {
     "data": {
      "text/plain": [
       "       \n",
       "        typeA typeB typeC\n",
       "  typeA    18     0     0\n",
       "  typeB     0    22     7\n",
       "  typeC     1    12    17"
      ]
     },
     "metadata": {},
     "output_type": "display_data"
    }
   ],
   "source": [
    "confm.fwd = table(data$TYPE, pred.fwd.lda$class)\n",
    "confm.fwd"
   ]
  },
  {
   "cell_type": "code",
   "execution_count": 38,
   "metadata": {
    "ExecuteTime": {
     "end_time": "2020-12-02T09:34:04.175075Z",
     "start_time": "2020-12-02T09:34:04.132Z"
    }
   },
   "outputs": [
    {
     "data": {
      "text/html": [
       "0.25974025974026"
      ],
      "text/latex": [
       "0.25974025974026"
      ],
      "text/markdown": [
       "0.25974025974026"
      ],
      "text/plain": [
       "[1] 0.2597403"
      ]
     },
     "metadata": {},
     "output_type": "display_data"
    }
   ],
   "source": [
    "error = 1-sum(diag(confm.fwd))/sum(confm.fwd)\n",
    "error"
   ]
  },
  {
   "cell_type": "markdown",
   "metadata": {},
   "source": [
    "에러가 더 늘었음"
   ]
  },
  {
   "cell_type": "markdown",
   "metadata": {},
   "source": [
    "## 분류함수 계수 구하기"
   ]
  },
  {
   "cell_type": "code",
   "execution_count": 47,
   "metadata": {
    "ExecuteTime": {
     "end_time": "2020-12-02T09:39:32.060097Z",
     "start_time": "2020-12-02T09:39:31.988Z"
    }
   },
   "outputs": [],
   "source": [
    "source(\"mvadata/classFunc.r\")"
   ]
  },
  {
   "cell_type": "markdown",
   "metadata": {},
   "source": [
    "classFunc 소스 불러오기"
   ]
  },
  {
   "cell_type": "code",
   "execution_count": 48,
   "metadata": {
    "ExecuteTime": {
     "end_time": "2020-12-02T09:39:38.155422Z",
     "start_time": "2020-12-02T09:39:38.131Z"
    }
   },
   "outputs": [],
   "source": [
    "X = data[, -1]"
   ]
  },
  {
   "cell_type": "code",
   "execution_count": 49,
   "metadata": {
    "ExecuteTime": {
     "end_time": "2020-12-02T09:39:38.708665Z",
     "start_time": "2020-12-02T09:39:38.620Z"
    }
   },
   "outputs": [],
   "source": [
    "classfunc.result = classfunc.lda(X, data$TYPE)"
   ]
  },
  {
   "cell_type": "code",
   "execution_count": 50,
   "metadata": {
    "ExecuteTime": {
     "end_time": "2020-12-02T09:40:21.762110Z",
     "start_time": "2020-12-02T09:40:21.724Z"
    }
   },
   "outputs": [
    {
     "data": {
      "text/html": [
       "<ol class=list-inline>\n",
       "\t<li>'prior'</li>\n",
       "\t<li>'counts'</li>\n",
       "\t<li>'means'</li>\n",
       "\t<li>'scaling'</li>\n",
       "\t<li>'lev'</li>\n",
       "\t<li>'svd'</li>\n",
       "\t<li>'N'</li>\n",
       "\t<li>'call'</li>\n",
       "\t<li>'terms'</li>\n",
       "\t<li>'xlevels'</li>\n",
       "\t<li>'class.func'</li>\n",
       "</ol>\n"
      ],
      "text/latex": [
       "\\begin{enumerate*}\n",
       "\\item 'prior'\n",
       "\\item 'counts'\n",
       "\\item 'means'\n",
       "\\item 'scaling'\n",
       "\\item 'lev'\n",
       "\\item 'svd'\n",
       "\\item 'N'\n",
       "\\item 'call'\n",
       "\\item 'terms'\n",
       "\\item 'xlevels'\n",
       "\\item 'class.func'\n",
       "\\end{enumerate*}\n"
      ],
      "text/markdown": [
       "1. 'prior'\n",
       "2. 'counts'\n",
       "3. 'means'\n",
       "4. 'scaling'\n",
       "5. 'lev'\n",
       "6. 'svd'\n",
       "7. 'N'\n",
       "8. 'call'\n",
       "9. 'terms'\n",
       "10. 'xlevels'\n",
       "11. 'class.func'\n",
       "\n",
       "\n"
      ],
      "text/plain": [
       " [1] \"prior\"      \"counts\"     \"means\"      \"scaling\"    \"lev\"       \n",
       " [6] \"svd\"        \"N\"          \"call\"       \"terms\"      \"xlevels\"   \n",
       "[11] \"class.func\""
      ]
     },
     "metadata": {},
     "output_type": "display_data"
    }
   ],
   "source": [
    "names(classfunc.result)"
   ]
  },
  {
   "cell_type": "code",
   "execution_count": 52,
   "metadata": {
    "ExecuteTime": {
     "end_time": "2020-12-02T09:40:44.214488Z",
     "start_time": "2020-12-02T09:40:44.164Z"
    }
   },
   "outputs": [
    {
     "data": {
      "text/html": [
       "<table>\n",
       "<caption>A matrix: 7 × 3 of type dbl</caption>\n",
       "<thead>\n",
       "\t<tr><th></th><th scope=col>typeA</th><th scope=col>typeB</th><th scope=col>typeC</th></tr>\n",
       "</thead>\n",
       "<tbody>\n",
       "\t<tr><th scope=row>constant</th><td>-2.468616e+01</td><td>-25.14175440</td><td>-29.631643758</td></tr>\n",
       "\t<tr><th scope=row>MEOH</th><td> 6.590818e-04</td><td>  0.01520849</td><td>  0.016407192</td></tr>\n",
       "\t<tr><th scope=row>ACET</th><td> 4.449847e-04</td><td>  0.00494391</td><td> -0.003769616</td></tr>\n",
       "\t<tr><th scope=row>BU1</th><td>-3.934206e-02</td><td>  0.55665395</td><td>  0.553048496</td></tr>\n",
       "\t<tr><th scope=row>MEPR</th><td> 1.868923e-01</td><td>  0.03590143</td><td>  0.102270552</td></tr>\n",
       "\t<tr><th scope=row>ACAL</th><td> 3.917393e-02</td><td> -0.16088059</td><td> -0.127328438</td></tr>\n",
       "\t<tr><th scope=row>LNPRO1</th><td> 6.378935e+00</td><td>  4.86936954</td><td>  5.341430073</td></tr>\n",
       "</tbody>\n",
       "</table>\n"
      ],
      "text/latex": [
       "A matrix: 7 × 3 of type dbl\n",
       "\\begin{tabular}{r|lll}\n",
       "  & typeA & typeB & typeC\\\\\n",
       "\\hline\n",
       "\tconstant & -2.468616e+01 & -25.14175440 & -29.631643758\\\\\n",
       "\tMEOH &  6.590818e-04 &   0.01520849 &   0.016407192\\\\\n",
       "\tACET &  4.449847e-04 &   0.00494391 &  -0.003769616\\\\\n",
       "\tBU1 & -3.934206e-02 &   0.55665395 &   0.553048496\\\\\n",
       "\tMEPR &  1.868923e-01 &   0.03590143 &   0.102270552\\\\\n",
       "\tACAL &  3.917393e-02 &  -0.16088059 &  -0.127328438\\\\\n",
       "\tLNPRO1 &  6.378935e+00 &   4.86936954 &   5.341430073\\\\\n",
       "\\end{tabular}\n"
      ],
      "text/markdown": [
       "\n",
       "A matrix: 7 × 3 of type dbl\n",
       "\n",
       "| <!--/--> | typeA | typeB | typeC |\n",
       "|---|---|---|---|\n",
       "| constant | -2.468616e+01 | -25.14175440 | -29.631643758 |\n",
       "| MEOH |  6.590818e-04 |   0.01520849 |   0.016407192 |\n",
       "| ACET |  4.449847e-04 |   0.00494391 |  -0.003769616 |\n",
       "| BU1 | -3.934206e-02 |   0.55665395 |   0.553048496 |\n",
       "| MEPR |  1.868923e-01 |   0.03590143 |   0.102270552 |\n",
       "| ACAL |  3.917393e-02 |  -0.16088059 |  -0.127328438 |\n",
       "| LNPRO1 |  6.378935e+00 |   4.86936954 |   5.341430073 |\n",
       "\n"
      ],
      "text/plain": [
       "         typeA         typeB        typeC        \n",
       "constant -2.468616e+01 -25.14175440 -29.631643758\n",
       "MEOH      6.590818e-04   0.01520849   0.016407192\n",
       "ACET      4.449847e-04   0.00494391  -0.003769616\n",
       "BU1      -3.934206e-02   0.55665395   0.553048496\n",
       "MEPR      1.868923e-01   0.03590143   0.102270552\n",
       "ACAL      3.917393e-02  -0.16088059  -0.127328438\n",
       "LNPRO1    6.378935e+00   4.86936954   5.341430073"
      ]
     },
     "metadata": {},
     "output_type": "display_data"
    }
   ],
   "source": [
    "classfunc.result$class.func"
   ]
  },
  {
   "cell_type": "code",
   "execution_count": 56,
   "metadata": {
    "ExecuteTime": {
     "end_time": "2020-12-02T09:44:13.798791Z",
     "start_time": "2020-12-02T09:44:13.773Z"
    }
   },
   "outputs": [],
   "source": [
    "id1 = c(1, 3, 15, 0.2, 9, 9, 5.86)"
   ]
  },
  {
   "cell_type": "code",
   "execution_count": 57,
   "metadata": {
    "ExecuteTime": {
     "end_time": "2020-12-02T09:44:14.444829Z",
     "start_time": "2020-12-02T09:44:14.420Z"
    }
   },
   "outputs": [],
   "source": [
    "lda.value = id1 * classfunc.result$class.func"
   ]
  },
  {
   "cell_type": "code",
   "execution_count": 58,
   "metadata": {
    "ExecuteTime": {
     "end_time": "2020-12-02T09:44:15.296171Z",
     "start_time": "2020-12-02T09:44:15.261Z"
    }
   },
   "outputs": [
    {
     "data": {
      "text/html": [
       "<dl class=dl-horizontal>\n",
       "\t<dt>typeA</dt>\n",
       "\t\t<dd>14.7297743249702</dd>\n",
       "\t<dt>typeB</dt>\n",
       "\t\t<dd>2.49905365195002</dd>\n",
       "\t<dt>typeC</dt>\n",
       "\t\t<dd>1.54690253170461</dd>\n",
       "</dl>\n"
      ],
      "text/latex": [
       "\\begin{description*}\n",
       "\\item[typeA] 14.7297743249702\n",
       "\\item[typeB] 2.49905365195002\n",
       "\\item[typeC] 1.54690253170461\n",
       "\\end{description*}\n"
      ],
      "text/markdown": [
       "typeA\n",
       ":   14.7297743249702typeB\n",
       ":   2.49905365195002typeC\n",
       ":   1.54690253170461\n",
       "\n"
      ],
      "text/plain": [
       "    typeA     typeB     typeC \n",
       "14.729774  2.499054  1.546903 "
      ]
     },
     "metadata": {},
     "output_type": "display_data"
    }
   ],
   "source": [
    "apply(lda.value, 2, sum)"
   ]
  },
  {
   "cell_type": "markdown",
   "metadata": {},
   "source": [
    "첫 개체의 판별함수의 계수가 나오게 됨 이 경우는 typeA가 크므로 typeA"
   ]
  }
 ],
 "metadata": {
  "kernelspec": {
   "display_name": "R",
   "language": "R",
   "name": "ir"
  },
  "language_info": {
   "codemirror_mode": "r",
   "file_extension": ".r",
   "mimetype": "text/x-r-source",
   "name": "R",
   "pygments_lexer": "r",
   "version": "3.6.3"
  },
  "toc": {
   "base_numbering": 1,
   "nav_menu": {},
   "number_sections": true,
   "sideBar": true,
   "skip_h1_title": false,
   "title_cell": "Table of Contents",
   "title_sidebar": "Contents",
   "toc_cell": false,
   "toc_position": {},
   "toc_section_display": true,
   "toc_window_display": false
  }
 },
 "nbformat": 4,
 "nbformat_minor": 4
}
