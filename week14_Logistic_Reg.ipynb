{
 "cells": [
  {
   "cell_type": "markdown",
   "metadata": {},
   "source": [
    "# 로지스틱 회귀분석"
   ]
  },
  {
   "cell_type": "markdown",
   "metadata": {},
   "source": [
    "판별분석은 독립변수들이 다변량 정규분포를 따라야 한다는 가정이 필요하다.<br>\n",
    "따라서 독립변수들이 이러한 가정을 따르지 않고 이산형과 연속형의 혼합인 경우 classification에 적합한 것이 로지스틱 회귀이다. "
   ]
  },
  {
   "cell_type": "markdown",
   "metadata": {},
   "source": [
    "$$0 < p < 1$$"
   ]
  },
  {
   "cell_type": "markdown",
   "metadata": {},
   "source": [
    "$$0 < \\frac{p}{1-p} < \\infty$$"
   ]
  },
  {
   "cell_type": "markdown",
   "metadata": {},
   "source": [
    "로그를 씌우면"
   ]
  },
  {
   "cell_type": "markdown",
   "metadata": {},
   "source": [
    "$$-\\infty < log(\\frac{p}{1-p}) < \\infty$$"
   ]
  },
  {
   "cell_type": "markdown",
   "metadata": {},
   "source": [
    "$$\\hat{y} = log(\\frac{p}{1-p}) = \\beta_0 + \\beta_1x$$"
   ]
  },
  {
   "cell_type": "markdown",
   "metadata": {},
   "source": [
    "$$p = {e^{\\beta_0+\\beta_1x} \\over 1 + e^{\\beta_0+\\beta_1x}}$$"
   ]
  },
  {
   "cell_type": "markdown",
   "metadata": {},
   "source": [
    "이 때 x를 x축 p를 y축으로 하여 그래프를 그리면"
   ]
  },
  {
   "cell_type": "markdown",
   "metadata": {},
   "source": [
    "x와 p는 s자 형태의 로지스틱 함수 모양을 그리게 된다."
   ]
  },
  {
   "cell_type": "markdown",
   "metadata": {},
   "source": [
    "여기서 $\\frac{p}{1-p}$를 오즈 odds라고 하며 개체와 개체의 오즈의 비를 살펴 보게 된다."
   ]
  },
  {
   "cell_type": "markdown",
   "metadata": {},
   "source": [
    "$$OddsRate = \\frac{\\frac{1-p_i}{p_i}}{\\frac{1-p_j}{p_j}}$$"
   ]
  },
  {
   "cell_type": "markdown",
   "metadata": {},
   "source": [
    "## 예제"
   ]
  },
  {
   "cell_type": "markdown",
   "metadata": {},
   "source": [
    "### 약 "
   ]
  },
  {
   "cell_type": "code",
   "execution_count": 1,
   "metadata": {
    "ExecuteTime": {
     "end_time": "2020-12-05T07:32:45.644479Z",
     "start_time": "2020-12-05T07:32:44.429Z"
    }
   },
   "outputs": [],
   "source": [
    "library(xlsx)"
   ]
  },
  {
   "cell_type": "code",
   "execution_count": 3,
   "metadata": {
    "ExecuteTime": {
     "end_time": "2020-12-05T07:34:07.467934Z",
     "start_time": "2020-12-05T07:34:05.796Z"
    }
   },
   "outputs": [],
   "source": [
    "drug.data <- read.xlsx(\"mvadata/drug.xlsx\", sheetIndex = 1)"
   ]
  },
  {
   "cell_type": "code",
   "execution_count": 4,
   "metadata": {
    "ExecuteTime": {
     "end_time": "2020-12-05T07:34:12.388512Z",
     "start_time": "2020-12-05T07:34:12.356Z"
    }
   },
   "outputs": [
    {
     "name": "stdout",
     "output_type": "stream",
     "text": [
      "'data.frame':\t100 obs. of  3 variables:\n",
      " $ id      : num  1 2 3 4 5 6 7 8 9 10 ...\n",
      " $ age     : num  20 23 24 25 26 27 27 28 29 29 ...\n",
      " $ purchase: num  0 0 0 1 0 0 0 0 0 0 ...\n"
     ]
    }
   ],
   "source": [
    "str(drug.data)"
   ]
  },
  {
   "cell_type": "code",
   "execution_count": 5,
   "metadata": {
    "ExecuteTime": {
     "end_time": "2020-12-05T07:34:23.941180Z",
     "start_time": "2020-12-05T07:34:23.917Z"
    }
   },
   "outputs": [],
   "source": [
    "attach(drug.data)"
   ]
  },
  {
   "cell_type": "code",
   "execution_count": 6,
   "metadata": {
    "ExecuteTime": {
     "end_time": "2020-12-05T07:34:40.404664Z",
     "start_time": "2020-12-05T07:34:39.741Z"
    }
   },
   "outputs": [
    {
     "data": {
      "image/png": "[encoded data removed]",
      "text/plain": [
       "plot without title"
      ]
     },
     "metadata": {
      "image/png": {
       "height": 420,
       "width": 420
      }
     },
     "output_type": "display_data"
    }
   ],
   "source": [
    "plot(age, purchase, pch = 19)"
   ]
  },
  {
   "cell_type": "code",
   "execution_count": 7,
   "metadata": {
    "ExecuteTime": {
     "end_time": "2020-12-05T07:39:32.740982Z",
     "start_time": "2020-12-05T07:39:32.717Z"
    }
   },
   "outputs": [],
   "source": [
    "agr = cut(age, breaks = c(20, 30, 35, 40, 45, 50, 55, 60, 65), include.lowest = T,\n",
    "         right = F, labels = c(1, 2, 3, 4, 5, 6, 7, 8))"
   ]
  },
  {
   "cell_type": "code",
   "execution_count": 8,
   "metadata": {
    "ExecuteTime": {
     "end_time": "2020-12-05T07:39:40.140911Z",
     "start_time": "2020-12-05T07:39:40.108Z"
    }
   },
   "outputs": [
    {
     "data": {
      "text/html": [
       "<ol class=list-inline>\n",
       "\t<li>1</li>\n",
       "\t<li>1</li>\n",
       "\t<li>1</li>\n",
       "\t<li>1</li>\n",
       "\t<li>1</li>\n",
       "\t<li>1</li>\n",
       "\t<li>1</li>\n",
       "\t<li>1</li>\n",
       "\t<li>1</li>\n",
       "\t<li>1</li>\n",
       "\t<li>2</li>\n",
       "\t<li>2</li>\n",
       "\t<li>2</li>\n",
       "\t<li>2</li>\n",
       "\t<li>2</li>\n",
       "\t<li>2</li>\n",
       "\t<li>2</li>\n",
       "\t<li>2</li>\n",
       "\t<li>2</li>\n",
       "\t<li>2</li>\n",
       "\t<li>2</li>\n",
       "\t<li>2</li>\n",
       "\t<li>2</li>\n",
       "\t<li>2</li>\n",
       "\t<li>2</li>\n",
       "\t<li>3</li>\n",
       "\t<li>3</li>\n",
       "\t<li>3</li>\n",
       "\t<li>3</li>\n",
       "\t<li>3</li>\n",
       "\t<li>3</li>\n",
       "\t<li>3</li>\n",
       "\t<li>3</li>\n",
       "\t<li>3</li>\n",
       "\t<li>3</li>\n",
       "\t<li>3</li>\n",
       "\t<li>3</li>\n",
       "\t<li>4</li>\n",
       "\t<li>4</li>\n",
       "\t<li>4</li>\n",
       "\t<li>4</li>\n",
       "\t<li>4</li>\n",
       "\t<li>4</li>\n",
       "\t<li>4</li>\n",
       "\t<li>4</li>\n",
       "\t<li>4</li>\n",
       "\t<li>4</li>\n",
       "\t<li>4</li>\n",
       "\t<li>4</li>\n",
       "\t<li>4</li>\n",
       "\t<li>4</li>\n",
       "\t<li>4</li>\n",
       "\t<li>5</li>\n",
       "\t<li>5</li>\n",
       "\t<li>5</li>\n",
       "\t<li>5</li>\n",
       "\t<li>5</li>\n",
       "\t<li>5</li>\n",
       "\t<li>5</li>\n",
       "\t<li>5</li>\n",
       "\t<li>5</li>\n",
       "\t<li>5</li>\n",
       "\t<li>5</li>\n",
       "\t<li>5</li>\n",
       "\t<li>5</li>\n",
       "\t<li>6</li>\n",
       "\t<li>6</li>\n",
       "\t<li>6</li>\n",
       "\t<li>6</li>\n",
       "\t<li>6</li>\n",
       "\t<li>6</li>\n",
       "\t<li>6</li>\n",
       "\t<li>6</li>\n",
       "\t<li>7</li>\n",
       "\t<li>7</li>\n",
       "\t<li>7</li>\n",
       "\t<li>7</li>\n",
       "\t<li>7</li>\n",
       "\t<li>7</li>\n",
       "\t<li>7</li>\n",
       "\t<li>7</li>\n",
       "\t<li>7</li>\n",
       "\t<li>7</li>\n",
       "\t<li>7</li>\n",
       "\t<li>7</li>\n",
       "\t<li>7</li>\n",
       "\t<li>7</li>\n",
       "\t<li>7</li>\n",
       "\t<li>7</li>\n",
       "\t<li>7</li>\n",
       "\t<li>8</li>\n",
       "\t<li>8</li>\n",
       "\t<li>8</li>\n",
       "\t<li>8</li>\n",
       "\t<li>8</li>\n",
       "\t<li>8</li>\n",
       "\t<li>8</li>\n",
       "\t<li>8</li>\n",
       "\t<li>8</li>\n",
       "\t<li>8</li>\n",
       "</ol>\n",
       "\n",
       "<details>\n",
       "\t<summary style=display:list-item;cursor:pointer>\n",
       "\t\t<strong>Levels</strong>:\n",
       "\t</summary>\n",
       "\t<ol class=list-inline>\n",
       "\t\t<li>'1'</li>\n",
       "\t\t<li>'2'</li>\n",
       "\t\t<li>'3'</li>\n",
       "\t\t<li>'4'</li>\n",
       "\t\t<li>'5'</li>\n",
       "\t\t<li>'6'</li>\n",
       "\t\t<li>'7'</li>\n",
       "\t\t<li>'8'</li>\n",
       "\t</ol>\n",
       "</details>"
      ],
      "text/latex": [
       "\\begin{enumerate*}\n",
       "\\item 1\n",
       "\\item 1\n",
       "\\item 1\n",
       "\\item 1\n",
       "\\item 1\n",
       "\\item 1\n",
       "\\item 1\n",
       "\\item 1\n",
       "\\item 1\n",
       "\\item 1\n",
       "\\item 2\n",
       "\\item 2\n",
       "\\item 2\n",
       "\\item 2\n",
       "\\item 2\n",
       "\\item 2\n",
       "\\item 2\n",
       "\\item 2\n",
       "\\item 2\n",
       "\\item 2\n",
       "\\item 2\n",
       "\\item 2\n",
       "\\item 2\n",
       "\\item 2\n",
       "\\item 2\n",
       "\\item 3\n",
       "\\item 3\n",
       "\\item 3\n",
       "\\item 3\n",
       "\\item 3\n",
       "\\item 3\n",
       "\\item 3\n",
       "\\item 3\n",
       "\\item 3\n",
       "\\item 3\n",
       "\\item 3\n",
       "\\item 3\n",
       "\\item 4\n",
       "\\item 4\n",
       "\\item 4\n",
       "\\item 4\n",
       "\\item 4\n",
       "\\item 4\n",
       "\\item 4\n",
       "\\item 4\n",
       "\\item 4\n",
       "\\item 4\n",
       "\\item 4\n",
       "\\item 4\n",
       "\\item 4\n",
       "\\item 4\n",
       "\\item 4\n",
       "\\item 5\n",
       "\\item 5\n",
       "\\item 5\n",
       "\\item 5\n",
       "\\item 5\n",
       "\\item 5\n",
       "\\item 5\n",
       "\\item 5\n",
       "\\item 5\n",
       "\\item 5\n",
       "\\item 5\n",
       "\\item 5\n",
       "\\item 5\n",
       "\\item 6\n",
       "\\item 6\n",
       "\\item 6\n",
       "\\item 6\n",
       "\\item 6\n",
       "\\item 6\n",
       "\\item 6\n",
       "\\item 6\n",
       "\\item 7\n",
       "\\item 7\n",
       "\\item 7\n",
       "\\item 7\n",
       "\\item 7\n",
       "\\item 7\n",
       "\\item 7\n",
       "\\item 7\n",
       "\\item 7\n",
       "\\item 7\n",
       "\\item 7\n",
       "\\item 7\n",
       "\\item 7\n",
       "\\item 7\n",
       "\\item 7\n",
       "\\item 7\n",
       "\\item 7\n",
       "\\item 8\n",
       "\\item 8\n",
       "\\item 8\n",
       "\\item 8\n",
       "\\item 8\n",
       "\\item 8\n",
       "\\item 8\n",
       "\\item 8\n",
       "\\item 8\n",
       "\\item 8\n",
       "\\end{enumerate*}\n",
       "\n",
       "\\emph{Levels}: \\begin{enumerate*}\n",
       "\\item '1'\n",
       "\\item '2'\n",
       "\\item '3'\n",
       "\\item '4'\n",
       "\\item '5'\n",
       "\\item '6'\n",
       "\\item '7'\n",
       "\\item '8'\n",
       "\\end{enumerate*}\n"
      ],
      "text/markdown": [
       "1. 1\n",
       "2. 1\n",
       "3. 1\n",
       "4. 1\n",
       "5. 1\n",
       "6. 1\n",
       "7. 1\n",
       "8. 1\n",
       "9. 1\n",
       "10. 1\n",
       "11. 2\n",
       "12. 2\n",
       "13. 2\n",
       "14. 2\n",
       "15. 2\n",
       "16. 2\n",
       "17. 2\n",
       "18. 2\n",
       "19. 2\n",
       "20. 2\n",
       "21. 2\n",
       "22. 2\n",
       "23. 2\n",
       "24. 2\n",
       "25. 2\n",
       "26. 3\n",
       "27. 3\n",
       "28. 3\n",
       "29. 3\n",
       "30. 3\n",
       "31. 3\n",
       "32. 3\n",
       "33. 3\n",
       "34. 3\n",
       "35. 3\n",
       "36. 3\n",
       "37. 3\n",
       "38. 4\n",
       "39. 4\n",
       "40. 4\n",
       "41. 4\n",
       "42. 4\n",
       "43. 4\n",
       "44. 4\n",
       "45. 4\n",
       "46. 4\n",
       "47. 4\n",
       "48. 4\n",
       "49. 4\n",
       "50. 4\n",
       "51. 4\n",
       "52. 4\n",
       "53. 5\n",
       "54. 5\n",
       "55. 5\n",
       "56. 5\n",
       "57. 5\n",
       "58. 5\n",
       "59. 5\n",
       "60. 5\n",
       "61. 5\n",
       "62. 5\n",
       "63. 5\n",
       "64. 5\n",
       "65. 5\n",
       "66. 6\n",
       "67. 6\n",
       "68. 6\n",
       "69. 6\n",
       "70. 6\n",
       "71. 6\n",
       "72. 6\n",
       "73. 6\n",
       "74. 7\n",
       "75. 7\n",
       "76. 7\n",
       "77. 7\n",
       "78. 7\n",
       "79. 7\n",
       "80. 7\n",
       "81. 7\n",
       "82. 7\n",
       "83. 7\n",
       "84. 7\n",
       "85. 7\n",
       "86. 7\n",
       "87. 7\n",
       "88. 7\n",
       "89. 7\n",
       "90. 7\n",
       "91. 8\n",
       "92. 8\n",
       "93. 8\n",
       "94. 8\n",
       "95. 8\n",
       "96. 8\n",
       "97. 8\n",
       "98. 8\n",
       "99. 8\n",
       "100. 8\n",
       "\n",
       "\n",
       "\n",
       "**Levels**: 1. '1'\n",
       "2. '2'\n",
       "3. '3'\n",
       "4. '4'\n",
       "5. '5'\n",
       "6. '6'\n",
       "7. '7'\n",
       "8. '8'\n",
       "\n",
       "\n"
      ],
      "text/plain": [
       "  [1] 1 1 1 1 1 1 1 1 1 1 2 2 2 2 2 2 2 2 2 2 2 2 2 2 2 3 3 3 3 3 3 3 3 3 3 3 3\n",
       " [38] 4 4 4 4 4 4 4 4 4 4 4 4 4 4 4 5 5 5 5 5 5 5 5 5 5 5 5 5 6 6 6 6 6 6 6 6 7\n",
       " [75] 7 7 7 7 7 7 7 7 7 7 7 7 7 7 7 7 8 8 8 8 8 8 8 8 8 8\n",
       "Levels: 1 2 3 4 5 6 7 8"
      ]
     },
     "metadata": {},
     "output_type": "display_data"
    }
   ],
   "source": [
    "agr"
   ]
  },
  {
   "cell_type": "code",
   "execution_count": 9,
   "metadata": {
    "ExecuteTime": {
     "end_time": "2020-12-05T07:40:10.484428Z",
     "start_time": "2020-12-05T07:40:10.461Z"
    }
   },
   "outputs": [],
   "source": [
    "purchase.table <- table(agr, purchase)"
   ]
  },
  {
   "cell_type": "code",
   "execution_count": 10,
   "metadata": {
    "ExecuteTime": {
     "end_time": "2020-12-05T07:40:17.848150Z",
     "start_time": "2020-12-05T07:40:17.812Z"
    }
   },
   "outputs": [
    {
     "data": {
      "text/plain": [
       "   purchase\n",
       "agr  0  1\n",
       "  1  9  1\n",
       "  2 13  2\n",
       "  3  8  4\n",
       "  4  9  6\n",
       "  5  7  6\n",
       "  6  3  5\n",
       "  7  4 13\n",
       "  8  2  8"
      ]
     },
     "metadata": {},
     "output_type": "display_data"
    }
   ],
   "source": [
    "purchase.table"
   ]
  },
  {
   "cell_type": "code",
   "execution_count": 11,
   "metadata": {
    "ExecuteTime": {
     "end_time": "2020-12-05T07:40:52.782820Z",
     "start_time": "2020-12-05T07:40:52.748Z"
    }
   },
   "outputs": [
    {
     "data": {
      "text/plain": [
       "   purchase\n",
       "agr         0         1\n",
       "  1 0.9000000 0.1000000\n",
       "  2 0.8666667 0.1333333\n",
       "  3 0.6666667 0.3333333\n",
       "  4 0.6000000 0.4000000\n",
       "  5 0.5384615 0.4615385\n",
       "  6 0.3750000 0.6250000\n",
       "  7 0.2352941 0.7647059\n",
       "  8 0.2000000 0.8000000"
      ]
     },
     "metadata": {},
     "output_type": "display_data"
    }
   ],
   "source": [
    "percent.table <- prop.table(purchase.table, 1)\n",
    "percent.table"
   ]
  },
  {
   "cell_type": "code",
   "execution_count": 12,
   "metadata": {
    "ExecuteTime": {
     "end_time": "2020-12-05T07:41:20.185779Z",
     "start_time": "2020-12-05T07:41:20.165Z"
    }
   },
   "outputs": [],
   "source": [
    "prc.1 = percent.table[,2]"
   ]
  },
  {
   "cell_type": "code",
   "execution_count": 14,
   "metadata": {
    "ExecuteTime": {
     "end_time": "2020-12-05T07:41:56.833717Z",
     "start_time": "2020-12-05T07:41:56.805Z"
    }
   },
   "outputs": [],
   "source": [
    "agr.1 = as.numeric(rownames(percent.table))"
   ]
  },
  {
   "cell_type": "code",
   "execution_count": 18,
   "metadata": {
    "ExecuteTime": {
     "end_time": "2020-12-05T07:42:26.427592Z",
     "start_time": "2020-12-05T07:42:26.348Z"
    }
   },
   "outputs": [
    {
     "data": {
      "image/png": "[encoded data removed]",
      "text/plain": [
       "plot without title"
      ]
     },
     "metadata": {
      "image/png": {
       "height": 420,
       "width": 420
      }
     },
     "output_type": "display_data"
    }
   ],
   "source": [
    "plot(agr.1, prc.1, pch = 19)"
   ]
  },
  {
   "cell_type": "markdown",
   "metadata": {},
   "source": [
    "로지스틱 함수 형태"
   ]
  },
  {
   "cell_type": "markdown",
   "metadata": {},
   "source": [
    "### 잔디깎기 mower"
   ]
  },
  {
   "cell_type": "code",
   "execution_count": 19,
   "metadata": {
    "ExecuteTime": {
     "end_time": "2020-12-05T07:43:30.425832Z",
     "start_time": "2020-12-05T07:43:30.197Z"
    }
   },
   "outputs": [],
   "source": [
    "mower.data = read.xlsx(\"mvadata/mower.xlsx\", 1)"
   ]
  },
  {
   "cell_type": "code",
   "execution_count": 20,
   "metadata": {
    "ExecuteTime": {
     "end_time": "2020-12-05T07:43:40.046741Z",
     "start_time": "2020-12-05T07:43:40.012Z"
    }
   },
   "outputs": [
    {
     "name": "stdout",
     "output_type": "stream",
     "text": [
      "'data.frame':\t24 obs. of  3 variables:\n",
      " $ owner : Factor w/ 2 levels \"no\",\"yes\": 2 2 2 2 2 2 2 2 2 2 ...\n",
      " $ income: num  20 28.5 21.6 20.5 29 36.7 36 27.6 23 31 ...\n",
      " $ size  : num  9.2 8.4 10.8 10.4 11.8 9.6 8.8 11.2 10 10.4 ...\n"
     ]
    }
   ],
   "source": [
    "str(mower.data)"
   ]
  },
  {
   "cell_type": "code",
   "execution_count": 43,
   "metadata": {
    "ExecuteTime": {
     "end_time": "2020-12-05T08:46:39.764578Z",
     "start_time": "2020-12-05T08:46:39.739Z"
    }
   },
   "outputs": [],
   "source": [
    "mower.logit = glm(owner~., family = binomial, data = mower.data)"
   ]
  },
  {
   "cell_type": "markdown",
   "metadata": {},
   "source": [
    "로지스틱 회귀 함수 glm"
   ]
  },
  {
   "cell_type": "code",
   "execution_count": 44,
   "metadata": {
    "ExecuteTime": {
     "end_time": "2020-12-05T08:46:41.887029Z",
     "start_time": "2020-12-05T08:46:41.860Z"
    }
   },
   "outputs": [
    {
     "data": {
      "text/plain": [
       "\n",
       "Call:\n",
       "glm(formula = owner ~ ., family = binomial, data = mower.data)\n",
       "\n",
       "Deviance Residuals: \n",
       "     Min        1Q    Median        3Q       Max  \n",
       "-1.74044  -0.29685   0.00439   0.44750   1.86821  \n",
       "\n",
       "Coefficients:\n",
       "            Estimate Std. Error z value Pr(>|z|)  \n",
       "(Intercept) -25.9382    11.4871  -2.258   0.0239 *\n",
       "income        0.3326     0.1629   2.042   0.0412 *\n",
       "size          1.9276     0.9256   2.083   0.0373 *\n",
       "---\n",
       "Signif. codes:  0 ‘***’ 0.001 ‘**’ 0.01 ‘*’ 0.05 ‘.’ 0.1 ‘ ’ 1\n",
       "\n",
       "(Dispersion parameter for binomial family taken to be 1)\n",
       "\n",
       "    Null deviance: 33.271  on 23  degrees of freedom\n",
       "Residual deviance: 15.323  on 21  degrees of freedom\n",
       "AIC: 21.323\n",
       "\n",
       "Number of Fisher Scoring iterations: 6\n"
      ]
     },
     "metadata": {},
     "output_type": "display_data"
    }
   ],
   "source": [
    "summary(mower.logit)"
   ]
  },
  {
   "cell_type": "markdown",
   "metadata": {},
   "source": [
    "$$ p = {exp(-25.9382+0.3326income+1.9276size) \\over 1+exp(-25.9382+0.3326income+1.9276size)}$$"
   ]
  },
  {
   "cell_type": "markdown",
   "metadata": {},
   "source": [
    "계수의 부호를 보았을 때 수입이 클 수록, 집 크기가 클 수록 잔디깎는 기계를 소유하고 있을 확률이 높다."
   ]
  },
  {
   "cell_type": "code",
   "execution_count": 24,
   "metadata": {
    "ExecuteTime": {
     "end_time": "2020-12-05T07:48:26.843757Z",
     "start_time": "2020-12-05T07:48:26.814Z"
    }
   },
   "outputs": [
    {
     "data": {
      "text/html": [
       "1.39458935114732"
      ],
      "text/latex": [
       "1.39458935114732"
      ],
      "text/markdown": [
       "1.39458935114732"
      ],
      "text/plain": [
       "[1] 1.394589"
      ]
     },
     "metadata": {},
     "output_type": "display_data"
    }
   ],
   "source": [
    "exp(0.3326)"
   ]
  },
  {
   "cell_type": "markdown",
   "metadata": {},
   "source": [
    "수입이 1 증가할 때마다 오즈는 1.39배 높아진다."
   ]
  },
  {
   "cell_type": "code",
   "execution_count": 25,
   "metadata": {
    "ExecuteTime": {
     "end_time": "2020-12-05T07:49:28.164125Z",
     "start_time": "2020-12-05T07:49:28.133Z"
    }
   },
   "outputs": [
    {
     "data": {
      "text/html": [
       "6.87299524292708"
      ],
      "text/latex": [
       "6.87299524292708"
      ],
      "text/markdown": [
       "6.87299524292708"
      ],
      "text/plain": [
       "[1] 6.872995"
      ]
     },
     "metadata": {},
     "output_type": "display_data"
    }
   ],
   "source": [
    "exp(1.9276)"
   ]
  },
  {
   "cell_type": "markdown",
   "metadata": {
    "ExecuteTime": {
     "end_time": "2020-12-05T07:49:47.651311Z",
     "start_time": "2020-12-05T07:49:47.624Z"
    }
   },
   "source": [
    "집 크기가 1 증가할 때마다 오즈는 6.87배 증가한다."
   ]
  },
  {
   "cell_type": "markdown",
   "metadata": {},
   "source": [
    "p-value로 각 계수가 유의한지 봐야한다."
   ]
  },
  {
   "cell_type": "markdown",
   "metadata": {},
   "source": [
    "residual deviance의 통계량은 카이제곱 통계량이다. 이 회귀식이 유의한지 살펴본다."
   ]
  },
  {
   "cell_type": "code",
   "execution_count": 27,
   "metadata": {
    "ExecuteTime": {
     "end_time": "2020-12-05T07:51:41.360175Z",
     "start_time": "2020-12-05T07:51:41.333Z"
    }
   },
   "outputs": [
    {
     "data": {
      "text/html": [
       "0.806402652168658"
      ],
      "text/latex": [
       "0.806402652168658"
      ],
      "text/markdown": [
       "0.806402652168658"
      ],
      "text/plain": [
       "[1] 0.8064027"
      ]
     },
     "metadata": {},
     "output_type": "display_data"
    }
   ],
   "source": [
    "1-pchisq(15.323, 21)"
   ]
  },
  {
   "cell_type": "markdown",
   "metadata": {},
   "source": [
    "H0: 모형이 적합하다.\n",
    "H1: 모형이 적합하지 않다.\n",
    "p-value가 0.8로 H0가 기각되지 않으므로 이 모형은 적합하다."
   ]
  },
  {
   "cell_type": "code",
   "execution_count": 28,
   "metadata": {
    "ExecuteTime": {
     "end_time": "2020-12-05T07:53:23.623673Z",
     "start_time": "2020-12-05T07:53:23.599Z"
    }
   },
   "outputs": [],
   "source": [
    "mower.predict = predict(mower.logit, newdata = mower.data, type = \"response\")"
   ]
  },
  {
   "cell_type": "markdown",
   "metadata": {},
   "source": [
    "각 개체별 추정된 p값을 계산하는 predict 함수"
   ]
  },
  {
   "cell_type": "code",
   "execution_count": 30,
   "metadata": {
    "ExecuteTime": {
     "end_time": "2020-12-05T07:54:30.460493Z",
     "start_time": "2020-12-05T07:54:30.438Z"
    }
   },
   "outputs": [],
   "source": [
    "pred <- factor(ifelse(mower.predict < 0.5, \"no\", \"yes\"))"
   ]
  },
  {
   "cell_type": "code",
   "execution_count": 31,
   "metadata": {
    "ExecuteTime": {
     "end_time": "2020-12-05T07:55:00.978885Z",
     "start_time": "2020-12-05T07:55:00.957Z"
    }
   },
   "outputs": [],
   "source": [
    "cnfm <- table(mower.data$owner, pred)"
   ]
  },
  {
   "cell_type": "code",
   "execution_count": 32,
   "metadata": {
    "ExecuteTime": {
     "end_time": "2020-12-05T07:55:05.033461Z",
     "start_time": "2020-12-05T07:55:04.998Z"
    }
   },
   "outputs": [
    {
     "data": {
      "text/plain": [
       "     pred\n",
       "      no yes\n",
       "  no  10   2\n",
       "  yes  2  10"
      ]
     },
     "metadata": {},
     "output_type": "display_data"
    }
   ],
   "source": [
    "cnfm"
   ]
  },
  {
   "cell_type": "markdown",
   "metadata": {},
   "source": []
  },
  {
   "cell_type": "code",
   "execution_count": 33,
   "metadata": {
    "ExecuteTime": {
     "end_time": "2020-12-05T07:56:13.883688Z",
     "start_time": "2020-12-05T07:56:13.854Z"
    }
   },
   "outputs": [
    {
     "data": {
      "text/html": [
       "0.166666666666667"
      ],
      "text/latex": [
       "0.166666666666667"
      ],
      "text/markdown": [
       "0.166666666666667"
      ],
      "text/plain": [
       "[1] 0.1666667"
      ]
     },
     "metadata": {},
     "output_type": "display_data"
    }
   ],
   "source": [
    "error <- 1-(sum(diag(cnfm)) / sum(cnfm))\n",
    "error"
   ]
  },
  {
   "cell_type": "markdown",
   "metadata": {},
   "source": [
    "오류율은 16.7퍼센트 "
   ]
  },
  {
   "cell_type": "markdown",
   "metadata": {},
   "source": [
    "#### Rweka "
   ]
  },
  {
   "cell_type": "code",
   "execution_count": 38,
   "metadata": {
    "ExecuteTime": {
     "end_time": "2020-12-05T08:00:24.714502Z",
     "start_time": "2020-12-05T08:00:24.245Z"
    }
   },
   "outputs": [],
   "source": [
    "library(RWeka)"
   ]
  },
  {
   "cell_type": "code",
   "execution_count": 39,
   "metadata": {
    "ExecuteTime": {
     "end_time": "2020-12-05T08:00:25.353039Z",
     "start_time": "2020-12-05T08:00:25.228Z"
    }
   },
   "outputs": [],
   "source": [
    "mower.m <- Logistic(owner~., data = mower.data)"
   ]
  },
  {
   "cell_type": "code",
   "execution_count": 40,
   "metadata": {
    "ExecuteTime": {
     "end_time": "2020-12-05T08:00:32.286174Z",
     "start_time": "2020-12-05T08:00:32.085Z"
    },
    "scrolled": true
   },
   "outputs": [
    {
     "data": {
      "text/plain": [
       "\n",
       "=== Summary ===\n",
       "\n",
       "Correctly Classified Instances          20               83.3333 %\n",
       "Incorrectly Classified Instances         4               16.6667 %\n",
       "Kappa statistic                          0.6667\n",
       "Mean absolute error                      0.2094\n",
       "Root mean squared error                  0.328 \n",
       "Relative absolute error                 41.8733 %\n",
       "Root relative squared error             65.5928 %\n",
       "Total Number of Instances               24     \n",
       "\n",
       "=== Confusion Matrix ===\n",
       "\n",
       "  a  b   <-- classified as\n",
       " 10  2 |  a = no\n",
       "  2 10 |  b = yes"
      ]
     },
     "metadata": {},
     "output_type": "display_data"
    }
   ],
   "source": [
    "summary(mower.m)"
   ]
  }
 ],
 "metadata": {
  "kernelspec": {
   "display_name": "R",
   "language": "R",
   "name": "ir"
  },
  "language_info": {
   "codemirror_mode": "r",
   "file_extension": ".r",
   "mimetype": "text/x-r-source",
   "name": "R",
   "pygments_lexer": "r",
   "version": "3.6.3"
  },
  "toc": {
   "base_numbering": 1,
   "nav_menu": {},
   "number_sections": true,
   "sideBar": true,
   "skip_h1_title": false,
   "title_cell": "Table of Contents",
   "title_sidebar": "Contents",
   "toc_cell": false,
   "toc_position": {},
   "toc_section_display": true,
   "toc_window_display": false
  }
 },
 "nbformat": 4,
 "nbformat_minor": 4
}
